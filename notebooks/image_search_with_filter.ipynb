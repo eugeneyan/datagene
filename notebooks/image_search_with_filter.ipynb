{
 "cells": [
  {
   "cell_type": "code",
   "execution_count": 1,
   "metadata": {
    "collapsed": true
   },
   "outputs": [],
   "source": [
    "import os\n",
    "import shutil\n",
    "import itertools\n",
    "import pandas as pd\n",
    "import numpy as np\n",
    "import matplotlib.pyplot as plt\n",
    "from IPython.display import Image\n",
    "from logger import logger\n",
    "%matplotlib inline"
   ]
  },
  {
   "cell_type": "code",
   "execution_count": 2,
   "metadata": {
    "collapsed": false
   },
   "outputs": [
    {
     "name": "stderr",
     "output_type": "stream",
     "text": [
      "Using Theano backend.\n"
     ]
    }
   ],
   "source": [
    "from keras.preprocessing.image import ImageDataGenerator\n",
    "from keras.utils.np_utils import to_categorical\n",
    "\n",
    "import numpy as np\n",
    "import warnings\n",
    "\n",
    "from keras.preprocessing import image\n",
    "from keras.layers import merge, Input\n",
    "from keras.layers import Dense, Activation, Flatten\n",
    "from keras.layers import Convolution2D, MaxPooling2D, ZeroPadding2D, AveragePooling2D\n",
    "from keras.layers import BatchNormalization\n",
    "from keras.models import Model\n",
    "from keras.preprocessing import image\n",
    "import keras.backend as K\n",
    "from keras.utils.layer_utils import convert_all_kernels_in_model\n",
    "from keras.utils.data_utils import get_file\n",
    "from imagenet_utils import decode_predictions, preprocess_input"
   ]
  },
  {
   "cell_type": "code",
   "execution_count": 3,
   "metadata": {
    "collapsed": true
   },
   "outputs": [],
   "source": [
    "# current_dir = '../data/images/train'\n",
    "# new_dir = '../data/images/all_images'"
   ]
  },
  {
   "cell_type": "markdown",
   "metadata": {},
   "source": [
    "### Create top level category dir"
   ]
  },
  {
   "cell_type": "code",
   "execution_count": 3,
   "metadata": {
    "collapsed": true
   },
   "outputs": [],
   "source": [
    "train_dir = '../data/images_sample/train/'\n",
    "train_top_level_dir = '../data/images_sample/train/'\n",
    "train_top_level_dir = '../data/images_sample/train_top_level/'"
   ]
  },
  {
   "cell_type": "code",
   "execution_count": 417,
   "metadata": {
    "collapsed": false
   },
   "outputs": [],
   "source": [
    "top_level_dict = dict()\n",
    "\n",
    "for image_dir in os.listdir(train_dir):\n",
    "    if not image_dir.startswith('.'):\n",
    "        top_level_category = image_dir.split('->')[0].strip()\n",
    "        try:\n",
    "            top_level_dict[top_level_category] += 1\n",
    "        except:\n",
    "            top_level_dict[top_level_category] = 1"
   ]
  },
  {
   "cell_type": "code",
   "execution_count": 418,
   "metadata": {
    "collapsed": false
   },
   "outputs": [
    {
     "name": "stderr",
     "output_type": "stream",
     "text": [
      "2016-12-25 14:09:20,410 - Toys & Games already exists in ../data/images_sample/train_top_level/\n",
      "2016-12-25 14:09:20,411 - Home & Kitchen already exists in ../data/images_sample/train_top_level/\n",
      "2016-12-25 14:09:20,412 - Clothing, Shoes & Jewelry already exists in ../data/images_sample/train_top_level/\n",
      "2016-12-25 14:09:20,413 - Cell Phones & Accessories already exists in ../data/images_sample/train_top_level/\n"
     ]
    }
   ],
   "source": [
    "for top_level_category in top_level_dict.keys():\n",
    "    try:\n",
    "        os.makedirs(os.path.join(train_top_level_dir, top_level_category))\n",
    "    except OSError:\n",
    "        logger.info('{} already exists in {}'.format(top_level_category, train_top_level_dir))"
   ]
  },
  {
   "cell_type": "markdown",
   "metadata": {},
   "source": [
    "### Copy  to top level category directory"
   ]
  },
  {
   "cell_type": "code",
   "execution_count": 54,
   "metadata": {
    "collapsed": false
   },
   "outputs": [
    {
     "name": "stderr",
     "output_type": "stream",
     "text": [
      "2016-12-25 12:09:13,551 - 37 images copied so far\n",
      "2016-12-25 12:09:13,597 - 74 images copied so far\n",
      "2016-12-25 12:09:13,685 - 123 images copied so far\n"
     ]
    },
    {
     "name": "stdout",
     "output_type": "stream",
     "text": [
      "Cell Phones & Accessories -> Accessories -> Headsets -> Bluetooth Headsets | Cell Phones & Accessories\n",
      "Clothing, Shoes & Jewelry -> Men -> Shoes -> Fashion Sneakers | Clothing, Shoes & Jewelry\n",
      "Home & Kitchen -> Bath -> Bath Rugs | Home & Kitchen\n",
      "Toys & Games -> Tricycles, Scooters & Wagons -> Ride-On Toys | Toys & Games\n"
     ]
    },
    {
     "name": "stderr",
     "output_type": "stream",
     "text": [
      "2016-12-25 12:09:13,739 - 176 images copied so far\n"
     ]
    }
   ],
   "source": [
    "images_copied = 0\n",
    "\n",
    "for image_dir in os.listdir(train_dir):\n",
    "    if not image_dir.startswith('.'):\n",
    "        image_paths = os.listdir(os.path.join(train_dir, image_dir))\n",
    "        image_count = len(image_paths)\n",
    "        top_level_image_dir = image_dir.split('->')[0].strip()\n",
    "        print image_dir, '|', top_level_image_dir\n",
    "        \n",
    "        for image in image_paths:\n",
    "            if not image.startswith('.'):\n",
    "                original_image_path = os.path.join(train_dir, image_dir, image)\n",
    "                new_image_path = os.path.join(train_top_level_dir, top_level_image_dir, image)\n",
    "                shutil.copy(original_image_path, new_image_path)\n",
    "        \n",
    "        images_copied += image_count\n",
    "        logger.info('{} images copied so far'.format(images_copied))"
   ]
  },
  {
   "cell_type": "markdown",
   "metadata": {},
   "source": [
    "### Count total number of images"
   ]
  },
  {
   "cell_type": "code",
   "execution_count": 15,
   "metadata": {
    "collapsed": false
   },
   "outputs": [
    {
     "name": "stdout",
     "output_type": "stream",
     "text": [
      "Cell Phones & Accessories 36\n",
      "Clothing, Shoes & Jewelry 36\n",
      "Home & Kitchen 48\n",
      "Toys & Games 52\n"
     ]
    }
   ],
   "source": [
    "image_count_total = 0\n",
    "\n",
    "for image_dir in os.listdir(train_top_level_dir):\n",
    "    if not image_dir.startswith('.'):\n",
    "        image_names = os.listdir(os.path.join(train_top_level_dir, image_dir))\n",
    "        image_names = [image_name for image_name in image_names if not image_name.startswith('.')]\n",
    "        image_count = len(image_names)\n",
    "        print image_dir, image_count\n",
    "        image_count_total += image_count"
   ]
  },
  {
   "cell_type": "code",
   "execution_count": 17,
   "metadata": {
    "collapsed": false
   },
   "outputs": [
    {
     "data": {
      "text/plain": [
       "172"
      ]
     },
     "execution_count": 17,
     "metadata": {},
     "output_type": "execute_result"
    }
   ],
   "source": [
    "image_count_total"
   ]
  },
  {
   "cell_type": "markdown",
   "metadata": {},
   "source": [
    "### Create index to image.jpeg dict"
   ]
  },
  {
   "cell_type": "code",
   "execution_count": 419,
   "metadata": {
    "collapsed": false
   },
   "outputs": [],
   "source": [
    "all_image_names = list()\n",
    "\n",
    "for image_dir in os.listdir(train_top_level_dir):\n",
    "    if not image_dir.startswith('.'):\n",
    "        image_names = os.listdir(os.path.join(train_top_level_dir, image_dir))\n",
    "        \n",
    "        for image_name in image_names:\n",
    "            if not image_name.startswith('.'):\n",
    "                all_image_names.append(os.path.join(train_top_level_dir, image_dir, image_name))"
   ]
  },
  {
   "cell_type": "code",
   "execution_count": 420,
   "metadata": {
    "collapsed": false
   },
   "outputs": [],
   "source": [
    "idx_to_image_dict = dict()\n",
    "\n",
    "for i, image_name in enumerate(all_image_names):\n",
    "    idx_to_image_dict[i] = image_name"
   ]
  },
  {
   "cell_type": "code",
   "execution_count": 583,
   "metadata": {
    "collapsed": true
   },
   "outputs": [
    {
     "data": {
      "text/plain": [
       "{0: '../data/images_sample/train_top_level/Cell Phones & Accessories/B00KBZEOBU.jpg',\n",
       " 1: '../data/images_sample/train_top_level/Cell Phones & Accessories/B00KCFPKY4.jpg',\n",
       " 2: '../data/images_sample/train_top_level/Cell Phones & Accessories/B00KCLOFQ2.jpg',\n",
       " 3: '../data/images_sample/train_top_level/Cell Phones & Accessories/B00KCLSY64.jpg',\n",
       " 4: '../data/images_sample/train_top_level/Cell Phones & Accessories/B00KD15484.jpg',\n",
       " 5: '../data/images_sample/train_top_level/Cell Phones & Accessories/B00KD7KPZK.jpg',\n",
       " 6: '../data/images_sample/train_top_level/Cell Phones & Accessories/B00KERDISU.jpg',\n",
       " 7: '../data/images_sample/train_top_level/Cell Phones & Accessories/B00KFW3NUW.jpg',\n",
       " 8: '../data/images_sample/train_top_level/Cell Phones & Accessories/B00KFZ5WUS.jpg',\n",
       " 9: '../data/images_sample/train_top_level/Cell Phones & Accessories/B00KG0X1DW.jpg',\n",
       " 10: '../data/images_sample/train_top_level/Cell Phones & Accessories/B00KH7ZZ9C.jpg',\n",
       " 11: '../data/images_sample/train_top_level/Cell Phones & Accessories/B00KHA2YDO.jpg',\n",
       " 12: '../data/images_sample/train_top_level/Cell Phones & Accessories/B00KIWCZ4Y.jpg',\n",
       " 13: '../data/images_sample/train_top_level/Cell Phones & Accessories/B00KIWMR5Q.jpg',\n",
       " 14: '../data/images_sample/train_top_level/Cell Phones & Accessories/B00KIY40CW.jpg',\n",
       " 15: '../data/images_sample/train_top_level/Cell Phones & Accessories/B00KJ4WTG0.jpg',\n",
       " 16: '../data/images_sample/train_top_level/Cell Phones & Accessories/B00KJLMBQQ.jpg',\n",
       " 17: '../data/images_sample/train_top_level/Cell Phones & Accessories/B00KJLMBSO.jpg',\n",
       " 18: '../data/images_sample/train_top_level/Cell Phones & Accessories/B00KQ15030.jpg',\n",
       " 19: '../data/images_sample/train_top_level/Cell Phones & Accessories/B00KQHW6F4.jpg',\n",
       " 20: '../data/images_sample/train_top_level/Cell Phones & Accessories/B00KREXJ52.jpg',\n",
       " 21: '../data/images_sample/train_top_level/Cell Phones & Accessories/B00KS3EP28.jpg',\n",
       " 22: '../data/images_sample/train_top_level/Cell Phones & Accessories/B00KT3ZNSM.jpg',\n",
       " 23: '../data/images_sample/train_top_level/Cell Phones & Accessories/B00KVJ73LE.jpg',\n",
       " 24: '../data/images_sample/train_top_level/Cell Phones & Accessories/B00KW022JA.jpg',\n",
       " 25: '../data/images_sample/train_top_level/Cell Phones & Accessories/B00KWNTTOI.jpg',\n",
       " 26: '../data/images_sample/train_top_level/Cell Phones & Accessories/B00KWW3VVQ.jpg',\n",
       " 27: '../data/images_sample/train_top_level/Cell Phones & Accessories/B00KWWCFDQ.jpg',\n",
       " 28: '../data/images_sample/train_top_level/Cell Phones & Accessories/B00KWWMT0U.jpg',\n",
       " 29: '../data/images_sample/train_top_level/Cell Phones & Accessories/B00KX9ANEG.jpg',\n",
       " 30: '../data/images_sample/train_top_level/Cell Phones & Accessories/B00KYGP50K.jpg',\n",
       " 31: '../data/images_sample/train_top_level/Cell Phones & Accessories/B00L38XJ2Y.jpg',\n",
       " 32: '../data/images_sample/train_top_level/Cell Phones & Accessories/B00L3DW1GE.jpg',\n",
       " 33: '../data/images_sample/train_top_level/Cell Phones & Accessories/B00L4GHO2G.jpg',\n",
       " 34: '../data/images_sample/train_top_level/Cell Phones & Accessories/B00LAFDEYS.jpg',\n",
       " 35: '../data/images_sample/train_top_level/Cell Phones & Accessories/B00LBO0PWM.jpg',\n",
       " 36: '../data/images_sample/train_top_level/Clothing, Shoes & Jewelry/B00IQAAE6Q.jpg',\n",
       " 37: '../data/images_sample/train_top_level/Clothing, Shoes & Jewelry/B00IS5H7SC.jpg',\n",
       " 38: '../data/images_sample/train_top_level/Clothing, Shoes & Jewelry/B00IT2IOG8.jpg',\n",
       " 39: '../data/images_sample/train_top_level/Clothing, Shoes & Jewelry/B00IUOMT7K.jpg',\n",
       " 40: '../data/images_sample/train_top_level/Clothing, Shoes & Jewelry/B00IUPGERK.jpg',\n",
       " 41: '../data/images_sample/train_top_level/Clothing, Shoes & Jewelry/B00IXXX0R6.jpg',\n",
       " 42: '../data/images_sample/train_top_level/Clothing, Shoes & Jewelry/B00IY40554.jpg',\n",
       " 43: '../data/images_sample/train_top_level/Clothing, Shoes & Jewelry/B00IY5M03I.jpg',\n",
       " 44: '../data/images_sample/train_top_level/Clothing, Shoes & Jewelry/B00J2H9JAO.jpg',\n",
       " 45: '../data/images_sample/train_top_level/Clothing, Shoes & Jewelry/B00J2Z2TMQ.jpg',\n",
       " 46: '../data/images_sample/train_top_level/Clothing, Shoes & Jewelry/B00J48SKXS.jpg',\n",
       " 47: '../data/images_sample/train_top_level/Clothing, Shoes & Jewelry/B00J5PCOI2.jpg',\n",
       " 48: '../data/images_sample/train_top_level/Clothing, Shoes & Jewelry/B00JEHJ5ME.jpg',\n",
       " 49: '../data/images_sample/train_top_level/Clothing, Shoes & Jewelry/B00JFFAJ0C.jpg',\n",
       " 50: '../data/images_sample/train_top_level/Clothing, Shoes & Jewelry/B00JG1MZLQ.jpg',\n",
       " 51: '../data/images_sample/train_top_level/Clothing, Shoes & Jewelry/B00JG1NIQC.jpg',\n",
       " 52: '../data/images_sample/train_top_level/Clothing, Shoes & Jewelry/B00JGSRECO.jpg',\n",
       " 53: '../data/images_sample/train_top_level/Clothing, Shoes & Jewelry/B00JGST7UG.jpg',\n",
       " 54: '../data/images_sample/train_top_level/Clothing, Shoes & Jewelry/B00JHCCA2I.jpg',\n",
       " 55: '../data/images_sample/train_top_level/Clothing, Shoes & Jewelry/B00JLZZJPQ.jpg',\n",
       " 56: '../data/images_sample/train_top_level/Clothing, Shoes & Jewelry/B00JM01ZOE.jpg',\n",
       " 57: '../data/images_sample/train_top_level/Clothing, Shoes & Jewelry/B00JP42P1O.jpg',\n",
       " 58: '../data/images_sample/train_top_level/Clothing, Shoes & Jewelry/B00JX81YDC.jpg',\n",
       " 59: '../data/images_sample/train_top_level/Clothing, Shoes & Jewelry/B00K0ONUYY.jpg',\n",
       " 60: '../data/images_sample/train_top_level/Clothing, Shoes & Jewelry/B00K0TGPH8.jpg',\n",
       " 61: '../data/images_sample/train_top_level/Clothing, Shoes & Jewelry/B00K2ZHTYS.jpg',\n",
       " 62: '../data/images_sample/train_top_level/Clothing, Shoes & Jewelry/B00K7K9VLW.jpg',\n",
       " 63: '../data/images_sample/train_top_level/Clothing, Shoes & Jewelry/B00KB4BE5K.jpg',\n",
       " 64: '../data/images_sample/train_top_level/Clothing, Shoes & Jewelry/B00KFOR7TI.jpg',\n",
       " 65: '../data/images_sample/train_top_level/Clothing, Shoes & Jewelry/B00KFOREAU.jpg',\n",
       " 66: '../data/images_sample/train_top_level/Clothing, Shoes & Jewelry/B00KGJFA7S.jpg',\n",
       " 67: '../data/images_sample/train_top_level/Clothing, Shoes & Jewelry/B00KLJF2V2.jpg',\n",
       " 68: '../data/images_sample/train_top_level/Clothing, Shoes & Jewelry/B00KLJFXQ6.jpg',\n",
       " 69: '../data/images_sample/train_top_level/Clothing, Shoes & Jewelry/B00KXFHZQ4.jpg',\n",
       " 70: '../data/images_sample/train_top_level/Clothing, Shoes & Jewelry/B00KY944XG.jpg',\n",
       " 71: '../data/images_sample/train_top_level/Clothing, Shoes & Jewelry/B00KZGOG22.jpg',\n",
       " 72: '../data/images_sample/train_top_level/Home & Kitchen/B00HL8STCK.jpg',\n",
       " 73: '../data/images_sample/train_top_level/Home & Kitchen/B00HL8VOC2.jpg',\n",
       " 74: '../data/images_sample/train_top_level/Home & Kitchen/B00HQ54TYK.jpg',\n",
       " 75: '../data/images_sample/train_top_level/Home & Kitchen/B00HQP55J8.jpg',\n",
       " 76: '../data/images_sample/train_top_level/Home & Kitchen/B00HQP8L80.jpg',\n",
       " 77: '../data/images_sample/train_top_level/Home & Kitchen/B00HVFVCVI.jpg',\n",
       " 78: '../data/images_sample/train_top_level/Home & Kitchen/B00HVJCB3C.jpg',\n",
       " 79: '../data/images_sample/train_top_level/Home & Kitchen/B00HVJCBVE.jpg',\n",
       " 80: '../data/images_sample/train_top_level/Home & Kitchen/B00HVM1H3E.jpg',\n",
       " 81: '../data/images_sample/train_top_level/Home & Kitchen/B00HVVQDJ8.jpg',\n",
       " 82: '../data/images_sample/train_top_level/Home & Kitchen/B00HVVUTQG.jpg',\n",
       " 83: '../data/images_sample/train_top_level/Home & Kitchen/B00HWCGM4C.jpg',\n",
       " 84: '../data/images_sample/train_top_level/Home & Kitchen/B00HWH5KAO.jpg',\n",
       " 85: '../data/images_sample/train_top_level/Home & Kitchen/B00HYL1NW2.jpg',\n",
       " 86: '../data/images_sample/train_top_level/Home & Kitchen/B00HZ0H664.jpg',\n",
       " 87: '../data/images_sample/train_top_level/Home & Kitchen/B00I1H4IZ2.jpg',\n",
       " 88: '../data/images_sample/train_top_level/Home & Kitchen/B00I1H4X0W.jpg',\n",
       " 89: '../data/images_sample/train_top_level/Home & Kitchen/B00I2X49FE.jpg',\n",
       " 90: '../data/images_sample/train_top_level/Home & Kitchen/B00IGK5A5Q.jpg',\n",
       " 91: '../data/images_sample/train_top_level/Home & Kitchen/B00IGNT1R6.jpg',\n",
       " 92: '../data/images_sample/train_top_level/Home & Kitchen/B00IGNT1TO.jpg',\n",
       " 93: '../data/images_sample/train_top_level/Home & Kitchen/B00ILSUY1I.jpg',\n",
       " 94: '../data/images_sample/train_top_level/Home & Kitchen/B00INRTI82.jpg',\n",
       " 95: '../data/images_sample/train_top_level/Home & Kitchen/B00IT4KC5W.jpg',\n",
       " 96: '../data/images_sample/train_top_level/Home & Kitchen/B00IVRL1GG.jpg',\n",
       " 97: '../data/images_sample/train_top_level/Home & Kitchen/B00IZ9KHMY.jpg',\n",
       " 98: '../data/images_sample/train_top_level/Home & Kitchen/B00IZ9KLTS.jpg',\n",
       " 99: '../data/images_sample/train_top_level/Home & Kitchen/B00IZ9KNUU.jpg',\n",
       " 100: '../data/images_sample/train_top_level/Home & Kitchen/B00IZ9KPW6.jpg',\n",
       " 101: '../data/images_sample/train_top_level/Home & Kitchen/B00IZ9KQ6G.jpg',\n",
       " 102: '../data/images_sample/train_top_level/Home & Kitchen/B00IZR0G9A.jpg',\n",
       " 103: '../data/images_sample/train_top_level/Home & Kitchen/B00J2BMG8M.jpg',\n",
       " 104: '../data/images_sample/train_top_level/Home & Kitchen/B00JASS2SA.jpg',\n",
       " 105: '../data/images_sample/train_top_level/Home & Kitchen/B00JBIHD4I.jpg',\n",
       " 106: '../data/images_sample/train_top_level/Home & Kitchen/B00JDR459S.jpg',\n",
       " 107: '../data/images_sample/train_top_level/Home & Kitchen/B00JP4O0TY.jpg',\n",
       " 108: '../data/images_sample/train_top_level/Home & Kitchen/B00JP4O0U8.jpg',\n",
       " 109: '../data/images_sample/train_top_level/Home & Kitchen/B00JP4O2MO.jpg',\n",
       " 110: '../data/images_sample/train_top_level/Home & Kitchen/B00JQ2WOWU.jpg',\n",
       " 111: '../data/images_sample/train_top_level/Home & Kitchen/B00JZVFFQY.jpg',\n",
       " 112: '../data/images_sample/train_top_level/Home & Kitchen/B00JZYV45W.jpg',\n",
       " 113: '../data/images_sample/train_top_level/Home & Kitchen/B00K4HJJ3S.jpg',\n",
       " 114: '../data/images_sample/train_top_level/Home & Kitchen/B00K4HMM9G.jpg',\n",
       " 115: '../data/images_sample/train_top_level/Home & Kitchen/B00KCWAIKS.jpg',\n",
       " 116: '../data/images_sample/train_top_level/Home & Kitchen/B00KLQ9Z2W.jpg',\n",
       " 117: '../data/images_sample/train_top_level/Home & Kitchen/B00KMXNJPI.jpg',\n",
       " 118: '../data/images_sample/train_top_level/Home & Kitchen/B00KN1KIXK.jpg',\n",
       " 119: '../data/images_sample/train_top_level/Home & Kitchen/B00KYHICTK.jpg',\n",
       " 120: '../data/images_sample/train_top_level/Toys & Games/B00GDGM61G.jpg',\n",
       " 121: '../data/images_sample/train_top_level/Toys & Games/B00GDIOWFW.jpg',\n",
       " 122: '../data/images_sample/train_top_level/Toys & Games/B00GF7MVS6.jpg',\n",
       " 123: '../data/images_sample/train_top_level/Toys & Games/B00GH0T1KM.jpg',\n",
       " 124: '../data/images_sample/train_top_level/Toys & Games/B00GHUH93S.jpg',\n",
       " 125: '../data/images_sample/train_top_level/Toys & Games/B00GKT27S8.jpg',\n",
       " 126: '../data/images_sample/train_top_level/Toys & Games/B00GLYWI0E.jpg',\n",
       " 127: '../data/images_sample/train_top_level/Toys & Games/B00GLZR92A.jpg',\n",
       " 128: '../data/images_sample/train_top_level/Toys & Games/B00GM01YNE.jpg',\n",
       " 129: '../data/images_sample/train_top_level/Toys & Games/B00GM1ECLE.jpg',\n",
       " 130: '../data/images_sample/train_top_level/Toys & Games/B00GM1KJLG.jpg',\n",
       " 131: '../data/images_sample/train_top_level/Toys & Games/B00GM4JGHG.jpg',\n",
       " 132: '../data/images_sample/train_top_level/Toys & Games/B00GODKQ2O.jpg',\n",
       " 133: '../data/images_sample/train_top_level/Toys & Games/B00GOHYWKW.jpg',\n",
       " 134: '../data/images_sample/train_top_level/Toys & Games/B00GSQ2BX4.jpg',\n",
       " 135: '../data/images_sample/train_top_level/Toys & Games/B00GSQXNIG.jpg',\n",
       " 136: '../data/images_sample/train_top_level/Toys & Games/B00GSWFQBM.jpg',\n",
       " 137: '../data/images_sample/train_top_level/Toys & Games/B00GSXHADS.jpg',\n",
       " 138: '../data/images_sample/train_top_level/Toys & Games/B00GSZJ5WK.jpg',\n",
       " 139: '../data/images_sample/train_top_level/Toys & Games/B00GT2VMAU.jpg',\n",
       " 140: '../data/images_sample/train_top_level/Toys & Games/B00GTDYEDQ.jpg',\n",
       " 141: '../data/images_sample/train_top_level/Toys & Games/B00GVGIICE.jpg',\n",
       " 142: '../data/images_sample/train_top_level/Toys & Games/B00H14UHSS.jpg',\n",
       " 143: '../data/images_sample/train_top_level/Toys & Games/B00H2BZHF8.jpg',\n",
       " 144: '../data/images_sample/train_top_level/Toys & Games/B00H3FJKMY.jpg',\n",
       " 145: '../data/images_sample/train_top_level/Toys & Games/B00HCO4ILY.jpg',\n",
       " 146: '../data/images_sample/train_top_level/Toys & Games/B00HCP0VTQ.jpg',\n",
       " 147: '../data/images_sample/train_top_level/Toys & Games/B00HCP29GO.jpg',\n",
       " 148: '../data/images_sample/train_top_level/Toys & Games/B00HCP4ZHU.jpg',\n",
       " 149: '../data/images_sample/train_top_level/Toys & Games/B00HEPDC0Y.jpg',\n",
       " 150: '../data/images_sample/train_top_level/Toys & Games/B00HH1KMPI.jpg',\n",
       " 151: '../data/images_sample/train_top_level/Toys & Games/B00HQHBRQG.jpg',\n",
       " 152: '../data/images_sample/train_top_level/Toys & Games/B00HRJCH4Y.jpg',\n",
       " 153: '../data/images_sample/train_top_level/Toys & Games/B00HRJPT1M.jpg',\n",
       " 154: '../data/images_sample/train_top_level/Toys & Games/B00I0LT89U.jpg',\n",
       " 155: '../data/images_sample/train_top_level/Toys & Games/B00I3VWMP4.jpg',\n",
       " 156: '../data/images_sample/train_top_level/Toys & Games/B00ICAKJJW.jpg',\n",
       " 157: '../data/images_sample/train_top_level/Toys & Games/B00IHZZOCO.jpg',\n",
       " 158: '../data/images_sample/train_top_level/Toys & Games/B00II5G67K.jpg',\n",
       " 159: '../data/images_sample/train_top_level/Toys & Games/B00IK54FNA.jpg',\n",
       " 160: '../data/images_sample/train_top_level/Toys & Games/B00IOBIA9K.jpg',\n",
       " 161: '../data/images_sample/train_top_level/Toys & Games/B00IUPZ5Y8.jpg',\n",
       " 162: '../data/images_sample/train_top_level/Toys & Games/B00IVDVWSM.jpg',\n",
       " 163: '../data/images_sample/train_top_level/Toys & Games/B00IVDVWVO.jpg',\n",
       " 164: '../data/images_sample/train_top_level/Toys & Games/B00IVDVX68.jpg',\n",
       " 165: '../data/images_sample/train_top_level/Toys & Games/B00IVDVXOA.jpg',\n",
       " 166: '../data/images_sample/train_top_level/Toys & Games/B00IYX1VXK.jpg',\n",
       " 167: '../data/images_sample/train_top_level/Toys & Games/B00J5P1ALE.jpg',\n",
       " 168: '../data/images_sample/train_top_level/Toys & Games/B00J6BIYRU.jpg',\n",
       " 169: '../data/images_sample/train_top_level/Toys & Games/B00JFG7ZN0.jpg',\n",
       " 170: '../data/images_sample/train_top_level/Toys & Games/B00JHHO4YK.jpg',\n",
       " 171: '../data/images_sample/train_top_level/Toys & Games/B00KJH9384.jpg'}"
      ]
     },
     "execution_count": 583,
     "metadata": {},
     "output_type": "execute_result"
    }
   ],
   "source": [
    "idx_to_image_dict"
   ]
  },
  {
   "cell_type": "markdown",
   "metadata": {},
   "source": [
    "### Create category to int dict"
   ]
  },
  {
   "cell_type": "code",
   "execution_count": 50,
   "metadata": {
    "collapsed": false
   },
   "outputs": [],
   "source": [
    "category_to_int_dict = dict()\n",
    "idx = 0\n",
    "\n",
    "for image_dir in os.listdir(train_top_level_dir):\n",
    "    if not image_dir.startswith('.'):\n",
    "        image_names = os.listdir(os.path.join(train_top_level_dir, image_dir))\n",
    "        image_names = [image_name for image_name in image_names if not image_name.startswith('.')]\n",
    "        image_count = len(image_names)\n",
    "        \n",
    "        category_to_int_dict[image_dir] = (idx, image_count)\n",
    "        idx += 1"
   ]
  },
  {
   "cell_type": "code",
   "execution_count": 138,
   "metadata": {
    "collapsed": true
   },
   "outputs": [],
   "source": [
    "# category_to_int_dict = dict()\n",
    "# idx = 0\n",
    "\n",
    "# for image_dir in os.listdir(train_top_level_dir):\n",
    "#     if not image_dir.startswith('.'):\n",
    "#         image_names = os.listdir(os.path.join(train_top_level_dir, image_dir))\n",
    "#         image_names = [image_name for image_name in image_names if not image_name.startswith('.')]\n",
    "#         image_count = len(image_names)\n",
    "        \n",
    "#         category_to_int_dict[image_dir] = image_count\n",
    "\n",
    "# top_level_set = set()\n",
    "\n",
    "# for key, value in category_to_int_dict.iteritems():\n",
    "#     top_level_category = key.split('->')[0].strip()\n",
    "#     top_level_set.add(top_level_category)\n",
    "\n",
    "# top_level_set\n",
    "\n",
    "# top_level_count_dict = dict()\n",
    "\n",
    "# for top_level in top_level_set:\n",
    "#     top_level_count_dict[top_level] = 0\n",
    "\n",
    "# top_level_count_dict\n",
    "\n",
    "# for image_dir in os.listdir(train_top_level_dir):\n",
    "#     if not image_dir.startswith('.'):\n",
    "#         top_level_category = image_dir.split('->')[0].strip()\n",
    "        \n",
    "#         image_names = os.listdir(os.path.join(train_top_level_dir, image_dir))\n",
    "#         image_names = [image_name for image_name in image_names if not image_name.startswith('.')]\n",
    "#         image_count = len(image_names)\n",
    "        \n",
    "#         top_level_count_dict[top_level_category] += image_count\n",
    "\n",
    "# print top_level_count_dict\n",
    "\n",
    "# print sum([val for val in top_level_count_dict.values()])\n",
    "\n",
    "# import operator\n",
    "\n",
    "# category_to_int_dict_sorted = sorted(category_to_int_dict.items(), key=operator.itemgetter(1), reverse=True)\n",
    "\n",
    "# print category_to_int_dict_sorted"
   ]
  },
  {
   "cell_type": "code",
   "execution_count": 115,
   "metadata": {
    "collapsed": true
   },
   "outputs": [
    {
     "ename": "TypeError",
     "evalue": "'int' object has no attribute '__getitem__'",
     "output_type": "error",
     "traceback": [
      "\u001b[0;31m---------------------------------------------------------------------------\u001b[0m",
      "\u001b[0;31mTypeError\u001b[0m                                 Traceback (most recent call last)",
      "\u001b[0;32m<ipython-input-115-55ca14b493f4>\u001b[0m in \u001b[0;36m<module>\u001b[0;34m()\u001b[0m\n\u001b[0;32m----> 1\u001b[0;31m \u001b[0mcategory_labels\u001b[0m \u001b[0;34m=\u001b[0m \u001b[0mlist\u001b[0m\u001b[0;34m(\u001b[0m\u001b[0mitertools\u001b[0m\u001b[0;34m.\u001b[0m\u001b[0mchain\u001b[0m\u001b[0;34m.\u001b[0m\u001b[0mfrom_iterable\u001b[0m\u001b[0;34m(\u001b[0m\u001b[0;34m[\u001b[0m\u001b[0mtup\u001b[0m\u001b[0;34m[\u001b[0m\u001b[0;36m0\u001b[0m\u001b[0;34m]\u001b[0m\u001b[0;34m]\u001b[0m \u001b[0;34m*\u001b[0m \u001b[0mtup\u001b[0m\u001b[0;34m[\u001b[0m\u001b[0;36m1\u001b[0m\u001b[0;34m]\u001b[0m \u001b[0;32mfor\u001b[0m \u001b[0mtup\u001b[0m \u001b[0;32min\u001b[0m \u001b[0mcategory_to_int_dict\u001b[0m\u001b[0;34m.\u001b[0m\u001b[0mvalues\u001b[0m\u001b[0;34m(\u001b[0m\u001b[0;34m)\u001b[0m\u001b[0;34m)\u001b[0m\u001b[0;34m)\u001b[0m\u001b[0;34m\u001b[0m\u001b[0m\n\u001b[0m",
      "\u001b[0;32m<ipython-input-115-55ca14b493f4>\u001b[0m in \u001b[0;36m<genexpr>\u001b[0;34m((tup,))\u001b[0m\n\u001b[0;32m----> 1\u001b[0;31m \u001b[0mcategory_labels\u001b[0m \u001b[0;34m=\u001b[0m \u001b[0mlist\u001b[0m\u001b[0;34m(\u001b[0m\u001b[0mitertools\u001b[0m\u001b[0;34m.\u001b[0m\u001b[0mchain\u001b[0m\u001b[0;34m.\u001b[0m\u001b[0mfrom_iterable\u001b[0m\u001b[0;34m(\u001b[0m\u001b[0;34m[\u001b[0m\u001b[0mtup\u001b[0m\u001b[0;34m[\u001b[0m\u001b[0;36m0\u001b[0m\u001b[0;34m]\u001b[0m\u001b[0;34m]\u001b[0m \u001b[0;34m*\u001b[0m \u001b[0mtup\u001b[0m\u001b[0;34m[\u001b[0m\u001b[0;36m1\u001b[0m\u001b[0;34m]\u001b[0m \u001b[0;32mfor\u001b[0m \u001b[0mtup\u001b[0m \u001b[0;32min\u001b[0m \u001b[0mcategory_to_int_dict\u001b[0m\u001b[0;34m.\u001b[0m\u001b[0mvalues\u001b[0m\u001b[0;34m(\u001b[0m\u001b[0;34m)\u001b[0m\u001b[0;34m)\u001b[0m\u001b[0;34m)\u001b[0m\u001b[0;34m\u001b[0m\u001b[0m\n\u001b[0m",
      "\u001b[0;31mTypeError\u001b[0m: 'int' object has no attribute '__getitem__'"
     ]
    }
   ],
   "source": [
    "category_labels = list(itertools.chain.from_iterable([tup[0]] * tup[1] for tup in category_to_int_dict.values()))"
   ]
  },
  {
   "cell_type": "code",
   "execution_count": 482,
   "metadata": {
    "collapsed": false
   },
   "outputs": [],
   "source": [
    "# Reverse labels as category_to_int_dict.values() returns values from the last category\n",
    "category_labels.reverse()"
   ]
  },
  {
   "cell_type": "code",
   "execution_count": 484,
   "metadata": {
    "collapsed": false,
    "scrolled": false
   },
   "outputs": [],
   "source": [
    "# category_labels"
   ]
  },
  {
   "cell_type": "markdown",
   "metadata": {},
   "source": [
    "### Create top level index to image.jpeg dict"
   ]
  },
  {
   "cell_type": "code",
   "execution_count": 600,
   "metadata": {
    "collapsed": true
   },
   "outputs": [],
   "source": [
    "top_level_idx_to_image_dict = dict()"
   ]
  },
  {
   "cell_type": "code",
   "execution_count": 609,
   "metadata": {
    "collapsed": false
   },
   "outputs": [
    {
     "name": "stdout",
     "output_type": "stream",
     "text": [
      "Cell Phones & Accessories 0\n",
      "Clothing, Shoes & Jewelry 1\n",
      "Home & Kitchen 2\n",
      "Toys & Games 3\n"
     ]
    }
   ],
   "source": [
    "top_level_idx_to_image_dict = dict()\n",
    "\n",
    "for image_dir in os.listdir(train_top_level_dir):\n",
    "    if not image_dir.startswith('.'):\n",
    "        image_dir_idx = category_to_int_dict[image_dir][0]\n",
    "        print image_dir, image_dir_idx\n",
    "        \n",
    "        top_level_idx_to_image_dict[image_dir_idx] = dict()\n",
    "        image_idx = 0\n",
    "\n",
    "        image_names = os.listdir(os.path.join(train_top_level_dir, image_dir))\n",
    "        \n",
    "        for image_name in image_names:\n",
    "            if not image_name.startswith('.'):\n",
    "                image_path = os.path.join(train_top_level_dir, image_dir, image_name)\n",
    "                top_level_idx_to_image_dict[image_dir_idx][image_idx] = image_path\n",
    "                image_idx += 1"
   ]
  },
  {
   "cell_type": "code",
   "execution_count": 610,
   "metadata": {
    "collapsed": true
   },
   "outputs": [
    {
     "data": {
      "text/plain": [
       "{0: {0: '../data/images_sample/train_top_level/Cell Phones & Accessories/B00KBZEOBU.jpg',\n",
       "  1: '../data/images_sample/train_top_level/Cell Phones & Accessories/B00KCFPKY4.jpg',\n",
       "  2: '../data/images_sample/train_top_level/Cell Phones & Accessories/B00KCLOFQ2.jpg',\n",
       "  3: '../data/images_sample/train_top_level/Cell Phones & Accessories/B00KCLSY64.jpg',\n",
       "  4: '../data/images_sample/train_top_level/Cell Phones & Accessories/B00KD15484.jpg',\n",
       "  5: '../data/images_sample/train_top_level/Cell Phones & Accessories/B00KD7KPZK.jpg',\n",
       "  6: '../data/images_sample/train_top_level/Cell Phones & Accessories/B00KERDISU.jpg',\n",
       "  7: '../data/images_sample/train_top_level/Cell Phones & Accessories/B00KFW3NUW.jpg',\n",
       "  8: '../data/images_sample/train_top_level/Cell Phones & Accessories/B00KFZ5WUS.jpg',\n",
       "  9: '../data/images_sample/train_top_level/Cell Phones & Accessories/B00KG0X1DW.jpg',\n",
       "  10: '../data/images_sample/train_top_level/Cell Phones & Accessories/B00KH7ZZ9C.jpg',\n",
       "  11: '../data/images_sample/train_top_level/Cell Phones & Accessories/B00KHA2YDO.jpg',\n",
       "  12: '../data/images_sample/train_top_level/Cell Phones & Accessories/B00KIWCZ4Y.jpg',\n",
       "  13: '../data/images_sample/train_top_level/Cell Phones & Accessories/B00KIWMR5Q.jpg',\n",
       "  14: '../data/images_sample/train_top_level/Cell Phones & Accessories/B00KIY40CW.jpg',\n",
       "  15: '../data/images_sample/train_top_level/Cell Phones & Accessories/B00KJ4WTG0.jpg',\n",
       "  16: '../data/images_sample/train_top_level/Cell Phones & Accessories/B00KJLMBQQ.jpg',\n",
       "  17: '../data/images_sample/train_top_level/Cell Phones & Accessories/B00KJLMBSO.jpg',\n",
       "  18: '../data/images_sample/train_top_level/Cell Phones & Accessories/B00KQ15030.jpg',\n",
       "  19: '../data/images_sample/train_top_level/Cell Phones & Accessories/B00KQHW6F4.jpg',\n",
       "  20: '../data/images_sample/train_top_level/Cell Phones & Accessories/B00KREXJ52.jpg',\n",
       "  21: '../data/images_sample/train_top_level/Cell Phones & Accessories/B00KS3EP28.jpg',\n",
       "  22: '../data/images_sample/train_top_level/Cell Phones & Accessories/B00KT3ZNSM.jpg',\n",
       "  23: '../data/images_sample/train_top_level/Cell Phones & Accessories/B00KVJ73LE.jpg',\n",
       "  24: '../data/images_sample/train_top_level/Cell Phones & Accessories/B00KW022JA.jpg',\n",
       "  25: '../data/images_sample/train_top_level/Cell Phones & Accessories/B00KWNTTOI.jpg',\n",
       "  26: '../data/images_sample/train_top_level/Cell Phones & Accessories/B00KWW3VVQ.jpg',\n",
       "  27: '../data/images_sample/train_top_level/Cell Phones & Accessories/B00KWWCFDQ.jpg',\n",
       "  28: '../data/images_sample/train_top_level/Cell Phones & Accessories/B00KWWMT0U.jpg',\n",
       "  29: '../data/images_sample/train_top_level/Cell Phones & Accessories/B00KX9ANEG.jpg',\n",
       "  30: '../data/images_sample/train_top_level/Cell Phones & Accessories/B00KYGP50K.jpg',\n",
       "  31: '../data/images_sample/train_top_level/Cell Phones & Accessories/B00L38XJ2Y.jpg',\n",
       "  32: '../data/images_sample/train_top_level/Cell Phones & Accessories/B00L3DW1GE.jpg',\n",
       "  33: '../data/images_sample/train_top_level/Cell Phones & Accessories/B00L4GHO2G.jpg',\n",
       "  34: '../data/images_sample/train_top_level/Cell Phones & Accessories/B00LAFDEYS.jpg',\n",
       "  35: '../data/images_sample/train_top_level/Cell Phones & Accessories/B00LBO0PWM.jpg'},\n",
       " 1: {0: '../data/images_sample/train_top_level/Clothing, Shoes & Jewelry/B00IQAAE6Q.jpg',\n",
       "  1: '../data/images_sample/train_top_level/Clothing, Shoes & Jewelry/B00IS5H7SC.jpg',\n",
       "  2: '../data/images_sample/train_top_level/Clothing, Shoes & Jewelry/B00IT2IOG8.jpg',\n",
       "  3: '../data/images_sample/train_top_level/Clothing, Shoes & Jewelry/B00IUOMT7K.jpg',\n",
       "  4: '../data/images_sample/train_top_level/Clothing, Shoes & Jewelry/B00IUPGERK.jpg',\n",
       "  5: '../data/images_sample/train_top_level/Clothing, Shoes & Jewelry/B00IXXX0R6.jpg',\n",
       "  6: '../data/images_sample/train_top_level/Clothing, Shoes & Jewelry/B00IY40554.jpg',\n",
       "  7: '../data/images_sample/train_top_level/Clothing, Shoes & Jewelry/B00IY5M03I.jpg',\n",
       "  8: '../data/images_sample/train_top_level/Clothing, Shoes & Jewelry/B00J2H9JAO.jpg',\n",
       "  9: '../data/images_sample/train_top_level/Clothing, Shoes & Jewelry/B00J2Z2TMQ.jpg',\n",
       "  10: '../data/images_sample/train_top_level/Clothing, Shoes & Jewelry/B00J48SKXS.jpg',\n",
       "  11: '../data/images_sample/train_top_level/Clothing, Shoes & Jewelry/B00J5PCOI2.jpg',\n",
       "  12: '../data/images_sample/train_top_level/Clothing, Shoes & Jewelry/B00JEHJ5ME.jpg',\n",
       "  13: '../data/images_sample/train_top_level/Clothing, Shoes & Jewelry/B00JFFAJ0C.jpg',\n",
       "  14: '../data/images_sample/train_top_level/Clothing, Shoes & Jewelry/B00JG1MZLQ.jpg',\n",
       "  15: '../data/images_sample/train_top_level/Clothing, Shoes & Jewelry/B00JG1NIQC.jpg',\n",
       "  16: '../data/images_sample/train_top_level/Clothing, Shoes & Jewelry/B00JGSRECO.jpg',\n",
       "  17: '../data/images_sample/train_top_level/Clothing, Shoes & Jewelry/B00JGST7UG.jpg',\n",
       "  18: '../data/images_sample/train_top_level/Clothing, Shoes & Jewelry/B00JHCCA2I.jpg',\n",
       "  19: '../data/images_sample/train_top_level/Clothing, Shoes & Jewelry/B00JLZZJPQ.jpg',\n",
       "  20: '../data/images_sample/train_top_level/Clothing, Shoes & Jewelry/B00JM01ZOE.jpg',\n",
       "  21: '../data/images_sample/train_top_level/Clothing, Shoes & Jewelry/B00JP42P1O.jpg',\n",
       "  22: '../data/images_sample/train_top_level/Clothing, Shoes & Jewelry/B00JX81YDC.jpg',\n",
       "  23: '../data/images_sample/train_top_level/Clothing, Shoes & Jewelry/B00K0ONUYY.jpg',\n",
       "  24: '../data/images_sample/train_top_level/Clothing, Shoes & Jewelry/B00K0TGPH8.jpg',\n",
       "  25: '../data/images_sample/train_top_level/Clothing, Shoes & Jewelry/B00K2ZHTYS.jpg',\n",
       "  26: '../data/images_sample/train_top_level/Clothing, Shoes & Jewelry/B00K7K9VLW.jpg',\n",
       "  27: '../data/images_sample/train_top_level/Clothing, Shoes & Jewelry/B00KB4BE5K.jpg',\n",
       "  28: '../data/images_sample/train_top_level/Clothing, Shoes & Jewelry/B00KFOR7TI.jpg',\n",
       "  29: '../data/images_sample/train_top_level/Clothing, Shoes & Jewelry/B00KFOREAU.jpg',\n",
       "  30: '../data/images_sample/train_top_level/Clothing, Shoes & Jewelry/B00KGJFA7S.jpg',\n",
       "  31: '../data/images_sample/train_top_level/Clothing, Shoes & Jewelry/B00KLJF2V2.jpg',\n",
       "  32: '../data/images_sample/train_top_level/Clothing, Shoes & Jewelry/B00KLJFXQ6.jpg',\n",
       "  33: '../data/images_sample/train_top_level/Clothing, Shoes & Jewelry/B00KXFHZQ4.jpg',\n",
       "  34: '../data/images_sample/train_top_level/Clothing, Shoes & Jewelry/B00KY944XG.jpg',\n",
       "  35: '../data/images_sample/train_top_level/Clothing, Shoes & Jewelry/B00KZGOG22.jpg'},\n",
       " 2: {0: '../data/images_sample/train_top_level/Home & Kitchen/B00HL8STCK.jpg',\n",
       "  1: '../data/images_sample/train_top_level/Home & Kitchen/B00HL8VOC2.jpg',\n",
       "  2: '../data/images_sample/train_top_level/Home & Kitchen/B00HQ54TYK.jpg',\n",
       "  3: '../data/images_sample/train_top_level/Home & Kitchen/B00HQP55J8.jpg',\n",
       "  4: '../data/images_sample/train_top_level/Home & Kitchen/B00HQP8L80.jpg',\n",
       "  5: '../data/images_sample/train_top_level/Home & Kitchen/B00HVFVCVI.jpg',\n",
       "  6: '../data/images_sample/train_top_level/Home & Kitchen/B00HVJCB3C.jpg',\n",
       "  7: '../data/images_sample/train_top_level/Home & Kitchen/B00HVJCBVE.jpg',\n",
       "  8: '../data/images_sample/train_top_level/Home & Kitchen/B00HVM1H3E.jpg',\n",
       "  9: '../data/images_sample/train_top_level/Home & Kitchen/B00HVVQDJ8.jpg',\n",
       "  10: '../data/images_sample/train_top_level/Home & Kitchen/B00HVVUTQG.jpg',\n",
       "  11: '../data/images_sample/train_top_level/Home & Kitchen/B00HWCGM4C.jpg',\n",
       "  12: '../data/images_sample/train_top_level/Home & Kitchen/B00HWH5KAO.jpg',\n",
       "  13: '../data/images_sample/train_top_level/Home & Kitchen/B00HYL1NW2.jpg',\n",
       "  14: '../data/images_sample/train_top_level/Home & Kitchen/B00HZ0H664.jpg',\n",
       "  15: '../data/images_sample/train_top_level/Home & Kitchen/B00I1H4IZ2.jpg',\n",
       "  16: '../data/images_sample/train_top_level/Home & Kitchen/B00I1H4X0W.jpg',\n",
       "  17: '../data/images_sample/train_top_level/Home & Kitchen/B00I2X49FE.jpg',\n",
       "  18: '../data/images_sample/train_top_level/Home & Kitchen/B00IGK5A5Q.jpg',\n",
       "  19: '../data/images_sample/train_top_level/Home & Kitchen/B00IGNT1R6.jpg',\n",
       "  20: '../data/images_sample/train_top_level/Home & Kitchen/B00IGNT1TO.jpg',\n",
       "  21: '../data/images_sample/train_top_level/Home & Kitchen/B00ILSUY1I.jpg',\n",
       "  22: '../data/images_sample/train_top_level/Home & Kitchen/B00INRTI82.jpg',\n",
       "  23: '../data/images_sample/train_top_level/Home & Kitchen/B00IT4KC5W.jpg',\n",
       "  24: '../data/images_sample/train_top_level/Home & Kitchen/B00IVRL1GG.jpg',\n",
       "  25: '../data/images_sample/train_top_level/Home & Kitchen/B00IZ9KHMY.jpg',\n",
       "  26: '../data/images_sample/train_top_level/Home & Kitchen/B00IZ9KLTS.jpg',\n",
       "  27: '../data/images_sample/train_top_level/Home & Kitchen/B00IZ9KNUU.jpg',\n",
       "  28: '../data/images_sample/train_top_level/Home & Kitchen/B00IZ9KPW6.jpg',\n",
       "  29: '../data/images_sample/train_top_level/Home & Kitchen/B00IZ9KQ6G.jpg',\n",
       "  30: '../data/images_sample/train_top_level/Home & Kitchen/B00IZR0G9A.jpg',\n",
       "  31: '../data/images_sample/train_top_level/Home & Kitchen/B00J2BMG8M.jpg',\n",
       "  32: '../data/images_sample/train_top_level/Home & Kitchen/B00JASS2SA.jpg',\n",
       "  33: '../data/images_sample/train_top_level/Home & Kitchen/B00JBIHD4I.jpg',\n",
       "  34: '../data/images_sample/train_top_level/Home & Kitchen/B00JDR459S.jpg',\n",
       "  35: '../data/images_sample/train_top_level/Home & Kitchen/B00JP4O0TY.jpg',\n",
       "  36: '../data/images_sample/train_top_level/Home & Kitchen/B00JP4O0U8.jpg',\n",
       "  37: '../data/images_sample/train_top_level/Home & Kitchen/B00JP4O2MO.jpg',\n",
       "  38: '../data/images_sample/train_top_level/Home & Kitchen/B00JQ2WOWU.jpg',\n",
       "  39: '../data/images_sample/train_top_level/Home & Kitchen/B00JZVFFQY.jpg',\n",
       "  40: '../data/images_sample/train_top_level/Home & Kitchen/B00JZYV45W.jpg',\n",
       "  41: '../data/images_sample/train_top_level/Home & Kitchen/B00K4HJJ3S.jpg',\n",
       "  42: '../data/images_sample/train_top_level/Home & Kitchen/B00K4HMM9G.jpg',\n",
       "  43: '../data/images_sample/train_top_level/Home & Kitchen/B00KCWAIKS.jpg',\n",
       "  44: '../data/images_sample/train_top_level/Home & Kitchen/B00KLQ9Z2W.jpg',\n",
       "  45: '../data/images_sample/train_top_level/Home & Kitchen/B00KMXNJPI.jpg',\n",
       "  46: '../data/images_sample/train_top_level/Home & Kitchen/B00KN1KIXK.jpg',\n",
       "  47: '../data/images_sample/train_top_level/Home & Kitchen/B00KYHICTK.jpg'},\n",
       " 3: {0: '../data/images_sample/train_top_level/Toys & Games/B00GDGM61G.jpg',\n",
       "  1: '../data/images_sample/train_top_level/Toys & Games/B00GDIOWFW.jpg',\n",
       "  2: '../data/images_sample/train_top_level/Toys & Games/B00GF7MVS6.jpg',\n",
       "  3: '../data/images_sample/train_top_level/Toys & Games/B00GH0T1KM.jpg',\n",
       "  4: '../data/images_sample/train_top_level/Toys & Games/B00GHUH93S.jpg',\n",
       "  5: '../data/images_sample/train_top_level/Toys & Games/B00GKT27S8.jpg',\n",
       "  6: '../data/images_sample/train_top_level/Toys & Games/B00GLYWI0E.jpg',\n",
       "  7: '../data/images_sample/train_top_level/Toys & Games/B00GLZR92A.jpg',\n",
       "  8: '../data/images_sample/train_top_level/Toys & Games/B00GM01YNE.jpg',\n",
       "  9: '../data/images_sample/train_top_level/Toys & Games/B00GM1ECLE.jpg',\n",
       "  10: '../data/images_sample/train_top_level/Toys & Games/B00GM1KJLG.jpg',\n",
       "  11: '../data/images_sample/train_top_level/Toys & Games/B00GM4JGHG.jpg',\n",
       "  12: '../data/images_sample/train_top_level/Toys & Games/B00GODKQ2O.jpg',\n",
       "  13: '../data/images_sample/train_top_level/Toys & Games/B00GOHYWKW.jpg',\n",
       "  14: '../data/images_sample/train_top_level/Toys & Games/B00GSQ2BX4.jpg',\n",
       "  15: '../data/images_sample/train_top_level/Toys & Games/B00GSQXNIG.jpg',\n",
       "  16: '../data/images_sample/train_top_level/Toys & Games/B00GSWFQBM.jpg',\n",
       "  17: '../data/images_sample/train_top_level/Toys & Games/B00GSXHADS.jpg',\n",
       "  18: '../data/images_sample/train_top_level/Toys & Games/B00GSZJ5WK.jpg',\n",
       "  19: '../data/images_sample/train_top_level/Toys & Games/B00GT2VMAU.jpg',\n",
       "  20: '../data/images_sample/train_top_level/Toys & Games/B00GTDYEDQ.jpg',\n",
       "  21: '../data/images_sample/train_top_level/Toys & Games/B00GVGIICE.jpg',\n",
       "  22: '../data/images_sample/train_top_level/Toys & Games/B00H14UHSS.jpg',\n",
       "  23: '../data/images_sample/train_top_level/Toys & Games/B00H2BZHF8.jpg',\n",
       "  24: '../data/images_sample/train_top_level/Toys & Games/B00H3FJKMY.jpg',\n",
       "  25: '../data/images_sample/train_top_level/Toys & Games/B00HCO4ILY.jpg',\n",
       "  26: '../data/images_sample/train_top_level/Toys & Games/B00HCP0VTQ.jpg',\n",
       "  27: '../data/images_sample/train_top_level/Toys & Games/B00HCP29GO.jpg',\n",
       "  28: '../data/images_sample/train_top_level/Toys & Games/B00HCP4ZHU.jpg',\n",
       "  29: '../data/images_sample/train_top_level/Toys & Games/B00HEPDC0Y.jpg',\n",
       "  30: '../data/images_sample/train_top_level/Toys & Games/B00HH1KMPI.jpg',\n",
       "  31: '../data/images_sample/train_top_level/Toys & Games/B00HQHBRQG.jpg',\n",
       "  32: '../data/images_sample/train_top_level/Toys & Games/B00HRJCH4Y.jpg',\n",
       "  33: '../data/images_sample/train_top_level/Toys & Games/B00HRJPT1M.jpg',\n",
       "  34: '../data/images_sample/train_top_level/Toys & Games/B00I0LT89U.jpg',\n",
       "  35: '../data/images_sample/train_top_level/Toys & Games/B00I3VWMP4.jpg',\n",
       "  36: '../data/images_sample/train_top_level/Toys & Games/B00ICAKJJW.jpg',\n",
       "  37: '../data/images_sample/train_top_level/Toys & Games/B00IHZZOCO.jpg',\n",
       "  38: '../data/images_sample/train_top_level/Toys & Games/B00II5G67K.jpg',\n",
       "  39: '../data/images_sample/train_top_level/Toys & Games/B00IK54FNA.jpg',\n",
       "  40: '../data/images_sample/train_top_level/Toys & Games/B00IOBIA9K.jpg',\n",
       "  41: '../data/images_sample/train_top_level/Toys & Games/B00IUPZ5Y8.jpg',\n",
       "  42: '../data/images_sample/train_top_level/Toys & Games/B00IVDVWSM.jpg',\n",
       "  43: '../data/images_sample/train_top_level/Toys & Games/B00IVDVWVO.jpg',\n",
       "  44: '../data/images_sample/train_top_level/Toys & Games/B00IVDVX68.jpg',\n",
       "  45: '../data/images_sample/train_top_level/Toys & Games/B00IVDVXOA.jpg',\n",
       "  46: '../data/images_sample/train_top_level/Toys & Games/B00IYX1VXK.jpg',\n",
       "  47: '../data/images_sample/train_top_level/Toys & Games/B00J5P1ALE.jpg',\n",
       "  48: '../data/images_sample/train_top_level/Toys & Games/B00J6BIYRU.jpg',\n",
       "  49: '../data/images_sample/train_top_level/Toys & Games/B00JFG7ZN0.jpg',\n",
       "  50: '../data/images_sample/train_top_level/Toys & Games/B00JHHO4YK.jpg',\n",
       "  51: '../data/images_sample/train_top_level/Toys & Games/B00KJH9384.jpg'}}"
      ]
     },
     "execution_count": 610,
     "metadata": {},
     "output_type": "execute_result"
    }
   ],
   "source": [
    "top_level_idx_to_image_dict"
   ]
  },
  {
   "cell_type": "markdown",
   "metadata": {
    "collapsed": true
   },
   "source": [
    "### Create bottleneck features"
   ]
  },
  {
   "cell_type": "code",
   "execution_count": 682,
   "metadata": {
    "collapsed": false
   },
   "outputs": [],
   "source": [
    "train_dir = '../data/images_sample/train_top_level/'\n",
    "train_dir_above = '../data/images_sample/'"
   ]
  },
  {
   "cell_type": "code",
   "execution_count": 738,
   "metadata": {
    "collapsed": true
   },
   "outputs": [],
   "source": [
    "image_count = len(category_labels)\n",
    "img_width = 299\n",
    "img_height = 299"
   ]
  },
  {
   "cell_type": "code",
   "execution_count": 739,
   "metadata": {
    "collapsed": false
   },
   "outputs": [
    {
     "data": {
      "text/plain": [
       "172"
      ]
     },
     "execution_count": 739,
     "metadata": {},
     "output_type": "execute_result"
    }
   ],
   "source": [
    "image_count"
   ]
  },
  {
   "cell_type": "code",
   "execution_count": 740,
   "metadata": {
    "collapsed": true
   },
   "outputs": [],
   "source": [
    "def largest_divisor(n, threshold=100):\n",
    "    factors_set = set(reduce(list.__add__, ([i, n//i] for i in range(1, int(n**0.5) + 1) if n % i == 0)))\n",
    "    factors_list = [i for i in factors_set if i <= threshold]\n",
    "    factors_list.sort()\n",
    "    return factors_list[-1]"
   ]
  },
  {
   "cell_type": "code",
   "execution_count": 741,
   "metadata": {
    "collapsed": false
   },
   "outputs": [],
   "source": [
    "# Load Data Genenerator\n",
    "def load_data_generator():\n",
    "    datagen = ImageDataGenerator(rescale=1./255)\n",
    "    return datagen"
   ]
  },
  {
   "cell_type": "code",
   "execution_count": 742,
   "metadata": {
    "collapsed": true
   },
   "outputs": [],
   "source": [
    "datagen = load_data_generator()"
   ]
  },
  {
   "cell_type": "code",
   "execution_count": 743,
   "metadata": {
    "collapsed": false
   },
   "outputs": [
    {
     "name": "stdout",
     "output_type": "stream",
     "text": [
      "Found 172 images belonging to 4 classes.\n"
     ]
    }
   ],
   "source": [
    "generator = datagen.flow_from_directory(train_dir, \n",
    "                                        target_size=(img_width, img_height), \n",
    "                                        batch_size=largest_divisor(image_count), \n",
    "                                        class_mode=None, \n",
    "                                        shuffle=False, \n",
    "                                        seed=1368)"
   ]
  },
  {
   "cell_type": "code",
   "execution_count": 744,
   "metadata": {
    "collapsed": false
   },
   "outputs": [],
   "source": [
    "# model = ResNet50(include_top=False, weights='imagenet', input_tensor=None)\n",
    "model = InceptionV3(include_top=False, weights='imagenet', input_tensor=None)\n",
    "# model = VGG16(include_top=False, weights='imagenet', input_tensor=None)"
   ]
  },
  {
   "cell_type": "code",
   "execution_count": 745,
   "metadata": {
    "collapsed": false
   },
   "outputs": [],
   "source": [
    "bottleneck_feats = model.predict_generator(generator, val_samples=generator.N, max_q_size=20, nb_worker=1)\n",
    "np.save(open(train_dir_above + 'model/' + 'bottleneck_features.npy', 'w'), bottleneck_feats)"
   ]
  },
  {
   "cell_type": "code",
   "execution_count": 569,
   "metadata": {
    "collapsed": false
   },
   "outputs": [],
   "source": [
    "# bottleneck_feats = np.load(open('../data/images_sample/model/bottleneck_features.npy'))"
   ]
  },
  {
   "cell_type": "code",
   "execution_count": 747,
   "metadata": {
    "collapsed": false
   },
   "outputs": [
    {
     "data": {
      "text/plain": [
       "(172, 2048)"
      ]
     },
     "execution_count": 747,
     "metadata": {},
     "output_type": "execute_result"
    }
   ],
   "source": [
    "bottleneck_feats.shape"
   ]
  },
  {
   "cell_type": "markdown",
   "metadata": {},
   "source": [
    "### To Do\n",
    "- How to featurize new search image and calculate cosine similiarity?\n",
    "- How to filter by category?"
   ]
  },
  {
   "cell_type": "markdown",
   "metadata": {
    "collapsed": true
   },
   "source": [
    "### Process search image and find similar"
   ]
  },
  {
   "cell_type": "code",
   "execution_count": 1011,
   "metadata": {
    "collapsed": true
   },
   "outputs": [],
   "source": [
    "def cosine_similarity(bottleneck_features):\n",
    "    csim = bottleneck_features.dot(bottleneck_features.T)\n",
    "    if not isinstance(csim, np.ndarray):\n",
    "        csim = csim.toarray()\n",
    "    norms = np.array([np.sqrt(np.diagonal(csim))])\n",
    "    return (csim / norms / norms.T)"
   ]
  },
  {
   "cell_type": "code",
   "execution_count": 1012,
   "metadata": {
    "collapsed": true
   },
   "outputs": [],
   "source": [
    "search_image_dir_path = '../data/images_sample/search_image/'\n",
    "search_images = os.listdir(search_image_dir_path)\n",
    "search_images = [search_image for search_image in search_images if not search_image.startswith('.')]\n",
    "search_image_path = os.path.join(search_image_dir_path, search_image)"
   ]
  },
  {
   "cell_type": "code",
   "execution_count": 1013,
   "metadata": {
    "collapsed": false
   },
   "outputs": [
    {
     "data": {
      "image/jpeg": "[encoded data removed]",
      "text/plain": [
       "<IPython.core.display.Image object>"
      ]
     },
     "execution_count": 1013,
     "metadata": {},
     "output_type": "execute_result"
    }
   ],
   "source": [
    "Image(search_image_path)"
   ]
  },
  {
   "cell_type": "code",
   "execution_count": 1014,
   "metadata": {
    "collapsed": false
   },
   "outputs": [],
   "source": [
    "search_image = image.load_img(search_image_path, target_size=(299, 299))\n",
    "search_image = image.img_to_array(search_image)\n",
    "search_image = np.multiply(search_image, 1. / 255)\n",
    "search_image = np.expand_dims(search_image, axis=0)"
   ]
  },
  {
   "cell_type": "code",
   "execution_count": 1015,
   "metadata": {
    "collapsed": false
   },
   "outputs": [],
   "source": [
    "search_image_features = model.predict(search_image)"
   ]
  },
  {
   "cell_type": "code",
   "execution_count": 1016,
   "metadata": {
    "collapsed": false
   },
   "outputs": [
    {
     "data": {
      "text/plain": [
       "array([[ 1.23420906, -0.25669402, -0.62023628, ..., -0.16175544,\n",
       "         0.09546103, -0.24230234]], dtype=float32)"
      ]
     },
     "execution_count": 1016,
     "metadata": {},
     "output_type": "execute_result"
    }
   ],
   "source": [
    "search_image_features"
   ]
  },
  {
   "cell_type": "code",
   "execution_count": 1017,
   "metadata": {
    "collapsed": false
   },
   "outputs": [
    {
     "data": {
      "text/plain": [
       "array([[ 1.23420906, -0.25669402, -0.62023628, ..., -0.16175544,\n",
       "         0.09546103, -0.24230234]], dtype=float32)"
      ]
     },
     "execution_count": 1017,
     "metadata": {},
     "output_type": "execute_result"
    }
   ],
   "source": [
    "search_image_features"
   ]
  },
  {
   "cell_type": "code",
   "execution_count": 1018,
   "metadata": {
    "collapsed": false
   },
   "outputs": [
    {
     "data": {
      "text/plain": [
       "array([[ 1.23420906, -0.25669402, -0.62023628, ..., -0.16175544,\n",
       "         0.09546103, -0.24230234]], dtype=float32)"
      ]
     },
     "execution_count": 1018,
     "metadata": {},
     "output_type": "execute_result"
    }
   ],
   "source": [
    "search_image_features"
   ]
  },
  {
   "cell_type": "code",
   "execution_count": 1019,
   "metadata": {
    "collapsed": true
   },
   "outputs": [],
   "source": [
    "search_filter = -1"
   ]
  },
  {
   "cell_type": "code",
   "execution_count": 1020,
   "metadata": {
    "collapsed": false
   },
   "outputs": [],
   "source": [
    "# Add category labels to bottleneck_feats\n",
    "bottleneck_feats = np.load(open('../data/images_sample/model/bottleneck_features.npy'))\n",
    "bottleneck_feats = np.insert(bottleneck_feats, 0, category_labels, axis=1)"
   ]
  },
  {
   "cell_type": "code",
   "execution_count": 1021,
   "metadata": {
    "collapsed": false
   },
   "outputs": [],
   "source": [
    "if search_filter == -1:\n",
    "    bottleneck_feats = bottleneck_feats[:, 1:]\n",
    "else:\n",
    "    bottleneck_filter = bottleneck_feats[:, 0] == search_filter\n",
    "    bottleneck_feats = bottleneck_feats[bottleneck_filter, 1:]"
   ]
  },
  {
   "cell_type": "code",
   "execution_count": 1022,
   "metadata": {
    "collapsed": false
   },
   "outputs": [],
   "source": [
    "combined_features = np.vstack([search_image_features, bottleneck_feats])"
   ]
  },
  {
   "cell_type": "code",
   "execution_count": 1023,
   "metadata": {
    "collapsed": false
   },
   "outputs": [],
   "source": [
    "csim = cosine_similarity(combined_features)"
   ]
  },
  {
   "cell_type": "code",
   "execution_count": 1024,
   "metadata": {
    "collapsed": false
   },
   "outputs": [
    {
     "data": {
      "text/plain": [
       "array([  1.00000012e+00,  -2.84976121e-02,   1.42377168e-01,\n",
       "        -4.81601618e-02,  -2.48492658e-02,   3.40107456e-02,\n",
       "         1.16062634e-01,   6.59521520e-02,   7.91512504e-02,\n",
       "         2.38767806e-02,   2.75557977e-03,   3.50067094e-02,\n",
       "        -1.72784746e-01,  -7.45880902e-02,  -3.18800211e-02,\n",
       "         3.99638116e-02,  -1.04719857e-02,   1.65823206e-01,\n",
       "         1.82255790e-01,   1.24460697e-01,   8.81371200e-02,\n",
       "         1.95971169e-02,   4.78085550e-03,  -1.70652997e-02,\n",
       "         7.02306554e-02,   7.25716678e-03,   2.70743575e-03,\n",
       "         3.42497751e-02,   5.42605706e-02,   9.32259485e-02,\n",
       "         2.14953810e-01,   9.83590111e-02,   5.99940978e-02,\n",
       "         8.09543654e-02,   1.76114529e-01,   1.13067426e-01,\n",
       "         1.21502846e-01,   4.35910076e-02,   5.88439172e-04,\n",
       "         4.70955819e-02,   3.54670249e-02,   3.91340144e-02,\n",
       "         6.43013939e-02,  -5.24289198e-02,  -4.84481566e-02,\n",
       "         5.02028465e-02,   5.56604229e-02,   1.04688831e-01,\n",
       "         6.84339926e-02,   7.30922222e-02,   7.10228011e-02,\n",
       "         6.52851090e-02,   2.26517254e-03,   5.34154400e-02,\n",
       "        -3.69789544e-03,   1.98449120e-02,   2.43035518e-02,\n",
       "        -2.70122346e-02,  -1.30308662e-02,   7.08509758e-02,\n",
       "         1.02413259e-01,   5.73903546e-02,   4.67178859e-02,\n",
       "         4.74086665e-02,   4.96125370e-02,   1.26932889e-01,\n",
       "         3.74981575e-02,  -2.89883818e-02,   2.22112220e-02,\n",
       "         9.17135030e-02,   1.54550634e-02,   1.08815596e-01,\n",
       "        -9.90319252e-02,  -2.67330837e-02,  -3.04149073e-02,\n",
       "        -5.73532749e-03,  -1.07201219e-01,  -1.02018856e-01,\n",
       "        -6.82793409e-02,  -1.19726427e-01,  -1.30649656e-01,\n",
       "        -4.90338877e-02,  -9.38410833e-02,  -1.96591511e-01,\n",
       "        -2.41651963e-02,  -8.58253390e-02,  -5.98558821e-02,\n",
       "        -1.02036037e-02,  -7.13043436e-02,  -6.40865937e-02,\n",
       "        -4.35267948e-03,  -1.29276574e-01,  -9.96494815e-02,\n",
       "        -1.26868844e-01,  -1.08381018e-01,   3.16269114e-03,\n",
       "        -1.11537725e-01,  -4.61615212e-02,  -1.46643594e-01,\n",
       "        -6.03989810e-02,  -5.59343211e-02,  -2.35532504e-02,\n",
       "        -6.54980019e-02,  -1.10192604e-01,  -1.07688315e-01,\n",
       "         5.60378470e-02,  -1.09657593e-01,   6.05752738e-03,\n",
       "        -7.08400011e-02,  -7.89249912e-02,  -6.98815212e-02,\n",
       "        -2.30795406e-02,  -1.22023173e-01,  -8.05849954e-02,\n",
       "        -1.50937691e-01,  -8.59759748e-02,  -3.03103663e-02,\n",
       "        -1.81703847e-02,  -1.00008786e-01,  -9.44832489e-02,\n",
       "        -9.81879160e-02,   1.63626730e-01,   1.44445598e-01,\n",
       "         1.93197861e-01,   1.79849520e-01,   2.98231170e-02,\n",
       "         3.15323412e-01,   2.23613173e-01,   1.36950850e-01,\n",
       "         1.19539211e-02,   7.58552775e-02,   1.73463017e-01,\n",
       "         3.55397344e-01,   5.42478800e-01,   1.87888250e-01,\n",
       "         5.20797335e-02,   4.16041650e-02,   1.61367282e-01,\n",
       "         2.11232100e-02,   1.41196102e-01,   3.48040700e-01,\n",
       "        -6.97787628e-02,   1.05778210e-01,   4.23395425e-01,\n",
       "         1.89721748e-01,   6.89286664e-02,   6.36011958e-02,\n",
       "         4.31970388e-01,   5.03245771e-01,   4.64083433e-01,\n",
       "         5.26686549e-01,   3.07318121e-01,   3.39954317e-01,\n",
       "         3.97121042e-01,   3.90868902e-01,   1.80132568e-01,\n",
       "         3.32414329e-01,   4.54683304e-01,   3.07626605e-01,\n",
       "         6.40415490e-01,   4.54322308e-01,   3.60004395e-01,\n",
       "         3.27839613e-01,   4.67532903e-01,   4.01024789e-01,\n",
       "         4.91414249e-01,   3.76599461e-01,   8.69051874e-01,\n",
       "         4.11957175e-01,   1.00000012e+00,   3.43258888e-01,\n",
       "         2.47494340e-01,   2.09830076e-01], dtype=float32)"
      ]
     },
     "execution_count": 1024,
     "metadata": {},
     "output_type": "execute_result"
    }
   ],
   "source": [
    "csim[0]"
   ]
  },
  {
   "cell_type": "code",
   "execution_count": 1025,
   "metadata": {
    "collapsed": false
   },
   "outputs": [],
   "source": [
    "similarity_threshold = 0.58\n",
    "\n",
    "most_similar = np.argsort(-csim[0])[:10]\n",
    "\n",
    "# Exclude similar images below a certain similarity threshold\n",
    "most_similar = [idx for idx in most_similar if csim[0, idx] > similarity_threshold]\n",
    "\n",
    "# Exclude search image where idx = 0\n",
    "most_similar = [idx - 1 for idx in most_similar if idx != 0]"
   ]
  },
  {
   "cell_type": "code",
   "execution_count": 1026,
   "metadata": {
    "collapsed": false
   },
   "outputs": [
    {
     "name": "stdout",
     "output_type": "stream",
     "text": [
      "[168, 166, 158]\n",
      "../data/images_sample/train_top_level/Toys & Games/B00J6BIYRU.jpg\n",
      "../data/images_sample/train_top_level/Toys & Games/B00IYX1VXK.jpg\n",
      "../data/images_sample/train_top_level/Toys & Games/B00II5G67K.jpg\n"
     ]
    },
    {
     "data": {
      "image/png": "[encoded data removed]",
      "text/plain": [
       "<matplotlib.figure.Figure at 0x128b030d0>"
      ]
     },
     "metadata": {},
     "output_type": "display_data"
    },
    {
     "data": {
      "image/png": "[encoded data removed]",
      "text/plain": [
       "<matplotlib.figure.Figure at 0x14c243a90>"
      ]
     },
     "metadata": {},
     "output_type": "display_data"
    },
    {
     "data": {
      "image/png": "[encoded data removed]",
      "text/plain": [
       "<matplotlib.figure.Figure at 0x14a535c50>"
      ]
     },
     "metadata": {},
     "output_type": "display_data"
    },
    {
     "data": {
      "text/plain": [
       "<matplotlib.figure.Figure at 0x149d32d50>"
      ]
     },
     "metadata": {},
     "output_type": "display_data"
    }
   ],
   "source": [
    "print most_similar\n",
    "\n",
    "if search_filter == -1:\n",
    "    image_lookup_dict = idx_to_image_dict\n",
    "else:\n",
    "    image_lookup_dict = top_level_idx_to_image_dict[search_filter]\n",
    "\n",
    "for i in most_similar:\n",
    "    image_path = image_lookup_dict[i]\n",
    "    print image_path\n",
    "    image_display = plt.imread(image_path)\n",
    "    plt.axis('off')\n",
    "    plt.imshow(image_display.astype('uint8'))\n",
    "    plt.figure()"
   ]
  },
  {
   "cell_type": "markdown",
   "metadata": {},
   "source": [
    "### Resnet model"
   ]
  },
  {
   "cell_type": "code",
   "execution_count": 679,
   "metadata": {
    "collapsed": true
   },
   "outputs": [],
   "source": [
    "TH_WEIGHTS_PATH = 'https://github.com/fchollet/deep-learning-models/releases/download/v0.2/resnet50_weights_th_dim_ordering_th_kernels.h5'\n",
    "TF_WEIGHTS_PATH = 'https://github.com/fchollet/deep-learning-models/releases/download/v0.2/resnet50_weights_tf_dim_ordering_tf_kernels.h5'\n",
    "TH_WEIGHTS_PATH_NO_TOP = 'https://github.com/fchollet/deep-learning-models/releases/download/v0.2/resnet50_weights_th_dim_ordering_th_kernels_notop.h5'\n",
    "TF_WEIGHTS_PATH_NO_TOP = 'https://github.com/fchollet/deep-learning-models/releases/download/v0.2/resnet50_weights_tf_dim_ordering_tf_kernels_notop.h5'\n",
    "\n",
    "\n",
    "def identity_block(input_tensor, kernel_size, filters, stage, block):\n",
    "    '''The identity_block is the block that has no conv layer at shortcut\n",
    "\n",
    "    # Arguments\n",
    "        input_tensor: input tensor\n",
    "        kernel_size: defualt 3, the kernel size of middle conv layer at main path\n",
    "        filters: list of integers, the nb_filters of 3 conv layer at main path\n",
    "        stage: integer, current stage label, used for generating layer names\n",
    "        block: 'a','b'..., current block label, used for generating layer names\n",
    "    '''\n",
    "    nb_filter1, nb_filter2, nb_filter3 = filters\n",
    "    if K.image_dim_ordering() == 'tf':\n",
    "        bn_axis = 3\n",
    "    else:\n",
    "        bn_axis = 1\n",
    "    conv_name_base = 'res' + str(stage) + block + '_branch'\n",
    "    bn_name_base = 'bn' + str(stage) + block + '_branch'\n",
    "\n",
    "    x = Convolution2D(nb_filter1, 1, 1, name=conv_name_base + '2a')(input_tensor)\n",
    "    x = BatchNormalization(axis=bn_axis, name=bn_name_base + '2a')(x)\n",
    "    x = Activation('relu')(x)\n",
    "\n",
    "    x = Convolution2D(nb_filter2, kernel_size, kernel_size,\n",
    "                      border_mode='same', name=conv_name_base + '2b')(x)\n",
    "    x = BatchNormalization(axis=bn_axis, name=bn_name_base + '2b')(x)\n",
    "    x = Activation('relu')(x)\n",
    "\n",
    "    x = Convolution2D(nb_filter3, 1, 1, name=conv_name_base + '2c')(x)\n",
    "    x = BatchNormalization(axis=bn_axis, name=bn_name_base + '2c')(x)\n",
    "\n",
    "    x = merge([x, input_tensor], mode='sum')\n",
    "    x = Activation('relu')(x)\n",
    "    return x\n",
    "\n",
    "\n",
    "def conv_block(input_tensor, kernel_size, filters, stage, block, strides=(2, 2)):\n",
    "    '''conv_block is the block that has a conv layer at shortcut\n",
    "\n",
    "    # Arguments\n",
    "        input_tensor: input tensor\n",
    "        kernel_size: defualt 3, the kernel size of middle conv layer at main path\n",
    "        filters: list of integers, the nb_filters of 3 conv layer at main path\n",
    "        stage: integer, current stage label, used for generating layer names\n",
    "        block: 'a','b'..., current block label, used for generating layer names\n",
    "\n",
    "    Note that from stage 3, the first conv layer at main path is with subsample=(2,2)\n",
    "    And the shortcut should have subsample=(2,2) as well\n",
    "    '''\n",
    "    nb_filter1, nb_filter2, nb_filter3 = filters\n",
    "    if K.image_dim_ordering() == 'tf':\n",
    "        bn_axis = 3\n",
    "    else:\n",
    "        bn_axis = 1\n",
    "    conv_name_base = 'res' + str(stage) + block + '_branch'\n",
    "    bn_name_base = 'bn' + str(stage) + block + '_branch'\n",
    "\n",
    "    x = Convolution2D(nb_filter1, 1, 1, subsample=strides,\n",
    "                      name=conv_name_base + '2a')(input_tensor)\n",
    "    x = BatchNormalization(axis=bn_axis, name=bn_name_base + '2a')(x)\n",
    "    x = Activation('relu')(x)\n",
    "\n",
    "    x = Convolution2D(nb_filter2, kernel_size, kernel_size, border_mode='same',\n",
    "                      name=conv_name_base + '2b')(x)\n",
    "    x = BatchNormalization(axis=bn_axis, name=bn_name_base + '2b')(x)\n",
    "    x = Activation('relu')(x)\n",
    "\n",
    "    x = Convolution2D(nb_filter3, 1, 1, name=conv_name_base + '2c')(x)\n",
    "    x = BatchNormalization(axis=bn_axis, name=bn_name_base + '2c')(x)\n",
    "\n",
    "    shortcut = Convolution2D(nb_filter3, 1, 1, subsample=strides,\n",
    "                             name=conv_name_base + '1')(input_tensor)\n",
    "    shortcut = BatchNormalization(axis=bn_axis, name=bn_name_base + '1')(shortcut)\n",
    "\n",
    "    x = merge([x, shortcut], mode='sum')\n",
    "    x = Activation('relu')(x)\n",
    "    return x\n",
    "\n",
    "\n",
    "def ResNet50(include_top=True, weights='imagenet',\n",
    "             input_tensor=None):\n",
    "    '''Instantiate the ResNet50 architecture,\n",
    "    optionally loading weights pre-trained\n",
    "    on ImageNet. Note that when using TensorFlow,\n",
    "    for best performance you should set\n",
    "    `image_dim_ordering=\"tf\"` in your Keras config\n",
    "    at ~/.keras/keras.json.\n",
    "\n",
    "    The model and the weights are compatible with both\n",
    "    TensorFlow and Theano. The dimension ordering\n",
    "    convention used by the model is the one\n",
    "    specified in your Keras config file.\n",
    "\n",
    "    # Arguments\n",
    "        include_top: whether to include the 3 fully-connected\n",
    "            layers at the top of the network.\n",
    "        weights: one of `None` (random initialization)\n",
    "            or \"imagenet\" (pre-training on ImageNet).\n",
    "        input_tensor: optional Keras tensor (i.e. xput of `layers.Input()`)\n",
    "            to use as image input for the model.\n",
    "\n",
    "    # Returns\n",
    "        A Keras model instance.\n",
    "    '''\n",
    "    if weights not in {'imagenet', None}:\n",
    "        raise ValueError('The `weights` argument should be either '\n",
    "                         '`None` (random initialization) or `imagenet` '\n",
    "                         '(pre-training on ImageNet).')\n",
    "    # Determine proper input shape\n",
    "    if K.image_dim_ordering() == 'th':\n",
    "        if include_top:\n",
    "            input_shape = (3, 224, 224)\n",
    "        else:\n",
    "            input_shape = (3, 224, 224)\n",
    "    else:\n",
    "        if include_top:\n",
    "            input_shape = (224, 224, 3)\n",
    "        else:\n",
    "            input_shape = (224, 224, 3)\n",
    "\n",
    "    if input_tensor is None:\n",
    "        img_input = Input(shape=input_shape)\n",
    "    else:\n",
    "        if not K.is_keras_tensor(input_tensor):\n",
    "            img_input = Input(tensor=input_tensor)\n",
    "        else:\n",
    "            img_input = input_tensor\n",
    "    if K.image_dim_ordering() == 'tf':\n",
    "        bn_axis = 3\n",
    "    else:\n",
    "        bn_axis = 1\n",
    "\n",
    "    x = ZeroPadding2D((3, 3))(img_input)\n",
    "    x = Convolution2D(64, 7, 7, subsample=(2, 2), name='conv1')(x)\n",
    "    x = BatchNormalization(axis=bn_axis, name='bn_conv1')(x)\n",
    "    x = Activation('relu')(x)\n",
    "    x = MaxPooling2D((3, 3), strides=(2, 2))(x)\n",
    "\n",
    "    x = conv_block(x, 3, [64, 64, 256], stage=2, block='a', strides=(1, 1))\n",
    "    x = identity_block(x, 3, [64, 64, 256], stage=2, block='b')\n",
    "    x = identity_block(x, 3, [64, 64, 256], stage=2, block='c')\n",
    "\n",
    "    x = conv_block(x, 3, [128, 128, 512], stage=3, block='a')\n",
    "    x = identity_block(x, 3, [128, 128, 512], stage=3, block='b')\n",
    "    x = identity_block(x, 3, [128, 128, 512], stage=3, block='c')\n",
    "    x = identity_block(x, 3, [128, 128, 512], stage=3, block='d')\n",
    "\n",
    "    x = conv_block(x, 3, [256, 256, 1024], stage=4, block='a')\n",
    "    x = identity_block(x, 3, [256, 256, 1024], stage=4, block='b')\n",
    "    x = identity_block(x, 3, [256, 256, 1024], stage=4, block='c')\n",
    "    x = identity_block(x, 3, [256, 256, 1024], stage=4, block='d')\n",
    "    x = identity_block(x, 3, [256, 256, 1024], stage=4, block='e')\n",
    "    x = identity_block(x, 3, [256, 256, 1024], stage=4, block='f')\n",
    "\n",
    "    x = conv_block(x, 3, [512, 512, 2048], stage=5, block='a')\n",
    "    x = identity_block(x, 3, [512, 512, 2048], stage=5, block='b')\n",
    "    x = identity_block(x, 3, [512, 512, 2048], stage=5, block='c')\n",
    "\n",
    "    x = AveragePooling2D((7, 7), name='avg_pool')(x)\n",
    "    \n",
    "    x = Flatten()(x)\n",
    "\n",
    "    if include_top:\n",
    "        x = Flatten()(x)\n",
    "        x = Dense(1000, activation='softmax', name='fc1000')(x)\n",
    "\n",
    "    model = Model(img_input, x)\n",
    "\n",
    "    # load weights\n",
    "    if weights == 'imagenet':\n",
    "        print('K.image_dim_ordering:', K.image_dim_ordering())\n",
    "        if K.image_dim_ordering() == 'th':\n",
    "            if include_top:\n",
    "                weights_path = get_file('resnet50_weights_th_dim_ordering_th_kernels.h5',\n",
    "                                        TH_WEIGHTS_PATH,\n",
    "                                        cache_subdir='models',\n",
    "                                        md5_hash='1c1f8f5b0c8ee28fe9d950625a230e1c')\n",
    "            else:\n",
    "                weights_path = get_file('resnet50_weights_th_dim_ordering_th_kernels_notop.h5',\n",
    "                                        TH_WEIGHTS_PATH_NO_TOP,\n",
    "                                        cache_subdir='models',\n",
    "                                        md5_hash='f64f049c92468c9affcd44b0976cdafe')\n",
    "            model.load_weights(weights_path)\n",
    "            if K.backend() == 'tensorflow':\n",
    "                warnings.warn('You are using the TensorFlow backend, yet you '\n",
    "                              'are using the Theano '\n",
    "                              'image dimension ordering convention '\n",
    "                              '(`image_dim_ordering=\"th\"`). '\n",
    "                              'For best performance, set '\n",
    "                              '`image_dim_ordering=\"tf\"` in '\n",
    "                              'your Keras config '\n",
    "                              'at ~/.keras/keras.json.')\n",
    "                convert_all_kernels_in_model(model)\n",
    "        else:\n",
    "            if include_top:\n",
    "                weights_path = get_file('resnet50_weights_tf_dim_ordering_tf_kernels.h5',\n",
    "                                        TF_WEIGHTS_PATH,\n",
    "                                        cache_subdir='models',\n",
    "                                        md5_hash='a7b3fe01876f51b976af0dea6bc144eb')\n",
    "            else:\n",
    "                weights_path = get_file('resnet50_weights_tf_dim_ordering_tf_kernels_notop.h5',\n",
    "                                        TF_WEIGHTS_PATH_NO_TOP,\n",
    "                                        cache_subdir='models',\n",
    "                                        md5_hash='a268eb855778b3df3c7506639542a6af')\n",
    "            model.load_weights(weights_path)\n",
    "            if K.backend() == 'theano':\n",
    "                convert_all_kernels_in_model(model)\n",
    "    return model"
   ]
  },
  {
   "cell_type": "code",
   "execution_count": 737,
   "metadata": {
    "collapsed": true
   },
   "outputs": [],
   "source": [
    "TH_WEIGHTS_PATH = 'https://github.com/fchollet/deep-learning-models/releases/download/v0.2/inception_v3_weights_th_dim_ordering_th_kernels.h5'\n",
    "TF_WEIGHTS_PATH = 'https://github.com/fchollet/deep-learning-models/releases/download/v0.2/inception_v3_weights_tf_dim_ordering_tf_kernels.h5'\n",
    "TH_WEIGHTS_PATH_NO_TOP = 'https://github.com/fchollet/deep-learning-models/releases/download/v0.2/inception_v3_weights_th_dim_ordering_th_kernels_notop.h5'\n",
    "TF_WEIGHTS_PATH_NO_TOP = 'https://github.com/fchollet/deep-learning-models/releases/download/v0.2/inception_v3_weights_tf_dim_ordering_tf_kernels_notop.h5'\n",
    "\n",
    "\n",
    "def conv2d_bn(x, nb_filter, nb_row, nb_col,\n",
    "              border_mode='same', subsample=(1, 1),\n",
    "              name=None):\n",
    "    '''\n",
    "    Utility function to apply conv + BN.\n",
    "    '''\n",
    "    if name is not None:\n",
    "        bn_name = name + '_bn'\n",
    "        conv_name = name + '_conv'\n",
    "    else:\n",
    "        bn_name = None\n",
    "        conv_name = None\n",
    "    if K.image_dim_ordering() == 'th':\n",
    "        bn_axis = 1\n",
    "    else:\n",
    "        bn_axis = 3\n",
    "    x = Convolution2D(nb_filter, nb_row, nb_col,\n",
    "                      subsample=subsample,\n",
    "                      activation='relu',\n",
    "                      border_mode=border_mode,\n",
    "                      name=conv_name)(x)\n",
    "    x = BatchNormalization(axis=bn_axis, name=bn_name)(x)\n",
    "    return x\n",
    "\n",
    "\n",
    "def InceptionV3(include_top=True, weights='imagenet',\n",
    "                input_tensor=None):\n",
    "    '''Instantiate the Inception v3 architecture,\n",
    "    optionally loading weights pre-trained\n",
    "    on ImageNet. Note that when using TensorFlow,\n",
    "    for best performance you should set\n",
    "    `image_dim_ordering=\"tf\"` in your Keras config\n",
    "    at ~/.keras/keras.json.\n",
    "\n",
    "    The model and the weights are compatible with both\n",
    "    TensorFlow and Theano. The dimension ordering\n",
    "    convention used by the model is the one\n",
    "    specified in your Keras config file.\n",
    "\n",
    "    Note that the default input image size for this model is 299x299.\n",
    "\n",
    "    # Arguments\n",
    "        include_top: whether to include the 3 fully-connected\n",
    "            layers at the top of the network.\n",
    "        weights: one of `None` (random initialization)\n",
    "            or \"imagenet\" (pre-training on ImageNet).\n",
    "        input_tensor: optional Keras tensor (i.e. output of `layers.Input()`)\n",
    "            to use as image input for the model.\n",
    "\n",
    "    # Returns\n",
    "        A Keras model instance.\n",
    "    '''\n",
    "    if weights not in {'imagenet', None}:\n",
    "        raise ValueError('The `weights` argument should be either '\n",
    "                         '`None` (random initialization) or `imagenet` '\n",
    "                         '(pre-training on ImageNet).')\n",
    "    # Determine proper input shape\n",
    "    if K.image_dim_ordering() == 'th':\n",
    "        if include_top:\n",
    "            input_shape = (3, 299, 299)\n",
    "        else:\n",
    "            input_shape = (3, 299, 299)\n",
    "    else:\n",
    "        if include_top:\n",
    "            input_shape = (299, 299, 3)\n",
    "        else:\n",
    "            input_shape = (299, 299, 3)\n",
    "\n",
    "    if input_tensor is None:\n",
    "        img_input = Input(shape=input_shape)\n",
    "    else:\n",
    "        if not K.is_keras_tensor(input_tensor):\n",
    "            img_input = Input(tensor=input_tensor)\n",
    "        else:\n",
    "            img_input = input_tensor\n",
    "\n",
    "    if K.image_dim_ordering() == 'th':\n",
    "        channel_axis = 1\n",
    "    else:\n",
    "        channel_axis = 3\n",
    "\n",
    "    x = conv2d_bn(img_input, 32, 3, 3, subsample=(2, 2), border_mode='valid')\n",
    "    # with stride=2 border='valid', output becomes (299-1)/2 = 149 x 149\n",
    "    x = conv2d_bn(x, 32, 3, 3, border_mode='valid')  # 149 - 2 = 147 x 147\n",
    "    x = conv2d_bn(x, 64, 3, 3)  # 147 x 147\n",
    "    x = MaxPooling2D((3, 3), strides=(2, 2))(x)  # 49\n",
    "\n",
    "    x = conv2d_bn(x, 80, 1, 1, border_mode='valid')\n",
    "    x = conv2d_bn(x, 192, 3, 3, border_mode='valid')\n",
    "    x = MaxPooling2D((3, 3), strides=(2, 2))(x)\n",
    "\n",
    "    # mixed 0, 1, 2: 35 x 35 x 256\n",
    "    for i in range(3):\n",
    "        branch1x1 = conv2d_bn(x, 64, 1, 1)\n",
    "\n",
    "        branch5x5 = conv2d_bn(x, 48, 1, 1)\n",
    "        branch5x5 = conv2d_bn(branch5x5, 64, 5, 5)\n",
    "\n",
    "        branch3x3dbl = conv2d_bn(x, 64, 1, 1)\n",
    "        branch3x3dbl = conv2d_bn(branch3x3dbl, 96, 3, 3)\n",
    "        branch3x3dbl = conv2d_bn(branch3x3dbl, 96, 3, 3)\n",
    "\n",
    "        branch_pool = AveragePooling2D(\n",
    "            (3, 3), strides=(1, 1), border_mode='same')(x)\n",
    "        branch_pool = conv2d_bn(branch_pool, 32, 1, 1)\n",
    "        x = merge([branch1x1, branch5x5, branch3x3dbl, branch_pool],\n",
    "                  mode='concat', concat_axis=channel_axis,\n",
    "                  name='mixed' + str(i))\n",
    "\n",
    "    # mixed 3: 17 x 17 x 768\n",
    "    branch3x3 = conv2d_bn(x, 384, 3, 3, subsample=(2, 2), border_mode='valid')\n",
    "\n",
    "    branch3x3dbl = conv2d_bn(x, 64, 1, 1)\n",
    "    branch3x3dbl = conv2d_bn(branch3x3dbl, 96, 3, 3)\n",
    "    branch3x3dbl = conv2d_bn(branch3x3dbl, 96, 3, 3,\n",
    "                             subsample=(2, 2), border_mode='valid')\n",
    "\n",
    "    branch_pool = MaxPooling2D((3, 3), strides=(2, 2))(x)\n",
    "    x = merge([branch3x3, branch3x3dbl, branch_pool],\n",
    "              mode='concat', concat_axis=channel_axis,\n",
    "              name='mixed3')\n",
    "\n",
    "    # mixed 4: 17 x 17 x 768\n",
    "    branch1x1 = conv2d_bn(x, 192, 1, 1)\n",
    "\n",
    "    branch7x7 = conv2d_bn(x, 128, 1, 1)\n",
    "    branch7x7 = conv2d_bn(branch7x7, 128, 1, 7)\n",
    "    branch7x7 = conv2d_bn(branch7x7, 192, 7, 1)\n",
    "\n",
    "    branch7x7dbl = conv2d_bn(x, 128, 1, 1)\n",
    "    branch7x7dbl = conv2d_bn(branch7x7dbl, 128, 7, 1)\n",
    "    branch7x7dbl = conv2d_bn(branch7x7dbl, 128, 1, 7)\n",
    "    branch7x7dbl = conv2d_bn(branch7x7dbl, 128, 7, 1)\n",
    "    branch7x7dbl = conv2d_bn(branch7x7dbl, 192, 1, 7)\n",
    "\n",
    "    branch_pool = AveragePooling2D((3, 3), strides=(1, 1), border_mode='same')(x)\n",
    "    branch_pool = conv2d_bn(branch_pool, 192, 1, 1)\n",
    "    x = merge([branch1x1, branch7x7, branch7x7dbl, branch_pool],\n",
    "              mode='concat', concat_axis=channel_axis,\n",
    "              name='mixed4')\n",
    "\n",
    "    # mixed 5, 6: 17 x 17 x 768\n",
    "    for i in range(2):\n",
    "        branch1x1 = conv2d_bn(x, 192, 1, 1)\n",
    "\n",
    "        branch7x7 = conv2d_bn(x, 160, 1, 1)\n",
    "        branch7x7 = conv2d_bn(branch7x7, 160, 1, 7)\n",
    "        branch7x7 = conv2d_bn(branch7x7, 192, 7, 1)\n",
    "\n",
    "        branch7x7dbl = conv2d_bn(x, 160, 1, 1)\n",
    "        branch7x7dbl = conv2d_bn(branch7x7dbl, 160, 7, 1)\n",
    "        branch7x7dbl = conv2d_bn(branch7x7dbl, 160, 1, 7)\n",
    "        branch7x7dbl = conv2d_bn(branch7x7dbl, 160, 7, 1)\n",
    "        branch7x7dbl = conv2d_bn(branch7x7dbl, 192, 1, 7)\n",
    "\n",
    "        branch_pool = AveragePooling2D(\n",
    "            (3, 3), strides=(1, 1), border_mode='same')(x)\n",
    "        branch_pool = conv2d_bn(branch_pool, 192, 1, 1)\n",
    "        x = merge([branch1x1, branch7x7, branch7x7dbl, branch_pool],\n",
    "                  mode='concat', concat_axis=channel_axis,\n",
    "                  name='mixed' + str(5 + i))\n",
    "\n",
    "    # mixed 7: 17 x 17 x 768\n",
    "    branch1x1 = conv2d_bn(x, 192, 1, 1)\n",
    "\n",
    "    branch7x7 = conv2d_bn(x, 192, 1, 1)\n",
    "    branch7x7 = conv2d_bn(branch7x7, 192, 1, 7)\n",
    "    branch7x7 = conv2d_bn(branch7x7, 192, 7, 1)\n",
    "\n",
    "    branch7x7dbl = conv2d_bn(x, 160, 1, 1)\n",
    "    branch7x7dbl = conv2d_bn(branch7x7dbl, 192, 7, 1)\n",
    "    branch7x7dbl = conv2d_bn(branch7x7dbl, 192, 1, 7)\n",
    "    branch7x7dbl = conv2d_bn(branch7x7dbl, 192, 7, 1)\n",
    "    branch7x7dbl = conv2d_bn(branch7x7dbl, 192, 1, 7)\n",
    "\n",
    "    branch_pool = AveragePooling2D((3, 3), strides=(1, 1), border_mode='same')(x)\n",
    "    branch_pool = conv2d_bn(branch_pool, 192, 1, 1)\n",
    "    x = merge([branch1x1, branch7x7, branch7x7dbl, branch_pool],\n",
    "              mode='concat', concat_axis=channel_axis,\n",
    "              name='mixed7')\n",
    "\n",
    "    # mixed 8: 8 x 8 x 1280\n",
    "    branch3x3 = conv2d_bn(x, 192, 1, 1)\n",
    "    branch3x3 = conv2d_bn(branch3x3, 320, 3, 3,\n",
    "                          subsample=(2, 2), border_mode='valid')\n",
    "\n",
    "    branch7x7x3 = conv2d_bn(x, 192, 1, 1)\n",
    "    branch7x7x3 = conv2d_bn(branch7x7x3, 192, 1, 7)\n",
    "    branch7x7x3 = conv2d_bn(branch7x7x3, 192, 7, 1)\n",
    "    branch7x7x3 = conv2d_bn(branch7x7x3, 192, 3, 3,\n",
    "                            subsample=(2, 2), border_mode='valid')\n",
    "\n",
    "    branch_pool = AveragePooling2D((3, 3), strides=(2, 2))(x)\n",
    "    x = merge([branch3x3, branch7x7x3, branch_pool],\n",
    "              mode='concat', concat_axis=channel_axis,\n",
    "              name='mixed8')\n",
    "\n",
    "    # mixed 9: 8 x 8 x 2048\n",
    "    for i in range(2):\n",
    "        branch1x1 = conv2d_bn(x, 320, 1, 1)\n",
    "\n",
    "        branch3x3 = conv2d_bn(x, 384, 1, 1)\n",
    "        branch3x3_1 = conv2d_bn(branch3x3, 384, 1, 3)\n",
    "        branch3x3_2 = conv2d_bn(branch3x3, 384, 3, 1)\n",
    "        branch3x3 = merge([branch3x3_1, branch3x3_2],\n",
    "                          mode='concat', concat_axis=channel_axis,\n",
    "                          name='mixed9_' + str(i))\n",
    "\n",
    "        branch3x3dbl = conv2d_bn(x, 448, 1, 1)\n",
    "        branch3x3dbl = conv2d_bn(branch3x3dbl, 384, 3, 3)\n",
    "        branch3x3dbl_1 = conv2d_bn(branch3x3dbl, 384, 1, 3)\n",
    "        branch3x3dbl_2 = conv2d_bn(branch3x3dbl, 384, 3, 1)\n",
    "        branch3x3dbl = merge([branch3x3dbl_1, branch3x3dbl_2],\n",
    "                             mode='concat', concat_axis=channel_axis)\n",
    "\n",
    "        branch_pool = AveragePooling2D(\n",
    "            (3, 3), strides=(1, 1), border_mode='same')(x)\n",
    "        branch_pool = conv2d_bn(branch_pool, 192, 1, 1)\n",
    "        x = merge([branch1x1, branch3x3, branch3x3dbl, branch_pool],\n",
    "                  mode='concat', concat_axis=channel_axis,\n",
    "                  name='mixed' + str(9 + i))\n",
    "\n",
    "    x = AveragePooling2D((8, 8), strides=(8, 8), name='avg_pool')(x)  # Moved here for transfer learning\n",
    "    \n",
    "    x = Flatten(name='flatten')(x)\n",
    "\n",
    "    if include_top:\n",
    "        # Classification block\n",
    "        # x = AveragePooling2D((8, 8), strides=(8, 8), name='avg_pool')(x)\n",
    "        # x = Flatten(name='flatten')(x)\n",
    "        x = Dense(1000, activation='softmax', name='predictions')(x)\n",
    "\n",
    "    # Create model\n",
    "    model = Model(img_input, x)\n",
    "\n",
    "    # load weights\n",
    "    if weights == 'imagenet':\n",
    "        if K.image_dim_ordering() == 'th':\n",
    "            if include_top:\n",
    "                weights_path = get_file('inception_v3_weights_th_dim_ordering_th_kernels.h5',\n",
    "                                        TH_WEIGHTS_PATH,\n",
    "                                        cache_subdir='models',\n",
    "                                        md5_hash='b3baf3070cc4bf476d43a2ea61b0ca5f')\n",
    "            else:\n",
    "                weights_path = get_file('inception_v3_weights_th_dim_ordering_th_kernels_notop.h5',\n",
    "                                        TH_WEIGHTS_PATH_NO_TOP,\n",
    "                                        cache_subdir='models',\n",
    "                                        md5_hash='79aaa90ab4372b4593ba3df64e142f05')\n",
    "            model.load_weights(weights_path)\n",
    "            if K.backend() == 'tensorflow':\n",
    "                warnings.warn('You are using the TensorFlow backend, yet you '\n",
    "                              'are using the Theano '\n",
    "                              'image dimension ordering convention '\n",
    "                              '(`image_dim_ordering=\"th\"`). '\n",
    "                              'For best performance, set '\n",
    "                              '`image_dim_ordering=\"tf\"` in '\n",
    "                              'your Keras config '\n",
    "                              'at ~/.keras/keras.json.')\n",
    "                convert_all_kernels_in_model(model)\n",
    "        else:\n",
    "            if include_top:\n",
    "                weights_path = get_file('inception_v3_weights_tf_dim_ordering_tf_kernels.h5',\n",
    "                                        TF_WEIGHTS_PATH,\n",
    "                                        cache_subdir='models',\n",
    "                                        md5_hash='fe114b3ff2ea4bf891e9353d1bbfb32f')\n",
    "            else:\n",
    "                weights_path = get_file('inception_v3_weights_tf_dim_ordering_tf_kernels_notop.h5',\n",
    "                                        TF_WEIGHTS_PATH_NO_TOP,\n",
    "                                        cache_subdir='models',\n",
    "                                        md5_hash='2f3609166de1d967d1a481094754f691')\n",
    "            model.load_weights(weights_path)\n",
    "            if K.backend() == 'theano':\n",
    "                convert_all_kernels_in_model(model)\n",
    "    return model"
   ]
  },
  {
   "cell_type": "code",
   "execution_count": 681,
   "metadata": {
    "collapsed": true
   },
   "outputs": [],
   "source": [
    "TH_WEIGHTS_PATH = 'https://github.com/fchollet/deep-learning-models/releases/download/v0.1/vgg16_weights_th_dim_ordering_th_kernels.h5'\n",
    "TF_WEIGHTS_PATH = 'https://github.com/fchollet/deep-learning-models/releases/download/v0.1/vgg16_weights_tf_dim_ordering_tf_kernels.h5'\n",
    "TH_WEIGHTS_PATH_NO_TOP = 'https://github.com/fchollet/deep-learning-models/releases/download/v0.1/vgg16_weights_th_dim_ordering_th_kernels_notop.h5'\n",
    "TF_WEIGHTS_PATH_NO_TOP = 'https://github.com/fchollet/deep-learning-models/releases/download/v0.1/vgg16_weights_tf_dim_ordering_tf_kernels_notop.h5'\n",
    "\n",
    "\n",
    "def VGG16(include_top=True, weights='imagenet',\n",
    "          input_tensor=None):\n",
    "    '''Instantiate the VGG16 architecture,\n",
    "    optionally loading weights pre-trained\n",
    "    on ImageNet. Note that when using TensorFlow,\n",
    "    for best performance you should set\n",
    "    `image_dim_ordering=\"tf\"` in your Keras config\n",
    "    at ~/.keras/keras.json.\n",
    "\n",
    "    The model and the weights are compatible with both\n",
    "    TensorFlow and Theano. The dimension ordering\n",
    "    convention used by the model is the one\n",
    "    specified in your Keras config file.\n",
    "\n",
    "    # Arguments\n",
    "        include_top: whether to include the 3 fully-connected\n",
    "            layers at the top of the network.\n",
    "        weights: one of `None` (random initialization)\n",
    "            or \"imagenet\" (pre-training on ImageNet).\n",
    "        input_tensor: optional Keras tensor (i.e. output of `layers.Input()`)\n",
    "            to use as image input for the model.\n",
    "\n",
    "    # Returns\n",
    "        A Keras model instance.\n",
    "    '''\n",
    "    if weights not in {'imagenet', None}:\n",
    "        raise ValueError('The `weights` argument should be either '\n",
    "                         '`None` (random initialization) or `imagenet` '\n",
    "                         '(pre-training on ImageNet).')\n",
    "\n",
    "    # Determine proper input shape\n",
    "    if K.image_dim_ordering() == 'th':\n",
    "        if include_top:\n",
    "            input_shape = (3, 224, 224)\n",
    "        else:\n",
    "            input_shape = (3, 224, 224)\n",
    "    else:\n",
    "        if include_top:\n",
    "            input_shape = (224, 224, 3)\n",
    "        else:\n",
    "            input_shape = (224, 224, 3)\n",
    "\n",
    "    if input_tensor is None:\n",
    "        img_input = Input(shape=input_shape)\n",
    "    else:\n",
    "        if not K.is_keras_tensor(input_tensor):\n",
    "            img_input = Input(tensor=input_tensor)\n",
    "        else:\n",
    "            img_input = input_tensor\n",
    "\n",
    "    # Block 1\n",
    "    x = Convolution2D(64, 3, 3, activation='relu', border_mode='same', name='block1_conv1')(img_input)\n",
    "    x = Convolution2D(64, 3, 3, activation='relu', border_mode='same', name='block1_conv2')(x)\n",
    "    x = MaxPooling2D((2, 2), strides=(2, 2), name='block1_pool')(x)\n",
    "\n",
    "    # Block 2\n",
    "    x = Convolution2D(128, 3, 3, activation='relu', border_mode='same', name='block2_conv1')(x)\n",
    "    x = Convolution2D(128, 3, 3, activation='relu', border_mode='same', name='block2_conv2')(x)\n",
    "    x = MaxPooling2D((2, 2), strides=(2, 2), name='block2_pool')(x)\n",
    "\n",
    "    # Block 3\n",
    "    x = Convolution2D(256, 3, 3, activation='relu', border_mode='same', name='block3_conv1')(x)\n",
    "    x = Convolution2D(256, 3, 3, activation='relu', border_mode='same', name='block3_conv2')(x)\n",
    "    x = Convolution2D(256, 3, 3, activation='relu', border_mode='same', name='block3_conv3')(x)\n",
    "    x = MaxPooling2D((2, 2), strides=(2, 2), name='block3_pool')(x)\n",
    "\n",
    "    # Block 4\n",
    "    x = Convolution2D(512, 3, 3, activation='relu', border_mode='same', name='block4_conv1')(x)\n",
    "    x = Convolution2D(512, 3, 3, activation='relu', border_mode='same', name='block4_conv2')(x)\n",
    "    x = Convolution2D(512, 3, 3, activation='relu', border_mode='same', name='block4_conv3')(x)\n",
    "    x = MaxPooling2D((2, 2), strides=(2, 2), name='block4_pool')(x)\n",
    "\n",
    "    # Block 5\n",
    "    x = Convolution2D(512, 3, 3, activation='relu', border_mode='same', name='block5_conv1')(x)\n",
    "    x = Convolution2D(512, 3, 3, activation='relu', border_mode='same', name='block5_conv2')(x)\n",
    "    x = Convolution2D(512, 3, 3, activation='relu', border_mode='same', name='block5_conv3')(x)\n",
    "    x = MaxPooling2D((2, 2), strides=(2, 2), name='block5_pool')(x)\n",
    "    \n",
    "    x = Flatten(name='flatten')(x)  # Add flattern\n",
    "\n",
    "    if include_top:\n",
    "        # Classification block\n",
    "        # x = Flatten(name='flatten')(x)\n",
    "        x = Dense(4096, activation='relu', name='fc1')(x)\n",
    "        x = Dense(4096, activation='relu', name='fc2')(x)\n",
    "        x = Dense(1000, activation='softmax', name='predictions')(x)\n",
    "\n",
    "    # Create model\n",
    "    model = Model(img_input, x)\n",
    "\n",
    "    # load weights\n",
    "    if weights == 'imagenet':\n",
    "        print('K.image_dim_ordering:', K.image_dim_ordering())\n",
    "        if K.image_dim_ordering() == 'th':\n",
    "            if include_top:\n",
    "                weights_path = get_file('vgg16_weights_th_dim_ordering_th_kernels.h5',\n",
    "                                        TH_WEIGHTS_PATH,\n",
    "                                        cache_subdir='models')\n",
    "            else:\n",
    "                weights_path = get_file('vgg16_weights_th_dim_ordering_th_kernels_notop.h5',\n",
    "                                        TH_WEIGHTS_PATH_NO_TOP,\n",
    "                                        cache_subdir='models')\n",
    "            model.load_weights(weights_path)\n",
    "            if K.backend() == 'tensorflow':\n",
    "                warnings.warn('You are using the TensorFlow backend, yet you '\n",
    "                              'are using the Theano '\n",
    "                              'image dimension ordering convention '\n",
    "                              '(`image_dim_ordering=\"th\"`). '\n",
    "                              'For best performance, set '\n",
    "                              '`image_dim_ordering=\"tf\"` in '\n",
    "                              'your Keras config '\n",
    "                              'at ~/.keras/keras.json.')\n",
    "                convert_all_kernels_in_model(model)\n",
    "        else:\n",
    "            if include_top:\n",
    "                weights_path = get_file('vgg16_weights_tf_dim_ordering_tf_kernels.h5',\n",
    "                                        TF_WEIGHTS_PATH,\n",
    "                                        cache_subdir='models')\n",
    "            else:\n",
    "                weights_path = get_file('vgg16_weights_tf_dim_ordering_tf_kernels_notop.h5',\n",
    "                                        TF_WEIGHTS_PATH_NO_TOP,\n",
    "                                        cache_subdir='models')\n",
    "            model.load_weights(weights_path)\n",
    "            if K.backend() == 'theano':\n",
    "                convert_all_kernels_in_model(model)\n",
    "    return model"
   ]
  },
  {
   "cell_type": "markdown",
   "metadata": {
    "collapsed": true
   },
   "source": [
    "### Understanding InceptionV3 architecture"
   ]
  },
  {
   "cell_type": "code",
   "execution_count": null,
   "metadata": {
    "collapsed": true
   },
   "outputs": [],
   "source": [
    "from keras.models import Sequential"
   ]
  },
  {
   "cell_type": "code",
   "execution_count": null,
   "metadata": {
    "collapsed": true
   },
   "outputs": [],
   "source": [
    "def conv2d_bn(x, nb_filter, nb_row, nb_col,\n",
    "              border_mode='same', subsample=(1, 1),\n",
    "              name=None):\n",
    "    '''\n",
    "    Utility function to apply conv + BN.\n",
    "    '''\n",
    "    if name is not None:\n",
    "        bn_name = name + '_bn'\n",
    "        conv_name = name + '_conv'\n",
    "    else:\n",
    "        bn_name = None\n",
    "        conv_name = None\n",
    "    if K.image_dim_ordering() == 'th':\n",
    "        bn_axis = 1\n",
    "    else:\n",
    "        bn_axis = 3\n",
    "    x = Convolution2D(nb_filter, nb_row, nb_col,\n",
    "                      subsample=subsample,\n",
    "                      activation='relu',\n",
    "                      border_mode=border_mode,\n",
    "                      name=conv_name)(x)\n",
    "    x = BatchNormalization(axis=bn_axis, name=bn_name)(x)\n",
    "    return x\n",
    "\n"
   ]
  },
  {
   "cell_type": "code",
   "execution_count": null,
   "metadata": {
    "collapsed": false
   },
   "outputs": [],
   "source": [
    "img_input = Input(shape=(3, 299, 299))"
   ]
  },
  {
   "cell_type": "code",
   "execution_count": null,
   "metadata": {
    "collapsed": false
   },
   "outputs": [],
   "source": [
    "model = Sequential()\n",
    "model.add(Convolution2D(32, 3, 3, subsample=(2, 2), border_mode='valid', input_shape=(3, 299, 299)))\n",
    "model.output_shape"
   ]
  },
  {
   "cell_type": "code",
   "execution_count": null,
   "metadata": {
    "collapsed": false
   },
   "outputs": [],
   "source": [
    "model.add(Convolution2D(32, 3, 3, border_mode='valid'))\n",
    "model.output_shape"
   ]
  },
  {
   "cell_type": "code",
   "execution_count": null,
   "metadata": {
    "collapsed": false
   },
   "outputs": [],
   "source": [
    "model.add(Convolution2D(64, 3, 3, border_mode='same'))\n",
    "model.output_shape"
   ]
  },
  {
   "cell_type": "code",
   "execution_count": null,
   "metadata": {
    "collapsed": false
   },
   "outputs": [],
   "source": [
    "model.add(MaxPooling2D(pool_size=(3, 3), strides=(2, 2)))\n",
    "model.output_shape"
   ]
  },
  {
   "cell_type": "code",
   "execution_count": null,
   "metadata": {
    "collapsed": false
   },
   "outputs": [],
   "source": [
    "model.add(Convolution2D(80, 1, 1, border_mode='valid'))\n",
    "model.output_shape"
   ]
  },
  {
   "cell_type": "code",
   "execution_count": null,
   "metadata": {
    "collapsed": false
   },
   "outputs": [],
   "source": [
    "model.add(Convolution2D(192, 3, 3, border_mode='valid'))\n",
    "model.output_shape"
   ]
  },
  {
   "cell_type": "code",
   "execution_count": null,
   "metadata": {
    "collapsed": false
   },
   "outputs": [],
   "source": [
    "model.add(MaxPooling2D((3, 3), strides=(2, 2)))\n",
    "model.output_shape"
   ]
  },
  {
   "cell_type": "code",
   "execution_count": null,
   "metadata": {
    "collapsed": true
   },
   "outputs": [],
   "source": [
    "x = conv2d_bn(img_input, 32, 3, 3, subsample=(2, 2), border_mode='valid')\n",
    "# with stride=2 border='valid', output becomes (299-1)/2 = 149 x 149\n",
    "x = conv2d_bn(x, 32, 3, 3, border_mode='valid')  # 149 - 2 = 147 x 147\n",
    "x = conv2d_bn(x, 64, 3, 3)  # 147 x 147\n",
    "x = MaxPooling2D((3, 3), strides=(2, 2))(x)  # 49\n",
    "\n",
    "x = conv2d_bn(x, 80, 1, 1, border_mode='valid')\n",
    "x = conv2d_bn(x, 192, 3, 3, border_mode='valid')\n",
    "x = MaxPooling2D((3, 3), strides=(2, 2))(x)"
   ]
  }
 ],
 "metadata": {
  "kernelspec": {
   "display_name": "Python 2",
   "language": "python",
   "name": "python2"
  },
  "language_info": {
   "codemirror_mode": {
    "name": "ipython",
    "version": 2
   },
   "file_extension": ".py",
   "mimetype": "text/x-python",
   "name": "python",
   "nbconvert_exporter": "python",
   "pygments_lexer": "ipython2",
   "version": "2.7.9"
  }
 },
 "nbformat": 4,
 "nbformat_minor": 0
}

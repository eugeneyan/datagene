{
 "cells": [
  {
   "cell_type": "code",
   "execution_count": 1,
   "metadata": {
    "collapsed": true
   },
   "outputs": [],
   "source": [
    "import os\n",
    "import shutil\n",
    "import itertools\n",
    "import pandas as pd\n",
    "import numpy as np\n",
    "import matplotlib.pyplot as plt\n",
    "from IPython.display import Image\n",
    "from logger import logger\n",
    "from scipy import spatial\n",
    "from sklearn.metrics.pairwise import cosine_similarity\n",
    "%matplotlib inline"
   ]
  },
  {
   "cell_type": "code",
   "execution_count": 2,
   "metadata": {
    "collapsed": false
   },
   "outputs": [
    {
     "name": "stderr",
     "output_type": "stream",
     "text": [
      "Using Theano backend.\n"
     ]
    }
   ],
   "source": [
    "from keras.preprocessing.image import ImageDataGenerator\n",
    "from keras.utils.np_utils import to_categorical\n",
    "\n",
    "import numpy as np\n",
    "import warnings\n",
    "\n",
    "from keras.preprocessing import image\n",
    "from keras.layers import merge, Input\n",
    "from keras.layers import Dense, Activation, Flatten\n",
    "from keras.layers import Convolution2D, MaxPooling2D, ZeroPadding2D, AveragePooling2D\n",
    "from keras.layers import BatchNormalization\n",
    "from keras.models import Model\n",
    "from keras.preprocessing import image\n",
    "import keras.backend as K\n",
    "from keras.utils.layer_utils import convert_all_kernels_in_model\n",
    "from keras.utils.data_utils import get_file\n",
    "from imagenet_utils import decode_predictions, preprocess_input"
   ]
  },
  {
   "cell_type": "code",
   "execution_count": null,
   "metadata": {
    "collapsed": true
   },
   "outputs": [],
   "source": [
    "# current_dir = '../data/images/train'\n",
    "# new_dir = '../data/images/all_images'"
   ]
  },
  {
   "cell_type": "markdown",
   "metadata": {},
   "source": [
    "### Create top level category dir"
   ]
  },
  {
   "cell_type": "code",
   "execution_count": 3,
   "metadata": {
    "collapsed": true
   },
   "outputs": [],
   "source": [
    "train_dir = '../data/images/train/'\n",
    "# train_top_level_dir = '../data/images_sample/train/'\n",
    "train_top_level_dir = '../data/images/train_top_level/'"
   ]
  },
  {
   "cell_type": "code",
   "execution_count": 4,
   "metadata": {
    "collapsed": false
   },
   "outputs": [],
   "source": [
    "top_level_dict = dict()\n",
    "\n",
    "for image_dir in os.listdir(train_dir):\n",
    "    if not image_dir.startswith('.'):\n",
    "        top_level_category = image_dir.split('->')[0].strip()\n",
    "        try:\n",
    "            top_level_dict[top_level_category] += 1\n",
    "        except:\n",
    "            top_level_dict[top_level_category] = 1"
   ]
  },
  {
   "cell_type": "code",
   "execution_count": 5,
   "metadata": {
    "collapsed": false
   },
   "outputs": [],
   "source": [
    "for top_level_category in top_level_dict.keys():\n",
    "    try:\n",
    "        os.makedirs(os.path.join(train_top_level_dir, top_level_category))\n",
    "    except OSError:\n",
    "        logger.info('{} already exists in {}'.format(top_level_category, train_top_level_dir))"
   ]
  },
  {
   "cell_type": "markdown",
   "metadata": {},
   "source": [
    "### Copy  to top level category directory"
   ]
  },
  {
   "cell_type": "code",
   "execution_count": 38,
   "metadata": {
    "collapsed": true
   },
   "outputs": [
    {
     "name": "stdout",
     "output_type": "stream",
     "text": [
      "Cell Phones & Accessories -> Accessories -> Accessory Kits | Cell Phones & Accessories\n"
     ]
    },
    {
     "name": "stderr",
     "output_type": "stream",
     "text": [
      "2016-12-29 07:22:55,572 - 500 images copied so far\n"
     ]
    },
    {
     "name": "stdout",
     "output_type": "stream",
     "text": [
      "Cell Phones & Accessories -> Accessories -> Batteries -> External Battery Packs | Cell Phones & Accessories\n"
     ]
    },
    {
     "name": "stderr",
     "output_type": "stream",
     "text": [
      "2016-12-29 07:22:55,824 - 1000 images copied so far\n"
     ]
    },
    {
     "name": "stdout",
     "output_type": "stream",
     "text": [
      "Cell Phones & Accessories -> Accessories -> Batteries -> Internal Batteries | Cell Phones & Accessories\n"
     ]
    },
    {
     "name": "stderr",
     "output_type": "stream",
     "text": [
      "2016-12-29 07:22:56,134 - 1500 images copied so far\n"
     ]
    },
    {
     "name": "stdout",
     "output_type": "stream",
     "text": [
      "Cell Phones & Accessories -> Accessories -> Car Accessories -> Car Cradles & Mounts -> Car Mounts | Cell Phones & Accessories\n"
     ]
    },
    {
     "name": "stderr",
     "output_type": "stream",
     "text": [
      "2016-12-29 07:22:56,410 - 2000 images copied so far\n"
     ]
    },
    {
     "name": "stdout",
     "output_type": "stream",
     "text": [
      "Cell Phones & Accessories -> Accessories -> Chargers -> Car Chargers | Cell Phones & Accessories\n"
     ]
    },
    {
     "name": "stderr",
     "output_type": "stream",
     "text": [
      "2016-12-29 07:22:56,687 - 2500 images copied so far\n"
     ]
    },
    {
     "name": "stdout",
     "output_type": "stream",
     "text": [
      "Cell Phones & Accessories -> Accessories -> Chargers -> Cell Phone Docks | Cell Phones & Accessories\n"
     ]
    },
    {
     "name": "stderr",
     "output_type": "stream",
     "text": [
      "2016-12-29 07:22:56,967 - 3000 images copied so far\n"
     ]
    },
    {
     "name": "stdout",
     "output_type": "stream",
     "text": [
      "Cell Phones & Accessories -> Accessories -> Chargers -> Travel Chargers | Cell Phones & Accessories\n"
     ]
    },
    {
     "name": "stderr",
     "output_type": "stream",
     "text": [
      "2016-12-29 07:22:57,246 - 3500 images copied so far\n"
     ]
    },
    {
     "name": "stdout",
     "output_type": "stream",
     "text": [
      "Cell Phones & Accessories -> Accessories -> Headsets -> Bluetooth Headsets | Cell Phones & Accessories\n"
     ]
    },
    {
     "name": "stderr",
     "output_type": "stream",
     "text": [
      "2016-12-29 07:22:57,528 - 4000 images copied so far\n"
     ]
    },
    {
     "name": "stdout",
     "output_type": "stream",
     "text": [
      "Cell Phones & Accessories -> Accessories -> Headsets -> Wired Headsets | Cell Phones & Accessories\n"
     ]
    },
    {
     "name": "stderr",
     "output_type": "stream",
     "text": [
      "2016-12-29 07:22:57,803 - 4500 images copied so far\n"
     ]
    },
    {
     "name": "stdout",
     "output_type": "stream",
     "text": [
      "Cell Phones & Accessories -> Accessories -> Phone Charms | Cell Phones & Accessories\n"
     ]
    },
    {
     "name": "stderr",
     "output_type": "stream",
     "text": [
      "2016-12-29 07:22:58,084 - 5000 images copied so far\n"
     ]
    },
    {
     "name": "stdout",
     "output_type": "stream",
     "text": [
      "Cell Phones & Accessories -> Accessories -> Replacement Parts | Cell Phones & Accessories\n"
     ]
    },
    {
     "name": "stderr",
     "output_type": "stream",
     "text": [
      "2016-12-29 07:22:58,400 - 5500 images copied so far\n"
     ]
    },
    {
     "name": "stdout",
     "output_type": "stream",
     "text": [
      "Cell Phones & Accessories -> Accessories -> Screen Protectors | Cell Phones & Accessories\n"
     ]
    },
    {
     "name": "stderr",
     "output_type": "stream",
     "text": [
      "2016-12-29 07:22:58,699 - 6000 images copied so far\n"
     ]
    },
    {
     "name": "stdout",
     "output_type": "stream",
     "text": [
      "Cell Phones & Accessories -> Accessories -> Stylus Pens | Cell Phones & Accessories\n"
     ]
    },
    {
     "name": "stderr",
     "output_type": "stream",
     "text": [
      "2016-12-29 07:22:58,964 - 6500 images copied so far\n"
     ]
    },
    {
     "name": "stdout",
     "output_type": "stream",
     "text": [
      "Cell Phones & Accessories -> Cases -> Armbands | Cell Phones & Accessories\n"
     ]
    },
    {
     "name": "stderr",
     "output_type": "stream",
     "text": [
      "2016-12-29 07:22:59,258 - 7000 images copied so far\n"
     ]
    },
    {
     "name": "stdout",
     "output_type": "stream",
     "text": [
      "Cell Phones & Accessories -> Cases -> Holsters & Clips | Cell Phones & Accessories\n"
     ]
    },
    {
     "name": "stderr",
     "output_type": "stream",
     "text": [
      "2016-12-29 07:22:59,566 - 7500 images copied so far\n"
     ]
    },
    {
     "name": "stdout",
     "output_type": "stream",
     "text": [
      "Clothing, Shoes & Jewelry -> Luggage & Travel Gear -> Backpacks -> Casual Daypacks | Clothing, Shoes & Jewelry\n"
     ]
    },
    {
     "name": "stderr",
     "output_type": "stream",
     "text": [
      "2016-12-29 07:22:59,897 - 8000 images copied so far\n"
     ]
    },
    {
     "name": "stdout",
     "output_type": "stream",
     "text": [
      "Clothing, Shoes & Jewelry -> Luggage & Travel Gear -> Backpacks -> Kids' Backpacks | Clothing, Shoes & Jewelry\n"
     ]
    },
    {
     "name": "stderr",
     "output_type": "stream",
     "text": [
      "2016-12-29 07:23:00,257 - 8500 images copied so far\n"
     ]
    },
    {
     "name": "stdout",
     "output_type": "stream",
     "text": [
      "Clothing, Shoes & Jewelry -> Luggage & Travel Gear -> Briefcases | Clothing, Shoes & Jewelry\n"
     ]
    },
    {
     "name": "stderr",
     "output_type": "stream",
     "text": [
      "2016-12-29 07:23:00,556 - 9000 images copied so far\n"
     ]
    },
    {
     "name": "stdout",
     "output_type": "stream",
     "text": [
      "Clothing, Shoes & Jewelry -> Luggage & Travel Gear -> Luggage -> Carry-Ons | Clothing, Shoes & Jewelry\n"
     ]
    },
    {
     "name": "stderr",
     "output_type": "stream",
     "text": [
      "2016-12-29 07:23:00,861 - 9500 images copied so far\n"
     ]
    },
    {
     "name": "stdout",
     "output_type": "stream",
     "text": [
      "Clothing, Shoes & Jewelry -> Luggage & Travel Gear -> Luggage -> Suitcases | Clothing, Shoes & Jewelry\n"
     ]
    },
    {
     "name": "stderr",
     "output_type": "stream",
     "text": [
      "2016-12-29 07:23:01,138 - 10000 images copied so far\n"
     ]
    },
    {
     "name": "stdout",
     "output_type": "stream",
     "text": [
      "Clothing, Shoes & Jewelry -> Luggage & Travel Gear -> Luggage -> Travel Duffels | Clothing, Shoes & Jewelry\n"
     ]
    },
    {
     "name": "stderr",
     "output_type": "stream",
     "text": [
      "2016-12-29 07:23:01,451 - 10500 images copied so far\n"
     ]
    },
    {
     "name": "stdout",
     "output_type": "stream",
     "text": [
      "Clothing, Shoes & Jewelry -> Luggage & Travel Gear -> Luggage -> Travel Totes | Clothing, Shoes & Jewelry\n"
     ]
    },
    {
     "name": "stderr",
     "output_type": "stream",
     "text": [
      "2016-12-29 07:23:01,745 - 11000 images copied so far\n"
     ]
    },
    {
     "name": "stdout",
     "output_type": "stream",
     "text": [
      "Clothing, Shoes & Jewelry -> Luggage & Travel Gear -> Messenger Bags | Clothing, Shoes & Jewelry\n"
     ]
    },
    {
     "name": "stderr",
     "output_type": "stream",
     "text": [
      "2016-12-29 07:23:02,044 - 11500 images copied so far\n"
     ]
    },
    {
     "name": "stdout",
     "output_type": "stream",
     "text": [
      "Clothing, Shoes & Jewelry -> Men -> Accessories -> Belts | Clothing, Shoes & Jewelry\n"
     ]
    },
    {
     "name": "stderr",
     "output_type": "stream",
     "text": [
      "2016-12-29 07:23:02,325 - 12000 images copied so far\n"
     ]
    },
    {
     "name": "stdout",
     "output_type": "stream",
     "text": [
      "Clothing, Shoes & Jewelry -> Men -> Accessories -> Bow Ties & Cummerbunds -> Bow Ties | Clothing, Shoes & Jewelry\n"
     ]
    },
    {
     "name": "stderr",
     "output_type": "stream",
     "text": [
      "2016-12-29 07:23:02,640 - 12500 images copied so far\n"
     ]
    },
    {
     "name": "stdout",
     "output_type": "stream",
     "text": [
      "Clothing, Shoes & Jewelry -> Men -> Accessories -> Gloves & Mittens -> Cold Weather Gloves | Clothing, Shoes & Jewelry\n"
     ]
    },
    {
     "name": "stderr",
     "output_type": "stream",
     "text": [
      "2016-12-29 07:23:03,016 - 13000 images copied so far\n"
     ]
    },
    {
     "name": "stdout",
     "output_type": "stream",
     "text": [
      "Clothing, Shoes & Jewelry -> Men -> Accessories -> Hats & Caps -> Baseball Caps | Clothing, Shoes & Jewelry\n"
     ]
    },
    {
     "name": "stderr",
     "output_type": "stream",
     "text": [
      "2016-12-29 07:23:03,312 - 13500 images copied so far\n"
     ]
    },
    {
     "name": "stdout",
     "output_type": "stream",
     "text": [
      "Clothing, Shoes & Jewelry -> Men -> Accessories -> Hats & Caps -> Fedoras | Clothing, Shoes & Jewelry\n"
     ]
    },
    {
     "name": "stderr",
     "output_type": "stream",
     "text": [
      "2016-12-29 07:23:03,592 - 14000 images copied so far\n"
     ]
    },
    {
     "name": "stdout",
     "output_type": "stream",
     "text": [
      "Clothing, Shoes & Jewelry -> Men -> Accessories -> Hats & Caps -> Skullies & Beanies | Clothing, Shoes & Jewelry\n"
     ]
    },
    {
     "name": "stderr",
     "output_type": "stream",
     "text": [
      "2016-12-29 07:23:03,934 - 14500 images copied so far\n"
     ]
    },
    {
     "name": "stdout",
     "output_type": "stream",
     "text": [
      "Clothing, Shoes & Jewelry -> Men -> Accessories -> Neckties | Clothing, Shoes & Jewelry\n"
     ]
    },
    {
     "name": "stderr",
     "output_type": "stream",
     "text": [
      "2016-12-29 07:23:04,282 - 15000 images copied so far\n"
     ]
    },
    {
     "name": "stdout",
     "output_type": "stream",
     "text": [
      "Clothing, Shoes & Jewelry -> Men -> Accessories -> Sunglasses & Eyewear Accessories -> Sunglasses | Clothing, Shoes & Jewelry\n"
     ]
    },
    {
     "name": "stderr",
     "output_type": "stream",
     "text": [
      "2016-12-29 07:23:04,573 - 15500 images copied so far\n"
     ]
    },
    {
     "name": "stdout",
     "output_type": "stream",
     "text": [
      "Clothing, Shoes & Jewelry -> Men -> Accessories -> Wallets, Card Cases & Money Organizers -> Wallets | Clothing, Shoes & Jewelry\n"
     ]
    },
    {
     "name": "stderr",
     "output_type": "stream",
     "text": [
      "2016-12-29 07:23:04,912 - 16000 images copied so far\n"
     ]
    },
    {
     "name": "stdout",
     "output_type": "stream",
     "text": [
      "Clothing, Shoes & Jewelry -> Men -> Clothing -> Active -> Active Shirts & Tees | Clothing, Shoes & Jewelry\n"
     ]
    },
    {
     "name": "stderr",
     "output_type": "stream",
     "text": [
      "2016-12-29 07:23:05,193 - 16500 images copied so far\n"
     ]
    },
    {
     "name": "stdout",
     "output_type": "stream",
     "text": [
      "Clothing, Shoes & Jewelry -> Men -> Clothing -> Active -> Active Shorts | Clothing, Shoes & Jewelry\n"
     ]
    },
    {
     "name": "stderr",
     "output_type": "stream",
     "text": [
      "2016-12-29 07:23:05,470 - 17000 images copied so far\n"
     ]
    },
    {
     "name": "stdout",
     "output_type": "stream",
     "text": [
      "Clothing, Shoes & Jewelry -> Men -> Clothing -> Active -> Athletic Socks | Clothing, Shoes & Jewelry\n"
     ]
    },
    {
     "name": "stderr",
     "output_type": "stream",
     "text": [
      "2016-12-29 07:23:05,724 - 17500 images copied so far\n"
     ]
    },
    {
     "name": "stdout",
     "output_type": "stream",
     "text": [
      "Clothing, Shoes & Jewelry -> Men -> Clothing -> Fashion Hoodies & Sweatshirts | Clothing, Shoes & Jewelry\n"
     ]
    },
    {
     "name": "stderr",
     "output_type": "stream",
     "text": [
      "2016-12-29 07:23:06,025 - 18000 images copied so far\n"
     ]
    },
    {
     "name": "stdout",
     "output_type": "stream",
     "text": [
      "Clothing, Shoes & Jewelry -> Men -> Clothing -> Jackets & Coats -> Leather & Faux Leather | Clothing, Shoes & Jewelry\n"
     ]
    },
    {
     "name": "stderr",
     "output_type": "stream",
     "text": [
      "2016-12-29 07:23:06,335 - 18500 images copied so far\n"
     ]
    },
    {
     "name": "stdout",
     "output_type": "stream",
     "text": [
      "Clothing, Shoes & Jewelry -> Men -> Clothing -> Jeans | Clothing, Shoes & Jewelry\n"
     ]
    },
    {
     "name": "stderr",
     "output_type": "stream",
     "text": [
      "2016-12-29 07:23:06,677 - 19000 images copied so far\n"
     ]
    },
    {
     "name": "stdout",
     "output_type": "stream",
     "text": [
      "Clothing, Shoes & Jewelry -> Men -> Clothing -> Pants -> Casual | Clothing, Shoes & Jewelry\n"
     ]
    },
    {
     "name": "stderr",
     "output_type": "stream",
     "text": [
      "2016-12-29 07:23:06,998 - 19500 images copied so far\n"
     ]
    },
    {
     "name": "stdout",
     "output_type": "stream",
     "text": [
      "Clothing, Shoes & Jewelry -> Men -> Clothing -> Pants -> Dress | Clothing, Shoes & Jewelry\n"
     ]
    },
    {
     "name": "stderr",
     "output_type": "stream",
     "text": [
      "2016-12-29 07:23:07,258 - 20000 images copied so far\n"
     ]
    },
    {
     "name": "stdout",
     "output_type": "stream",
     "text": [
      "Clothing, Shoes & Jewelry -> Men -> Clothing -> Shirts -> Casual Button-Down Shirts | Clothing, Shoes & Jewelry\n"
     ]
    },
    {
     "name": "stderr",
     "output_type": "stream",
     "text": [
      "2016-12-29 07:23:07,648 - 20500 images copied so far\n"
     ]
    },
    {
     "name": "stdout",
     "output_type": "stream",
     "text": [
      "Clothing, Shoes & Jewelry -> Men -> Clothing -> Shirts -> Dress Shirts | Clothing, Shoes & Jewelry\n"
     ]
    },
    {
     "name": "stderr",
     "output_type": "stream",
     "text": [
      "2016-12-29 07:23:07,959 - 21000 images copied so far\n"
     ]
    },
    {
     "name": "stdout",
     "output_type": "stream",
     "text": [
      "Clothing, Shoes & Jewelry -> Men -> Clothing -> Shirts -> Polos | Clothing, Shoes & Jewelry\n"
     ]
    },
    {
     "name": "stderr",
     "output_type": "stream",
     "text": [
      "2016-12-29 07:23:08,294 - 21500 images copied so far\n"
     ]
    },
    {
     "name": "stdout",
     "output_type": "stream",
     "text": [
      "Clothing, Shoes & Jewelry -> Men -> Clothing -> Shirts -> T-Shirts | Clothing, Shoes & Jewelry\n"
     ]
    },
    {
     "name": "stderr",
     "output_type": "stream",
     "text": [
      "2016-12-29 07:23:08,638 - 22000 images copied so far\n"
     ]
    },
    {
     "name": "stdout",
     "output_type": "stream",
     "text": [
      "Clothing, Shoes & Jewelry -> Men -> Clothing -> Shorts -> Cargo | Clothing, Shoes & Jewelry\n"
     ]
    },
    {
     "name": "stderr",
     "output_type": "stream",
     "text": [
      "2016-12-29 07:23:08,960 - 22500 images copied so far\n"
     ]
    },
    {
     "name": "stdout",
     "output_type": "stream",
     "text": [
      "Clothing, Shoes & Jewelry -> Men -> Clothing -> Sleep & Lounge -> Sleep Bottoms | Clothing, Shoes & Jewelry\n"
     ]
    },
    {
     "name": "stderr",
     "output_type": "stream",
     "text": [
      "2016-12-29 07:23:09,284 - 23000 images copied so far\n"
     ]
    },
    {
     "name": "stdout",
     "output_type": "stream",
     "text": [
      "Clothing, Shoes & Jewelry -> Men -> Clothing -> Socks -> Casual Socks | Clothing, Shoes & Jewelry\n"
     ]
    },
    {
     "name": "stderr",
     "output_type": "stream",
     "text": [
      "2016-12-29 07:23:09,593 - 23500 images copied so far\n"
     ]
    },
    {
     "name": "stdout",
     "output_type": "stream",
     "text": [
      "Clothing, Shoes & Jewelry -> Men -> Clothing -> Sweaters -> Pullovers | Clothing, Shoes & Jewelry\n"
     ]
    },
    {
     "name": "stderr",
     "output_type": "stream",
     "text": [
      "2016-12-29 07:23:09,940 - 24000 images copied so far\n"
     ]
    },
    {
     "name": "stdout",
     "output_type": "stream",
     "text": [
      "Clothing, Shoes & Jewelry -> Men -> Clothing -> Swim -> Board Shorts | Clothing, Shoes & Jewelry\n"
     ]
    },
    {
     "name": "stderr",
     "output_type": "stream",
     "text": [
      "2016-12-29 07:23:10,259 - 24500 images copied so far\n"
     ]
    },
    {
     "name": "stdout",
     "output_type": "stream",
     "text": [
      "Clothing, Shoes & Jewelry -> Men -> Clothing -> Underwear -> Boxer Briefs | Clothing, Shoes & Jewelry\n"
     ]
    },
    {
     "name": "stderr",
     "output_type": "stream",
     "text": [
      "2016-12-29 07:23:10,576 - 25000 images copied so far\n"
     ]
    },
    {
     "name": "stdout",
     "output_type": "stream",
     "text": [
      "Clothing, Shoes & Jewelry -> Men -> Clothing -> Underwear -> Briefs | Clothing, Shoes & Jewelry\n"
     ]
    },
    {
     "name": "stderr",
     "output_type": "stream",
     "text": [
      "2016-12-29 07:23:10,899 - 25500 images copied so far\n"
     ]
    },
    {
     "name": "stdout",
     "output_type": "stream",
     "text": [
      "Clothing, Shoes & Jewelry -> Men -> Shoes -> Boots | Clothing, Shoes & Jewelry\n"
     ]
    },
    {
     "name": "stderr",
     "output_type": "stream",
     "text": [
      "2016-12-29 07:23:11,227 - 26000 images copied so far\n"
     ]
    },
    {
     "name": "stdout",
     "output_type": "stream",
     "text": [
      "Clothing, Shoes & Jewelry -> Men -> Shoes -> Fashion Sneakers | Clothing, Shoes & Jewelry\n"
     ]
    },
    {
     "name": "stderr",
     "output_type": "stream",
     "text": [
      "2016-12-29 07:23:11,536 - 26500 images copied so far\n"
     ]
    },
    {
     "name": "stdout",
     "output_type": "stream",
     "text": [
      "Clothing, Shoes & Jewelry -> Men -> Watches -> Watch Bands | Clothing, Shoes & Jewelry\n"
     ]
    },
    {
     "name": "stderr",
     "output_type": "stream",
     "text": [
      "2016-12-29 07:23:11,806 - 27000 images copied so far\n"
     ]
    },
    {
     "name": "stdout",
     "output_type": "stream",
     "text": [
      "Clothing, Shoes & Jewelry -> Men -> Watches -> Wrist Watches | Clothing, Shoes & Jewelry\n"
     ]
    },
    {
     "name": "stderr",
     "output_type": "stream",
     "text": [
      "2016-12-29 07:23:12,157 - 27500 images copied so far\n"
     ]
    },
    {
     "name": "stdout",
     "output_type": "stream",
     "text": [
      "Clothing, Shoes & Jewelry -> Women -> Accessories -> Belts | Clothing, Shoes & Jewelry\n"
     ]
    },
    {
     "name": "stderr",
     "output_type": "stream",
     "text": [
      "2016-12-29 07:23:12,465 - 28000 images copied so far\n"
     ]
    },
    {
     "name": "stdout",
     "output_type": "stream",
     "text": [
      "Clothing, Shoes & Jewelry -> Women -> Accessories -> Gloves & Mittens -> Cold Weather Gloves | Clothing, Shoes & Jewelry\n"
     ]
    },
    {
     "name": "stderr",
     "output_type": "stream",
     "text": [
      "2016-12-29 07:23:12,813 - 28500 images copied so far\n"
     ]
    },
    {
     "name": "stdout",
     "output_type": "stream",
     "text": [
      "Clothing, Shoes & Jewelry -> Women -> Accessories -> Hats & Caps -> Sun Hats | Clothing, Shoes & Jewelry\n"
     ]
    },
    {
     "name": "stderr",
     "output_type": "stream",
     "text": [
      "2016-12-29 07:23:13,146 - 29000 images copied so far\n"
     ]
    },
    {
     "name": "stdout",
     "output_type": "stream",
     "text": [
      "Clothing, Shoes & Jewelry -> Women -> Accessories -> Scarves & Wraps -> Fashion Scarves | Clothing, Shoes & Jewelry\n"
     ]
    },
    {
     "name": "stderr",
     "output_type": "stream",
     "text": [
      "2016-12-29 07:23:13,509 - 29500 images copied so far\n"
     ]
    },
    {
     "name": "stdout",
     "output_type": "stream",
     "text": [
      "Clothing, Shoes & Jewelry -> Women -> Accessories -> Sunglasses & Eyewear Accessories -> Sunglasses | Clothing, Shoes & Jewelry\n"
     ]
    },
    {
     "name": "stderr",
     "output_type": "stream",
     "text": [
      "2016-12-29 07:23:13,825 - 30000 images copied so far\n"
     ]
    },
    {
     "name": "stdout",
     "output_type": "stream",
     "text": [
      "Clothing, Shoes & Jewelry -> Women -> Accessories -> Wallets, Card Cases & Money Organizers -> Wallets | Clothing, Shoes & Jewelry\n"
     ]
    },
    {
     "name": "stderr",
     "output_type": "stream",
     "text": [
      "2016-12-29 07:23:14,181 - 30500 images copied so far\n"
     ]
    },
    {
     "name": "stdout",
     "output_type": "stream",
     "text": [
      "Clothing, Shoes & Jewelry -> Women -> Clothing -> Active -> Active Shirts & Tees | Clothing, Shoes & Jewelry\n"
     ]
    },
    {
     "name": "stderr",
     "output_type": "stream",
     "text": [
      "2016-12-29 07:23:14,455 - 31000 images copied so far\n"
     ]
    },
    {
     "name": "stdout",
     "output_type": "stream",
     "text": [
      "Clothing, Shoes & Jewelry -> Women -> Clothing -> Coats & Jackets -> Down & Down Alternative | Clothing, Shoes & Jewelry\n"
     ]
    },
    {
     "name": "stderr",
     "output_type": "stream",
     "text": [
      "2016-12-29 07:23:14,750 - 31500 images copied so far\n"
     ]
    },
    {
     "name": "stdout",
     "output_type": "stream",
     "text": [
      "Clothing, Shoes & Jewelry -> Women -> Clothing -> Coats & Jackets -> Leather & Faux Leather | Clothing, Shoes & Jewelry\n"
     ]
    },
    {
     "name": "stderr",
     "output_type": "stream",
     "text": [
      "2016-12-29 07:23:15,087 - 32000 images copied so far\n"
     ]
    },
    {
     "name": "stdout",
     "output_type": "stream",
     "text": [
      "Clothing, Shoes & Jewelry -> Women -> Clothing -> Coats & Jackets -> Wool & Blends | Clothing, Shoes & Jewelry\n"
     ]
    },
    {
     "name": "stderr",
     "output_type": "stream",
     "text": [
      "2016-12-29 07:23:15,391 - 32500 images copied so far\n"
     ]
    },
    {
     "name": "stdout",
     "output_type": "stream",
     "text": [
      "Clothing, Shoes & Jewelry -> Women -> Clothing -> Dresses -> Casual | Clothing, Shoes & Jewelry\n"
     ]
    },
    {
     "name": "stderr",
     "output_type": "stream",
     "text": [
      "2016-12-29 07:23:15,756 - 33000 images copied so far\n"
     ]
    },
    {
     "name": "stdout",
     "output_type": "stream",
     "text": [
      "Clothing, Shoes & Jewelry -> Women -> Clothing -> Dresses -> Night Out & Cocktail | Clothing, Shoes & Jewelry\n"
     ]
    },
    {
     "name": "stderr",
     "output_type": "stream",
     "text": [
      "2016-12-29 07:23:16,103 - 33500 images copied so far\n"
     ]
    },
    {
     "name": "stdout",
     "output_type": "stream",
     "text": [
      "Clothing, Shoes & Jewelry -> Women -> Clothing -> Dresses -> Wear to Work | Clothing, Shoes & Jewelry\n"
     ]
    },
    {
     "name": "stderr",
     "output_type": "stream",
     "text": [
      "2016-12-29 07:23:16,408 - 34000 images copied so far\n"
     ]
    },
    {
     "name": "stdout",
     "output_type": "stream",
     "text": [
      "Clothing, Shoes & Jewelry -> Women -> Clothing -> Fashion Hoodies & Sweatshirts | Clothing, Shoes & Jewelry\n"
     ]
    },
    {
     "name": "stderr",
     "output_type": "stream",
     "text": [
      "2016-12-29 07:23:16,729 - 34500 images copied so far\n"
     ]
    },
    {
     "name": "stdout",
     "output_type": "stream",
     "text": [
      "Clothing, Shoes & Jewelry -> Women -> Clothing -> Jeans | Clothing, Shoes & Jewelry\n"
     ]
    },
    {
     "name": "stderr",
     "output_type": "stream",
     "text": [
      "2016-12-29 07:23:17,077 - 35000 images copied so far\n"
     ]
    },
    {
     "name": "stdout",
     "output_type": "stream",
     "text": [
      "Clothing, Shoes & Jewelry -> Women -> Clothing -> Jumpsuits, Rompers & Overalls | Clothing, Shoes & Jewelry\n"
     ]
    },
    {
     "name": "stderr",
     "output_type": "stream",
     "text": [
      "2016-12-29 07:23:17,379 - 35500 images copied so far\n"
     ]
    },
    {
     "name": "stdout",
     "output_type": "stream",
     "text": [
      "Clothing, Shoes & Jewelry -> Women -> Clothing -> Leggings | Clothing, Shoes & Jewelry\n"
     ]
    },
    {
     "name": "stderr",
     "output_type": "stream",
     "text": [
      "2016-12-29 07:23:17,678 - 36000 images copied so far\n"
     ]
    },
    {
     "name": "stdout",
     "output_type": "stream",
     "text": [
      "Clothing, Shoes & Jewelry -> Women -> Clothing -> Lingerie, Sleep & Lounge -> Intimates -> Bras -> Everyday Bras | Clothing, Shoes & Jewelry\n"
     ]
    },
    {
     "name": "stderr",
     "output_type": "stream",
     "text": [
      "2016-12-29 07:23:18,046 - 36500 images copied so far\n"
     ]
    },
    {
     "name": "stdout",
     "output_type": "stream",
     "text": [
      "Clothing, Shoes & Jewelry -> Women -> Clothing -> Lingerie, Sleep & Lounge -> Intimates -> Bras -> Sports Bras | Clothing, Shoes & Jewelry\n"
     ]
    },
    {
     "name": "stderr",
     "output_type": "stream",
     "text": [
      "2016-12-29 07:23:18,351 - 37000 images copied so far\n"
     ]
    },
    {
     "name": "stdout",
     "output_type": "stream",
     "text": [
      "Clothing, Shoes & Jewelry -> Women -> Clothing -> Lingerie, Sleep & Lounge -> Intimates -> Lingerie -> Bustiers & Corsets | Clothing, Shoes & Jewelry\n"
     ]
    },
    {
     "name": "stderr",
     "output_type": "stream",
     "text": [
      "2016-12-29 07:23:18,702 - 37500 images copied so far\n"
     ]
    },
    {
     "name": "stdout",
     "output_type": "stream",
     "text": [
      "Clothing, Shoes & Jewelry -> Women -> Clothing -> Lingerie, Sleep & Lounge -> Intimates -> Panties -> Briefs | Clothing, Shoes & Jewelry\n"
     ]
    },
    {
     "name": "stderr",
     "output_type": "stream",
     "text": [
      "2016-12-29 07:23:19,043 - 38000 images copied so far\n"
     ]
    },
    {
     "name": "stdout",
     "output_type": "stream",
     "text": [
      "Clothing, Shoes & Jewelry -> Women -> Clothing -> Pants -> Casual | Clothing, Shoes & Jewelry\n"
     ]
    },
    {
     "name": "stderr",
     "output_type": "stream",
     "text": [
      "2016-12-29 07:23:19,352 - 38500 images copied so far\n"
     ]
    },
    {
     "name": "stdout",
     "output_type": "stream",
     "text": [
      "Clothing, Shoes & Jewelry -> Women -> Clothing -> Shorts -> Casual | Clothing, Shoes & Jewelry\n"
     ]
    },
    {
     "name": "stderr",
     "output_type": "stream",
     "text": [
      "2016-12-29 07:23:19,663 - 39000 images copied so far\n"
     ]
    },
    {
     "name": "stdout",
     "output_type": "stream",
     "text": [
      "Clothing, Shoes & Jewelry -> Women -> Clothing -> Shorts -> Denim | Clothing, Shoes & Jewelry\n"
     ]
    },
    {
     "name": "stderr",
     "output_type": "stream",
     "text": [
      "2016-12-29 07:23:19,986 - 39500 images copied so far\n"
     ]
    },
    {
     "name": "stdout",
     "output_type": "stream",
     "text": [
      "Clothing, Shoes & Jewelry -> Women -> Clothing -> Skirts -> Casual | Clothing, Shoes & Jewelry\n"
     ]
    },
    {
     "name": "stderr",
     "output_type": "stream",
     "text": [
      "2016-12-29 07:23:20,305 - 40000 images copied so far\n"
     ]
    },
    {
     "name": "stdout",
     "output_type": "stream",
     "text": [
      "Clothing, Shoes & Jewelry -> Women -> Clothing -> Socks & Hosiery -> Casual Socks | Clothing, Shoes & Jewelry\n"
     ]
    },
    {
     "name": "stderr",
     "output_type": "stream",
     "text": [
      "2016-12-29 07:23:20,647 - 40500 images copied so far\n"
     ]
    },
    {
     "name": "stdout",
     "output_type": "stream",
     "text": [
      "Clothing, Shoes & Jewelry -> Women -> Clothing -> Socks & Hosiery -> Hosiery | Clothing, Shoes & Jewelry\n"
     ]
    },
    {
     "name": "stderr",
     "output_type": "stream",
     "text": [
      "2016-12-29 07:23:20,929 - 41000 images copied so far\n"
     ]
    },
    {
     "name": "stdout",
     "output_type": "stream",
     "text": [
      "Clothing, Shoes & Jewelry -> Women -> Clothing -> Socks & Hosiery -> Tights | Clothing, Shoes & Jewelry\n"
     ]
    },
    {
     "name": "stderr",
     "output_type": "stream",
     "text": [
      "2016-12-29 07:23:21,218 - 41500 images copied so far\n"
     ]
    },
    {
     "name": "stdout",
     "output_type": "stream",
     "text": [
      "Clothing, Shoes & Jewelry -> Women -> Clothing -> Suits & Blazers -> Blazers -> Casual | Clothing, Shoes & Jewelry\n"
     ]
    },
    {
     "name": "stderr",
     "output_type": "stream",
     "text": [
      "2016-12-29 07:23:21,539 - 42000 images copied so far\n"
     ]
    },
    {
     "name": "stdout",
     "output_type": "stream",
     "text": [
      "Clothing, Shoes & Jewelry -> Women -> Clothing -> Sweaters -> Cardigans | Clothing, Shoes & Jewelry\n"
     ]
    },
    {
     "name": "stderr",
     "output_type": "stream",
     "text": [
      "2016-12-29 07:23:21,894 - 42500 images copied so far\n"
     ]
    },
    {
     "name": "stdout",
     "output_type": "stream",
     "text": [
      "Clothing, Shoes & Jewelry -> Women -> Clothing -> Sweaters -> Pullovers | Clothing, Shoes & Jewelry\n"
     ]
    },
    {
     "name": "stderr",
     "output_type": "stream",
     "text": [
      "2016-12-29 07:23:22,253 - 43000 images copied so far\n"
     ]
    },
    {
     "name": "stdout",
     "output_type": "stream",
     "text": [
      "Clothing, Shoes & Jewelry -> Women -> Clothing -> Swimsuits & Cover Ups -> Bikinis | Clothing, Shoes & Jewelry\n"
     ]
    },
    {
     "name": "stderr",
     "output_type": "stream",
     "text": [
      "2016-12-29 07:23:22,598 - 43500 images copied so far\n"
     ]
    },
    {
     "name": "stdout",
     "output_type": "stream",
     "text": [
      "Clothing, Shoes & Jewelry -> Women -> Clothing -> Swimsuits & Cover Ups -> One-Pieces | Clothing, Shoes & Jewelry\n"
     ]
    },
    {
     "name": "stderr",
     "output_type": "stream",
     "text": [
      "2016-12-29 07:23:22,921 - 44000 images copied so far\n"
     ]
    },
    {
     "name": "stdout",
     "output_type": "stream",
     "text": [
      "Clothing, Shoes & Jewelry -> Women -> Clothing -> Tops & Tees -> Blouses & Button-Down Shirts | Clothing, Shoes & Jewelry\n"
     ]
    },
    {
     "name": "stderr",
     "output_type": "stream",
     "text": [
      "2016-12-29 07:23:23,307 - 44500 images copied so far\n"
     ]
    },
    {
     "name": "stdout",
     "output_type": "stream",
     "text": [
      "Clothing, Shoes & Jewelry -> Women -> Clothing -> Tops & Tees -> Knits & Tees | Clothing, Shoes & Jewelry\n"
     ]
    },
    {
     "name": "stderr",
     "output_type": "stream",
     "text": [
      "2016-12-29 07:23:23,667 - 45000 images copied so far\n"
     ]
    },
    {
     "name": "stdout",
     "output_type": "stream",
     "text": [
      "Clothing, Shoes & Jewelry -> Women -> Clothing -> Tops & Tees -> Tanks & Camis | Clothing, Shoes & Jewelry\n"
     ]
    },
    {
     "name": "stderr",
     "output_type": "stream",
     "text": [
      "2016-12-29 07:23:24,050 - 45500 images copied so far\n"
     ]
    },
    {
     "name": "stdout",
     "output_type": "stream",
     "text": [
      "Clothing, Shoes & Jewelry -> Women -> Clothing -> Tops & Tees -> Tunics | Clothing, Shoes & Jewelry\n"
     ]
    },
    {
     "name": "stderr",
     "output_type": "stream",
     "text": [
      "2016-12-29 07:23:24,383 - 46000 images copied so far\n"
     ]
    },
    {
     "name": "stdout",
     "output_type": "stream",
     "text": [
      "Clothing, Shoes & Jewelry -> Women -> Handbags & Wallets -> Clutches | Clothing, Shoes & Jewelry\n"
     ]
    },
    {
     "name": "stderr",
     "output_type": "stream",
     "text": [
      "2016-12-29 07:23:24,718 - 46500 images copied so far\n"
     ]
    },
    {
     "name": "stdout",
     "output_type": "stream",
     "text": [
      "Clothing, Shoes & Jewelry -> Women -> Handbags & Wallets -> Cross-Body Bags | Clothing, Shoes & Jewelry\n"
     ]
    },
    {
     "name": "stderr",
     "output_type": "stream",
     "text": [
      "2016-12-29 07:23:25,087 - 47000 images copied so far\n"
     ]
    },
    {
     "name": "stdout",
     "output_type": "stream",
     "text": [
      "Clothing, Shoes & Jewelry -> Women -> Handbags & Wallets -> Evening Bags | Clothing, Shoes & Jewelry\n"
     ]
    },
    {
     "name": "stderr",
     "output_type": "stream",
     "text": [
      "2016-12-29 07:23:25,450 - 47500 images copied so far\n"
     ]
    },
    {
     "name": "stdout",
     "output_type": "stream",
     "text": [
      "Clothing, Shoes & Jewelry -> Women -> Handbags & Wallets -> Shoulder Bags | Clothing, Shoes & Jewelry\n"
     ]
    },
    {
     "name": "stderr",
     "output_type": "stream",
     "text": [
      "2016-12-29 07:23:25,834 - 48000 images copied so far\n"
     ]
    },
    {
     "name": "stdout",
     "output_type": "stream",
     "text": [
      "Clothing, Shoes & Jewelry -> Women -> Handbags & Wallets -> Top-Handle Bags | Clothing, Shoes & Jewelry\n"
     ]
    },
    {
     "name": "stderr",
     "output_type": "stream",
     "text": [
      "2016-12-29 07:23:26,211 - 48500 images copied so far\n"
     ]
    },
    {
     "name": "stdout",
     "output_type": "stream",
     "text": [
      "Clothing, Shoes & Jewelry -> Women -> Shoes -> Boots | Clothing, Shoes & Jewelry\n"
     ]
    },
    {
     "name": "stderr",
     "output_type": "stream",
     "text": [
      "2016-12-29 07:23:26,634 - 49000 images copied so far\n"
     ]
    },
    {
     "name": "stdout",
     "output_type": "stream",
     "text": [
      "Clothing, Shoes & Jewelry -> Women -> Shoes -> Fashion Sneakers | Clothing, Shoes & Jewelry\n"
     ]
    },
    {
     "name": "stderr",
     "output_type": "stream",
     "text": [
      "2016-12-29 07:23:26,956 - 49500 images copied so far\n"
     ]
    },
    {
     "name": "stdout",
     "output_type": "stream",
     "text": [
      "Clothing, Shoes & Jewelry -> Women -> Shoes -> Flats | Clothing, Shoes & Jewelry\n"
     ]
    },
    {
     "name": "stderr",
     "output_type": "stream",
     "text": [
      "2016-12-29 07:23:27,289 - 50000 images copied so far\n"
     ]
    },
    {
     "name": "stdout",
     "output_type": "stream",
     "text": [
      "Clothing, Shoes & Jewelry -> Women -> Shoes -> Pumps | Clothing, Shoes & Jewelry\n"
     ]
    },
    {
     "name": "stderr",
     "output_type": "stream",
     "text": [
      "2016-12-29 07:23:27,650 - 50500 images copied so far\n"
     ]
    },
    {
     "name": "stdout",
     "output_type": "stream",
     "text": [
      "Clothing, Shoes & Jewelry -> Women -> Shoes -> Sandals | Clothing, Shoes & Jewelry\n"
     ]
    },
    {
     "name": "stderr",
     "output_type": "stream",
     "text": [
      "2016-12-29 07:23:27,990 - 51000 images copied so far\n"
     ]
    },
    {
     "name": "stdout",
     "output_type": "stream",
     "text": [
      "Clothing, Shoes & Jewelry -> Women -> Shoes -> Slippers | Clothing, Shoes & Jewelry\n"
     ]
    },
    {
     "name": "stderr",
     "output_type": "stream",
     "text": [
      "2016-12-29 07:23:28,335 - 51500 images copied so far\n"
     ]
    },
    {
     "name": "stdout",
     "output_type": "stream",
     "text": [
      "Clothing, Shoes & Jewelry -> Women -> Watches -> Watch Bands | Clothing, Shoes & Jewelry\n"
     ]
    },
    {
     "name": "stderr",
     "output_type": "stream",
     "text": [
      "2016-12-29 07:23:28,612 - 52000 images copied so far\n"
     ]
    },
    {
     "name": "stdout",
     "output_type": "stream",
     "text": [
      "Clothing, Shoes & Jewelry -> Women -> Watches -> Wrist Watches | Clothing, Shoes & Jewelry\n"
     ]
    },
    {
     "name": "stderr",
     "output_type": "stream",
     "text": [
      "2016-12-29 07:23:28,974 - 52500 images copied so far\n"
     ]
    },
    {
     "name": "stdout",
     "output_type": "stream",
     "text": [
      "Electronics -> Accessories & Supplies -> Audio & Video Accessories -> Headphones | Electronics\n"
     ]
    },
    {
     "name": "stderr",
     "output_type": "stream",
     "text": [
      "2016-12-29 07:23:29,254 - 53000 images copied so far\n"
     ]
    },
    {
     "name": "stdout",
     "output_type": "stream",
     "text": [
      "Electronics -> Accessories & Supplies -> Audio & Video Accessories -> Remote Controls -> TV Remote Controls | Electronics\n"
     ]
    },
    {
     "name": "stderr",
     "output_type": "stream",
     "text": [
      "2016-12-29 07:23:29,497 - 53500 images copied so far\n"
     ]
    },
    {
     "name": "stdout",
     "output_type": "stream",
     "text": [
      "Electronics -> Accessories & Supplies -> Batteries, Chargers & Accessories -> AC Adapters | Electronics\n"
     ]
    },
    {
     "name": "stderr",
     "output_type": "stream",
     "text": [
      "2016-12-29 07:23:29,782 - 54000 images copied so far\n"
     ]
    },
    {
     "name": "stdout",
     "output_type": "stream",
     "text": [
      "Electronics -> Accessories & Supplies -> Telephone Accessories -> Batteries | Electronics\n"
     ]
    },
    {
     "name": "stderr",
     "output_type": "stream",
     "text": [
      "2016-12-29 07:23:30,068 - 54500 images copied so far\n"
     ]
    },
    {
     "name": "stdout",
     "output_type": "stream",
     "text": [
      "Electronics -> Camera & Photo -> Accessories -> Batteries & Chargers -> Adapters | Electronics\n"
     ]
    },
    {
     "name": "stderr",
     "output_type": "stream",
     "text": [
      "2016-12-29 07:23:30,330 - 55000 images copied so far\n"
     ]
    },
    {
     "name": "stdout",
     "output_type": "stream",
     "text": [
      "Electronics -> Camera & Photo -> Accessories -> Batteries & Chargers -> Batteries -> Camcorder Batteries | Electronics\n"
     ]
    },
    {
     "name": "stderr",
     "output_type": "stream",
     "text": [
      "2016-12-29 07:23:30,593 - 55500 images copied so far\n"
     ]
    },
    {
     "name": "stdout",
     "output_type": "stream",
     "text": [
      "Electronics -> Camera & Photo -> Accessories -> Batteries & Chargers -> Batteries -> Camera Batteries | Electronics\n"
     ]
    },
    {
     "name": "stderr",
     "output_type": "stream",
     "text": [
      "2016-12-29 07:23:30,909 - 56000 images copied so far\n"
     ]
    },
    {
     "name": "stdout",
     "output_type": "stream",
     "text": [
      "Electronics -> Camera & Photo -> Accessories -> Batteries & Chargers -> Battery Chargers -> Camcorder | Electronics\n"
     ]
    },
    {
     "name": "stderr",
     "output_type": "stream",
     "text": [
      "2016-12-29 07:23:31,167 - 56483 images copied so far\n"
     ]
    },
    {
     "name": "stdout",
     "output_type": "stream",
     "text": [
      "Electronics -> Camera & Photo -> Accessories -> Batteries & Chargers -> Battery Chargers -> Camera | Electronics\n"
     ]
    },
    {
     "name": "stderr",
     "output_type": "stream",
     "text": [
      "2016-12-29 07:23:31,442 - 56983 images copied so far\n"
     ]
    },
    {
     "name": "stdout",
     "output_type": "stream",
     "text": [
      "Electronics -> Camera & Photo -> Accessories -> Digital Camera Accessories -> Accessory Kits | Electronics\n"
     ]
    },
    {
     "name": "stderr",
     "output_type": "stream",
     "text": [
      "2016-12-29 07:23:31,730 - 57483 images copied so far\n"
     ]
    },
    {
     "name": "stdout",
     "output_type": "stream",
     "text": [
      "Electronics -> Camera & Photo -> Accessories -> Digital Camera Accessories -> Screen Protector Foils | Electronics\n"
     ]
    },
    {
     "name": "stderr",
     "output_type": "stream",
     "text": [
      "2016-12-29 07:23:32,032 - 57983 images copied so far\n"
     ]
    },
    {
     "name": "stdout",
     "output_type": "stream",
     "text": [
      "Electronics -> Camera & Photo -> Accessories -> Filters & Accessories -> Filter Sets | Electronics\n"
     ]
    },
    {
     "name": "stderr",
     "output_type": "stream",
     "text": [
      "2016-12-29 07:23:32,344 - 58483 images copied so far\n"
     ]
    },
    {
     "name": "stdout",
     "output_type": "stream",
     "text": [
      "Electronics -> Camera & Photo -> Accessories -> Lens Accessories -> Adapters & Converters | Electronics\n"
     ]
    },
    {
     "name": "stderr",
     "output_type": "stream",
     "text": [
      "2016-12-29 07:23:32,620 - 58983 images copied so far\n"
     ]
    },
    {
     "name": "stdout",
     "output_type": "stream",
     "text": [
      "Electronics -> Camera & Photo -> Accessories -> Lens Accessories -> Lens Caps | Electronics\n"
     ]
    },
    {
     "name": "stderr",
     "output_type": "stream",
     "text": [
      "2016-12-29 07:23:32,911 - 59483 images copied so far\n"
     ]
    },
    {
     "name": "stdout",
     "output_type": "stream",
     "text": [
      "Electronics -> Camera & Photo -> Accessories -> Lens Accessories -> Lens Hoods | Electronics\n"
     ]
    },
    {
     "name": "stderr",
     "output_type": "stream",
     "text": [
      "2016-12-29 07:23:33,179 - 59983 images copied so far\n"
     ]
    },
    {
     "name": "stdout",
     "output_type": "stream",
     "text": [
      "Electronics -> Camera & Photo -> Bags & Cases -> Bag & Case Accessories | Electronics\n"
     ]
    },
    {
     "name": "stderr",
     "output_type": "stream",
     "text": [
      "2016-12-29 07:23:33,409 - 60483 images copied so far\n"
     ]
    },
    {
     "name": "stdout",
     "output_type": "stream",
     "text": [
      "Electronics -> Camera & Photo -> Bags & Cases -> Camera Cases | Electronics\n"
     ]
    },
    {
     "name": "stderr",
     "output_type": "stream",
     "text": [
      "2016-12-29 07:23:33,786 - 60983 images copied so far\n"
     ]
    },
    {
     "name": "stdout",
     "output_type": "stream",
     "text": [
      "Electronics -> Camera & Photo -> Binoculars & Scopes -> Binoculars | Electronics\n"
     ]
    },
    {
     "name": "stderr",
     "output_type": "stream",
     "text": [
      "2016-12-29 07:23:34,077 - 61483 images copied so far\n"
     ]
    },
    {
     "name": "stdout",
     "output_type": "stream",
     "text": [
      "Electronics -> Camera & Photo -> Digital Cameras -> Digital SLR Camera Bundles | Electronics\n"
     ]
    },
    {
     "name": "stderr",
     "output_type": "stream",
     "text": [
      "2016-12-29 07:23:34,548 - 61983 images copied so far\n"
     ]
    },
    {
     "name": "stdout",
     "output_type": "stream",
     "text": [
      "Electronics -> Camera & Photo -> Digital Cameras -> Point & Shoot Digital Camera Bundles | Electronics\n"
     ]
    },
    {
     "name": "stderr",
     "output_type": "stream",
     "text": [
      "2016-12-29 07:23:34,917 - 62483 images copied so far\n"
     ]
    },
    {
     "name": "stdout",
     "output_type": "stream",
     "text": [
      "Electronics -> Camera & Photo -> Digital Cameras -> Point & Shoot Digital Cameras | Electronics\n"
     ]
    },
    {
     "name": "stderr",
     "output_type": "stream",
     "text": [
      "2016-12-29 07:23:35,190 - 62983 images copied so far\n"
     ]
    },
    {
     "name": "stdout",
     "output_type": "stream",
     "text": [
      "Electronics -> Camera & Photo -> Flashes -> Shoe Mount Flashes | Electronics\n"
     ]
    },
    {
     "name": "stderr",
     "output_type": "stream",
     "text": [
      "2016-12-29 07:23:35,480 - 63483 images copied so far\n"
     ]
    },
    {
     "name": "stdout",
     "output_type": "stream",
     "text": [
      "Electronics -> Camera & Photo -> Lenses -> Camera Lenses -> Digital Camera Lenses | Electronics\n"
     ]
    },
    {
     "name": "stderr",
     "output_type": "stream",
     "text": [
      "2016-12-29 07:23:35,783 - 63983 images copied so far\n"
     ]
    },
    {
     "name": "stdout",
     "output_type": "stream",
     "text": [
      "Electronics -> Camera & Photo -> Lighting & Studio -> Photo Studio -> Backgrounds | Electronics\n"
     ]
    },
    {
     "name": "stderr",
     "output_type": "stream",
     "text": [
      "2016-12-29 07:23:36,108 - 64483 images copied so far\n"
     ]
    },
    {
     "name": "stdout",
     "output_type": "stream",
     "text": [
      "Electronics -> Camera & Photo -> Tripods & Monopods -> Complete Tripods | Electronics\n"
     ]
    },
    {
     "name": "stderr",
     "output_type": "stream",
     "text": [
      "2016-12-29 07:23:36,391 - 64983 images copied so far\n"
     ]
    },
    {
     "name": "stdout",
     "output_type": "stream",
     "text": [
      "Electronics -> Camera & Photo -> Video -> Camcorders | Electronics\n"
     ]
    },
    {
     "name": "stderr",
     "output_type": "stream",
     "text": [
      "2016-12-29 07:23:36,708 - 65483 images copied so far\n"
     ]
    },
    {
     "name": "stdout",
     "output_type": "stream",
     "text": [
      "Electronics -> Computers & Accessories -> Cables & Accessories -> Computer Speakers | Electronics\n"
     ]
    },
    {
     "name": "stderr",
     "output_type": "stream",
     "text": [
      "2016-12-29 07:23:37,013 - 65983 images copied so far\n"
     ]
    },
    {
     "name": "stdout",
     "output_type": "stream",
     "text": [
      "Electronics -> Computers & Accessories -> Cables & Accessories -> Hard Drive Enclosures | Electronics\n"
     ]
    },
    {
     "name": "stderr",
     "output_type": "stream",
     "text": [
      "2016-12-29 07:23:37,293 - 66483 images copied so far\n"
     ]
    },
    {
     "name": "stdout",
     "output_type": "stream",
     "text": [
      "Electronics -> Computers & Accessories -> Cables & Accessories -> Headsets & Microphones -> PC Headsets | Electronics\n"
     ]
    },
    {
     "name": "stderr",
     "output_type": "stream",
     "text": [
      "2016-12-29 07:23:37,543 - 66983 images copied so far\n"
     ]
    },
    {
     "name": "stdout",
     "output_type": "stream",
     "text": [
      "Electronics -> Computers & Accessories -> Cables & Accessories -> Keyboard & Mouse Combos | Electronics\n"
     ]
    },
    {
     "name": "stderr",
     "output_type": "stream",
     "text": [
      "2016-12-29 07:23:37,845 - 67483 images copied so far\n"
     ]
    },
    {
     "name": "stdout",
     "output_type": "stream",
     "text": [
      "Electronics -> Computers & Accessories -> Cables & Accessories -> Keyboards | Electronics\n"
     ]
    },
    {
     "name": "stderr",
     "output_type": "stream",
     "text": [
      "2016-12-29 07:23:38,136 - 67983 images copied so far\n"
     ]
    },
    {
     "name": "stdout",
     "output_type": "stream",
     "text": [
      "Electronics -> Computers & Accessories -> Cables & Accessories -> Memory Card Readers | Electronics\n"
     ]
    },
    {
     "name": "stderr",
     "output_type": "stream",
     "text": [
      "2016-12-29 07:23:38,405 - 68483 images copied so far\n"
     ]
    },
    {
     "name": "stdout",
     "output_type": "stream",
     "text": [
      "Electronics -> Computers & Accessories -> Cables & Accessories -> Memory Cards -> Micro SD Cards | Electronics\n"
     ]
    },
    {
     "name": "stderr",
     "output_type": "stream",
     "text": [
      "2016-12-29 07:23:38,725 - 68983 images copied so far\n"
     ]
    },
    {
     "name": "stdout",
     "output_type": "stream",
     "text": [
      "Electronics -> Computers & Accessories -> Cables & Accessories -> Memory Cards -> SD & SDHC Cards | Electronics\n"
     ]
    },
    {
     "name": "stderr",
     "output_type": "stream",
     "text": [
      "2016-12-29 07:23:39,028 - 69483 images copied so far\n"
     ]
    },
    {
     "name": "stdout",
     "output_type": "stream",
     "text": [
      "Electronics -> Computers & Accessories -> Cables & Accessories -> Mice | Electronics\n"
     ]
    },
    {
     "name": "stderr",
     "output_type": "stream",
     "text": [
      "2016-12-29 07:23:39,316 - 69983 images copied so far\n"
     ]
    },
    {
     "name": "stdout",
     "output_type": "stream",
     "text": [
      "Electronics -> Computers & Accessories -> Cables & Accessories -> Video Projector Accessories -> Lamps | Electronics\n"
     ]
    },
    {
     "name": "stderr",
     "output_type": "stream",
     "text": [
      "2016-12-29 07:23:39,645 - 70483 images copied so far\n"
     ]
    },
    {
     "name": "stdout",
     "output_type": "stream",
     "text": [
      "Electronics -> Computers & Accessories -> Computer Components -> Computer Cases | Electronics\n"
     ]
    },
    {
     "name": "stderr",
     "output_type": "stream",
     "text": [
      "2016-12-29 07:23:39,943 - 70983 images copied so far\n"
     ]
    },
    {
     "name": "stdout",
     "output_type": "stream",
     "text": [
      "Electronics -> Computers & Accessories -> Computer Components -> CPU Processors | Electronics\n"
     ]
    },
    {
     "name": "stderr",
     "output_type": "stream",
     "text": [
      "2016-12-29 07:23:40,252 - 71483 images copied so far\n"
     ]
    },
    {
     "name": "stdout",
     "output_type": "stream",
     "text": [
      "Electronics -> Computers & Accessories -> Computer Components -> Fans & Cooling -> Case Fans | Electronics\n"
     ]
    },
    {
     "name": "stderr",
     "output_type": "stream",
     "text": [
      "2016-12-29 07:23:40,643 - 71983 images copied so far\n"
     ]
    },
    {
     "name": "stdout",
     "output_type": "stream",
     "text": [
      "Electronics -> Computers & Accessories -> Computer Components -> Graphics Cards | Electronics\n"
     ]
    },
    {
     "name": "stderr",
     "output_type": "stream",
     "text": [
      "2016-12-29 07:23:40,936 - 72483 images copied so far\n"
     ]
    },
    {
     "name": "stdout",
     "output_type": "stream",
     "text": [
      "Electronics -> Computers & Accessories -> Computer Components -> Memory | Electronics\n"
     ]
    },
    {
     "name": "stderr",
     "output_type": "stream",
     "text": [
      "2016-12-29 07:23:41,265 - 72983 images copied so far\n"
     ]
    },
    {
     "name": "stdout",
     "output_type": "stream",
     "text": [
      "Electronics -> Computers & Accessories -> Computer Components -> Motherboards | Electronics\n"
     ]
    },
    {
     "name": "stderr",
     "output_type": "stream",
     "text": [
      "2016-12-29 07:23:41,633 - 73483 images copied so far\n"
     ]
    },
    {
     "name": "stdout",
     "output_type": "stream",
     "text": [
      "Electronics -> Computers & Accessories -> Computer Components -> Power Supplies | Electronics\n"
     ]
    },
    {
     "name": "stderr",
     "output_type": "stream",
     "text": [
      "2016-12-29 07:23:41,940 - 73983 images copied so far\n"
     ]
    },
    {
     "name": "stdout",
     "output_type": "stream",
     "text": [
      "Electronics -> Computers & Accessories -> Data Storage -> External Hard Drives | Electronics\n"
     ]
    },
    {
     "name": "stderr",
     "output_type": "stream",
     "text": [
      "2016-12-29 07:23:42,199 - 74483 images copied so far\n"
     ]
    },
    {
     "name": "stdout",
     "output_type": "stream",
     "text": [
      "Electronics -> Computers & Accessories -> Data Storage -> Internal Hard Drives | Electronics\n"
     ]
    },
    {
     "name": "stderr",
     "output_type": "stream",
     "text": [
      "2016-12-29 07:23:42,540 - 74983 images copied so far\n"
     ]
    },
    {
     "name": "stdout",
     "output_type": "stream",
     "text": [
      "Electronics -> Computers & Accessories -> Data Storage -> Internal Solid State Drives | Electronics\n"
     ]
    },
    {
     "name": "stderr",
     "output_type": "stream",
     "text": [
      "2016-12-29 07:23:42,812 - 75483 images copied so far\n"
     ]
    },
    {
     "name": "stdout",
     "output_type": "stream",
     "text": [
      "Electronics -> Computers & Accessories -> Data Storage -> USB Flash Drives | Electronics\n"
     ]
    },
    {
     "name": "stderr",
     "output_type": "stream",
     "text": [
      "2016-12-29 07:23:43,128 - 75983 images copied so far\n"
     ]
    },
    {
     "name": "stdout",
     "output_type": "stream",
     "text": [
      "Electronics -> Computers & Accessories -> Desktops | Electronics\n"
     ]
    },
    {
     "name": "stderr",
     "output_type": "stream",
     "text": [
      "2016-12-29 07:23:43,419 - 76483 images copied so far\n"
     ]
    },
    {
     "name": "stdout",
     "output_type": "stream",
     "text": [
      "Electronics -> Computers & Accessories -> Laptop & Netbook Computer Accessories -> Bags & Cases -> Backpacks | Electronics\n"
     ]
    },
    {
     "name": "stderr",
     "output_type": "stream",
     "text": [
      "2016-12-29 07:23:43,741 - 76983 images copied so far\n"
     ]
    },
    {
     "name": "stdout",
     "output_type": "stream",
     "text": [
      "Electronics -> Computers & Accessories -> Laptop & Netbook Computer Accessories -> Bags & Cases -> Messenger Bags | Electronics\n"
     ]
    },
    {
     "name": "stderr",
     "output_type": "stream",
     "text": [
      "2016-12-29 07:23:44,028 - 77483 images copied so far\n"
     ]
    },
    {
     "name": "stdout",
     "output_type": "stream",
     "text": [
      "Electronics -> Computers & Accessories -> Laptop & Netbook Computer Accessories -> Bags & Cases -> Sleeves & Slipcases | Electronics\n"
     ]
    },
    {
     "name": "stderr",
     "output_type": "stream",
     "text": [
      "2016-12-29 07:23:44,373 - 77983 images copied so far\n"
     ]
    },
    {
     "name": "stdout",
     "output_type": "stream",
     "text": [
      "Electronics -> Computers & Accessories -> Laptop & Netbook Computer Accessories -> Batteries | Electronics\n"
     ]
    },
    {
     "name": "stderr",
     "output_type": "stream",
     "text": [
      "2016-12-29 07:23:44,757 - 78483 images copied so far\n"
     ]
    },
    {
     "name": "stdout",
     "output_type": "stream",
     "text": [
      "Electronics -> Computers & Accessories -> Laptop & Netbook Computer Accessories -> Chargers & Adapters | Electronics\n"
     ]
    },
    {
     "name": "stderr",
     "output_type": "stream",
     "text": [
      "2016-12-29 07:23:45,136 - 78983 images copied so far\n"
     ]
    },
    {
     "name": "stdout",
     "output_type": "stream",
     "text": [
      "Electronics -> Computers & Accessories -> Laptops | Electronics\n"
     ]
    },
    {
     "name": "stderr",
     "output_type": "stream",
     "text": [
      "2016-12-29 07:23:45,463 - 79483 images copied so far\n"
     ]
    },
    {
     "name": "stdout",
     "output_type": "stream",
     "text": [
      "Electronics -> Computers & Accessories -> Monitors | Electronics\n"
     ]
    },
    {
     "name": "stderr",
     "output_type": "stream",
     "text": [
      "2016-12-29 07:23:45,818 - 79983 images copied so far\n"
     ]
    },
    {
     "name": "stdout",
     "output_type": "stream",
     "text": [
      "Electronics -> Computers & Accessories -> Networking Products -> Hubs | Electronics\n"
     ]
    },
    {
     "name": "stderr",
     "output_type": "stream",
     "text": [
      "2016-12-29 07:23:46,062 - 80483 images copied so far\n"
     ]
    },
    {
     "name": "stdout",
     "output_type": "stream",
     "text": [
      "Electronics -> Computers & Accessories -> Networking Products -> Network Adapters -> USB Network Adapters | Electronics\n"
     ]
    },
    {
     "name": "stderr",
     "output_type": "stream",
     "text": [
      "2016-12-29 07:23:46,392 - 80983 images copied so far\n"
     ]
    },
    {
     "name": "stdout",
     "output_type": "stream",
     "text": [
      "Electronics -> Computers & Accessories -> PDAs, Handhelds & Accessories -> PDA & Handheld Accessories -> Cases | Electronics\n"
     ]
    },
    {
     "name": "stderr",
     "output_type": "stream",
     "text": [
      "2016-12-29 07:23:46,693 - 81483 images copied so far\n"
     ]
    },
    {
     "name": "stdout",
     "output_type": "stream",
     "text": [
      "Electronics -> Computers & Accessories -> Routers | Electronics\n"
     ]
    },
    {
     "name": "stderr",
     "output_type": "stream",
     "text": [
      "2016-12-29 07:23:46,986 - 81983 images copied so far\n"
     ]
    },
    {
     "name": "stdout",
     "output_type": "stream",
     "text": [
      "Electronics -> Computers & Accessories -> Tablets | Electronics\n"
     ]
    },
    {
     "name": "stderr",
     "output_type": "stream",
     "text": [
      "2016-12-29 07:23:47,312 - 82483 images copied so far\n"
     ]
    },
    {
     "name": "stdout",
     "output_type": "stream",
     "text": [
      "Electronics -> Computers & Accessories -> Touch Screen Tablet Accessories -> Bundles | Electronics\n"
     ]
    },
    {
     "name": "stderr",
     "output_type": "stream",
     "text": [
      "2016-12-29 07:23:47,594 - 82983 images copied so far\n"
     ]
    },
    {
     "name": "stdout",
     "output_type": "stream",
     "text": [
      "Electronics -> Computers & Accessories -> Touch Screen Tablet Accessories -> Chargers & Adapters | Electronics\n"
     ]
    },
    {
     "name": "stderr",
     "output_type": "stream",
     "text": [
      "2016-12-29 07:23:47,880 - 83483 images copied so far\n"
     ]
    },
    {
     "name": "stdout",
     "output_type": "stream",
     "text": [
      "Electronics -> Computers & Accessories -> Touch Screen Tablet Accessories -> Screen Protectors | Electronics\n"
     ]
    },
    {
     "name": "stderr",
     "output_type": "stream",
     "text": [
      "2016-12-29 07:23:48,196 - 83983 images copied so far\n"
     ]
    },
    {
     "name": "stdout",
     "output_type": "stream",
     "text": [
      "Electronics -> Computers & Accessories -> Touch Screen Tablet Accessories -> Stands | Electronics\n"
     ]
    },
    {
     "name": "stderr",
     "output_type": "stream",
     "text": [
      "2016-12-29 07:23:48,487 - 84483 images copied so far\n"
     ]
    },
    {
     "name": "stdout",
     "output_type": "stream",
     "text": [
      "Electronics -> Computers & Accessories -> Video Projectors | Electronics\n"
     ]
    },
    {
     "name": "stderr",
     "output_type": "stream",
     "text": [
      "2016-12-29 07:23:48,757 - 84983 images copied so far\n"
     ]
    },
    {
     "name": "stdout",
     "output_type": "stream",
     "text": [
      "Electronics -> Computers & Accessories -> Webcams | Electronics\n"
     ]
    },
    {
     "name": "stderr",
     "output_type": "stream",
     "text": [
      "2016-12-29 07:23:49,117 - 85483 images copied so far\n"
     ]
    },
    {
     "name": "stdout",
     "output_type": "stream",
     "text": [
      "Electronics -> GPS & Navigation -> GPS System Accessories -> Cases | Electronics\n"
     ]
    },
    {
     "name": "stderr",
     "output_type": "stream",
     "text": [
      "2016-12-29 07:23:49,511 - 85983 images copied so far\n"
     ]
    },
    {
     "name": "stdout",
     "output_type": "stream",
     "text": [
      "Electronics -> GPS & Navigation -> GPS System Accessories -> Vehicle Mounts | Electronics\n"
     ]
    },
    {
     "name": "stderr",
     "output_type": "stream",
     "text": [
      "2016-12-29 07:23:49,825 - 86483 images copied so far\n"
     ]
    },
    {
     "name": "stdout",
     "output_type": "stream",
     "text": [
      "Electronics -> Home Audio -> Stereo Components -> Receivers & Amplifiers -> Component Receivers | Electronics\n"
     ]
    },
    {
     "name": "stderr",
     "output_type": "stream",
     "text": [
      "2016-12-29 07:23:50,048 - 86983 images copied so far\n"
     ]
    },
    {
     "name": "stdout",
     "output_type": "stream",
     "text": [
      "Electronics -> Home Audio -> Stereo Components -> Speakers -> Speaker Systems | Electronics\n"
     ]
    },
    {
     "name": "stderr",
     "output_type": "stream",
     "text": [
      "2016-12-29 07:23:50,320 - 87483 images copied so far\n"
     ]
    },
    {
     "name": "stdout",
     "output_type": "stream",
     "text": [
      "Electronics -> Portable Audio & Video -> MP3 Players & Accessories -> MP3 Player Accessories -> FM Transmitters | Electronics\n"
     ]
    },
    {
     "name": "stderr",
     "output_type": "stream",
     "text": [
      "2016-12-29 07:23:50,724 - 87983 images copied so far\n"
     ]
    },
    {
     "name": "stdout",
     "output_type": "stream",
     "text": [
      "Electronics -> Portable Audio & Video -> MP3 Players & Accessories -> MP3 Player Accessories -> Speaker Systems | Electronics\n"
     ]
    },
    {
     "name": "stderr",
     "output_type": "stream",
     "text": [
      "2016-12-29 07:23:51,057 - 88483 images copied so far\n"
     ]
    },
    {
     "name": "stdout",
     "output_type": "stream",
     "text": [
      "Electronics -> Portable Audio & Video -> MP3 Players & Accessories -> MP3 Players | Electronics\n"
     ]
    },
    {
     "name": "stderr",
     "output_type": "stream",
     "text": [
      "2016-12-29 07:23:51,409 - 88983 images copied so far\n"
     ]
    },
    {
     "name": "stdout",
     "output_type": "stream",
     "text": [
      "Electronics -> Television & Video -> DVD Players & Recorders -> DVD Players | Electronics\n"
     ]
    },
    {
     "name": "stderr",
     "output_type": "stream",
     "text": [
      "2016-12-29 07:23:51,661 - 89483 images copied so far\n"
     ]
    },
    {
     "name": "stdout",
     "output_type": "stream",
     "text": [
      "Electronics -> Television & Video -> Televisions -> LCD TVs | Electronics\n"
     ]
    },
    {
     "name": "stderr",
     "output_type": "stream",
     "text": [
      "2016-12-29 07:23:51,945 - 89983 images copied so far\n"
     ]
    },
    {
     "name": "stdout",
     "output_type": "stream",
     "text": [
      "Electronics -> Television & Video -> Televisions -> LED TVs | Electronics\n"
     ]
    },
    {
     "name": "stderr",
     "output_type": "stream",
     "text": [
      "2016-12-29 07:23:52,332 - 90483 images copied so far\n"
     ]
    },
    {
     "name": "stdout",
     "output_type": "stream",
     "text": [
      "Home & Kitchen -> Furniture -> Bedroom Furniture -> Beds & Bed Frames -> Beds | Home & Kitchen\n"
     ]
    },
    {
     "name": "stderr",
     "output_type": "stream",
     "text": [
      "2016-12-29 07:23:52,625 - 90983 images copied so far\n"
     ]
    },
    {
     "name": "stdout",
     "output_type": "stream",
     "text": [
      "Home & Kitchen -> Furniture -> Bedroom Furniture -> Mattresses & Box Springs -> Mattresses | Home & Kitchen\n"
     ]
    },
    {
     "name": "stderr",
     "output_type": "stream",
     "text": [
      "2016-12-29 07:23:52,883 - 91483 images copied so far\n"
     ]
    },
    {
     "name": "stdout",
     "output_type": "stream",
     "text": [
      "Home & Kitchen -> Furniture -> Home Bar Furniture -> Barstools | Home & Kitchen\n"
     ]
    },
    {
     "name": "stderr",
     "output_type": "stream",
     "text": [
      "2016-12-29 07:23:53,126 - 91983 images copied so far\n"
     ]
    },
    {
     "name": "stdout",
     "output_type": "stream",
     "text": [
      "Home & Kitchen -> Furniture -> Home Entertainment Furniture -> Television Stands & Entertainment Centers | Home & Kitchen\n"
     ]
    },
    {
     "name": "stderr",
     "output_type": "stream",
     "text": [
      "2016-12-29 07:23:53,388 - 92483 images copied so far\n"
     ]
    },
    {
     "name": "stdout",
     "output_type": "stream",
     "text": [
      "Home & Kitchen -> Furniture -> Home Office Furniture -> Home Office Desks | Home & Kitchen\n"
     ]
    },
    {
     "name": "stderr",
     "output_type": "stream",
     "text": [
      "2016-12-29 07:23:53,650 - 92983 images copied so far\n"
     ]
    },
    {
     "name": "stdout",
     "output_type": "stream",
     "text": [
      "Home & Kitchen -> Furniture -> Kitchen & Dining Room Furniture -> Chairs | Home & Kitchen\n"
     ]
    },
    {
     "name": "stderr",
     "output_type": "stream",
     "text": [
      "2016-12-29 07:23:53,885 - 93483 images copied so far\n"
     ]
    },
    {
     "name": "stdout",
     "output_type": "stream",
     "text": [
      "Home & Kitchen -> Furniture -> Living Room Furniture -> Chairs | Home & Kitchen\n"
     ]
    },
    {
     "name": "stderr",
     "output_type": "stream",
     "text": [
      "2016-12-29 07:23:54,180 - 93983 images copied so far\n"
     ]
    },
    {
     "name": "stdout",
     "output_type": "stream",
     "text": [
      "Home & Kitchen -> Furniture -> Living Room Furniture -> Ottomans & Storage Ottomans | Home & Kitchen\n"
     ]
    },
    {
     "name": "stderr",
     "output_type": "stream",
     "text": [
      "2016-12-29 07:23:54,448 - 94483 images copied so far\n"
     ]
    },
    {
     "name": "stdout",
     "output_type": "stream",
     "text": [
      "Home & Kitchen -> Furniture -> Living Room Furniture -> Sofas & Couches | Home & Kitchen\n"
     ]
    },
    {
     "name": "stderr",
     "output_type": "stream",
     "text": [
      "2016-12-29 07:23:54,729 - 94983 images copied so far\n"
     ]
    },
    {
     "name": "stdout",
     "output_type": "stream",
     "text": [
      "Home & Kitchen -> Furniture -> Living Room Furniture -> Tables -> Coffee Tables | Home & Kitchen\n"
     ]
    },
    {
     "name": "stderr",
     "output_type": "stream",
     "text": [
      "2016-12-29 07:23:54,997 - 95483 images copied so far\n"
     ]
    },
    {
     "name": "stdout",
     "output_type": "stream",
     "text": [
      "Home & Kitchen -> Kitchen & Dining -> Bakeware -> Baking Tools & Accessories -> Cookie Cutters | Home & Kitchen\n"
     ]
    },
    {
     "name": "stderr",
     "output_type": "stream",
     "text": [
      "2016-12-29 07:23:55,235 - 95983 images copied so far\n"
     ]
    },
    {
     "name": "stdout",
     "output_type": "stream",
     "text": [
      "Home & Kitchen -> Kitchen & Dining -> Bakeware -> Cake Pans -> Specialty & Novelty Cake Pans | Home & Kitchen\n"
     ]
    },
    {
     "name": "stderr",
     "output_type": "stream",
     "text": [
      "2016-12-29 07:23:55,552 - 96483 images copied so far\n"
     ]
    },
    {
     "name": "stdout",
     "output_type": "stream",
     "text": [
      "Home & Kitchen -> Kitchen & Dining -> Bakeware -> Candy Making Supplies -> Candy Making Molds | Home & Kitchen\n"
     ]
    },
    {
     "name": "stderr",
     "output_type": "stream",
     "text": [
      "2016-12-29 07:23:55,872 - 96983 images copied so far\n"
     ]
    },
    {
     "name": "stdout",
     "output_type": "stream",
     "text": [
      "Home & Kitchen -> Kitchen & Dining -> Bakeware -> Decorating Tools -> Cake Toppers | Home & Kitchen\n"
     ]
    },
    {
     "name": "stderr",
     "output_type": "stream",
     "text": [
      "2016-12-29 07:23:56,170 - 97483 images copied so far\n"
     ]
    },
    {
     "name": "stdout",
     "output_type": "stream",
     "text": [
      "Home & Kitchen -> Kitchen & Dining -> Bakeware -> Mixing Bowls | Home & Kitchen\n"
     ]
    },
    {
     "name": "stderr",
     "output_type": "stream",
     "text": [
      "2016-12-29 07:23:56,439 - 97983 images copied so far\n"
     ]
    },
    {
     "name": "stdout",
     "output_type": "stream",
     "text": [
      "Home & Kitchen -> Kitchen & Dining -> Bakeware -> Small Pastry Molds | Home & Kitchen\n"
     ]
    },
    {
     "name": "stderr",
     "output_type": "stream",
     "text": [
      "2016-12-29 07:23:56,733 - 98483 images copied so far\n"
     ]
    },
    {
     "name": "stdout",
     "output_type": "stream",
     "text": [
      "Home & Kitchen -> Kitchen & Dining -> Coffee, Tea & Espresso -> Coffee Makers -> Coffee Machines | Home & Kitchen\n"
     ]
    },
    {
     "name": "stderr",
     "output_type": "stream",
     "text": [
      "2016-12-29 07:23:56,998 - 98983 images copied so far\n"
     ]
    },
    {
     "name": "stdout",
     "output_type": "stream",
     "text": [
      "Home & Kitchen -> Kitchen & Dining -> Cookware -> Cookware Sets | Home & Kitchen\n"
     ]
    },
    {
     "name": "stderr",
     "output_type": "stream",
     "text": [
      "2016-12-29 07:23:57,275 - 99483 images copied so far\n"
     ]
    },
    {
     "name": "stdout",
     "output_type": "stream",
     "text": [
      "Home & Kitchen -> Kitchen & Dining -> Cookware -> Saucepans | Home & Kitchen\n"
     ]
    },
    {
     "name": "stderr",
     "output_type": "stream",
     "text": [
      "2016-12-29 07:23:57,523 - 99983 images copied so far\n"
     ]
    },
    {
     "name": "stdout",
     "output_type": "stream",
     "text": [
      "Home & Kitchen -> Kitchen & Dining -> Cookware -> Teakettles | Home & Kitchen\n"
     ]
    },
    {
     "name": "stderr",
     "output_type": "stream",
     "text": [
      "2016-12-29 07:23:57,794 - 100483 images copied so far\n"
     ]
    },
    {
     "name": "stdout",
     "output_type": "stream",
     "text": [
      "Home & Kitchen -> Kitchen & Dining -> Dining & Entertaining -> Bar Tools & Glasses -> Coasters | Home & Kitchen\n"
     ]
    },
    {
     "name": "stderr",
     "output_type": "stream",
     "text": [
      "2016-12-29 07:23:58,101 - 100983 images copied so far\n"
     ]
    },
    {
     "name": "stdout",
     "output_type": "stream",
     "text": [
      "Home & Kitchen -> Kitchen & Dining -> Dining & Entertaining -> Bar Tools & Glasses -> Flasks | Home & Kitchen\n"
     ]
    },
    {
     "name": "stderr",
     "output_type": "stream",
     "text": [
      "2016-12-29 07:23:58,389 - 101483 images copied so far\n"
     ]
    },
    {
     "name": "stdout",
     "output_type": "stream",
     "text": [
      "Home & Kitchen -> Kitchen & Dining -> Dining & Entertaining -> Cups, Mugs & Saucers -> Coffee Cups & Mugs | Home & Kitchen\n"
     ]
    },
    {
     "name": "stderr",
     "output_type": "stream",
     "text": [
      "2016-12-29 07:23:58,703 - 101983 images copied so far\n"
     ]
    },
    {
     "name": "stdout",
     "output_type": "stream",
     "text": [
      "Home & Kitchen -> Kitchen & Dining -> Dining & Entertaining -> Dinnerware Sets | Home & Kitchen\n"
     ]
    },
    {
     "name": "stderr",
     "output_type": "stream",
     "text": [
      "2016-12-29 07:23:58,982 - 102483 images copied so far\n"
     ]
    },
    {
     "name": "stdout",
     "output_type": "stream",
     "text": [
      "Home & Kitchen -> Kitchen & Dining -> Dining & Entertaining -> Flatware -> Flatware Sets | Home & Kitchen\n"
     ]
    },
    {
     "name": "stderr",
     "output_type": "stream",
     "text": [
      "2016-12-29 07:23:59,260 - 102983 images copied so far\n"
     ]
    },
    {
     "name": "stdout",
     "output_type": "stream",
     "text": [
      "Home & Kitchen -> Kitchen & Dining -> Dining & Entertaining -> Glassware & Drinkware -> Beer Glasses | Home & Kitchen\n"
     ]
    },
    {
     "name": "stderr",
     "output_type": "stream",
     "text": [
      "2016-12-29 07:23:59,557 - 103483 images copied so far\n"
     ]
    },
    {
     "name": "stdout",
     "output_type": "stream",
     "text": [
      "Home & Kitchen -> Kitchen & Dining -> Dining & Entertaining -> Glassware & Drinkware -> Shot Glasses | Home & Kitchen\n"
     ]
    },
    {
     "name": "stderr",
     "output_type": "stream",
     "text": [
      "2016-12-29 07:23:59,841 - 103983 images copied so far\n"
     ]
    },
    {
     "name": "stdout",
     "output_type": "stream",
     "text": [
      "Home & Kitchen -> Kitchen & Dining -> Dining & Entertaining -> Glassware & Drinkware -> Tumblers | Home & Kitchen\n"
     ]
    },
    {
     "name": "stderr",
     "output_type": "stream",
     "text": [
      "2016-12-29 07:24:00,100 - 104483 images copied so far\n"
     ]
    },
    {
     "name": "stdout",
     "output_type": "stream",
     "text": [
      "Home & Kitchen -> Kitchen & Dining -> Dining & Entertaining -> Glassware & Drinkware -> Wine Glasses | Home & Kitchen\n"
     ]
    },
    {
     "name": "stderr",
     "output_type": "stream",
     "text": [
      "2016-12-29 07:24:00,387 - 104983 images copied so far\n"
     ]
    },
    {
     "name": "stdout",
     "output_type": "stream",
     "text": [
      "Home & Kitchen -> Kitchen & Dining -> Dining & Entertaining -> Plates -> Dinner Plates | Home & Kitchen\n"
     ]
    },
    {
     "name": "stderr",
     "output_type": "stream",
     "text": [
      "2016-12-29 07:24:00,737 - 105483 images copied so far\n"
     ]
    },
    {
     "name": "stdout",
     "output_type": "stream",
     "text": [
      "Home & Kitchen -> Kitchen & Dining -> Dining & Entertaining -> Serveware -> Beverage Serveware -> Carafes & Pitchers | Home & Kitchen\n"
     ]
    },
    {
     "name": "stderr",
     "output_type": "stream",
     "text": [
      "2016-12-29 07:24:01,026 - 105983 images copied so far\n"
     ]
    },
    {
     "name": "stdout",
     "output_type": "stream",
     "text": [
      "Home & Kitchen -> Kitchen & Dining -> Dining & Entertaining -> Serveware -> Beverage Serveware -> Teapots & Coffee Servers -> Teapots | Home & Kitchen\n"
     ]
    },
    {
     "name": "stderr",
     "output_type": "stream",
     "text": [
      "2016-12-29 07:24:01,305 - 106483 images copied so far\n"
     ]
    },
    {
     "name": "stdout",
     "output_type": "stream",
     "text": [
      "Home & Kitchen -> Kitchen & Dining -> Dining & Entertaining -> Serveware -> Serving Bowls & Tureens -> Serving Bowls | Home & Kitchen\n"
     ]
    },
    {
     "name": "stderr",
     "output_type": "stream",
     "text": [
      "2016-12-29 07:24:01,597 - 106983 images copied so far\n"
     ]
    },
    {
     "name": "stdout",
     "output_type": "stream",
     "text": [
      "Home & Kitchen -> Kitchen & Dining -> Dining & Entertaining -> Serveware -> Serving Dishes, Trays & Platters -> Platters | Home & Kitchen\n"
     ]
    },
    {
     "name": "stderr",
     "output_type": "stream",
     "text": [
      "2016-12-29 07:24:01,882 - 107483 images copied so far\n"
     ]
    },
    {
     "name": "stdout",
     "output_type": "stream",
     "text": [
      "Home & Kitchen -> Kitchen & Dining -> Dining & Entertaining -> Serveware -> Serving Dishes, Trays & Platters -> Serving Trays | Home & Kitchen\n"
     ]
    },
    {
     "name": "stderr",
     "output_type": "stream",
     "text": [
      "2016-12-29 07:24:02,173 - 107983 images copied so far\n"
     ]
    },
    {
     "name": "stdout",
     "output_type": "stream",
     "text": [
      "Home & Kitchen -> Kitchen & Dining -> Kitchen Knives & Cutlery Accessories -> Cutlery Sets -> Knife Block Sets | Home & Kitchen\n"
     ]
    },
    {
     "name": "stderr",
     "output_type": "stream",
     "text": [
      "2016-12-29 07:24:02,439 - 108483 images copied so far\n"
     ]
    },
    {
     "name": "stdout",
     "output_type": "stream",
     "text": [
      "Home & Kitchen -> Kitchen & Dining -> Kitchen Knives & Cutlery Accessories -> Cutting Boards | Home & Kitchen\n"
     ]
    },
    {
     "name": "stderr",
     "output_type": "stream",
     "text": [
      "2016-12-29 07:24:02,744 - 108983 images copied so far\n"
     ]
    },
    {
     "name": "stdout",
     "output_type": "stream",
     "text": [
      "Home & Kitchen -> Kitchen & Dining -> Kitchen Utensils & Gadgets -> Cooking Utensils -> Spatulas | Home & Kitchen\n"
     ]
    },
    {
     "name": "stderr",
     "output_type": "stream",
     "text": [
      "2016-12-29 07:24:02,998 - 109483 images copied so far\n"
     ]
    },
    {
     "name": "stdout",
     "output_type": "stream",
     "text": [
      "Home & Kitchen -> Kitchen & Dining -> Kitchen Utensils & Gadgets -> Cooking Utensils -> Spoons | Home & Kitchen\n"
     ]
    },
    {
     "name": "stderr",
     "output_type": "stream",
     "text": [
      "2016-12-29 07:24:03,251 - 109983 images copied so far\n"
     ]
    },
    {
     "name": "stdout",
     "output_type": "stream",
     "text": [
      "Home & Kitchen -> Kitchen & Dining -> Kitchen Utensils & Gadgets -> Graters, Peelers & Slicers -> Mandolines & Slicers | Home & Kitchen\n"
     ]
    },
    {
     "name": "stderr",
     "output_type": "stream",
     "text": [
      "2016-12-29 07:24:03,550 - 110483 images copied so far\n"
     ]
    },
    {
     "name": "stdout",
     "output_type": "stream",
     "text": [
      "Home & Kitchen -> Kitchen & Dining -> Kitchen Utensils & Gadgets -> Measuring Tools & Scales -> Scales -> Digital Scales | Home & Kitchen\n"
     ]
    },
    {
     "name": "stderr",
     "output_type": "stream",
     "text": [
      "2016-12-29 07:24:03,838 - 110983 images copied so far\n"
     ]
    },
    {
     "name": "stdout",
     "output_type": "stream",
     "text": [
      "Home & Kitchen -> Kitchen & Dining -> Kitchen Utensils & Gadgets -> Salt & Pepper -> Salt & Pepper Shaker Sets | Home & Kitchen\n"
     ]
    },
    {
     "name": "stderr",
     "output_type": "stream",
     "text": [
      "2016-12-29 07:24:04,118 - 111483 images copied so far\n"
     ]
    },
    {
     "name": "stdout",
     "output_type": "stream",
     "text": [
      "Home & Kitchen -> Kitchen & Dining -> Kitchen Utensils & Gadgets -> Thermometers & Timers -> Timers | Home & Kitchen\n"
     ]
    },
    {
     "name": "stderr",
     "output_type": "stream",
     "text": [
      "2016-12-29 07:24:04,430 - 111983 images copied so far\n"
     ]
    },
    {
     "name": "stdout",
     "output_type": "stream",
     "text": [
      "Home & Kitchen -> Kitchen & Dining -> Kitchen Utensils & Gadgets -> Tool & Gadget Sets | Home & Kitchen\n"
     ]
    },
    {
     "name": "stderr",
     "output_type": "stream",
     "text": [
      "2016-12-29 07:24:04,697 - 112483 images copied so far\n"
     ]
    },
    {
     "name": "stdout",
     "output_type": "stream",
     "text": [
      "Home & Kitchen -> Kitchen & Dining -> Small Appliances -> Blenders -> Countertop Blenders | Home & Kitchen\n"
     ]
    },
    {
     "name": "stderr",
     "output_type": "stream",
     "text": [
      "2016-12-29 07:24:05,020 - 112983 images copied so far\n"
     ]
    },
    {
     "name": "stdout",
     "output_type": "stream",
     "text": [
      "Home & Kitchen -> Kitchen & Dining -> Storage & Organization -> Commuter Mugs & Tumblers | Home & Kitchen\n"
     ]
    },
    {
     "name": "stderr",
     "output_type": "stream",
     "text": [
      "2016-12-29 07:24:05,279 - 113483 images copied so far\n"
     ]
    },
    {
     "name": "stdout",
     "output_type": "stream",
     "text": [
      "Home & Kitchen -> Kitchen & Dining -> Storage & Organization -> Food Savers | Home & Kitchen\n"
     ]
    },
    {
     "name": "stderr",
     "output_type": "stream",
     "text": [
      "2016-12-29 07:24:05,570 - 113983 images copied so far\n"
     ]
    },
    {
     "name": "stdout",
     "output_type": "stream",
     "text": [
      "Home & Kitchen -> Kitchen & Dining -> Storage & Organization -> Kitchen Storage & Organization Sets | Home & Kitchen\n"
     ]
    },
    {
     "name": "stderr",
     "output_type": "stream",
     "text": [
      "2016-12-29 07:24:05,890 - 114483 images copied so far\n"
     ]
    },
    {
     "name": "stdout",
     "output_type": "stream",
     "text": [
      "Home & Kitchen -> Kitchen & Dining -> Storage & Organization -> Lunch Boxes & Bags -> Lunch Bags | Home & Kitchen\n"
     ]
    },
    {
     "name": "stderr",
     "output_type": "stream",
     "text": [
      "2016-12-29 07:24:06,196 - 114983 images copied so far\n"
     ]
    },
    {
     "name": "stdout",
     "output_type": "stream",
     "text": [
      "Home & Kitchen -> Kitchen & Dining -> Storage & Organization -> Lunch Boxes & Bags -> Lunch Boxes | Home & Kitchen\n"
     ]
    },
    {
     "name": "stderr",
     "output_type": "stream",
     "text": [
      "2016-12-29 07:24:06,519 - 115483 images copied so far\n"
     ]
    },
    {
     "name": "stdout",
     "output_type": "stream",
     "text": [
      "Home & Kitchen -> Kitchen & Dining -> Storage & Organization -> Reusable Grocery Bags | Home & Kitchen\n"
     ]
    },
    {
     "name": "stderr",
     "output_type": "stream",
     "text": [
      "2016-12-29 07:24:06,829 - 115983 images copied so far\n"
     ]
    },
    {
     "name": "stdout",
     "output_type": "stream",
     "text": [
      "Home & Kitchen -> Kitchen & Dining -> Storage & Organization -> Wine Racks | Home & Kitchen\n"
     ]
    },
    {
     "name": "stderr",
     "output_type": "stream",
     "text": [
      "2016-12-29 07:24:07,129 - 116483 images copied so far\n"
     ]
    },
    {
     "name": "stdout",
     "output_type": "stream",
     "text": [
      "Home & Kitchen -> Storage & Organization -> Baskets & Bins -> Storage Baskets | Home & Kitchen\n"
     ]
    },
    {
     "name": "stderr",
     "output_type": "stream",
     "text": [
      "2016-12-29 07:24:07,425 - 116983 images copied so far\n"
     ]
    },
    {
     "name": "stdout",
     "output_type": "stream",
     "text": [
      "Home & Kitchen -> Storage & Organization -> Home Storage Hooks -> Utility Hooks | Home & Kitchen\n"
     ]
    },
    {
     "name": "stderr",
     "output_type": "stream",
     "text": [
      "2016-12-29 07:24:07,718 - 117483 images copied so far\n"
     ]
    },
    {
     "name": "stdout",
     "output_type": "stream",
     "text": [
      "Home & Kitchen -> Storage & Organization -> Trash & Recycling -> Trash Cans | Home & Kitchen\n"
     ]
    },
    {
     "name": "stderr",
     "output_type": "stream",
     "text": [
      "2016-12-29 07:24:07,995 - 117983 images copied so far\n"
     ]
    },
    {
     "name": "stdout",
     "output_type": "stream",
     "text": [
      "Home & Kitchen -> Vacuums & Floor Care -> Vacuums -> Upright Vacuums | Home & Kitchen\n"
     ]
    },
    {
     "name": "stderr",
     "output_type": "stream",
     "text": [
      "2016-12-29 07:24:08,282 - 118483 images copied so far\n"
     ]
    },
    {
     "name": "stdout",
     "output_type": "stream",
     "text": [
      "Office Products -> Office & School Supplies -> Calendars, Planners & Personal Organizers -> Appointment Books & Planners | Office Products\n"
     ]
    },
    {
     "name": "stderr",
     "output_type": "stream",
     "text": [
      "2016-12-29 07:24:08,578 - 118983 images copied so far\n"
     ]
    },
    {
     "name": "stdout",
     "output_type": "stream",
     "text": [
      "Office Products -> Office & School Supplies -> Calendars, Planners & Personal Organizers -> Wall Calendars | Office Products\n"
     ]
    },
    {
     "name": "stderr",
     "output_type": "stream",
     "text": [
      "2016-12-29 07:24:08,956 - 119483 images copied so far\n"
     ]
    },
    {
     "name": "stdout",
     "output_type": "stream",
     "text": [
      "Office Products -> Office & School Supplies -> Desk Accessories & Workspace Organizers -> Card Files, Holders & Racks -> Business Card Holders | Office Products\n"
     ]
    },
    {
     "name": "stderr",
     "output_type": "stream",
     "text": [
      "2016-12-29 07:24:09,248 - 119983 images copied so far\n"
     ]
    },
    {
     "name": "stdout",
     "output_type": "stream",
     "text": [
      "Office Products -> Office & School Supplies -> Desk Accessories & Workspace Organizers -> Desk Supplies Holders & Dispensers -> Pencil Holders | Office Products\n"
     ]
    },
    {
     "name": "stderr",
     "output_type": "stream",
     "text": [
      "2016-12-29 07:24:09,526 - 120483 images copied so far\n"
     ]
    },
    {
     "name": "stdout",
     "output_type": "stream",
     "text": [
      "Office Products -> Office & School Supplies -> Desk Accessories & Workspace Organizers -> Mouse Pads & Wrist Rests -> Mouse Pads | Office Products\n"
     ]
    },
    {
     "name": "stderr",
     "output_type": "stream",
     "text": [
      "2016-12-29 07:24:09,861 - 120983 images copied so far\n"
     ]
    },
    {
     "name": "stdout",
     "output_type": "stream",
     "text": [
      "Office Products -> Office & School Supplies -> Forms, Recordkeeping & Money Handling -> Key Tags & Chains | Office Products\n"
     ]
    },
    {
     "name": "stderr",
     "output_type": "stream",
     "text": [
      "2016-12-29 07:24:10,174 - 121483 images copied so far\n"
     ]
    },
    {
     "name": "stdout",
     "output_type": "stream",
     "text": [
      "Office Products -> Office & School Supplies -> Labels, Indexes & Stamps -> Bookmarks | Office Products\n"
     ]
    },
    {
     "name": "stderr",
     "output_type": "stream",
     "text": [
      "2016-12-29 07:24:10,473 - 121983 images copied so far\n"
     ]
    },
    {
     "name": "stdout",
     "output_type": "stream",
     "text": [
      "Office Products -> Office & School Supplies -> Labels, Indexes & Stamps -> Identification Badges & Supplies -> Badge Holders | Office Products\n"
     ]
    },
    {
     "name": "stderr",
     "output_type": "stream",
     "text": [
      "2016-12-29 07:24:10,784 - 122483 images copied so far\n"
     ]
    },
    {
     "name": "stdout",
     "output_type": "stream",
     "text": [
      "Office Products -> Office & School Supplies -> Paper -> Cards & Card Stock -> Greeting Cards | Office Products\n"
     ]
    },
    {
     "name": "stderr",
     "output_type": "stream",
     "text": [
      "2016-12-29 07:24:11,137 - 122983 images copied so far\n"
     ]
    },
    {
     "name": "stdout",
     "output_type": "stream",
     "text": [
      "Office Products -> Office & School Supplies -> Store Signs & Displays -> Store Signs | Office Products\n"
     ]
    },
    {
     "name": "stderr",
     "output_type": "stream",
     "text": [
      "2016-12-29 07:24:11,467 - 123483 images copied so far\n"
     ]
    },
    {
     "name": "stdout",
     "output_type": "stream",
     "text": [
      "Office Products -> Office & School Supplies -> Writing & Correction Supplies -> Pencils -> Mechanical Pencils | Office Products\n"
     ]
    },
    {
     "name": "stderr",
     "output_type": "stream",
     "text": [
      "2016-12-29 07:24:11,756 - 123983 images copied so far\n"
     ]
    },
    {
     "name": "stdout",
     "output_type": "stream",
     "text": [
      "Office Products -> Office & School Supplies -> Writing & Correction Supplies -> Pens & Refills -> Ballpoint Pens | Office Products\n"
     ]
    },
    {
     "name": "stderr",
     "output_type": "stream",
     "text": [
      "2016-12-29 07:24:12,088 - 124483 images copied so far\n"
     ]
    },
    {
     "name": "stdout",
     "output_type": "stream",
     "text": [
      "Office Products -> Office & School Supplies -> Writing & Correction Supplies -> Pens & Refills -> Fountain Pens | Office Products\n"
     ]
    },
    {
     "name": "stderr",
     "output_type": "stream",
     "text": [
      "2016-12-29 07:24:12,378 - 124983 images copied so far\n"
     ]
    },
    {
     "name": "stdout",
     "output_type": "stream",
     "text": [
      "Office Products -> Office & School Supplies -> Writing & Correction Supplies -> Pens & Refills -> Pen Refills | Office Products\n"
     ]
    },
    {
     "name": "stderr",
     "output_type": "stream",
     "text": [
      "2016-12-29 07:24:12,672 - 125483 images copied so far\n"
     ]
    },
    {
     "name": "stdout",
     "output_type": "stream",
     "text": [
      "Office Products -> Office & School Supplies -> Writing & Correction Supplies -> Pens & Refills -> Rollerball Pens | Office Products\n"
     ]
    },
    {
     "name": "stderr",
     "output_type": "stream",
     "text": [
      "2016-12-29 07:24:12,969 - 125983 images copied so far\n"
     ]
    },
    {
     "name": "stdout",
     "output_type": "stream",
     "text": [
      "Office Products -> Office Electronics -> Printers & Accessories -> Printers -> Laser Printers | Office Products\n"
     ]
    },
    {
     "name": "stderr",
     "output_type": "stream",
     "text": [
      "2016-12-29 07:24:13,263 - 126483 images copied so far\n"
     ]
    },
    {
     "name": "stdout",
     "output_type": "stream",
     "text": [
      "Office Products -> Office Electronics -> Telephones & Accessories -> Cordless Telephones | Office Products\n"
     ]
    },
    {
     "name": "stderr",
     "output_type": "stream",
     "text": [
      "2016-12-29 07:24:13,553 - 126983 images copied so far\n"
     ]
    },
    {
     "name": "stdout",
     "output_type": "stream",
     "text": [
      "Office Products -> Office Furniture & Lighting -> Chairs & Sofas -> Desk Chairs | Office Products\n"
     ]
    },
    {
     "name": "stderr",
     "output_type": "stream",
     "text": [
      "2016-12-29 07:24:13,818 - 127483 images copied so far\n"
     ]
    },
    {
     "name": "stdout",
     "output_type": "stream",
     "text": [
      "Sports & Outdoors -> Accessories -> Car Sports Racks -> Bike Racks | Sports & Outdoors\n"
     ]
    },
    {
     "name": "stderr",
     "output_type": "stream",
     "text": [
      "2016-12-29 07:24:14,082 - 127983 images copied so far\n"
     ]
    },
    {
     "name": "stdout",
     "output_type": "stream",
     "text": [
      "Sports & Outdoors -> Accessories -> Sport Watches | Sports & Outdoors\n"
     ]
    },
    {
     "name": "stderr",
     "output_type": "stream",
     "text": [
      "2016-12-29 07:24:14,412 - 128483 images copied so far\n"
     ]
    },
    {
     "name": "stdout",
     "output_type": "stream",
     "text": [
      "Sports & Outdoors -> Accessories -> Sports Sunglasses | Sports & Outdoors\n"
     ]
    },
    {
     "name": "stderr",
     "output_type": "stream",
     "text": [
      "2016-12-29 07:24:14,696 - 128983 images copied so far\n"
     ]
    },
    {
     "name": "stdout",
     "output_type": "stream",
     "text": [
      "Sports & Outdoors -> Accessories -> Sports Water Bottles | Sports & Outdoors\n"
     ]
    },
    {
     "name": "stderr",
     "output_type": "stream",
     "text": [
      "2016-12-29 07:24:14,968 - 129483 images copied so far\n"
     ]
    },
    {
     "name": "stdout",
     "output_type": "stream",
     "text": [
      "Sports & Outdoors -> Accessories -> Wristbands | Sports & Outdoors\n"
     ]
    },
    {
     "name": "stderr",
     "output_type": "stream",
     "text": [
      "2016-12-29 07:24:15,257 - 129983 images copied so far\n"
     ]
    },
    {
     "name": "stdout",
     "output_type": "stream",
     "text": [
      "Sports & Outdoors -> Action Sports -> Skateboarding -> Standard Skateboards & Longboards -> Standard Skateboards | Sports & Outdoors\n"
     ]
    },
    {
     "name": "stderr",
     "output_type": "stream",
     "text": [
      "2016-12-29 07:24:15,516 - 130483 images copied so far\n"
     ]
    },
    {
     "name": "stdout",
     "output_type": "stream",
     "text": [
      "Sports & Outdoors -> Boating & Water Sports -> Boating -> Safety & Flotation Devices -> Life Jackets & Vests | Sports & Outdoors\n"
     ]
    },
    {
     "name": "stderr",
     "output_type": "stream",
     "text": [
      "2016-12-29 07:24:15,818 - 130983 images copied so far\n"
     ]
    },
    {
     "name": "stdout",
     "output_type": "stream",
     "text": [
      "Sports & Outdoors -> Boating & Water Sports -> Swimming -> Goggles | Sports & Outdoors\n"
     ]
    },
    {
     "name": "stderr",
     "output_type": "stream",
     "text": [
      "2016-12-29 07:24:16,115 - 131483 images copied so far\n"
     ]
    },
    {
     "name": "stdout",
     "output_type": "stream",
     "text": [
      "Sports & Outdoors -> Clothing -> Men -> Hoodies | Sports & Outdoors\n"
     ]
    },
    {
     "name": "stderr",
     "output_type": "stream",
     "text": [
      "2016-12-29 07:24:16,437 - 131983 images copied so far\n"
     ]
    },
    {
     "name": "stdout",
     "output_type": "stream",
     "text": [
      "Sports & Outdoors -> Clothing -> Men -> Shirts -> T-Shirts | Sports & Outdoors\n"
     ]
    },
    {
     "name": "stderr",
     "output_type": "stream",
     "text": [
      "2016-12-29 07:24:16,770 - 132483 images copied so far\n"
     ]
    },
    {
     "name": "stdout",
     "output_type": "stream",
     "text": [
      "Sports & Outdoors -> Clothing -> Men -> Shorts -> Compression Shorts | Sports & Outdoors\n"
     ]
    },
    {
     "name": "stderr",
     "output_type": "stream",
     "text": [
      "2016-12-29 07:24:17,048 - 132983 images copied so far\n"
     ]
    },
    {
     "name": "stdout",
     "output_type": "stream",
     "text": [
      "Sports & Outdoors -> Clothing -> Men -> Socks | Sports & Outdoors\n"
     ]
    },
    {
     "name": "stderr",
     "output_type": "stream",
     "text": [
      "2016-12-29 07:24:17,349 - 133483 images copied so far\n"
     ]
    },
    {
     "name": "stdout",
     "output_type": "stream",
     "text": [
      "Sports & Outdoors -> Clothing -> Men -> Sweatshirts | Sports & Outdoors\n"
     ]
    },
    {
     "name": "stderr",
     "output_type": "stream",
     "text": [
      "2016-12-29 07:24:17,668 - 133983 images copied so far\n"
     ]
    },
    {
     "name": "stdout",
     "output_type": "stream",
     "text": [
      "Sports & Outdoors -> Clothing -> Women -> Shirts -> T-Shirts | Sports & Outdoors\n"
     ]
    },
    {
     "name": "stderr",
     "output_type": "stream",
     "text": [
      "2016-12-29 07:24:18,031 - 134483 images copied so far\n"
     ]
    },
    {
     "name": "stdout",
     "output_type": "stream",
     "text": [
      "Sports & Outdoors -> Clothing -> Women -> Socks | Sports & Outdoors\n"
     ]
    },
    {
     "name": "stderr",
     "output_type": "stream",
     "text": [
      "2016-12-29 07:24:18,349 - 134983 images copied so far\n"
     ]
    },
    {
     "name": "stdout",
     "output_type": "stream",
     "text": [
      "Sports & Outdoors -> Cycling -> Helmets -> Adult Helmets | Sports & Outdoors\n"
     ]
    },
    {
     "name": "stderr",
     "output_type": "stream",
     "text": [
      "2016-12-29 07:24:18,660 - 135483 images copied so far\n"
     ]
    },
    {
     "name": "stdout",
     "output_type": "stream",
     "text": [
      "Sports & Outdoors -> Cycling -> Parts & Components -> Handlebars, Headsets & Stems -> Handlebars | Sports & Outdoors\n"
     ]
    },
    {
     "name": "stderr",
     "output_type": "stream",
     "text": [
      "2016-12-29 07:24:18,965 - 135983 images copied so far\n"
     ]
    },
    {
     "name": "stdout",
     "output_type": "stream",
     "text": [
      "Sports & Outdoors -> Cycling -> Parts & Components -> Saddles & Accessories -> Saddles | Sports & Outdoors\n"
     ]
    },
    {
     "name": "stderr",
     "output_type": "stream",
     "text": [
      "2016-12-29 07:24:19,234 - 136483 images copied so far\n"
     ]
    },
    {
     "name": "stdout",
     "output_type": "stream",
     "text": [
      "Sports & Outdoors -> Cycling -> Pedals & Cleats -> Pedals | Sports & Outdoors\n"
     ]
    },
    {
     "name": "stderr",
     "output_type": "stream",
     "text": [
      "2016-12-29 07:24:19,560 - 136983 images copied so far\n"
     ]
    },
    {
     "name": "stdout",
     "output_type": "stream",
     "text": [
      "Sports & Outdoors -> Cycling -> Tires & Tubes -> Tires | Sports & Outdoors\n"
     ]
    },
    {
     "name": "stderr",
     "output_type": "stream",
     "text": [
      "2016-12-29 07:24:19,867 - 137483 images copied so far\n"
     ]
    },
    {
     "name": "stdout",
     "output_type": "stream",
     "text": [
      "Sports & Outdoors -> Exercise & Fitness -> Accessories -> Exercise Bands | Sports & Outdoors\n"
     ]
    },
    {
     "name": "stderr",
     "output_type": "stream",
     "text": [
      "2016-12-29 07:24:20,163 - 137983 images copied so far\n"
     ]
    },
    {
     "name": "stdout",
     "output_type": "stream",
     "text": [
      "Sports & Outdoors -> Exercise & Fitness -> Accessories -> Gloves | Sports & Outdoors\n"
     ]
    },
    {
     "name": "stderr",
     "output_type": "stream",
     "text": [
      "2016-12-29 07:24:20,455 - 138483 images copied so far\n"
     ]
    },
    {
     "name": "stdout",
     "output_type": "stream",
     "text": [
      "Sports & Outdoors -> Exercise & Fitness -> Exercise Videos | Sports & Outdoors\n"
     ]
    },
    {
     "name": "stderr",
     "output_type": "stream",
     "text": [
      "2016-12-29 07:24:20,811 - 138983 images copied so far\n"
     ]
    },
    {
     "name": "stdout",
     "output_type": "stream",
     "text": [
      "Sports & Outdoors -> Exercise & Fitness -> Yoga -> Clothing -> Women -> Pants | Sports & Outdoors\n"
     ]
    },
    {
     "name": "stderr",
     "output_type": "stream",
     "text": [
      "2016-12-29 07:24:21,102 - 139483 images copied so far\n"
     ]
    },
    {
     "name": "stdout",
     "output_type": "stream",
     "text": [
      "Sports & Outdoors -> Exercise & Fitness -> Yoga -> Mats | Sports & Outdoors\n"
     ]
    },
    {
     "name": "stderr",
     "output_type": "stream",
     "text": [
      "2016-12-29 07:24:21,402 - 139983 images copied so far\n"
     ]
    },
    {
     "name": "stdout",
     "output_type": "stream",
     "text": [
      "Sports & Outdoors -> Hunting & Fishing -> Hunting -> Clothing | Sports & Outdoors\n"
     ]
    },
    {
     "name": "stderr",
     "output_type": "stream",
     "text": [
      "2016-12-29 07:24:21,716 - 140483 images copied so far\n"
     ]
    },
    {
     "name": "stdout",
     "output_type": "stream",
     "text": [
      "Sports & Outdoors -> Hunting & Fishing -> Hunting -> Gun Accessories -> Grips | Sports & Outdoors\n"
     ]
    },
    {
     "name": "stderr",
     "output_type": "stream",
     "text": [
      "2016-12-29 07:24:22,044 - 140983 images copied so far\n"
     ]
    },
    {
     "name": "stdout",
     "output_type": "stream",
     "text": [
      "Sports & Outdoors -> Hunting & Fishing -> Hunting -> Gun Accessories -> Gun Stock Accessories | Sports & Outdoors\n"
     ]
    },
    {
     "name": "stderr",
     "output_type": "stream",
     "text": [
      "2016-12-29 07:24:22,342 - 141483 images copied so far\n"
     ]
    },
    {
     "name": "stdout",
     "output_type": "stream",
     "text": [
      "Sports & Outdoors -> Hunting & Fishing -> Hunting -> Gun Holsters, Cases & Bags -> Gun Holsters | Sports & Outdoors\n"
     ]
    },
    {
     "name": "stderr",
     "output_type": "stream",
     "text": [
      "2016-12-29 07:24:22,658 - 141983 images copied so far\n"
     ]
    },
    {
     "name": "stdout",
     "output_type": "stream",
     "text": [
      "Sports & Outdoors -> Hunting & Fishing -> Hunting -> Gun Maintenance -> Gunsmithing Tools | Sports & Outdoors\n"
     ]
    },
    {
     "name": "stderr",
     "output_type": "stream",
     "text": [
      "2016-12-29 07:24:22,966 - 142483 images copied so far\n"
     ]
    },
    {
     "name": "stdout",
     "output_type": "stream",
     "text": [
      "Sports & Outdoors -> Hunting & Fishing -> Hunting -> Gun Storage & Safes -> Ammunition & Magazine Pouches | Sports & Outdoors\n"
     ]
    },
    {
     "name": "stderr",
     "output_type": "stream",
     "text": [
      "2016-12-29 07:24:23,289 - 142983 images copied so far\n"
     ]
    },
    {
     "name": "stdout",
     "output_type": "stream",
     "text": [
      "Sports & Outdoors -> Hunting & Fishing -> Hunting -> Hunting & Tactical Knives -> Hunting Knives -> Fixed Blade Hunting Knives | Sports & Outdoors\n"
     ]
    },
    {
     "name": "stderr",
     "output_type": "stream",
     "text": [
      "2016-12-29 07:24:23,608 - 143483 images copied so far\n"
     ]
    },
    {
     "name": "stdout",
     "output_type": "stream",
     "text": [
      "Sports & Outdoors -> Hunting & Fishing -> Hunting -> Hunting & Tactical Knives -> Hunting Knives -> Folding Hunting Knives | Sports & Outdoors\n"
     ]
    },
    {
     "name": "stderr",
     "output_type": "stream",
     "text": [
      "2016-12-29 07:24:23,909 - 143983 images copied so far\n"
     ]
    },
    {
     "name": "stdout",
     "output_type": "stream",
     "text": [
      "Sports & Outdoors -> Hunting & Fishing -> Hunting -> Hunting Accessories -> Cleaning & Maintenance Products | Sports & Outdoors\n"
     ]
    },
    {
     "name": "stderr",
     "output_type": "stream",
     "text": [
      "2016-12-29 07:24:24,193 - 144483 images copied so far\n"
     ]
    },
    {
     "name": "stdout",
     "output_type": "stream",
     "text": [
      "Sports & Outdoors -> Hunting & Fishing -> Hunting -> Hunting Accessories -> Targets & Accessories | Sports & Outdoors\n"
     ]
    },
    {
     "name": "stderr",
     "output_type": "stream",
     "text": [
      "2016-12-29 07:24:24,487 - 144983 images copied so far\n"
     ]
    },
    {
     "name": "stdout",
     "output_type": "stream",
     "text": [
      "Sports & Outdoors -> Hunting & Fishing -> Hunting -> Hunting Optics -> Gun Scopes -> Rifle Scopes | Sports & Outdoors\n"
     ]
    },
    {
     "name": "stderr",
     "output_type": "stream",
     "text": [
      "2016-12-29 07:24:24,789 - 145483 images copied so far\n"
     ]
    },
    {
     "name": "stdout",
     "output_type": "stream",
     "text": [
      "Sports & Outdoors -> Hunting & Fishing -> Tactical & Duty -> Paracords | Sports & Outdoors\n"
     ]
    },
    {
     "name": "stderr",
     "output_type": "stream",
     "text": [
      "2016-12-29 07:24:25,149 - 145983 images copied so far\n"
     ]
    },
    {
     "name": "stdout",
     "output_type": "stream",
     "text": [
      "Sports & Outdoors -> Hunting & Fishing -> Tactical & Duty -> Tactical Knives | Sports & Outdoors\n"
     ]
    },
    {
     "name": "stderr",
     "output_type": "stream",
     "text": [
      "2016-12-29 07:24:25,404 - 146483 images copied so far\n"
     ]
    },
    {
     "name": "stdout",
     "output_type": "stream",
     "text": [
      "Sports & Outdoors -> Other Sports -> Martial Arts -> Weapons -> Swords | Sports & Outdoors\n"
     ]
    },
    {
     "name": "stderr",
     "output_type": "stream",
     "text": [
      "2016-12-29 07:24:25,709 - 146983 images copied so far\n"
     ]
    },
    {
     "name": "stdout",
     "output_type": "stream",
     "text": [
      "Sports & Outdoors -> Outdoor Gear -> Camping & Hiking -> Backpacks & Bags -> Hiking Daypacks | Sports & Outdoors\n"
     ]
    },
    {
     "name": "stderr",
     "output_type": "stream",
     "text": [
      "2016-12-29 07:24:26,015 - 147483 images copied so far\n"
     ]
    },
    {
     "name": "stdout",
     "output_type": "stream",
     "text": [
      "Sports & Outdoors -> Outdoor Gear -> Camping & Hiking -> Backpacks & Bags -> Hydration Packs | Sports & Outdoors\n"
     ]
    },
    {
     "name": "stderr",
     "output_type": "stream",
     "text": [
      "2016-12-29 07:24:26,295 - 147983 images copied so far\n"
     ]
    },
    {
     "name": "stdout",
     "output_type": "stream",
     "text": [
      "Sports & Outdoors -> Outdoor Gear -> Camping & Hiking -> Camp Kitchen -> Coolers | Sports & Outdoors\n"
     ]
    },
    {
     "name": "stderr",
     "output_type": "stream",
     "text": [
      "2016-12-29 07:24:26,646 - 148483 images copied so far\n"
     ]
    },
    {
     "name": "stdout",
     "output_type": "stream",
     "text": [
      "Sports & Outdoors -> Outdoor Gear -> Camping & Hiking -> Camping Furniture -> Chairs | Sports & Outdoors\n"
     ]
    },
    {
     "name": "stderr",
     "output_type": "stream",
     "text": [
      "2016-12-29 07:24:26,947 - 148983 images copied so far\n"
     ]
    },
    {
     "name": "stdout",
     "output_type": "stream",
     "text": [
      "Sports & Outdoors -> Outdoor Gear -> Camping & Hiking -> Knives & Tools -> Fixed-Blade Knives | Sports & Outdoors\n"
     ]
    },
    {
     "name": "stderr",
     "output_type": "stream",
     "text": [
      "2016-12-29 07:24:27,242 - 149483 images copied so far\n"
     ]
    },
    {
     "name": "stdout",
     "output_type": "stream",
     "text": [
      "Sports & Outdoors -> Outdoor Gear -> Camping & Hiking -> Knives & Tools -> Folding Knives | Sports & Outdoors\n"
     ]
    },
    {
     "name": "stderr",
     "output_type": "stream",
     "text": [
      "2016-12-29 07:24:27,544 - 149983 images copied so far\n"
     ]
    },
    {
     "name": "stdout",
     "output_type": "stream",
     "text": [
      "Sports & Outdoors -> Outdoor Gear -> Camping & Hiking -> Personal Care -> Insect Repellent | Sports & Outdoors\n"
     ]
    },
    {
     "name": "stderr",
     "output_type": "stream",
     "text": [
      "2016-12-29 07:24:27,858 - 150483 images copied so far\n"
     ]
    },
    {
     "name": "stdout",
     "output_type": "stream",
     "text": [
      "Sports & Outdoors -> Outdoor Gear -> Camping & Hiking -> Sleeping Bags | Sports & Outdoors\n"
     ]
    },
    {
     "name": "stderr",
     "output_type": "stream",
     "text": [
      "2016-12-29 07:24:28,175 - 150983 images copied so far\n"
     ]
    },
    {
     "name": "stdout",
     "output_type": "stream",
     "text": [
      "Sports & Outdoors -> Paintball & Airsoft -> Airsoft -> Guns & Rifles -> Pistols | Sports & Outdoors\n"
     ]
    },
    {
     "name": "stderr",
     "output_type": "stream",
     "text": [
      "2016-12-29 07:24:28,458 - 151483 images copied so far\n"
     ]
    },
    {
     "name": "stdout",
     "output_type": "stream",
     "text": [
      "Sports & Outdoors -> Paintball & Airsoft -> Airsoft -> Guns & Rifles -> Rifles | Sports & Outdoors\n"
     ]
    },
    {
     "name": "stderr",
     "output_type": "stream",
     "text": [
      "2016-12-29 07:24:28,751 - 151983 images copied so far\n"
     ]
    },
    {
     "name": "stdout",
     "output_type": "stream",
     "text": [
      "Sports & Outdoors -> Snow Sports -> Skiing -> Clothing -> Women -> Hats | Sports & Outdoors\n"
     ]
    },
    {
     "name": "stderr",
     "output_type": "stream",
     "text": [
      "2016-12-29 07:24:29,109 - 152483 images copied so far\n"
     ]
    },
    {
     "name": "stdout",
     "output_type": "stream",
     "text": [
      "Sports & Outdoors -> Snow Sports -> Skiing -> Goggles | Sports & Outdoors\n"
     ]
    },
    {
     "name": "stderr",
     "output_type": "stream",
     "text": [
      "2016-12-29 07:24:29,397 - 152983 images copied so far\n"
     ]
    },
    {
     "name": "stdout",
     "output_type": "stream",
     "text": [
      "Tools & Home Improvement -> Electrical -> Cords, Adapters & Multi-Outlets -> Extension Cords | Tools & Home Improvement\n"
     ]
    },
    {
     "name": "stderr",
     "output_type": "stream",
     "text": [
      "2016-12-29 07:24:29,682 - 153483 images copied so far\n"
     ]
    },
    {
     "name": "stdout",
     "output_type": "stream",
     "text": [
      "Tools & Home Improvement -> Electrical -> Light Bulbs -> Compact Fluorescent Bulbs | Tools & Home Improvement\n"
     ]
    },
    {
     "name": "stderr",
     "output_type": "stream",
     "text": [
      "2016-12-29 07:24:29,983 - 153983 images copied so far\n"
     ]
    },
    {
     "name": "stdout",
     "output_type": "stream",
     "text": [
      "Tools & Home Improvement -> Electrical -> Light Bulbs -> Halogen Bulbs | Tools & Home Improvement\n"
     ]
    },
    {
     "name": "stderr",
     "output_type": "stream",
     "text": [
      "2016-12-29 07:24:30,284 - 154483 images copied so far\n"
     ]
    },
    {
     "name": "stdout",
     "output_type": "stream",
     "text": [
      "Tools & Home Improvement -> Electrical -> Light Bulbs -> Incandescent Bulbs | Tools & Home Improvement\n"
     ]
    },
    {
     "name": "stderr",
     "output_type": "stream",
     "text": [
      "2016-12-29 07:24:30,570 - 154983 images copied so far\n"
     ]
    },
    {
     "name": "stdout",
     "output_type": "stream",
     "text": [
      "Tools & Home Improvement -> Electrical -> Light Bulbs -> LED Bulbs | Tools & Home Improvement\n"
     ]
    },
    {
     "name": "stderr",
     "output_type": "stream",
     "text": [
      "2016-12-29 07:24:30,900 - 155483 images copied so far\n"
     ]
    },
    {
     "name": "stdout",
     "output_type": "stream",
     "text": [
      "Tools & Home Improvement -> Electrical -> Testers -> Multi Testers | Tools & Home Improvement\n"
     ]
    },
    {
     "name": "stderr",
     "output_type": "stream",
     "text": [
      "2016-12-29 07:24:31,189 - 155983 images copied so far\n"
     ]
    },
    {
     "name": "stdout",
     "output_type": "stream",
     "text": [
      "Tools & Home Improvement -> Electrical -> Wall Plates & Accessories -> Wall Plates | Tools & Home Improvement\n"
     ]
    },
    {
     "name": "stderr",
     "output_type": "stream",
     "text": [
      "2016-12-29 07:24:31,501 - 156483 images copied so far\n"
     ]
    },
    {
     "name": "stdout",
     "output_type": "stream",
     "text": [
      "Tools & Home Improvement -> Hardware -> Bathroom Hardware -> Towel Bars | Tools & Home Improvement\n"
     ]
    },
    {
     "name": "stderr",
     "output_type": "stream",
     "text": [
      "2016-12-29 07:24:31,782 - 156983 images copied so far\n"
     ]
    },
    {
     "name": "stdout",
     "output_type": "stream",
     "text": [
      "Tools & Home Improvement -> Hardware -> Cabinet Hardware -> Knobs | Tools & Home Improvement\n"
     ]
    },
    {
     "name": "stderr",
     "output_type": "stream",
     "text": [
      "2016-12-29 07:24:32,083 - 157483 images copied so far\n"
     ]
    },
    {
     "name": "stdout",
     "output_type": "stream",
     "text": [
      "Tools & Home Improvement -> Hardware -> Cabinet Hardware -> Pulls | Tools & Home Improvement\n"
     ]
    },
    {
     "name": "stderr",
     "output_type": "stream",
     "text": [
      "2016-12-29 07:24:32,349 - 157983 images copied so far\n"
     ]
    },
    {
     "name": "stdout",
     "output_type": "stream",
     "text": [
      "Tools & Home Improvement -> Hardware -> Tarps & Tie-Downs -> Rope | Tools & Home Improvement\n"
     ]
    },
    {
     "name": "stderr",
     "output_type": "stream",
     "text": [
      "2016-12-29 07:24:32,641 - 158483 images copied so far\n"
     ]
    },
    {
     "name": "stdout",
     "output_type": "stream",
     "text": [
      "Tools & Home Improvement -> Kitchen & Bath Fixtures -> Bathroom Fixtures -> Bathroom Sink Faucets -> Touch On Faucets | Tools & Home Improvement\n"
     ]
    },
    {
     "name": "stderr",
     "output_type": "stream",
     "text": [
      "2016-12-29 07:24:32,924 - 158983 images copied so far\n"
     ]
    },
    {
     "name": "stdout",
     "output_type": "stream",
     "text": [
      "Tools & Home Improvement -> Kitchen & Bath Fixtures -> Bathroom Fixtures -> Bathtub Faucets & Showerheads -> Bathtub & Shower Systems | Tools & Home Improvement\n"
     ]
    },
    {
     "name": "stderr",
     "output_type": "stream",
     "text": [
      "2016-12-29 07:24:33,194 - 159483 images copied so far\n"
     ]
    },
    {
     "name": "stdout",
     "output_type": "stream",
     "text": [
      "Tools & Home Improvement -> Kitchen & Bath Fixtures -> Bathroom Fixtures -> Bathtub Faucets & Showerheads -> Showerheads -> Fixed Showerheads | Tools & Home Improvement\n"
     ]
    },
    {
     "name": "stderr",
     "output_type": "stream",
     "text": [
      "2016-12-29 07:24:33,503 - 159983 images copied so far\n"
     ]
    },
    {
     "name": "stdout",
     "output_type": "stream",
     "text": [
      "Tools & Home Improvement -> Kitchen & Bath Fixtures -> Bathroom Fixtures -> Toilets & Toilet Parts -> Toilet Seats | Tools & Home Improvement\n"
     ]
    },
    {
     "name": "stderr",
     "output_type": "stream",
     "text": [
      "2016-12-29 07:24:33,804 - 160483 images copied so far\n"
     ]
    },
    {
     "name": "stdout",
     "output_type": "stream",
     "text": [
      "Tools & Home Improvement -> Kitchen & Bath Fixtures -> Kitchen Fixtures -> Kitchen Faucets -> Kitchen Sink Faucets -> Touch On Kitchen Sink Faucets | Tools & Home Improvement\n"
     ]
    },
    {
     "name": "stderr",
     "output_type": "stream",
     "text": [
      "2016-12-29 07:24:34,103 - 160983 images copied so far\n"
     ]
    },
    {
     "name": "stdout",
     "output_type": "stream",
     "text": [
      "Tools & Home Improvement -> Lighting & Ceiling Fans -> Ceiling Fans & Accessories -> Ceiling Fans | Tools & Home Improvement\n"
     ]
    },
    {
     "name": "stderr",
     "output_type": "stream",
     "text": [
      "2016-12-29 07:24:34,389 - 161483 images copied so far\n"
     ]
    },
    {
     "name": "stdout",
     "output_type": "stream",
     "text": [
      "Tools & Home Improvement -> Lighting & Ceiling Fans -> Ceiling Lights -> Chandeliers | Tools & Home Improvement\n"
     ]
    },
    {
     "name": "stderr",
     "output_type": "stream",
     "text": [
      "2016-12-29 07:24:34,705 - 161983 images copied so far\n"
     ]
    },
    {
     "name": "stdout",
     "output_type": "stream",
     "text": [
      "Tools & Home Improvement -> Lighting & Ceiling Fans -> Ceiling Lights -> Close To Ceiling Lights | Tools & Home Improvement\n"
     ]
    },
    {
     "name": "stderr",
     "output_type": "stream",
     "text": [
      "2016-12-29 07:24:35,009 - 162483 images copied so far\n"
     ]
    },
    {
     "name": "stdout",
     "output_type": "stream",
     "text": [
      "Tools & Home Improvement -> Lighting & Ceiling Fans -> Ceiling Lights -> Pendant Lights | Tools & Home Improvement\n"
     ]
    },
    {
     "name": "stderr",
     "output_type": "stream",
     "text": [
      "2016-12-29 07:24:35,334 - 162983 images copied so far\n"
     ]
    },
    {
     "name": "stdout",
     "output_type": "stream",
     "text": [
      "Tools & Home Improvement -> Lighting & Ceiling Fans -> Lamps & Shades -> Desk Lamps | Tools & Home Improvement\n"
     ]
    },
    {
     "name": "stderr",
     "output_type": "stream",
     "text": [
      "2016-12-29 07:24:35,613 - 163483 images copied so far\n"
     ]
    },
    {
     "name": "stdout",
     "output_type": "stream",
     "text": [
      "Tools & Home Improvement -> Lighting & Ceiling Fans -> Lamps & Shades -> Floor Lamps | Tools & Home Improvement\n"
     ]
    },
    {
     "name": "stderr",
     "output_type": "stream",
     "text": [
      "2016-12-29 07:24:35,878 - 163983 images copied so far\n"
     ]
    },
    {
     "name": "stdout",
     "output_type": "stream",
     "text": [
      "Tools & Home Improvement -> Lighting & Ceiling Fans -> Lamps & Shades -> Lamp Shades | Tools & Home Improvement\n"
     ]
    },
    {
     "name": "stderr",
     "output_type": "stream",
     "text": [
      "2016-12-29 07:24:36,179 - 164483 images copied so far\n"
     ]
    },
    {
     "name": "stdout",
     "output_type": "stream",
     "text": [
      "Tools & Home Improvement -> Lighting & Ceiling Fans -> Lamps & Shades -> Table Lamps | Tools & Home Improvement\n"
     ]
    },
    {
     "name": "stderr",
     "output_type": "stream",
     "text": [
      "2016-12-29 07:24:36,493 - 164983 images copied so far\n"
     ]
    },
    {
     "name": "stdout",
     "output_type": "stream",
     "text": [
      "Tools & Home Improvement -> Lighting & Ceiling Fans -> Outdoor Lighting -> Landscape Lighting -> Path Lights | Tools & Home Improvement\n"
     ]
    },
    {
     "name": "stderr",
     "output_type": "stream",
     "text": [
      "2016-12-29 07:24:36,783 - 165483 images copied so far\n"
     ]
    },
    {
     "name": "stdout",
     "output_type": "stream",
     "text": [
      "Tools & Home Improvement -> Lighting & Ceiling Fans -> Outdoor Lighting -> Porch & Patio Lights -> Wall Lights | Tools & Home Improvement\n"
     ]
    },
    {
     "name": "stderr",
     "output_type": "stream",
     "text": [
      "2016-12-29 07:24:37,100 - 165983 images copied so far\n"
     ]
    },
    {
     "name": "stdout",
     "output_type": "stream",
     "text": [
      "Tools & Home Improvement -> Lighting & Ceiling Fans -> Wall Lights -> Night Lights | Tools & Home Improvement\n"
     ]
    },
    {
     "name": "stderr",
     "output_type": "stream",
     "text": [
      "2016-12-29 07:24:37,442 - 166483 images copied so far\n"
     ]
    },
    {
     "name": "stdout",
     "output_type": "stream",
     "text": [
      "Tools & Home Improvement -> Lighting & Ceiling Fans -> Wall Lights -> Vanity Lights | Tools & Home Improvement\n"
     ]
    },
    {
     "name": "stderr",
     "output_type": "stream",
     "text": [
      "2016-12-29 07:24:37,722 - 166983 images copied so far\n"
     ]
    },
    {
     "name": "stdout",
     "output_type": "stream",
     "text": [
      "Tools & Home Improvement -> Lighting & Ceiling Fans -> Wall Lights -> Wall Lamps & Sconces | Tools & Home Improvement\n"
     ]
    },
    {
     "name": "stderr",
     "output_type": "stream",
     "text": [
      "2016-12-29 07:24:38,033 - 167483 images copied so far\n"
     ]
    },
    {
     "name": "stdout",
     "output_type": "stream",
     "text": [
      "Tools & Home Improvement -> Power & Hand Tools -> Hand Tools -> Flashlights -> Handheld Flashlights | Tools & Home Improvement\n"
     ]
    },
    {
     "name": "stderr",
     "output_type": "stream",
     "text": [
      "2016-12-29 07:24:38,358 - 167983 images copied so far\n"
     ]
    },
    {
     "name": "stdout",
     "output_type": "stream",
     "text": [
      "Tools & Home Improvement -> Power & Hand Tools -> Hand Tools -> Knives -> Pocket Knives & Folding Knives | Tools & Home Improvement\n"
     ]
    },
    {
     "name": "stderr",
     "output_type": "stream",
     "text": [
      "2016-12-29 07:24:38,641 - 168483 images copied so far\n"
     ]
    },
    {
     "name": "stdout",
     "output_type": "stream",
     "text": [
      "Tools & Home Improvement -> Power & Hand Tools -> Hand Tools -> Knives -> Utility Knives | Tools & Home Improvement\n"
     ]
    },
    {
     "name": "stderr",
     "output_type": "stream",
     "text": [
      "2016-12-29 07:24:38,924 - 168983 images copied so far\n"
     ]
    },
    {
     "name": "stdout",
     "output_type": "stream",
     "text": [
      "Tools & Home Improvement -> Power & Hand Tools -> Hand Tools -> Multitools & Accessories -> Multitools | Tools & Home Improvement\n"
     ]
    },
    {
     "name": "stderr",
     "output_type": "stream",
     "text": [
      "2016-12-29 07:24:39,251 - 169483 images copied so far\n"
     ]
    },
    {
     "name": "stdout",
     "output_type": "stream",
     "text": [
      "Tools & Home Improvement -> Power & Hand Tools -> Hand Tools -> Screwdrivers | Tools & Home Improvement\n"
     ]
    },
    {
     "name": "stderr",
     "output_type": "stream",
     "text": [
      "2016-12-29 07:24:39,564 - 169983 images copied so far\n"
     ]
    },
    {
     "name": "stdout",
     "output_type": "stream",
     "text": [
      "Tools & Home Improvement -> Power & Hand Tools -> Hand Tools -> Sockets & Socket Sets -> Individual Sockets | Tools & Home Improvement\n"
     ]
    },
    {
     "name": "stderr",
     "output_type": "stream",
     "text": [
      "2016-12-29 07:24:39,852 - 170483 images copied so far\n"
     ]
    },
    {
     "name": "stdout",
     "output_type": "stream",
     "text": [
      "Tools & Home Improvement -> Power & Hand Tools -> Hand Tools -> Tool Sets | Tools & Home Improvement\n"
     ]
    },
    {
     "name": "stderr",
     "output_type": "stream",
     "text": [
      "2016-12-29 07:24:40,165 - 170983 images copied so far\n"
     ]
    },
    {
     "name": "stdout",
     "output_type": "stream",
     "text": [
      "Tools & Home Improvement -> Power & Hand Tools -> Power Tool Accessories -> Battery Packs & Chargers -> Battery Packs | Tools & Home Improvement\n"
     ]
    },
    {
     "name": "stderr",
     "output_type": "stream",
     "text": [
      "2016-12-29 07:24:40,459 - 171483 images copied so far\n"
     ]
    },
    {
     "name": "stdout",
     "output_type": "stream",
     "text": [
      "Tools & Home Improvement -> Power & Hand Tools -> Power Tool Accessories -> Drill Accessories -> Drill Bits -> Twist Drill Bits -> Jobber Drill Bits | Tools & Home Improvement\n"
     ]
    },
    {
     "name": "stderr",
     "output_type": "stream",
     "text": [
      "2016-12-29 07:24:40,778 - 171983 images copied so far\n"
     ]
    },
    {
     "name": "stdout",
     "output_type": "stream",
     "text": [
      "Tools & Home Improvement -> Rough Plumbing -> Pipes, Pipe Fittings & Accessories -> Pipe Fittings | Tools & Home Improvement\n"
     ]
    },
    {
     "name": "stderr",
     "output_type": "stream",
     "text": [
      "2016-12-29 07:24:41,063 - 172483 images copied so far\n"
     ]
    },
    {
     "name": "stdout",
     "output_type": "stream",
     "text": [
      "Tools & Home Improvement -> Safety & Security -> Personal Protective Equipment -> Eye Protection -> Safety Goggles & Glasses | Tools & Home Improvement\n"
     ]
    },
    {
     "name": "stderr",
     "output_type": "stream",
     "text": [
      "2016-12-29 07:24:41,330 - 172983 images copied so far\n"
     ]
    },
    {
     "name": "stdout",
     "output_type": "stream",
     "text": [
      "Tools & Home Improvement -> Safety & Security -> Personal Protective Equipment -> Hand & Arm Protection -> Lab, Safety & Work Gloves -> Safety Work Gloves | Tools & Home Improvement\n"
     ]
    },
    {
     "name": "stderr",
     "output_type": "stream",
     "text": [
      "2016-12-29 07:24:41,684 - 173483 images copied so far\n"
     ]
    },
    {
     "name": "stdout",
     "output_type": "stream",
     "text": [
      "Toys & Games -> Action Figures & Statues -> Accessories | Toys & Games\n"
     ]
    },
    {
     "name": "stderr",
     "output_type": "stream",
     "text": [
      "2016-12-29 07:24:41,979 - 173983 images copied so far\n"
     ]
    },
    {
     "name": "stdout",
     "output_type": "stream",
     "text": [
      "Toys & Games -> Action Figures & Statues -> Action Figures | Toys & Games\n"
     ]
    },
    {
     "name": "stderr",
     "output_type": "stream",
     "text": [
      "2016-12-29 07:24:42,364 - 174483 images copied so far\n"
     ]
    },
    {
     "name": "stdout",
     "output_type": "stream",
     "text": [
      "Toys & Games -> Action Figures & Statues -> Playsets & Vehicles -> Playsets | Toys & Games\n"
     ]
    },
    {
     "name": "stderr",
     "output_type": "stream",
     "text": [
      "2016-12-29 07:24:42,707 - 174983 images copied so far\n"
     ]
    },
    {
     "name": "stdout",
     "output_type": "stream",
     "text": [
      "Toys & Games -> Action Figures & Statues -> Playsets & Vehicles -> Vehicles | Toys & Games\n"
     ]
    },
    {
     "name": "stderr",
     "output_type": "stream",
     "text": [
      "2016-12-29 07:24:43,019 - 175483 images copied so far\n"
     ]
    },
    {
     "name": "stdout",
     "output_type": "stream",
     "text": [
      "Toys & Games -> Action Figures & Statues -> Statues & Bobbleheads -> Bobbleheads | Toys & Games\n"
     ]
    },
    {
     "name": "stderr",
     "output_type": "stream",
     "text": [
      "2016-12-29 07:24:43,336 - 175983 images copied so far\n"
     ]
    },
    {
     "name": "stdout",
     "output_type": "stream",
     "text": [
      "Toys & Games -> Action Figures & Statues -> Statues & Bobbleheads -> Statues | Toys & Games\n"
     ]
    },
    {
     "name": "stderr",
     "output_type": "stream",
     "text": [
      "2016-12-29 07:24:43,629 - 176483 images copied so far\n"
     ]
    },
    {
     "name": "stdout",
     "output_type": "stream",
     "text": [
      "Toys & Games -> Arts & Crafts -> Craft Kits -> Jewelry | Toys & Games\n"
     ]
    },
    {
     "name": "stderr",
     "output_type": "stream",
     "text": [
      "2016-12-29 07:24:43,956 - 176983 images copied so far\n"
     ]
    },
    {
     "name": "stdout",
     "output_type": "stream",
     "text": [
      "Toys & Games -> Arts & Crafts -> Drawing & Painting Supplies -> Drawing & Sketch Pads | Toys & Games\n"
     ]
    },
    {
     "name": "stderr",
     "output_type": "stream",
     "text": [
      "2016-12-29 07:24:44,304 - 177483 images copied so far\n"
     ]
    },
    {
     "name": "stdout",
     "output_type": "stream",
     "text": [
      "Toys & Games -> Arts & Crafts -> Stickers | Toys & Games\n"
     ]
    },
    {
     "name": "stderr",
     "output_type": "stream",
     "text": [
      "2016-12-29 07:24:44,665 - 177983 images copied so far\n"
     ]
    },
    {
     "name": "stdout",
     "output_type": "stream",
     "text": [
      "Toys & Games -> Baby & Toddler Toys -> Bath Toys | Toys & Games\n"
     ]
    },
    {
     "name": "stderr",
     "output_type": "stream",
     "text": [
      "2016-12-29 07:24:45,001 - 178483 images copied so far\n"
     ]
    },
    {
     "name": "stdout",
     "output_type": "stream",
     "text": [
      "Toys & Games -> Building Toys -> Building Sets | Toys & Games\n"
     ]
    },
    {
     "name": "stderr",
     "output_type": "stream",
     "text": [
      "2016-12-29 07:24:45,374 - 178983 images copied so far\n"
     ]
    },
    {
     "name": "stdout",
     "output_type": "stream",
     "text": [
      "Toys & Games -> Dolls & Accessories -> Doll Accessories -> Clothing & Shoes | Toys & Games\n"
     ]
    },
    {
     "name": "stderr",
     "output_type": "stream",
     "text": [
      "2016-12-29 07:24:45,669 - 179483 images copied so far\n"
     ]
    },
    {
     "name": "stdout",
     "output_type": "stream",
     "text": [
      "Toys & Games -> Dolls & Accessories -> Dolls | Toys & Games\n"
     ]
    },
    {
     "name": "stderr",
     "output_type": "stream",
     "text": [
      "2016-12-29 07:24:46,011 - 179983 images copied so far\n"
     ]
    },
    {
     "name": "stdout",
     "output_type": "stream",
     "text": [
      "Toys & Games -> Dolls & Accessories -> Playsets | Toys & Games\n"
     ]
    },
    {
     "name": "stderr",
     "output_type": "stream",
     "text": [
      "2016-12-29 07:24:46,312 - 180483 images copied so far\n"
     ]
    },
    {
     "name": "stdout",
     "output_type": "stream",
     "text": [
      "Toys & Games -> Electronics for Kids -> Electronic Toys | Toys & Games\n"
     ]
    },
    {
     "name": "stderr",
     "output_type": "stream",
     "text": [
      "2016-12-29 07:24:46,634 - 180983 images copied so far\n"
     ]
    },
    {
     "name": "stdout",
     "output_type": "stream",
     "text": [
      "Toys & Games -> Games -> Board Games | Toys & Games\n"
     ]
    },
    {
     "name": "stderr",
     "output_type": "stream",
     "text": [
      "2016-12-29 07:24:47,067 - 181483 images copied so far\n"
     ]
    },
    {
     "name": "stdout",
     "output_type": "stream",
     "text": [
      "Toys & Games -> Games -> Card Games | Toys & Games\n"
     ]
    },
    {
     "name": "stderr",
     "output_type": "stream",
     "text": [
      "2016-12-29 07:24:47,434 - 181983 images copied so far\n"
     ]
    },
    {
     "name": "stdout",
     "output_type": "stream",
     "text": [
      "Toys & Games -> Games -> Game Accessories | Toys & Games\n"
     ]
    },
    {
     "name": "stderr",
     "output_type": "stream",
     "text": [
      "2016-12-29 07:24:47,768 - 182483 images copied so far\n"
     ]
    },
    {
     "name": "stdout",
     "output_type": "stream",
     "text": [
      "Toys & Games -> Games -> Game Room Games -> Mini Table Games | Toys & Games\n"
     ]
    },
    {
     "name": "stderr",
     "output_type": "stream",
     "text": [
      "2016-12-29 07:24:48,064 - 182983 images copied so far\n"
     ]
    },
    {
     "name": "stdout",
     "output_type": "stream",
     "text": [
      "Toys & Games -> Games -> Standard Playing Card Decks | Toys & Games\n"
     ]
    },
    {
     "name": "stderr",
     "output_type": "stream",
     "text": [
      "2016-12-29 07:24:48,417 - 183483 images copied so far\n"
     ]
    },
    {
     "name": "stdout",
     "output_type": "stream",
     "text": [
      "Toys & Games -> Games -> Trading Card Games -> Decks & Sets | Toys & Games\n"
     ]
    },
    {
     "name": "stderr",
     "output_type": "stream",
     "text": [
      "2016-12-29 07:24:48,804 - 183983 images copied so far\n"
     ]
    },
    {
     "name": "stdout",
     "output_type": "stream",
     "text": [
      "Toys & Games -> Grown-Up Toys -> Action & Toy Figures | Toys & Games\n"
     ]
    },
    {
     "name": "stderr",
     "output_type": "stream",
     "text": [
      "2016-12-29 07:24:49,143 - 184483 images copied so far\n"
     ]
    },
    {
     "name": "stdout",
     "output_type": "stream",
     "text": [
      "Toys & Games -> Hobbies -> Models & Model Kits -> Model Kits -> Vehicle Kits -> Aircraft Kits -> Airplane Kits | Toys & Games\n"
     ]
    },
    {
     "name": "stderr",
     "output_type": "stream",
     "text": [
      "2016-12-29 07:24:49,485 - 184983 images copied so far\n"
     ]
    },
    {
     "name": "stdout",
     "output_type": "stream",
     "text": [
      "Toys & Games -> Hobbies -> Models & Model Kits -> Model Kits -> Vehicle Kits -> Ground Vehicle Kits | Toys & Games\n"
     ]
    },
    {
     "name": "stderr",
     "output_type": "stream",
     "text": [
      "2016-12-29 07:24:49,799 - 185483 images copied so far\n"
     ]
    },
    {
     "name": "stdout",
     "output_type": "stream",
     "text": [
      "Toys & Games -> Hobbies -> RC Vehicles & Parts -> RC Vehicles -> RC Aircraft -> RC Helicopters | Toys & Games\n"
     ]
    },
    {
     "name": "stderr",
     "output_type": "stream",
     "text": [
      "2016-12-29 07:24:50,108 - 185983 images copied so far\n"
     ]
    },
    {
     "name": "stdout",
     "output_type": "stream",
     "text": [
      "Toys & Games -> Novelty & Gag Toys -> Gag Toys & Practical Jokes | Toys & Games\n"
     ]
    },
    {
     "name": "stderr",
     "output_type": "stream",
     "text": [
      "2016-12-29 07:24:50,458 - 186483 images copied so far\n"
     ]
    },
    {
     "name": "stdout",
     "output_type": "stream",
     "text": [
      "Toys & Games -> Novelty & Gag Toys -> Light-Up Toys | Toys & Games\n"
     ]
    },
    {
     "name": "stderr",
     "output_type": "stream",
     "text": [
      "2016-12-29 07:24:50,778 - 186983 images copied so far\n"
     ]
    },
    {
     "name": "stdout",
     "output_type": "stream",
     "text": [
      "Toys & Games -> Novelty & Gag Toys -> Magic Kits & Accessories | Toys & Games\n"
     ]
    },
    {
     "name": "stderr",
     "output_type": "stream",
     "text": [
      "2016-12-29 07:24:51,080 - 187483 images copied so far\n"
     ]
    },
    {
     "name": "stdout",
     "output_type": "stream",
     "text": [
      "Toys & Games -> Novelty & Gag Toys -> Toy Balls | Toys & Games\n"
     ]
    },
    {
     "name": "stderr",
     "output_type": "stream",
     "text": [
      "2016-12-29 07:24:51,368 - 187983 images copied so far\n"
     ]
    },
    {
     "name": "stdout",
     "output_type": "stream",
     "text": [
      "Toys & Games -> Party Supplies -> Balloons | Toys & Games\n"
     ]
    },
    {
     "name": "stderr",
     "output_type": "stream",
     "text": [
      "2016-12-29 07:24:51,680 - 188483 images copied so far\n"
     ]
    },
    {
     "name": "stdout",
     "output_type": "stream",
     "text": [
      "Toys & Games -> Party Supplies -> Party Favors | Toys & Games\n"
     ]
    },
    {
     "name": "stderr",
     "output_type": "stream",
     "text": [
      "2016-12-29 07:24:52,030 - 188983 images copied so far\n"
     ]
    },
    {
     "name": "stdout",
     "output_type": "stream",
     "text": [
      "Toys & Games -> Stuffed Animals & Plush -> Animals & Figures | Toys & Games\n"
     ]
    },
    {
     "name": "stderr",
     "output_type": "stream",
     "text": [
      "2016-12-29 07:24:52,387 - 189483 images copied so far\n"
     ]
    },
    {
     "name": "stdout",
     "output_type": "stream",
     "text": [
      "Toys & Games -> Stuffed Animals & Plush -> Plush Pillows | Toys & Games\n"
     ]
    },
    {
     "name": "stderr",
     "output_type": "stream",
     "text": [
      "2016-12-29 07:24:52,707 - 189983 images copied so far\n"
     ]
    },
    {
     "name": "stdout",
     "output_type": "stream",
     "text": [
      "Toys & Games -> Stuffed Animals & Plush -> Teddy Bears | Toys & Games\n"
     ]
    },
    {
     "name": "stderr",
     "output_type": "stream",
     "text": [
      "2016-12-29 07:24:53,032 - 190483 images copied so far\n"
     ]
    },
    {
     "name": "stdout",
     "output_type": "stream",
     "text": [
      "Toys & Games -> Toy Remote Control & Play Vehicles -> Die-Cast Vehicles | Toys & Games\n"
     ]
    },
    {
     "name": "stderr",
     "output_type": "stream",
     "text": [
      "2016-12-29 07:24:53,362 - 190983 images copied so far\n"
     ]
    },
    {
     "name": "stdout",
     "output_type": "stream",
     "text": [
      "Toys & Games -> Toy Remote Control & Play Vehicles -> Play Trains & Railway Sets -> Train Sets | Toys & Games\n"
     ]
    },
    {
     "name": "stderr",
     "output_type": "stream",
     "text": [
      "2016-12-29 07:24:53,677 - 191483 images copied so far\n"
     ]
    },
    {
     "name": "stdout",
     "output_type": "stream",
     "text": [
      "Toys & Games -> Toy Remote Control & Play Vehicles -> Play Vehicles | Toys & Games\n"
     ]
    },
    {
     "name": "stderr",
     "output_type": "stream",
     "text": [
      "2016-12-29 07:24:54,003 - 191983 images copied so far\n"
     ]
    },
    {
     "name": "stdout",
     "output_type": "stream",
     "text": [
      "Toys & Games -> Toy Remote Control & Play Vehicles -> Toy RC Vehicles & Batteries -> Toy RC Vehicles | Toys & Games\n"
     ]
    },
    {
     "name": "stderr",
     "output_type": "stream",
     "text": [
      "2016-12-29 07:24:54,344 - 192483 images copied so far\n"
     ]
    },
    {
     "name": "stdout",
     "output_type": "stream",
     "text": [
      "Toys & Games -> Toy Remote Control & Play Vehicles -> Vehicle Playsets | Toys & Games\n"
     ]
    },
    {
     "name": "stderr",
     "output_type": "stream",
     "text": [
      "2016-12-29 07:24:54,658 - 192983 images copied so far\n"
     ]
    },
    {
     "name": "stdout",
     "output_type": "stream",
     "text": [
      "Toys & Games -> Tricycles, Scooters & Wagons -> Ride-On Toys | Toys & Games\n"
     ]
    },
    {
     "name": "stderr",
     "output_type": "stream",
     "text": [
      "2016-12-29 07:24:55,143 - 193483 images copied so far\n"
     ]
    }
   ],
   "source": [
    "images_copied = 0\n",
    "\n",
    "for image_dir in os.listdir(train_dir):\n",
    "    if not image_dir.startswith('.'):\n",
    "        image_paths = os.listdir(os.path.join(train_dir, image_dir))[-500:]\n",
    "        image_count = len(image_paths)\n",
    "        top_level_image_dir = image_dir.split('->')[0].strip()\n",
    "        print image_dir, '|', top_level_image_dir\n",
    "        \n",
    "        for image in image_paths:\n",
    "            if not image.startswith('.'):\n",
    "                original_image_path = os.path.join(train_dir, image_dir, image)\n",
    "                new_image_path = os.path.join(train_top_level_dir, top_level_image_dir, image)\n",
    "                shutil.copy(original_image_path, new_image_path)\n",
    "        \n",
    "        images_copied += image_count\n",
    "        logger.info('{} images copied so far'.format(images_copied))"
   ]
  },
  {
   "cell_type": "markdown",
   "metadata": {},
   "source": [
    "### Count total number of images"
   ]
  },
  {
   "cell_type": "code",
   "execution_count": 35,
   "metadata": {
    "collapsed": false
   },
   "outputs": [],
   "source": [
    "image_count_total = 0\n",
    "top_level_dict = dict()\n",
    "\n",
    "for image_dir in os.listdir(train_dir):\n",
    "    if not image_dir.startswith('.'):\n",
    "        image_names = os.listdir(os.path.join(train_dir, image_dir))\n",
    "        image_names = [image_name for image_name in image_names if not image_name.startswith('.')][-500:]\n",
    "        image_count = len(image_names)\n",
    "        top_level_category = image_dir.split('->')[0].strip()\n",
    "        # print image_dir, image_count\n",
    "        image_count_total += image_count\n",
    "        try: \n",
    "            top_level_dict[top_level_category] += image_count\n",
    "        except KeyError:\n",
    "            top_level_dict[top_level_category] = image_count"
   ]
  },
  {
   "cell_type": "code",
   "execution_count": 36,
   "metadata": {
    "collapsed": false
   },
   "outputs": [
    {
     "data": {
      "text/plain": [
       "{'Cell Phones & Accessories': 7500,\n",
       " 'Clothing, Shoes & Jewelry': 45000,\n",
       " 'Electronics': 37983,\n",
       " 'Home & Kitchen': 28000,\n",
       " 'Office Products': 9000,\n",
       " 'Sports & Outdoors': 25500,\n",
       " 'Tools & Home Improvement': 20500,\n",
       " 'Toys & Games': 20000}"
      ]
     },
     "execution_count": 36,
     "metadata": {},
     "output_type": "execute_result"
    }
   ],
   "source": [
    "top_level_dict"
   ]
  },
  {
   "cell_type": "code",
   "execution_count": 37,
   "metadata": {
    "collapsed": false
   },
   "outputs": [
    {
     "data": {
      "text/plain": [
       "193483"
      ]
     },
     "execution_count": 37,
     "metadata": {},
     "output_type": "execute_result"
    }
   ],
   "source": [
    "image_count_total"
   ]
  },
  {
   "cell_type": "markdown",
   "metadata": {},
   "source": [
    "### Create index to image.jpeg dict"
   ]
  },
  {
   "cell_type": "code",
   "execution_count": null,
   "metadata": {
    "collapsed": false
   },
   "outputs": [],
   "source": [
    "all_image_names = list()\n",
    "\n",
    "for image_dir in os.listdir(train_top_level_dir):\n",
    "    if not image_dir.startswith('.'):\n",
    "        image_names = os.listdir(os.path.join(train_top_level_dir, image_dir))\n",
    "        \n",
    "        for image_name in image_names:\n",
    "            if not image_name.startswith('.'):\n",
    "                all_image_names.append(os.path.join(train_top_level_dir, image_dir, image_name))"
   ]
  },
  {
   "cell_type": "code",
   "execution_count": null,
   "metadata": {
    "collapsed": false
   },
   "outputs": [],
   "source": [
    "idx_to_image_dict = dict()\n",
    "\n",
    "for i, image_name in enumerate(all_image_names):\n",
    "    idx_to_image_dict[i] = image_name"
   ]
  },
  {
   "cell_type": "code",
   "execution_count": null,
   "metadata": {
    "collapsed": true
   },
   "outputs": [],
   "source": [
    "idx_to_image_dict"
   ]
  },
  {
   "cell_type": "code",
   "execution_count": null,
   "metadata": {
    "collapsed": false
   },
   "outputs": [],
   "source": [
    "index = 0\n",
    "idx_to_image_dict = dict()\n",
    "\n",
    "for image_dir in os.listdir(train_top_level_dir):\n",
    "    if not image_dir.startswith('.'):\n",
    "        image_names = os.listdir(os.path.join(train_top_level_dir, image_dir))\n",
    "        \n",
    "        for image_name in image_names:\n",
    "            if not image_name.startswith('.'):\n",
    "                idx_to_image_dict[index] = os.path.join(train_top_level_dir, image_dir, image_name)\n",
    "                index += 1"
   ]
  },
  {
   "cell_type": "code",
   "execution_count": null,
   "metadata": {
    "collapsed": true
   },
   "outputs": [],
   "source": [
    "idx_to_image_dict"
   ]
  },
  {
   "cell_type": "markdown",
   "metadata": {},
   "source": [
    "### Create category to int dict"
   ]
  },
  {
   "cell_type": "code",
   "execution_count": null,
   "metadata": {
    "collapsed": false
   },
   "outputs": [],
   "source": [
    "category_to_int_dict = dict()\n",
    "idx = 0\n",
    "\n",
    "for image_dir in os.listdir(train_top_level_dir):\n",
    "    if not image_dir.startswith('.'):\n",
    "        image_names = os.listdir(os.path.join(train_top_level_dir, image_dir))\n",
    "        image_names = [image_name for image_name in image_names if not image_name.startswith('.')]\n",
    "        image_count = len(image_names)\n",
    "        \n",
    "        category_to_int_dict[image_dir] = (idx, image_count)\n",
    "        idx += 1"
   ]
  },
  {
   "cell_type": "code",
   "execution_count": null,
   "metadata": {
    "collapsed": false
   },
   "outputs": [],
   "source": [
    "category_to_int_dict"
   ]
  },
  {
   "cell_type": "code",
   "execution_count": null,
   "metadata": {
    "collapsed": true
   },
   "outputs": [],
   "source": [
    "# category_to_int_dict = dict()\n",
    "# idx = 0\n",
    "\n",
    "# for image_dir in os.listdir(train_top_level_dir):\n",
    "#     if not image_dir.startswith('.'):\n",
    "#         image_names = os.listdir(os.path.join(train_top_level_dir, image_dir))\n",
    "#         image_names = [image_name for image_name in image_names if not image_name.startswith('.')]\n",
    "#         image_count = len(image_names)\n",
    "        \n",
    "#         category_to_int_dict[image_dir] = image_count\n",
    "\n",
    "# top_level_set = set()\n",
    "\n",
    "# for key, value in category_to_int_dict.iteritems():\n",
    "#     top_level_category = key.split('->')[0].strip()\n",
    "#     top_level_set.add(top_level_category)\n",
    "\n",
    "# top_level_set\n",
    "\n",
    "# top_level_count_dict = dict()\n",
    "\n",
    "# for top_level in top_level_set:\n",
    "#     top_level_count_dict[top_level] = 0\n",
    "\n",
    "# top_level_count_dict\n",
    "\n",
    "# for image_dir in os.listdir(train_top_level_dir):\n",
    "#     if not image_dir.startswith('.'):\n",
    "#         top_level_category = image_dir.split('->')[0].strip()\n",
    "        \n",
    "#         image_names = os.listdir(os.path.join(train_top_level_dir, image_dir))\n",
    "#         image_names = [image_name for image_name in image_names if not image_name.startswith('.')]\n",
    "#         image_count = len(image_names)\n",
    "        \n",
    "#         top_level_count_dict[top_level_category] += image_count\n",
    "\n",
    "# print top_level_count_dict\n",
    "\n",
    "# print sum([val for val in top_level_count_dict.values()])\n",
    "\n",
    "# import operator\n",
    "\n",
    "# category_to_int_dict_sorted = sorted(category_to_int_dict.items(), key=operator.itemgetter(1), reverse=True)\n",
    "\n",
    "# print category_to_int_dict_sorted"
   ]
  },
  {
   "cell_type": "code",
   "execution_count": null,
   "metadata": {
    "collapsed": true
   },
   "outputs": [],
   "source": [
    "category_labels = list(itertools.chain.from_iterable([tup[0]] * tup[1] for tup in category_to_int_dict.values()))"
   ]
  },
  {
   "cell_type": "code",
   "execution_count": null,
   "metadata": {
    "collapsed": false
   },
   "outputs": [],
   "source": [
    "# Reverse labels as category_to_int_dict.values() returns values from the last category\n",
    "category_labels.reverse()"
   ]
  },
  {
   "cell_type": "code",
   "execution_count": null,
   "metadata": {
    "collapsed": true
   },
   "outputs": [],
   "source": [
    "category_labels"
   ]
  },
  {
   "cell_type": "markdown",
   "metadata": {},
   "source": [
    "### Create top level index to image.jpeg dict"
   ]
  },
  {
   "cell_type": "code",
   "execution_count": null,
   "metadata": {
    "collapsed": true
   },
   "outputs": [],
   "source": [
    "top_level_idx_to_image_dict = dict()"
   ]
  },
  {
   "cell_type": "code",
   "execution_count": null,
   "metadata": {
    "collapsed": false
   },
   "outputs": [],
   "source": [
    "top_level_idx_to_image_dict = dict()\n",
    "\n",
    "for image_dir in os.listdir(train_top_level_dir):\n",
    "    if not image_dir.startswith('.'):\n",
    "        image_dir_idx = category_to_int_dict[image_dir][0]\n",
    "        print image_dir, image_dir_idx\n",
    "        \n",
    "        top_level_idx_to_image_dict[image_dir_idx] = dict()\n",
    "        image_idx = 0\n",
    "\n",
    "        image_names = os.listdir(os.path.join(train_top_level_dir, image_dir))\n",
    "        \n",
    "        for image_name in image_names:\n",
    "            if not image_name.startswith('.'):\n",
    "                image_path = os.path.join(train_top_level_dir, image_dir, image_name)\n",
    "                top_level_idx_to_image_dict[image_dir_idx][image_idx] = image_path\n",
    "                image_idx += 1"
   ]
  },
  {
   "cell_type": "code",
   "execution_count": null,
   "metadata": {
    "collapsed": true
   },
   "outputs": [],
   "source": [
    "top_level_idx_to_image_dict"
   ]
  },
  {
   "cell_type": "markdown",
   "metadata": {
    "collapsed": true
   },
   "source": [
    "### Create bottleneck features"
   ]
  },
  {
   "cell_type": "code",
   "execution_count": null,
   "metadata": {
    "collapsed": false
   },
   "outputs": [],
   "source": [
    "train_dir = '../data/images_sample/train_top_level/'\n",
    "train_dir_above = '../data/images_sample/'"
   ]
  },
  {
   "cell_type": "code",
   "execution_count": null,
   "metadata": {
    "collapsed": true
   },
   "outputs": [],
   "source": [
    "image_count = len(category_labels)\n",
    "img_width = 299\n",
    "img_height = 299"
   ]
  },
  {
   "cell_type": "code",
   "execution_count": null,
   "metadata": {
    "collapsed": false
   },
   "outputs": [],
   "source": [
    "image_count"
   ]
  },
  {
   "cell_type": "code",
   "execution_count": null,
   "metadata": {
    "collapsed": true
   },
   "outputs": [],
   "source": [
    "def largest_divisor(n, threshold=100):\n",
    "    factors_set = set(reduce(list.__add__, ([i, n//i] for i in range(1, int(n**0.5) + 1) if n % i == 0)))\n",
    "    factors_list = [i for i in factors_set if i <= threshold]\n",
    "    factors_list.sort()\n",
    "    return factors_list[-1]"
   ]
  },
  {
   "cell_type": "code",
   "execution_count": null,
   "metadata": {
    "collapsed": false
   },
   "outputs": [],
   "source": [
    "# Load Data Genenerator\n",
    "def load_data_generator():\n",
    "    datagen = ImageDataGenerator(rescale=1./255)\n",
    "    return datagen"
   ]
  },
  {
   "cell_type": "code",
   "execution_count": null,
   "metadata": {
    "collapsed": true
   },
   "outputs": [],
   "source": [
    "datagen = load_data_generator()"
   ]
  },
  {
   "cell_type": "code",
   "execution_count": null,
   "metadata": {
    "collapsed": false
   },
   "outputs": [],
   "source": [
    "generator = datagen.flow_from_directory(train_dir, \n",
    "                                        target_size=(img_width, img_height), \n",
    "                                        batch_size=largest_divisor(image_count), \n",
    "                                        class_mode=None, \n",
    "                                        shuffle=False, \n",
    "                                        seed=1368)"
   ]
  },
  {
   "cell_type": "code",
   "execution_count": null,
   "metadata": {
    "collapsed": false
   },
   "outputs": [],
   "source": [
    "# model = ResNet50(include_top=False, weights='imagenet', input_tensor=None)\n",
    "model = InceptionV3(include_top=False, weights='imagenet', input_tensor=None)\n",
    "# model = VGG16(include_top=False, weights='imagenet', input_tensor=None)"
   ]
  },
  {
   "cell_type": "code",
   "execution_count": null,
   "metadata": {
    "collapsed": false
   },
   "outputs": [],
   "source": [
    "# bottleneck_feats = model.predict_generator(generator, val_samples=generator.N, max_q_size=20, nb_worker=1)\n",
    "# np.save(open(train_dir_above + 'model/' + 'bottleneck_features.npy', 'w'), bottleneck_feats)"
   ]
  },
  {
   "cell_type": "code",
   "execution_count": null,
   "metadata": {
    "collapsed": false
   },
   "outputs": [],
   "source": [
    "bottleneck_feats = np.load(open('../data/images_sample/search_features/search_features.npy'))\n",
    "# bottleneck_feats = np.load(open('../data/images/search_features/search_features.npy'))"
   ]
  },
  {
   "cell_type": "code",
   "execution_count": null,
   "metadata": {
    "collapsed": false
   },
   "outputs": [],
   "source": [
    "bottleneck_feats.shape"
   ]
  },
  {
   "cell_type": "markdown",
   "metadata": {},
   "source": [
    "### To Do\n",
    "- How to featurize new search image and calculate cosine similiarity?\n",
    "- How to filter by category?"
   ]
  },
  {
   "cell_type": "markdown",
   "metadata": {
    "collapsed": true
   },
   "source": [
    "### Process search image"
   ]
  },
  {
   "cell_type": "code",
   "execution_count": null,
   "metadata": {
    "collapsed": true
   },
   "outputs": [],
   "source": [
    "# def cosine_similarity(bottleneck_features):\n",
    "#     csim = bottleneck_features.dot(bottleneck_features.T)\n",
    "#     if not isinstance(csim, np.ndarray):\n",
    "#         csim = csim.toarray()\n",
    "#     norms = np.array([np.sqrt(np.diagonal(csim))])\n",
    "#     return (csim / norms / norms.T)"
   ]
  },
  {
   "cell_type": "code",
   "execution_count": null,
   "metadata": {
    "collapsed": true
   },
   "outputs": [],
   "source": [
    "search_image_dir_path = '../data/images_sample/search_image/'\n",
    "search_images = os.listdir(search_image_dir_path)\n",
    "search_images = [search_image for search_image in search_images if not search_image.startswith('.')]\n",
    "search_image_path = os.path.join(search_image_dir_path, search_image)"
   ]
  },
  {
   "cell_type": "code",
   "execution_count": null,
   "metadata": {
    "collapsed": false
   },
   "outputs": [],
   "source": [
    "Image(search_image_path)"
   ]
  },
  {
   "cell_type": "code",
   "execution_count": null,
   "metadata": {
    "collapsed": false
   },
   "outputs": [],
   "source": [
    "search_image = image.load_img(search_image_path, target_size=(299, 299))\n",
    "search_image = image.img_to_array(search_image)\n",
    "search_image = np.multiply(search_image, 1. / 255)\n",
    "search_image = np.expand_dims(search_image, axis=0)"
   ]
  },
  {
   "cell_type": "code",
   "execution_count": null,
   "metadata": {
    "collapsed": false
   },
   "outputs": [],
   "source": [
    "search_image_features = model.predict(search_image)"
   ]
  },
  {
   "cell_type": "code",
   "execution_count": null,
   "metadata": {
    "collapsed": false
   },
   "outputs": [],
   "source": [
    "search_image_features"
   ]
  },
  {
   "cell_type": "markdown",
   "metadata": {},
   "source": [
    "###  Cosine similarity loop function"
   ]
  },
  {
   "cell_type": "code",
   "execution_count": 24,
   "metadata": {
    "collapsed": false
   },
   "outputs": [],
   "source": [
    "import numpy as np\n",
    "from sklearn.metrics.pairwise import cosine_similarity\n",
    "from scipy.spatial.distance import cosine\n",
    "from scipy.spatial.distance import cdist\n",
    "import warnings"
   ]
  },
  {
   "cell_type": "code",
   "execution_count": 2,
   "metadata": {
    "collapsed": false
   },
   "outputs": [],
   "source": [
    "search_features = np.load(open('../data/images_sample/search_features/search_features.npy'))\n",
    "search_image_features = search_features[0]"
   ]
  },
  {
   "cell_type": "code",
   "execution_count": 27,
   "metadata": {
    "collapsed": false
   },
   "outputs": [
    {
     "name": "stderr",
     "output_type": "stream",
     "text": [
      "/Users/eugeneyan/.virtualenvs/datagene/lib/python2.7/site-packages/sklearn/utils/validation.py:386: DeprecationWarning: Passing 1d arrays as data is deprecated in 0.17 and willraise ValueError in 0.19. Reshape your data either using X.reshape(-1, 1) if your data has a single feature or X.reshape(1, -1) if it contains a single sample.\n",
      "  DeprecationWarning)\n"
     ]
    }
   ],
   "source": [
    "csim = cosine_similarity(search_image_features, search_features)[0]"
   ]
  },
  {
   "cell_type": "code",
   "execution_count": 26,
   "metadata": {
    "collapsed": false
   },
   "outputs": [
    {
     "data": {
      "text/plain": [
       "array([  1.00000012e+00,   4.30170238e-01,   3.58995259e-01,\n",
       "         2.37552643e-01,   4.86173391e-01,   2.64480770e-01,\n",
       "         4.14420068e-01,   3.87389719e-01,   3.37409437e-01,\n",
       "         2.81737387e-01,   1.80831403e-01,   3.74942839e-01,\n",
       "         4.51175980e-02,   4.40531112e-02,   3.85564983e-01,\n",
       "         6.43333793e-01,   3.41960639e-01,   3.22441310e-01,\n",
       "         3.98452520e-01,   3.98674250e-01,   6.03142738e-01,\n",
       "         2.51784772e-01,   4.59257722e-01,   5.28221130e-01,\n",
       "         3.27841789e-01,   8.71683657e-01,   1.83093846e-01,\n",
       "         1.79977804e-01,   3.29246640e-01,   3.43196630e-01,\n",
       "         2.13779017e-01,   5.07686615e-01,   3.76933455e-01,\n",
       "         4.07847881e-01,   4.47284698e-01,   4.55049574e-01,\n",
       "         6.51815236e-02,   1.08545795e-02,   8.69403556e-02,\n",
       "        -2.22326741e-02,   1.62964046e-01,   7.90184885e-02,\n",
       "         1.16133302e-01,   5.99216484e-02,   8.64581093e-02,\n",
       "         1.05637506e-01,   1.03135943e-01,   1.35790557e-01,\n",
       "        -3.92591804e-02,   6.36111945e-02,   1.52161166e-01,\n",
       "         1.06406264e-01,   1.03897333e-01,  -7.57087395e-03,\n",
       "         2.08759993e-01,   1.26621068e-01,   1.28595293e-01,\n",
       "        -2.08331458e-03,   1.33561596e-01,   1.41747892e-01,\n",
       "        -1.49280205e-03,   1.18002392e-01,   2.71469653e-02,\n",
       "         1.26552492e-01,   1.03080876e-01,   2.47450978e-01,\n",
       "         8.71237814e-02,   6.61640316e-02,   5.98996133e-02,\n",
       "        -2.60179937e-02,   6.84511140e-02,   1.50534779e-01,\n",
       "         1.20960973e-01,   3.88283581e-02,   2.61463910e-01,\n",
       "         1.28831521e-01,   8.99494290e-02,   3.81915450e-01,\n",
       "         4.26831096e-01,   4.31767404e-01,   3.24990362e-01,\n",
       "         1.85501277e-01,   3.31065021e-02,   3.52585912e-01,\n",
       "         3.75140533e-02,   2.19537616e-01,   5.46387792e-01,\n",
       "         1.50554240e-01,   2.91395009e-01,   1.94852531e-01,\n",
       "         1.63107038e-01,   7.34699741e-02,   1.69400901e-01,\n",
       "         2.53066421e-01,   1.19547620e-01,   1.59485623e-01,\n",
       "         6.08979128e-02,   1.14377052e-01,   2.71980725e-02,\n",
       "         3.67561989e-02,   7.61516392e-02,   8.20918679e-02,\n",
       "         1.22522578e-01,   6.88770041e-02,   2.69255489e-01,\n",
       "         3.98383975e-01,   4.39747982e-02,   2.92751789e-01,\n",
       "         4.27962244e-01,   3.04618239e-01,   3.04061890e-01,\n",
       "         3.14418525e-01,   3.04535508e-01,   2.39244312e-01,\n",
       "         1.83004633e-01,   1.84078991e-01,   5.11357307e-01,\n",
       "         3.63997251e-01,   3.24091613e-01,   1.15831420e-01,\n",
       "        -1.27812654e-01,   9.79344323e-02,   4.91738096e-02,\n",
       "         2.05734432e-01,   5.69858775e-02,   6.40649647e-02,\n",
       "         4.16076258e-02,  -6.38231039e-02,  -4.28714566e-02,\n",
       "        -3.69151831e-02,   2.16267239e-02,  -4.56643179e-02,\n",
       "         1.72005259e-02,  -1.40284747e-01,   5.37738018e-02,\n",
       "         7.48457238e-02,  -6.10648617e-02,  -4.26356904e-02,\n",
       "         1.06101945e-01,  -1.63091496e-02,  -8.78683850e-02,\n",
       "        -4.90912199e-02,   8.38387683e-02,   2.26195931e-01,\n",
       "        -3.98921184e-02,  -5.37785105e-02,   5.92966154e-02,\n",
       "         7.32088909e-02,   3.65018751e-03,  -4.62209880e-02,\n",
       "         2.07341146e-02,   6.66549876e-02,  -2.33557552e-01,\n",
       "        -1.49609998e-01,   2.38880396e-01,   1.14740767e-01,\n",
       "         4.79493514e-02,   3.15040573e-02,   3.47856954e-02,\n",
       "         2.41730362e-04,   2.04535633e-01,   5.22563197e-02,\n",
       "         7.39302784e-02,   8.34641010e-02,   1.22736856e-01,\n",
       "         1.18626669e-01,  -4.56390157e-02,  -6.29981533e-02,\n",
       "        -2.84976363e-02,  -5.79073699e-03,   1.38547465e-01,\n",
       "         1.30085170e-01], dtype=float32)"
      ]
     },
     "execution_count": 26,
     "metadata": {},
     "output_type": "execute_result"
    }
   ],
   "source": [
    "csim"
   ]
  },
  {
   "cell_type": "code",
   "execution_count": 11,
   "metadata": {
    "collapsed": false
   },
   "outputs": [],
   "source": [
    "# def get_cosine_similarity_sklearn(row, search_image_features):\n",
    "#     return cosine_similarity(row, search_image_features)"
   ]
  },
  {
   "cell_type": "code",
   "execution_count": 14,
   "metadata": {
    "collapsed": true
   },
   "outputs": [],
   "source": [
    "def get_cosine_similarity_scipy(row, search_image_features):\n",
    "    return 1 - cosine(row, search_image_features)"
   ]
  },
  {
   "cell_type": "code",
   "execution_count": 15,
   "metadata": {
    "collapsed": true
   },
   "outputs": [],
   "source": [
    "# def time_sklearn_csim():\n",
    "#     return np.apply_along_axis(get_cosine_similarity_sklearn, axis=1, arr=bottleneck_feats, search_image_features=search_image_features)"
   ]
  },
  {
   "cell_type": "code",
   "execution_count": 28,
   "metadata": {
    "collapsed": true
   },
   "outputs": [
    {
     "ename": "ValueError",
     "evalue": "Input vector should be 1-D.",
     "output_type": "error",
     "traceback": [
      "\u001b[0;31m---------------------------------------------------------------------------\u001b[0m",
      "\u001b[0;31mValueError\u001b[0m                                Traceback (most recent call last)",
      "\u001b[0;32m<ipython-input-28-96586e193354>\u001b[0m in \u001b[0;36m<module>\u001b[0;34m()\u001b[0m\n\u001b[0;32m----> 1\u001b[0;31m \u001b[0mget_cosine_similarity_scipy\u001b[0m\u001b[0;34m(\u001b[0m\u001b[0msearch_image_features\u001b[0m\u001b[0;34m,\u001b[0m \u001b[0msearch_features\u001b[0m\u001b[0;34m)\u001b[0m\u001b[0;34m\u001b[0m\u001b[0m\n\u001b[0m",
      "\u001b[0;32m<ipython-input-14-e664ac2326ba>\u001b[0m in \u001b[0;36mget_cosine_similarity_scipy\u001b[0;34m(row, search_image_features)\u001b[0m\n\u001b[1;32m      1\u001b[0m \u001b[0;32mdef\u001b[0m \u001b[0mget_cosine_similarity_scipy\u001b[0m\u001b[0;34m(\u001b[0m\u001b[0mrow\u001b[0m\u001b[0;34m,\u001b[0m \u001b[0msearch_image_features\u001b[0m\u001b[0;34m)\u001b[0m\u001b[0;34m:\u001b[0m\u001b[0;34m\u001b[0m\u001b[0m\n\u001b[0;32m----> 2\u001b[0;31m     \u001b[0;32mreturn\u001b[0m \u001b[0;36m1\u001b[0m \u001b[0;34m-\u001b[0m \u001b[0mcosine\u001b[0m\u001b[0;34m(\u001b[0m\u001b[0mrow\u001b[0m\u001b[0;34m,\u001b[0m \u001b[0msearch_image_features\u001b[0m\u001b[0;34m)\u001b[0m\u001b[0;34m\u001b[0m\u001b[0m\n\u001b[0m",
      "\u001b[0;32m/Users/eugeneyan/.virtualenvs/datagene/lib/python2.7/site-packages/scipy/spatial/distance.pyc\u001b[0m in \u001b[0;36mcosine\u001b[0;34m(u, v)\u001b[0m\n\u001b[1;32m    323\u001b[0m     \"\"\"\n\u001b[1;32m    324\u001b[0m     \u001b[0mu\u001b[0m \u001b[0;34m=\u001b[0m \u001b[0m_validate_vector\u001b[0m\u001b[0;34m(\u001b[0m\u001b[0mu\u001b[0m\u001b[0;34m)\u001b[0m\u001b[0;34m\u001b[0m\u001b[0m\n\u001b[0;32m--> 325\u001b[0;31m     \u001b[0mv\u001b[0m \u001b[0;34m=\u001b[0m \u001b[0m_validate_vector\u001b[0m\u001b[0;34m(\u001b[0m\u001b[0mv\u001b[0m\u001b[0;34m)\u001b[0m\u001b[0;34m\u001b[0m\u001b[0m\n\u001b[0m\u001b[1;32m    326\u001b[0m     \u001b[0mdist\u001b[0m \u001b[0;34m=\u001b[0m \u001b[0;36m1.0\u001b[0m \u001b[0;34m-\u001b[0m \u001b[0mnp\u001b[0m\u001b[0;34m.\u001b[0m\u001b[0mdot\u001b[0m\u001b[0;34m(\u001b[0m\u001b[0mu\u001b[0m\u001b[0;34m,\u001b[0m \u001b[0mv\u001b[0m\u001b[0;34m)\u001b[0m \u001b[0;34m/\u001b[0m \u001b[0;34m(\u001b[0m\u001b[0mnorm\u001b[0m\u001b[0;34m(\u001b[0m\u001b[0mu\u001b[0m\u001b[0;34m)\u001b[0m \u001b[0;34m*\u001b[0m \u001b[0mnorm\u001b[0m\u001b[0;34m(\u001b[0m\u001b[0mv\u001b[0m\u001b[0;34m)\u001b[0m\u001b[0;34m)\u001b[0m\u001b[0;34m\u001b[0m\u001b[0m\n\u001b[1;32m    327\u001b[0m     \u001b[0;32mreturn\u001b[0m \u001b[0mdist\u001b[0m\u001b[0;34m\u001b[0m\u001b[0m\n",
      "\u001b[0;32m/Users/eugeneyan/.virtualenvs/datagene/lib/python2.7/site-packages/scipy/spatial/distance.pyc\u001b[0m in \u001b[0;36m_validate_vector\u001b[0;34m(u, dtype)\u001b[0m\n\u001b[1;32m    153\u001b[0m     \u001b[0mu\u001b[0m \u001b[0;34m=\u001b[0m \u001b[0mnp\u001b[0m\u001b[0;34m.\u001b[0m\u001b[0matleast_1d\u001b[0m\u001b[0;34m(\u001b[0m\u001b[0mu\u001b[0m\u001b[0;34m)\u001b[0m\u001b[0;34m\u001b[0m\u001b[0m\n\u001b[1;32m    154\u001b[0m     \u001b[0;32mif\u001b[0m \u001b[0mu\u001b[0m\u001b[0;34m.\u001b[0m\u001b[0mndim\u001b[0m \u001b[0;34m>\u001b[0m \u001b[0;36m1\u001b[0m\u001b[0;34m:\u001b[0m\u001b[0;34m\u001b[0m\u001b[0m\n\u001b[0;32m--> 155\u001b[0;31m         \u001b[0;32mraise\u001b[0m \u001b[0mValueError\u001b[0m\u001b[0;34m(\u001b[0m\u001b[0;34m\"Input vector should be 1-D.\"\u001b[0m\u001b[0;34m)\u001b[0m\u001b[0;34m\u001b[0m\u001b[0m\n\u001b[0m\u001b[1;32m    156\u001b[0m     \u001b[0;32mreturn\u001b[0m \u001b[0mu\u001b[0m\u001b[0;34m\u001b[0m\u001b[0m\n\u001b[1;32m    157\u001b[0m \u001b[0;34m\u001b[0m\u001b[0m\n",
      "\u001b[0;31mValueError\u001b[0m: Input vector should be 1-D."
     ]
    }
   ],
   "source": [
    "# get_cosine_similarity_scipy(search_image_features, search_features)"
   ]
  },
  {
   "cell_type": "code",
   "execution_count": 5,
   "metadata": {
    "collapsed": true
   },
   "outputs": [],
   "source": [
    "def time_scipy_csim():\n",
    "    return np.apply_along_axis(get_cosine_similarity_scipy, axis=1, arr=search_features, search_image_features=search_image_features)"
   ]
  },
  {
   "cell_type": "code",
   "execution_count": 35,
   "metadata": {
    "collapsed": true
   },
   "outputs": [],
   "source": [
    "def scipy_cdist(vector, matrix):\n",
    "    \"\"\"\n",
    "    Compute the cosine distances between each row of matrix and vector.\n",
    "    \"\"\"\n",
    "    v = vector.reshape(1, -1)\n",
    "    return 1 - cdist(matrix, v, 'cosine').reshape(-1)"
   ]
  },
  {
   "cell_type": "code",
   "execution_count": 36,
   "metadata": {
    "collapsed": false
   },
   "outputs": [
    {
     "data": {
      "text/plain": [
       "array([  1.00000000e+00,   4.30170179e-01,   3.58995193e-01,\n",
       "         2.37552595e-01,   4.86173423e-01,   2.64480790e-01,\n",
       "         4.14419972e-01,   3.87389708e-01,   3.37409386e-01,\n",
       "         2.81737391e-01,   1.80831392e-01,   3.74942880e-01,\n",
       "         4.51176146e-02,   4.40530954e-02,   3.85564918e-01,\n",
       "         6.43333657e-01,   3.41960562e-01,   3.22441313e-01,\n",
       "         3.98452546e-01,   3.98674244e-01,   6.03142679e-01,\n",
       "         2.51784723e-01,   4.59257697e-01,   5.28221142e-01,\n",
       "         3.27841798e-01,   8.71683535e-01,   1.83093822e-01,\n",
       "         1.79977797e-01,   3.29246580e-01,   3.43196612e-01,\n",
       "         2.13779001e-01,   5.07686529e-01,   3.76933393e-01,\n",
       "         4.07847844e-01,   4.47284660e-01,   4.55049509e-01,\n",
       "         6.51815305e-02,   1.08545964e-02,   8.69403752e-02,\n",
       "        -2.22326794e-02,   1.62964020e-01,   7.90184743e-02,\n",
       "         1.16133279e-01,   5.99216517e-02,   8.64581461e-02,\n",
       "         1.05637519e-01,   1.03135961e-01,   1.35790550e-01,\n",
       "        -3.92591655e-02,   6.36111770e-02,   1.52161164e-01,\n",
       "         1.06406259e-01,   1.03897335e-01,  -7.57087432e-03,\n",
       "         2.08759957e-01,   1.26621049e-01,   1.28595284e-01,\n",
       "        -2.08329387e-03,   1.33561604e-01,   1.41747878e-01,\n",
       "        -1.49279669e-03,   1.18002394e-01,   2.71469747e-02,\n",
       "         1.26552511e-01,   1.03080902e-01,   2.47450999e-01,\n",
       "         8.71237842e-02,   6.61640010e-02,   5.98996049e-02,\n",
       "        -2.60179633e-02,   6.84511126e-02,   1.50534763e-01,\n",
       "         1.20960968e-01,   3.88283559e-02,   2.61463874e-01,\n",
       "         1.28831533e-01,   8.99494246e-02,   3.81915448e-01,\n",
       "         4.26831066e-01,   4.31767434e-01,   3.24990316e-01,\n",
       "         1.85501309e-01,   3.31064926e-02,   3.52585930e-01,\n",
       "         3.75140531e-02,   2.19537610e-01,   5.46387747e-01,\n",
       "         1.50554256e-01,   2.91394976e-01,   1.94852532e-01,\n",
       "         1.63107034e-01,   7.34699855e-02,   1.69400938e-01,\n",
       "         2.53066337e-01,   1.19547615e-01,   1.59485627e-01,\n",
       "         6.08979056e-02,   1.14377045e-01,   2.71980871e-02,\n",
       "         3.67562048e-02,   7.61516280e-02,   8.20918606e-02,\n",
       "         1.22522584e-01,   6.88769862e-02,   2.69255461e-01,\n",
       "         3.98384036e-01,   4.39747969e-02,   2.92751726e-01,\n",
       "         4.27962205e-01,   3.04618173e-01,   3.04061881e-01,\n",
       "         3.14418473e-01,   3.04535424e-01,   2.39244323e-01,\n",
       "         1.83004602e-01,   1.84078978e-01,   5.11357238e-01,\n",
       "         3.63997182e-01,   3.24091550e-01,   1.15831424e-01,\n",
       "        -1.27812611e-01,   9.79344575e-02,   4.91738225e-02,\n",
       "         2.05734400e-01,   5.69858881e-02,   6.40649714e-02,\n",
       "         4.16076087e-02,  -6.38230908e-02,  -4.28714506e-02,\n",
       "        -3.69151804e-02,   2.16267104e-02,  -4.56643050e-02,\n",
       "         1.72005181e-02,  -1.40284776e-01,   5.37738033e-02,\n",
       "         7.48457165e-02,  -6.10648608e-02,  -4.26356843e-02,\n",
       "         1.06101931e-01,  -1.63091558e-02,  -8.78683897e-02,\n",
       "        -4.90912434e-02,   8.38387507e-02,   2.26195930e-01,\n",
       "        -3.98921057e-02,  -5.37784799e-02,   5.92966011e-02,\n",
       "         7.32089219e-02,   3.65018258e-03,  -4.62209920e-02,\n",
       "         2.07341125e-02,   6.66549821e-02,  -2.33557598e-01,\n",
       "        -1.49609996e-01,   2.38880368e-01,   1.14740764e-01,\n",
       "         4.79493299e-02,   3.15040614e-02,   3.47857036e-02,\n",
       "         2.41725724e-04,   2.04535634e-01,   5.22563117e-02,\n",
       "         7.39302510e-02,   8.34640893e-02,   1.22736851e-01,\n",
       "         1.18626661e-01,  -4.56390211e-02,  -6.29981350e-02,\n",
       "        -2.84976136e-02,  -5.79073439e-03,   1.38547478e-01,\n",
       "         1.30085173e-01])"
      ]
     },
     "execution_count": 36,
     "metadata": {},
     "output_type": "execute_result"
    }
   ],
   "source": [
    "scipy_cdist(search_image_features, search_features)"
   ]
  },
  {
   "cell_type": "code",
   "execution_count": 6,
   "metadata": {
    "collapsed": false
   },
   "outputs": [],
   "source": [
    "warnings.filterwarnings('ignore')"
   ]
  },
  {
   "cell_type": "code",
   "execution_count": 18,
   "metadata": {
    "collapsed": false
   },
   "outputs": [],
   "source": [
    "# %timeit -n 100 time_sklearn_csim()"
   ]
  },
  {
   "cell_type": "code",
   "execution_count": 19,
   "metadata": {
    "collapsed": false
   },
   "outputs": [
    {
     "name": "stdout",
     "output_type": "stream",
     "text": [
      "100 loops, best of 3: 7.73 ms per loop\n"
     ]
    }
   ],
   "source": [
    "%timeit -n 100 time_scipy_csim()"
   ]
  },
  {
   "cell_type": "code",
   "execution_count": 24,
   "metadata": {
    "collapsed": true
   },
   "outputs": [],
   "source": [
    "def cosine_similarity_scipy(search_image_features, search_features):\n",
    "    return np.apply_along_axis(get_cosine_similarity_scipy, axis=1, arr=search_features, search_image_features=search_image_features)"
   ]
  },
  {
   "cell_type": "code",
   "execution_count": 29,
   "metadata": {
    "collapsed": false
   },
   "outputs": [],
   "source": [
    "csim = cosine_similarity_scipy(search_image_features, search_features)"
   ]
  },
  {
   "cell_type": "markdown",
   "metadata": {},
   "source": [
    "###  Filter search features"
   ]
  },
  {
   "cell_type": "code",
   "execution_count": null,
   "metadata": {
    "collapsed": true
   },
   "outputs": [],
   "source": [
    "search_filter = 3"
   ]
  },
  {
   "cell_type": "code",
   "execution_count": null,
   "metadata": {
    "collapsed": false
   },
   "outputs": [],
   "source": [
    "# Add category labels to bottleneck_feats\n",
    "bottleneck_feats = np.load(open('../data/images_sample/model/bottleneck_features.npy'))\n",
    "bottleneck_feats = np.insert(bottleneck_feats, 0, category_labels, axis=1)"
   ]
  },
  {
   "cell_type": "code",
   "execution_count": null,
   "metadata": {
    "collapsed": false
   },
   "outputs": [],
   "source": [
    "if search_filter == -1:\n",
    "    bottleneck_feats = bottleneck_feats[:, 1:]\n",
    "else:\n",
    "    bottleneck_filter = bottleneck_feats[:, 0] == search_filter\n",
    "    bottleneck_feats = bottleneck_feats[bottleneck_filter, 1:]"
   ]
  },
  {
   "cell_type": "code",
   "execution_count": null,
   "metadata": {
    "collapsed": false
   },
   "outputs": [],
   "source": [
    "print search_image_features.shape\n",
    "print bottleneck_feats.shape"
   ]
  },
  {
   "cell_type": "markdown",
   "metadata": {},
   "source": [
    "### Calculate cosine similarity between search image features and bottleneck features"
   ]
  },
  {
   "cell_type": "code",
   "execution_count": null,
   "metadata": {
    "collapsed": true
   },
   "outputs": [],
   "source": [
    "# def cosine_similarity(bottleneck_features):\n",
    "#     csim = bottleneck_features.dot(bottleneck_features.T)\n",
    "#     if not isinstance(csim, np.ndarray):\n",
    "#         csim = csim.toarray()\n",
    "#     norms = np.array([np.sqrt(np.diagonal(csim))])\n",
    "#     return (csim / norms / norms.T)"
   ]
  },
  {
   "cell_type": "code",
   "execution_count": null,
   "metadata": {
    "collapsed": false
   },
   "outputs": [],
   "source": [
    "# Does not work\n",
    "# spatial.distance.cosine(search_image_features, bottleneck_feats)"
   ]
  },
  {
   "cell_type": "code",
   "execution_count": null,
   "metadata": {
    "collapsed": false
   },
   "outputs": [],
   "source": [
    "csim = cosine_similarity(search_image_features, bottleneck_feats)"
   ]
  },
  {
   "cell_type": "code",
   "execution_count": null,
   "metadata": {
    "collapsed": false
   },
   "outputs": [],
   "source": [
    "type(csim)"
   ]
  },
  {
   "cell_type": "markdown",
   "metadata": {},
   "source": [
    "### Find similar"
   ]
  },
  {
   "cell_type": "code",
   "execution_count": null,
   "metadata": {
    "collapsed": false
   },
   "outputs": [],
   "source": [
    "# combined_features = np.vstack([search_image_features, bottleneck_feats])"
   ]
  },
  {
   "cell_type": "code",
   "execution_count": null,
   "metadata": {
    "collapsed": false
   },
   "outputs": [],
   "source": [
    "# csim = cosine_similarity(combined_features)"
   ]
  },
  {
   "cell_type": "code",
   "execution_count": null,
   "metadata": {
    "collapsed": false,
    "scrolled": true
   },
   "outputs": [],
   "source": [
    "np.argsort(-csim[0])[:10]"
   ]
  },
  {
   "cell_type": "code",
   "execution_count": null,
   "metadata": {
    "collapsed": false
   },
   "outputs": [],
   "source": [
    "similarity_threshold = 0.58\n",
    "\n",
    "most_similar = np.argsort(-csim[0])[:10]\n",
    "\n",
    "# Exclude similar images below a certain similarity threshold\n",
    "most_similar = [idx for idx in most_similar if csim[0, idx] > similarity_threshold]"
   ]
  },
  {
   "cell_type": "code",
   "execution_count": null,
   "metadata": {
    "collapsed": true
   },
   "outputs": [],
   "source": [
    "print most_similar\n",
    "\n",
    "if search_filter == -1:\n",
    "    image_lookup_dict = idx_to_image_dict\n",
    "else:\n",
    "    image_lookup_dict = top_level_idx_to_image_dict[search_filter]\n",
    "\n",
    "for i in most_similar:\n",
    "    image_path = image_lookup_dict[i]\n",
    "    print image_path\n",
    "    image_display = plt.imread(image_path)\n",
    "    plt.axis('off')\n",
    "    plt.imshow(image_display.astype('uint8'))\n",
    "    plt.figure()"
   ]
  },
  {
   "cell_type": "markdown",
   "metadata": {},
   "source": [
    "### Resnet model"
   ]
  },
  {
   "cell_type": "code",
   "execution_count": null,
   "metadata": {
    "collapsed": true
   },
   "outputs": [],
   "source": [
    "TH_WEIGHTS_PATH = 'https://github.com/fchollet/deep-learning-models/releases/download/v0.2/resnet50_weights_th_dim_ordering_th_kernels.h5'\n",
    "TF_WEIGHTS_PATH = 'https://github.com/fchollet/deep-learning-models/releases/download/v0.2/resnet50_weights_tf_dim_ordering_tf_kernels.h5'\n",
    "TH_WEIGHTS_PATH_NO_TOP = 'https://github.com/fchollet/deep-learning-models/releases/download/v0.2/resnet50_weights_th_dim_ordering_th_kernels_notop.h5'\n",
    "TF_WEIGHTS_PATH_NO_TOP = 'https://github.com/fchollet/deep-learning-models/releases/download/v0.2/resnet50_weights_tf_dim_ordering_tf_kernels_notop.h5'\n",
    "\n",
    "\n",
    "def identity_block(input_tensor, kernel_size, filters, stage, block):\n",
    "    '''The identity_block is the block that has no conv layer at shortcut\n",
    "\n",
    "    # Arguments\n",
    "        input_tensor: input tensor\n",
    "        kernel_size: defualt 3, the kernel size of middle conv layer at main path\n",
    "        filters: list of integers, the nb_filters of 3 conv layer at main path\n",
    "        stage: integer, current stage label, used for generating layer names\n",
    "        block: 'a','b'..., current block label, used for generating layer names\n",
    "    '''\n",
    "    nb_filter1, nb_filter2, nb_filter3 = filters\n",
    "    if K.image_dim_ordering() == 'tf':\n",
    "        bn_axis = 3\n",
    "    else:\n",
    "        bn_axis = 1\n",
    "    conv_name_base = 'res' + str(stage) + block + '_branch'\n",
    "    bn_name_base = 'bn' + str(stage) + block + '_branch'\n",
    "\n",
    "    x = Convolution2D(nb_filter1, 1, 1, name=conv_name_base + '2a')(input_tensor)\n",
    "    x = BatchNormalization(axis=bn_axis, name=bn_name_base + '2a')(x)\n",
    "    x = Activation('relu')(x)\n",
    "\n",
    "    x = Convolution2D(nb_filter2, kernel_size, kernel_size,\n",
    "                      border_mode='same', name=conv_name_base + '2b')(x)\n",
    "    x = BatchNormalization(axis=bn_axis, name=bn_name_base + '2b')(x)\n",
    "    x = Activation('relu')(x)\n",
    "\n",
    "    x = Convolution2D(nb_filter3, 1, 1, name=conv_name_base + '2c')(x)\n",
    "    x = BatchNormalization(axis=bn_axis, name=bn_name_base + '2c')(x)\n",
    "\n",
    "    x = merge([x, input_tensor], mode='sum')\n",
    "    x = Activation('relu')(x)\n",
    "    return x\n",
    "\n",
    "\n",
    "def conv_block(input_tensor, kernel_size, filters, stage, block, strides=(2, 2)):\n",
    "    '''conv_block is the block that has a conv layer at shortcut\n",
    "\n",
    "    # Arguments\n",
    "        input_tensor: input tensor\n",
    "        kernel_size: defualt 3, the kernel size of middle conv layer at main path\n",
    "        filters: list of integers, the nb_filters of 3 conv layer at main path\n",
    "        stage: integer, current stage label, used for generating layer names\n",
    "        block: 'a','b'..., current block label, used for generating layer names\n",
    "\n",
    "    Note that from stage 3, the first conv layer at main path is with subsample=(2,2)\n",
    "    And the shortcut should have subsample=(2,2) as well\n",
    "    '''\n",
    "    nb_filter1, nb_filter2, nb_filter3 = filters\n",
    "    if K.image_dim_ordering() == 'tf':\n",
    "        bn_axis = 3\n",
    "    else:\n",
    "        bn_axis = 1\n",
    "    conv_name_base = 'res' + str(stage) + block + '_branch'\n",
    "    bn_name_base = 'bn' + str(stage) + block + '_branch'\n",
    "\n",
    "    x = Convolution2D(nb_filter1, 1, 1, subsample=strides,\n",
    "                      name=conv_name_base + '2a')(input_tensor)\n",
    "    x = BatchNormalization(axis=bn_axis, name=bn_name_base + '2a')(x)\n",
    "    x = Activation('relu')(x)\n",
    "\n",
    "    x = Convolution2D(nb_filter2, kernel_size, kernel_size, border_mode='same',\n",
    "                      name=conv_name_base + '2b')(x)\n",
    "    x = BatchNormalization(axis=bn_axis, name=bn_name_base + '2b')(x)\n",
    "    x = Activation('relu')(x)\n",
    "\n",
    "    x = Convolution2D(nb_filter3, 1, 1, name=conv_name_base + '2c')(x)\n",
    "    x = BatchNormalization(axis=bn_axis, name=bn_name_base + '2c')(x)\n",
    "\n",
    "    shortcut = Convolution2D(nb_filter3, 1, 1, subsample=strides,\n",
    "                             name=conv_name_base + '1')(input_tensor)\n",
    "    shortcut = BatchNormalization(axis=bn_axis, name=bn_name_base + '1')(shortcut)\n",
    "\n",
    "    x = merge([x, shortcut], mode='sum')\n",
    "    x = Activation('relu')(x)\n",
    "    return x\n",
    "\n",
    "\n",
    "def ResNet50(include_top=True, weights='imagenet',\n",
    "             input_tensor=None):\n",
    "    '''Instantiate the ResNet50 architecture,\n",
    "    optionally loading weights pre-trained\n",
    "    on ImageNet. Note that when using TensorFlow,\n",
    "    for best performance you should set\n",
    "    `image_dim_ordering=\"tf\"` in your Keras config\n",
    "    at ~/.keras/keras.json.\n",
    "\n",
    "    The model and the weights are compatible with both\n",
    "    TensorFlow and Theano. The dimension ordering\n",
    "    convention used by the model is the one\n",
    "    specified in your Keras config file.\n",
    "\n",
    "    # Arguments\n",
    "        include_top: whether to include the 3 fully-connected\n",
    "            layers at the top of the network.\n",
    "        weights: one of `None` (random initialization)\n",
    "            or \"imagenet\" (pre-training on ImageNet).\n",
    "        input_tensor: optional Keras tensor (i.e. xput of `layers.Input()`)\n",
    "            to use as image input for the model.\n",
    "\n",
    "    # Returns\n",
    "        A Keras model instance.\n",
    "    '''\n",
    "    if weights not in {'imagenet', None}:\n",
    "        raise ValueError('The `weights` argument should be either '\n",
    "                         '`None` (random initialization) or `imagenet` '\n",
    "                         '(pre-training on ImageNet).')\n",
    "    # Determine proper input shape\n",
    "    if K.image_dim_ordering() == 'th':\n",
    "        if include_top:\n",
    "            input_shape = (3, 224, 224)\n",
    "        else:\n",
    "            input_shape = (3, 224, 224)\n",
    "    else:\n",
    "        if include_top:\n",
    "            input_shape = (224, 224, 3)\n",
    "        else:\n",
    "            input_shape = (224, 224, 3)\n",
    "\n",
    "    if input_tensor is None:\n",
    "        img_input = Input(shape=input_shape)\n",
    "    else:\n",
    "        if not K.is_keras_tensor(input_tensor):\n",
    "            img_input = Input(tensor=input_tensor)\n",
    "        else:\n",
    "            img_input = input_tensor\n",
    "    if K.image_dim_ordering() == 'tf':\n",
    "        bn_axis = 3\n",
    "    else:\n",
    "        bn_axis = 1\n",
    "\n",
    "    x = ZeroPadding2D((3, 3))(img_input)\n",
    "    x = Convolution2D(64, 7, 7, subsample=(2, 2), name='conv1')(x)\n",
    "    x = BatchNormalization(axis=bn_axis, name='bn_conv1')(x)\n",
    "    x = Activation('relu')(x)\n",
    "    x = MaxPooling2D((3, 3), strides=(2, 2))(x)\n",
    "\n",
    "    x = conv_block(x, 3, [64, 64, 256], stage=2, block='a', strides=(1, 1))\n",
    "    x = identity_block(x, 3, [64, 64, 256], stage=2, block='b')\n",
    "    x = identity_block(x, 3, [64, 64, 256], stage=2, block='c')\n",
    "\n",
    "    x = conv_block(x, 3, [128, 128, 512], stage=3, block='a')\n",
    "    x = identity_block(x, 3, [128, 128, 512], stage=3, block='b')\n",
    "    x = identity_block(x, 3, [128, 128, 512], stage=3, block='c')\n",
    "    x = identity_block(x, 3, [128, 128, 512], stage=3, block='d')\n",
    "\n",
    "    x = conv_block(x, 3, [256, 256, 1024], stage=4, block='a')\n",
    "    x = identity_block(x, 3, [256, 256, 1024], stage=4, block='b')\n",
    "    x = identity_block(x, 3, [256, 256, 1024], stage=4, block='c')\n",
    "    x = identity_block(x, 3, [256, 256, 1024], stage=4, block='d')\n",
    "    x = identity_block(x, 3, [256, 256, 1024], stage=4, block='e')\n",
    "    x = identity_block(x, 3, [256, 256, 1024], stage=4, block='f')\n",
    "\n",
    "    x = conv_block(x, 3, [512, 512, 2048], stage=5, block='a')\n",
    "    x = identity_block(x, 3, [512, 512, 2048], stage=5, block='b')\n",
    "    x = identity_block(x, 3, [512, 512, 2048], stage=5, block='c')\n",
    "\n",
    "    x = AveragePooling2D((7, 7), name='avg_pool')(x)\n",
    "    \n",
    "    x = Flatten()(x)\n",
    "\n",
    "    if include_top:\n",
    "        x = Flatten()(x)\n",
    "        x = Dense(1000, activation='softmax', name='fc1000')(x)\n",
    "\n",
    "    model = Model(img_input, x)\n",
    "\n",
    "    # load weights\n",
    "    if weights == 'imagenet':\n",
    "        print('K.image_dim_ordering:', K.image_dim_ordering())\n",
    "        if K.image_dim_ordering() == 'th':\n",
    "            if include_top:\n",
    "                weights_path = get_file('resnet50_weights_th_dim_ordering_th_kernels.h5',\n",
    "                                        TH_WEIGHTS_PATH,\n",
    "                                        cache_subdir='models',\n",
    "                                        md5_hash='1c1f8f5b0c8ee28fe9d950625a230e1c')\n",
    "            else:\n",
    "                weights_path = get_file('resnet50_weights_th_dim_ordering_th_kernels_notop.h5',\n",
    "                                        TH_WEIGHTS_PATH_NO_TOP,\n",
    "                                        cache_subdir='models',\n",
    "                                        md5_hash='f64f049c92468c9affcd44b0976cdafe')\n",
    "            model.load_weights(weights_path)\n",
    "            if K.backend() == 'tensorflow':\n",
    "                warnings.warn('You are using the TensorFlow backend, yet you '\n",
    "                              'are using the Theano '\n",
    "                              'image dimension ordering convention '\n",
    "                              '(`image_dim_ordering=\"th\"`). '\n",
    "                              'For best performance, set '\n",
    "                              '`image_dim_ordering=\"tf\"` in '\n",
    "                              'your Keras config '\n",
    "                              'at ~/.keras/keras.json.')\n",
    "                convert_all_kernels_in_model(model)\n",
    "        else:\n",
    "            if include_top:\n",
    "                weights_path = get_file('resnet50_weights_tf_dim_ordering_tf_kernels.h5',\n",
    "                                        TF_WEIGHTS_PATH,\n",
    "                                        cache_subdir='models',\n",
    "                                        md5_hash='a7b3fe01876f51b976af0dea6bc144eb')\n",
    "            else:\n",
    "                weights_path = get_file('resnet50_weights_tf_dim_ordering_tf_kernels_notop.h5',\n",
    "                                        TF_WEIGHTS_PATH_NO_TOP,\n",
    "                                        cache_subdir='models',\n",
    "                                        md5_hash='a268eb855778b3df3c7506639542a6af')\n",
    "            model.load_weights(weights_path)\n",
    "            if K.backend() == 'theano':\n",
    "                convert_all_kernels_in_model(model)\n",
    "    return model"
   ]
  },
  {
   "cell_type": "code",
   "execution_count": null,
   "metadata": {
    "collapsed": true
   },
   "outputs": [],
   "source": [
    "TH_WEIGHTS_PATH = 'https://github.com/fchollet/deep-learning-models/releases/download/v0.2/inception_v3_weights_th_dim_ordering_th_kernels.h5'\n",
    "TF_WEIGHTS_PATH = 'https://github.com/fchollet/deep-learning-models/releases/download/v0.2/inception_v3_weights_tf_dim_ordering_tf_kernels.h5'\n",
    "TH_WEIGHTS_PATH_NO_TOP = 'https://github.com/fchollet/deep-learning-models/releases/download/v0.2/inception_v3_weights_th_dim_ordering_th_kernels_notop.h5'\n",
    "TF_WEIGHTS_PATH_NO_TOP = 'https://github.com/fchollet/deep-learning-models/releases/download/v0.2/inception_v3_weights_tf_dim_ordering_tf_kernels_notop.h5'\n",
    "\n",
    "\n",
    "def conv2d_bn(x, nb_filter, nb_row, nb_col,\n",
    "              border_mode='same', subsample=(1, 1),\n",
    "              name=None):\n",
    "    '''\n",
    "    Utility function to apply conv + BN.\n",
    "    '''\n",
    "    if name is not None:\n",
    "        bn_name = name + '_bn'\n",
    "        conv_name = name + '_conv'\n",
    "    else:\n",
    "        bn_name = None\n",
    "        conv_name = None\n",
    "    if K.image_dim_ordering() == 'th':\n",
    "        bn_axis = 1\n",
    "    else:\n",
    "        bn_axis = 3\n",
    "    x = Convolution2D(nb_filter, nb_row, nb_col,\n",
    "                      subsample=subsample,\n",
    "                      activation='relu',\n",
    "                      border_mode=border_mode,\n",
    "                      name=conv_name)(x)\n",
    "    x = BatchNormalization(axis=bn_axis, name=bn_name)(x)\n",
    "    return x\n",
    "\n",
    "\n",
    "def InceptionV3(include_top=True, weights='imagenet',\n",
    "                input_tensor=None):\n",
    "    '''Instantiate the Inception v3 architecture,\n",
    "    optionally loading weights pre-trained\n",
    "    on ImageNet. Note that when using TensorFlow,\n",
    "    for best performance you should set\n",
    "    `image_dim_ordering=\"tf\"` in your Keras config\n",
    "    at ~/.keras/keras.json.\n",
    "\n",
    "    The model and the weights are compatible with both\n",
    "    TensorFlow and Theano. The dimension ordering\n",
    "    convention used by the model is the one\n",
    "    specified in your Keras config file.\n",
    "\n",
    "    Note that the default input image size for this model is 299x299.\n",
    "\n",
    "    # Arguments\n",
    "        include_top: whether to include the 3 fully-connected\n",
    "            layers at the top of the network.\n",
    "        weights: one of `None` (random initialization)\n",
    "            or \"imagenet\" (pre-training on ImageNet).\n",
    "        input_tensor: optional Keras tensor (i.e. output of `layers.Input()`)\n",
    "            to use as image input for the model.\n",
    "\n",
    "    # Returns\n",
    "        A Keras model instance.\n",
    "    '''\n",
    "    if weights not in {'imagenet', None}:\n",
    "        raise ValueError('The `weights` argument should be either '\n",
    "                         '`None` (random initialization) or `imagenet` '\n",
    "                         '(pre-training on ImageNet).')\n",
    "    # Determine proper input shape\n",
    "    if K.image_dim_ordering() == 'th':\n",
    "        if include_top:\n",
    "            input_shape = (3, 299, 299)\n",
    "        else:\n",
    "            input_shape = (3, 299, 299)\n",
    "    else:\n",
    "        if include_top:\n",
    "            input_shape = (299, 299, 3)\n",
    "        else:\n",
    "            input_shape = (299, 299, 3)\n",
    "\n",
    "    if input_tensor is None:\n",
    "        img_input = Input(shape=input_shape)\n",
    "    else:\n",
    "        if not K.is_keras_tensor(input_tensor):\n",
    "            img_input = Input(tensor=input_tensor)\n",
    "        else:\n",
    "            img_input = input_tensor\n",
    "\n",
    "    if K.image_dim_ordering() == 'th':\n",
    "        channel_axis = 1\n",
    "    else:\n",
    "        channel_axis = 3\n",
    "\n",
    "    x = conv2d_bn(img_input, 32, 3, 3, subsample=(2, 2), border_mode='valid')\n",
    "    # with stride=2 border='valid', output becomes (299-1)/2 = 149 x 149\n",
    "    x = conv2d_bn(x, 32, 3, 3, border_mode='valid')  # 149 - 2 = 147 x 147\n",
    "    x = conv2d_bn(x, 64, 3, 3)  # 147 x 147\n",
    "    x = MaxPooling2D((3, 3), strides=(2, 2))(x)  # 49\n",
    "\n",
    "    x = conv2d_bn(x, 80, 1, 1, border_mode='valid')\n",
    "    x = conv2d_bn(x, 192, 3, 3, border_mode='valid')\n",
    "    x = MaxPooling2D((3, 3), strides=(2, 2))(x)\n",
    "\n",
    "    # mixed 0, 1, 2: 35 x 35 x 256\n",
    "    for i in range(3):\n",
    "        branch1x1 = conv2d_bn(x, 64, 1, 1)\n",
    "\n",
    "        branch5x5 = conv2d_bn(x, 48, 1, 1)\n",
    "        branch5x5 = conv2d_bn(branch5x5, 64, 5, 5)\n",
    "\n",
    "        branch3x3dbl = conv2d_bn(x, 64, 1, 1)\n",
    "        branch3x3dbl = conv2d_bn(branch3x3dbl, 96, 3, 3)\n",
    "        branch3x3dbl = conv2d_bn(branch3x3dbl, 96, 3, 3)\n",
    "\n",
    "        branch_pool = AveragePooling2D(\n",
    "            (3, 3), strides=(1, 1), border_mode='same')(x)\n",
    "        branch_pool = conv2d_bn(branch_pool, 32, 1, 1)\n",
    "        x = merge([branch1x1, branch5x5, branch3x3dbl, branch_pool],\n",
    "                  mode='concat', concat_axis=channel_axis,\n",
    "                  name='mixed' + str(i))\n",
    "\n",
    "    # mixed 3: 17 x 17 x 768\n",
    "    branch3x3 = conv2d_bn(x, 384, 3, 3, subsample=(2, 2), border_mode='valid')\n",
    "\n",
    "    branch3x3dbl = conv2d_bn(x, 64, 1, 1)\n",
    "    branch3x3dbl = conv2d_bn(branch3x3dbl, 96, 3, 3)\n",
    "    branch3x3dbl = conv2d_bn(branch3x3dbl, 96, 3, 3,\n",
    "                             subsample=(2, 2), border_mode='valid')\n",
    "\n",
    "    branch_pool = MaxPooling2D((3, 3), strides=(2, 2))(x)\n",
    "    x = merge([branch3x3, branch3x3dbl, branch_pool],\n",
    "              mode='concat', concat_axis=channel_axis,\n",
    "              name='mixed3')\n",
    "\n",
    "    # mixed 4: 17 x 17 x 768\n",
    "    branch1x1 = conv2d_bn(x, 192, 1, 1)\n",
    "\n",
    "    branch7x7 = conv2d_bn(x, 128, 1, 1)\n",
    "    branch7x7 = conv2d_bn(branch7x7, 128, 1, 7)\n",
    "    branch7x7 = conv2d_bn(branch7x7, 192, 7, 1)\n",
    "\n",
    "    branch7x7dbl = conv2d_bn(x, 128, 1, 1)\n",
    "    branch7x7dbl = conv2d_bn(branch7x7dbl, 128, 7, 1)\n",
    "    branch7x7dbl = conv2d_bn(branch7x7dbl, 128, 1, 7)\n",
    "    branch7x7dbl = conv2d_bn(branch7x7dbl, 128, 7, 1)\n",
    "    branch7x7dbl = conv2d_bn(branch7x7dbl, 192, 1, 7)\n",
    "\n",
    "    branch_pool = AveragePooling2D((3, 3), strides=(1, 1), border_mode='same')(x)\n",
    "    branch_pool = conv2d_bn(branch_pool, 192, 1, 1)\n",
    "    x = merge([branch1x1, branch7x7, branch7x7dbl, branch_pool],\n",
    "              mode='concat', concat_axis=channel_axis,\n",
    "              name='mixed4')\n",
    "\n",
    "    # mixed 5, 6: 17 x 17 x 768\n",
    "    for i in range(2):\n",
    "        branch1x1 = conv2d_bn(x, 192, 1, 1)\n",
    "\n",
    "        branch7x7 = conv2d_bn(x, 160, 1, 1)\n",
    "        branch7x7 = conv2d_bn(branch7x7, 160, 1, 7)\n",
    "        branch7x7 = conv2d_bn(branch7x7, 192, 7, 1)\n",
    "\n",
    "        branch7x7dbl = conv2d_bn(x, 160, 1, 1)\n",
    "        branch7x7dbl = conv2d_bn(branch7x7dbl, 160, 7, 1)\n",
    "        branch7x7dbl = conv2d_bn(branch7x7dbl, 160, 1, 7)\n",
    "        branch7x7dbl = conv2d_bn(branch7x7dbl, 160, 7, 1)\n",
    "        branch7x7dbl = conv2d_bn(branch7x7dbl, 192, 1, 7)\n",
    "\n",
    "        branch_pool = AveragePooling2D(\n",
    "            (3, 3), strides=(1, 1), border_mode='same')(x)\n",
    "        branch_pool = conv2d_bn(branch_pool, 192, 1, 1)\n",
    "        x = merge([branch1x1, branch7x7, branch7x7dbl, branch_pool],\n",
    "                  mode='concat', concat_axis=channel_axis,\n",
    "                  name='mixed' + str(5 + i))\n",
    "\n",
    "    # mixed 7: 17 x 17 x 768\n",
    "    branch1x1 = conv2d_bn(x, 192, 1, 1)\n",
    "\n",
    "    branch7x7 = conv2d_bn(x, 192, 1, 1)\n",
    "    branch7x7 = conv2d_bn(branch7x7, 192, 1, 7)\n",
    "    branch7x7 = conv2d_bn(branch7x7, 192, 7, 1)\n",
    "\n",
    "    branch7x7dbl = conv2d_bn(x, 160, 1, 1)\n",
    "    branch7x7dbl = conv2d_bn(branch7x7dbl, 192, 7, 1)\n",
    "    branch7x7dbl = conv2d_bn(branch7x7dbl, 192, 1, 7)\n",
    "    branch7x7dbl = conv2d_bn(branch7x7dbl, 192, 7, 1)\n",
    "    branch7x7dbl = conv2d_bn(branch7x7dbl, 192, 1, 7)\n",
    "\n",
    "    branch_pool = AveragePooling2D((3, 3), strides=(1, 1), border_mode='same')(x)\n",
    "    branch_pool = conv2d_bn(branch_pool, 192, 1, 1)\n",
    "    x = merge([branch1x1, branch7x7, branch7x7dbl, branch_pool],\n",
    "              mode='concat', concat_axis=channel_axis,\n",
    "              name='mixed7')\n",
    "\n",
    "    # mixed 8: 8 x 8 x 1280\n",
    "    branch3x3 = conv2d_bn(x, 192, 1, 1)\n",
    "    branch3x3 = conv2d_bn(branch3x3, 320, 3, 3,\n",
    "                          subsample=(2, 2), border_mode='valid')\n",
    "\n",
    "    branch7x7x3 = conv2d_bn(x, 192, 1, 1)\n",
    "    branch7x7x3 = conv2d_bn(branch7x7x3, 192, 1, 7)\n",
    "    branch7x7x3 = conv2d_bn(branch7x7x3, 192, 7, 1)\n",
    "    branch7x7x3 = conv2d_bn(branch7x7x3, 192, 3, 3,\n",
    "                            subsample=(2, 2), border_mode='valid')\n",
    "\n",
    "    branch_pool = AveragePooling2D((3, 3), strides=(2, 2))(x)\n",
    "    x = merge([branch3x3, branch7x7x3, branch_pool],\n",
    "              mode='concat', concat_axis=channel_axis,\n",
    "              name='mixed8')\n",
    "\n",
    "    # mixed 9: 8 x 8 x 2048\n",
    "    for i in range(2):\n",
    "        branch1x1 = conv2d_bn(x, 320, 1, 1)\n",
    "\n",
    "        branch3x3 = conv2d_bn(x, 384, 1, 1)\n",
    "        branch3x3_1 = conv2d_bn(branch3x3, 384, 1, 3)\n",
    "        branch3x3_2 = conv2d_bn(branch3x3, 384, 3, 1)\n",
    "        branch3x3 = merge([branch3x3_1, branch3x3_2],\n",
    "                          mode='concat', concat_axis=channel_axis,\n",
    "                          name='mixed9_' + str(i))\n",
    "\n",
    "        branch3x3dbl = conv2d_bn(x, 448, 1, 1)\n",
    "        branch3x3dbl = conv2d_bn(branch3x3dbl, 384, 3, 3)\n",
    "        branch3x3dbl_1 = conv2d_bn(branch3x3dbl, 384, 1, 3)\n",
    "        branch3x3dbl_2 = conv2d_bn(branch3x3dbl, 384, 3, 1)\n",
    "        branch3x3dbl = merge([branch3x3dbl_1, branch3x3dbl_2],\n",
    "                             mode='concat', concat_axis=channel_axis)\n",
    "\n",
    "        branch_pool = AveragePooling2D(\n",
    "            (3, 3), strides=(1, 1), border_mode='same')(x)\n",
    "        branch_pool = conv2d_bn(branch_pool, 192, 1, 1)\n",
    "        x = merge([branch1x1, branch3x3, branch3x3dbl, branch_pool],\n",
    "                  mode='concat', concat_axis=channel_axis,\n",
    "                  name='mixed' + str(9 + i))\n",
    "\n",
    "    x = AveragePooling2D((8, 8), strides=(8, 8), name='avg_pool')(x)  # Moved here for transfer learning\n",
    "    \n",
    "    x = Flatten(name='flatten')(x)\n",
    "\n",
    "    if include_top:\n",
    "        # Classification block\n",
    "        # x = AveragePooling2D((8, 8), strides=(8, 8), name='avg_pool')(x)\n",
    "        # x = Flatten(name='flatten')(x)\n",
    "        x = Dense(1000, activation='softmax', name='predictions')(x)\n",
    "\n",
    "    # Create model\n",
    "    model = Model(img_input, x)\n",
    "\n",
    "    # load weights\n",
    "    if weights == 'imagenet':\n",
    "        if K.image_dim_ordering() == 'th':\n",
    "            if include_top:\n",
    "                weights_path = get_file('inception_v3_weights_th_dim_ordering_th_kernels.h5',\n",
    "                                        TH_WEIGHTS_PATH,\n",
    "                                        cache_subdir='models',\n",
    "                                        md5_hash='b3baf3070cc4bf476d43a2ea61b0ca5f')\n",
    "            else:\n",
    "                weights_path = get_file('inception_v3_weights_th_dim_ordering_th_kernels_notop.h5',\n",
    "                                        TH_WEIGHTS_PATH_NO_TOP,\n",
    "                                        cache_subdir='models',\n",
    "                                        md5_hash='79aaa90ab4372b4593ba3df64e142f05')\n",
    "            model.load_weights(weights_path)\n",
    "            if K.backend() == 'tensorflow':\n",
    "                warnings.warn('You are using the TensorFlow backend, yet you '\n",
    "                              'are using the Theano '\n",
    "                              'image dimension ordering convention '\n",
    "                              '(`image_dim_ordering=\"th\"`). '\n",
    "                              'For best performance, set '\n",
    "                              '`image_dim_ordering=\"tf\"` in '\n",
    "                              'your Keras config '\n",
    "                              'at ~/.keras/keras.json.')\n",
    "                convert_all_kernels_in_model(model)\n",
    "        else:\n",
    "            if include_top:\n",
    "                weights_path = get_file('inception_v3_weights_tf_dim_ordering_tf_kernels.h5',\n",
    "                                        TF_WEIGHTS_PATH,\n",
    "                                        cache_subdir='models',\n",
    "                                        md5_hash='fe114b3ff2ea4bf891e9353d1bbfb32f')\n",
    "            else:\n",
    "                weights_path = get_file('inception_v3_weights_tf_dim_ordering_tf_kernels_notop.h5',\n",
    "                                        TF_WEIGHTS_PATH_NO_TOP,\n",
    "                                        cache_subdir='models',\n",
    "                                        md5_hash='2f3609166de1d967d1a481094754f691')\n",
    "            model.load_weights(weights_path)\n",
    "            if K.backend() == 'theano':\n",
    "                convert_all_kernels_in_model(model)\n",
    "    return model"
   ]
  },
  {
   "cell_type": "code",
   "execution_count": null,
   "metadata": {
    "collapsed": true
   },
   "outputs": [],
   "source": [
    "TH_WEIGHTS_PATH = 'https://github.com/fchollet/deep-learning-models/releases/download/v0.1/vgg16_weights_th_dim_ordering_th_kernels.h5'\n",
    "TF_WEIGHTS_PATH = 'https://github.com/fchollet/deep-learning-models/releases/download/v0.1/vgg16_weights_tf_dim_ordering_tf_kernels.h5'\n",
    "TH_WEIGHTS_PATH_NO_TOP = 'https://github.com/fchollet/deep-learning-models/releases/download/v0.1/vgg16_weights_th_dim_ordering_th_kernels_notop.h5'\n",
    "TF_WEIGHTS_PATH_NO_TOP = 'https://github.com/fchollet/deep-learning-models/releases/download/v0.1/vgg16_weights_tf_dim_ordering_tf_kernels_notop.h5'\n",
    "\n",
    "\n",
    "def VGG16(include_top=True, weights='imagenet',\n",
    "          input_tensor=None):\n",
    "    '''Instantiate the VGG16 architecture,\n",
    "    optionally loading weights pre-trained\n",
    "    on ImageNet. Note that when using TensorFlow,\n",
    "    for best performance you should set\n",
    "    `image_dim_ordering=\"tf\"` in your Keras config\n",
    "    at ~/.keras/keras.json.\n",
    "\n",
    "    The model and the weights are compatible with both\n",
    "    TensorFlow and Theano. The dimension ordering\n",
    "    convention used by the model is the one\n",
    "    specified in your Keras config file.\n",
    "\n",
    "    # Arguments\n",
    "        include_top: whether to include the 3 fully-connected\n",
    "            layers at the top of the network.\n",
    "        weights: one of `None` (random initialization)\n",
    "            or \"imagenet\" (pre-training on ImageNet).\n",
    "        input_tensor: optional Keras tensor (i.e. output of `layers.Input()`)\n",
    "            to use as image input for the model.\n",
    "\n",
    "    # Returns\n",
    "        A Keras model instance.\n",
    "    '''\n",
    "    if weights not in {'imagenet', None}:\n",
    "        raise ValueError('The `weights` argument should be either '\n",
    "                         '`None` (random initialization) or `imagenet` '\n",
    "                         '(pre-training on ImageNet).')\n",
    "\n",
    "    # Determine proper input shape\n",
    "    if K.image_dim_ordering() == 'th':\n",
    "        if include_top:\n",
    "            input_shape = (3, 224, 224)\n",
    "        else:\n",
    "            input_shape = (3, 224, 224)\n",
    "    else:\n",
    "        if include_top:\n",
    "            input_shape = (224, 224, 3)\n",
    "        else:\n",
    "            input_shape = (224, 224, 3)\n",
    "\n",
    "    if input_tensor is None:\n",
    "        img_input = Input(shape=input_shape)\n",
    "    else:\n",
    "        if not K.is_keras_tensor(input_tensor):\n",
    "            img_input = Input(tensor=input_tensor)\n",
    "        else:\n",
    "            img_input = input_tensor\n",
    "\n",
    "    # Block 1\n",
    "    x = Convolution2D(64, 3, 3, activation='relu', border_mode='same', name='block1_conv1')(img_input)\n",
    "    x = Convolution2D(64, 3, 3, activation='relu', border_mode='same', name='block1_conv2')(x)\n",
    "    x = MaxPooling2D((2, 2), strides=(2, 2), name='block1_pool')(x)\n",
    "\n",
    "    # Block 2\n",
    "    x = Convolution2D(128, 3, 3, activation='relu', border_mode='same', name='block2_conv1')(x)\n",
    "    x = Convolution2D(128, 3, 3, activation='relu', border_mode='same', name='block2_conv2')(x)\n",
    "    x = MaxPooling2D((2, 2), strides=(2, 2), name='block2_pool')(x)\n",
    "\n",
    "    # Block 3\n",
    "    x = Convolution2D(256, 3, 3, activation='relu', border_mode='same', name='block3_conv1')(x)\n",
    "    x = Convolution2D(256, 3, 3, activation='relu', border_mode='same', name='block3_conv2')(x)\n",
    "    x = Convolution2D(256, 3, 3, activation='relu', border_mode='same', name='block3_conv3')(x)\n",
    "    x = MaxPooling2D((2, 2), strides=(2, 2), name='block3_pool')(x)\n",
    "\n",
    "    # Block 4\n",
    "    x = Convolution2D(512, 3, 3, activation='relu', border_mode='same', name='block4_conv1')(x)\n",
    "    x = Convolution2D(512, 3, 3, activation='relu', border_mode='same', name='block4_conv2')(x)\n",
    "    x = Convolution2D(512, 3, 3, activation='relu', border_mode='same', name='block4_conv3')(x)\n",
    "    x = MaxPooling2D((2, 2), strides=(2, 2), name='block4_pool')(x)\n",
    "\n",
    "    # Block 5\n",
    "    x = Convolution2D(512, 3, 3, activation='relu', border_mode='same', name='block5_conv1')(x)\n",
    "    x = Convolution2D(512, 3, 3, activation='relu', border_mode='same', name='block5_conv2')(x)\n",
    "    x = Convolution2D(512, 3, 3, activation='relu', border_mode='same', name='block5_conv3')(x)\n",
    "    x = MaxPooling2D((2, 2), strides=(2, 2), name='block5_pool')(x)\n",
    "    \n",
    "    x = Flatten(name='flatten')(x)  # Add flattern\n",
    "\n",
    "    if include_top:\n",
    "        # Classification block\n",
    "        # x = Flatten(name='flatten')(x)\n",
    "        x = Dense(4096, activation='relu', name='fc1')(x)\n",
    "        x = Dense(4096, activation='relu', name='fc2')(x)\n",
    "        x = Dense(1000, activation='softmax', name='predictions')(x)\n",
    "\n",
    "    # Create model\n",
    "    model = Model(img_input, x)\n",
    "\n",
    "    # load weights\n",
    "    if weights == 'imagenet':\n",
    "        print('K.image_dim_ordering:', K.image_dim_ordering())\n",
    "        if K.image_dim_ordering() == 'th':\n",
    "            if include_top:\n",
    "                weights_path = get_file('vgg16_weights_th_dim_ordering_th_kernels.h5',\n",
    "                                        TH_WEIGHTS_PATH,\n",
    "                                        cache_subdir='models')\n",
    "            else:\n",
    "                weights_path = get_file('vgg16_weights_th_dim_ordering_th_kernels_notop.h5',\n",
    "                                        TH_WEIGHTS_PATH_NO_TOP,\n",
    "                                        cache_subdir='models')\n",
    "            model.load_weights(weights_path)\n",
    "            if K.backend() == 'tensorflow':\n",
    "                warnings.warn('You are using the TensorFlow backend, yet you '\n",
    "                              'are using the Theano '\n",
    "                              'image dimension ordering convention '\n",
    "                              '(`image_dim_ordering=\"th\"`). '\n",
    "                              'For best performance, set '\n",
    "                              '`image_dim_ordering=\"tf\"` in '\n",
    "                              'your Keras config '\n",
    "                              'at ~/.keras/keras.json.')\n",
    "                convert_all_kernels_in_model(model)\n",
    "        else:\n",
    "            if include_top:\n",
    "                weights_path = get_file('vgg16_weights_tf_dim_ordering_tf_kernels.h5',\n",
    "                                        TF_WEIGHTS_PATH,\n",
    "                                        cache_subdir='models')\n",
    "            else:\n",
    "                weights_path = get_file('vgg16_weights_tf_dim_ordering_tf_kernels_notop.h5',\n",
    "                                        TF_WEIGHTS_PATH_NO_TOP,\n",
    "                                        cache_subdir='models')\n",
    "            model.load_weights(weights_path)\n",
    "            if K.backend() == 'theano':\n",
    "                convert_all_kernels_in_model(model)\n",
    "    return model"
   ]
  },
  {
   "cell_type": "markdown",
   "metadata": {
    "collapsed": true
   },
   "source": [
    "### Understanding InceptionV3 architecture"
   ]
  },
  {
   "cell_type": "code",
   "execution_count": null,
   "metadata": {
    "collapsed": true
   },
   "outputs": [],
   "source": [
    "from keras.models import Sequential"
   ]
  },
  {
   "cell_type": "code",
   "execution_count": null,
   "metadata": {
    "collapsed": true
   },
   "outputs": [],
   "source": [
    "def conv2d_bn(x, nb_filter, nb_row, nb_col,\n",
    "              border_mode='same', subsample=(1, 1),\n",
    "              name=None):\n",
    "    '''\n",
    "    Utility function to apply conv + BN.\n",
    "    '''\n",
    "    if name is not None:\n",
    "        bn_name = name + '_bn'\n",
    "        conv_name = name + '_conv'\n",
    "    else:\n",
    "        bn_name = None\n",
    "        conv_name = None\n",
    "    if K.image_dim_ordering() == 'th':\n",
    "        bn_axis = 1\n",
    "    else:\n",
    "        bn_axis = 3\n",
    "    x = Convolution2D(nb_filter, nb_row, nb_col,\n",
    "                      subsample=subsample,\n",
    "                      activation='relu',\n",
    "                      border_mode=border_mode,\n",
    "                      name=conv_name)(x)\n",
    "    x = BatchNormalization(axis=bn_axis, name=bn_name)(x)\n",
    "    return x\n",
    "\n"
   ]
  },
  {
   "cell_type": "code",
   "execution_count": null,
   "metadata": {
    "collapsed": false
   },
   "outputs": [],
   "source": [
    "img_input = Input(shape=(3, 299, 299))"
   ]
  },
  {
   "cell_type": "code",
   "execution_count": null,
   "metadata": {
    "collapsed": false
   },
   "outputs": [],
   "source": [
    "model = Sequential()\n",
    "model.add(Convolution2D(32, 3, 3, subsample=(2, 2), border_mode='valid', input_shape=(3, 299, 299)))\n",
    "model.output_shape"
   ]
  },
  {
   "cell_type": "code",
   "execution_count": null,
   "metadata": {
    "collapsed": false
   },
   "outputs": [],
   "source": [
    "model.add(Convolution2D(32, 3, 3, border_mode='valid'))\n",
    "model.output_shape"
   ]
  },
  {
   "cell_type": "code",
   "execution_count": null,
   "metadata": {
    "collapsed": false
   },
   "outputs": [],
   "source": [
    "model.add(Convolution2D(64, 3, 3, border_mode='same'))\n",
    "model.output_shape"
   ]
  },
  {
   "cell_type": "code",
   "execution_count": null,
   "metadata": {
    "collapsed": false
   },
   "outputs": [],
   "source": [
    "model.add(MaxPooling2D(pool_size=(3, 3), strides=(2, 2)))\n",
    "model.output_shape"
   ]
  },
  {
   "cell_type": "code",
   "execution_count": null,
   "metadata": {
    "collapsed": false
   },
   "outputs": [],
   "source": [
    "model.add(Convolution2D(80, 1, 1, border_mode='valid'))\n",
    "model.output_shape"
   ]
  },
  {
   "cell_type": "code",
   "execution_count": null,
   "metadata": {
    "collapsed": false
   },
   "outputs": [],
   "source": [
    "model.add(Convolution2D(192, 3, 3, border_mode='valid'))\n",
    "model.output_shape"
   ]
  },
  {
   "cell_type": "code",
   "execution_count": null,
   "metadata": {
    "collapsed": false
   },
   "outputs": [],
   "source": [
    "model.add(MaxPooling2D((3, 3), strides=(2, 2)))\n",
    "model.output_shape"
   ]
  },
  {
   "cell_type": "code",
   "execution_count": null,
   "metadata": {
    "collapsed": true
   },
   "outputs": [],
   "source": [
    "x = conv2d_bn(img_input, 32, 3, 3, subsample=(2, 2), border_mode='valid')\n",
    "# with stride=2 border='valid', output becomes (299-1)/2 = 149 x 149\n",
    "x = conv2d_bn(x, 32, 3, 3, border_mode='valid')  # 149 - 2 = 147 x 147\n",
    "x = conv2d_bn(x, 64, 3, 3)  # 147 x 147\n",
    "x = MaxPooling2D((3, 3), strides=(2, 2))(x)  # 49\n",
    "\n",
    "x = conv2d_bn(x, 80, 1, 1, border_mode='valid')\n",
    "x = conv2d_bn(x, 192, 3, 3, border_mode='valid')\n",
    "x = MaxPooling2D((3, 3), strides=(2, 2))(x)"
   ]
  }
 ],
 "metadata": {
  "kernelspec": {
   "display_name": "Python 2",
   "language": "python",
   "name": "python2"
  },
  "language_info": {
   "codemirror_mode": {
    "name": "ipython",
    "version": 2
   },
   "file_extension": ".py",
   "mimetype": "text/x-python",
   "name": "python",
   "nbconvert_exporter": "python",
   "pygments_lexer": "ipython2",
   "version": "2.7.9"
  }
 },
 "nbformat": 4,
 "nbformat_minor": 0
}

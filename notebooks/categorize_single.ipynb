{
 "cells": [
  {
   "cell_type": "code",
   "execution_count": 20,
   "metadata": {
    "collapsed": false
   },
   "outputs": [],
   "source": [
    "import cPickle as pickle\n",
    "import os\n",
    "import datetime\n",
    "from collections import defaultdict\n",
    "import heapq\n",
    "from eutils.utils.logger import logger\n",
    "from clean_titles import encode_string, tokenize_title_string, remove_words_list, remove_numeric_list, remove_chars, STOP_WORDS, HTML_PARSER"
   ]
  },
  {
   "cell_type": "code",
   "execution_count": 2,
   "metadata": {
    "collapsed": false
   },
   "outputs": [],
   "source": [
    "def merge_dicts(dicts, defaultdict=defaultdict, int=int):\n",
    "    \"\"\" (list(dict), type, type) -> dict\n",
    "\n",
    "    Returns a single dictionary given a list of dictionaries.\n",
    "    Values with the same keys are summed and assigned to the key.\n",
    "\n",
    "    :param dicts:\n",
    "    :param defaultdict:\n",
    "    :param int:\n",
    "    :return:\n",
    "\n",
    "    >>> merge_dicts([{'A': 1}, {'B': 2}])\n",
    "    defaultdict(<type 'int'>, {'A': 1, 'B': 2})\n",
    "    >>> merge_dicts([{'A': 1}, {'B': 2}, {'C': 3}, {'A': 10}])\n",
    "    defaultdict(<type 'int'>, {'A': 11, 'C': 3, 'B': 2})\n",
    "    \"\"\"\n",
    "\n",
    "    merged = defaultdict(int)\n",
    "    for d in dicts:\n",
    "        for k in d:\n",
    "            merged[k] += d[k]\n",
    "\n",
    "    return merged\n",
    "\n",
    "\n",
    "def get_score(tokens, ngram_dict, int_to_category_dict, top_n):\n",
    "    dict_list = []\n",
    "\n",
    "    # get list of dictionaries based on tokens\n",
    "    for token in tokens:\n",
    "        try:\n",
    "            dict_list.append(ngram_dict[token])\n",
    "        except KeyError:\n",
    "            pass\n",
    "\n",
    "    # Merge list of dicts together and add values\n",
    "    score = merge_dicts(dict_list)\n",
    "\n",
    "    # Get top n regional ids based on score\n",
    "    top_n_cats = heapq.nlargest(top_n, score, key=score.get)\n",
    "    \n",
    "    # Convert integers back to categories\n",
    "    top_n_cats = [int_to_category_dict[idx] for idx in top_n_cats]\n",
    "\n",
    "    return top_n_cats"
   ]
  },
  {
   "cell_type": "code",
   "execution_count": 3,
   "metadata": {
    "collapsed": true
   },
   "outputs": [],
   "source": [
    "x = ['bookshelf', 'wood', 'clock']"
   ]
  },
  {
   "cell_type": "code",
   "execution_count": 8,
   "metadata": {
    "collapsed": false
   },
   "outputs": [
    {
     "data": {
      "text/plain": [
       "['Toys & Games -> Hobbies -> Trains & Accessories -> Train Cars -> Freight Cars',\n",
       " 'Home & Kitchen -> Furniture -> Home Office Furniture -> Home Office Desks',\n",
       " 'Electronics -> Computers & Accessories -> Laptop & Netbook Computer Accessories']"
      ]
     },
     "execution_count": 8,
     "metadata": {},
     "output_type": "execute_result"
    }
   ],
   "source": [
    "get_score(x, tfidf_dict, int_to_category_dict, 3)"
   ]
  },
  {
   "cell_type": "markdown",
   "metadata": {},
   "source": [
    "### Load dictionary"
   ]
  },
  {
   "cell_type": "code",
   "execution_count": 5,
   "metadata": {
    "collapsed": false
   },
   "outputs": [],
   "source": [
    "def load_dict(dict_dir='categorize', dict_name='tfidf_dict'):\n",
    "    \"\"\" (str, str) -> defaultdict\n",
    "\n",
    "    Loads a dictionary for categorization into memory\n",
    "\n",
    "    :param tfidf_dict:\n",
    "    :param dict_dir:\n",
    "    :param dict_name:\n",
    "    :return:\n",
    "    \"\"\"\n",
    "    output_dir_path = os.path.join(dict_dir, dict_name + '.pickle')\n",
    "\n",
    "    with open(output_dir_path, 'rb') as handle:\n",
    "        logger.info('Dictionary loading from: {}/{}.pickle'.format(dict_dir, dict_name))\n",
    "        return pickle.load(handle)"
   ]
  },
  {
   "cell_type": "code",
   "execution_count": 6,
   "metadata": {
    "collapsed": false
   },
   "outputs": [
    {
     "name": "stderr",
     "output_type": "stream",
     "text": [
      "2016-12-21 16:37:06,246 - Dictionary loading from: ../data/model/categorization_dicts_small.pickle\n"
     ]
    }
   ],
   "source": [
    "tfidf_dict, int_to_category_dict = load_dict('../data/model', 'categorization_dicts_small')"
   ]
  },
  {
   "cell_type": "markdown",
   "metadata": {},
   "source": [
    "### Class for single categorization"
   ]
  },
  {
   "cell_type": "code",
   "execution_count": 22,
   "metadata": {
    "collapsed": false
   },
   "outputs": [],
   "source": [
    "class Title:\n",
    "\n",
    "    def __init__(self, title):\n",
    "        self.title = title\n",
    "        self.processed_title = None\n",
    "\n",
    "    def prepare(self, excluded='-.'):\n",
    "        \"\"\" (str) -> list(str)\n",
    "\n",
    "        Returns the title after it has been prepared by the process from clean titles\n",
    "\n",
    "        :return:\n",
    "        >>> CategorizeSingle('Crème brûlée &quot; &amp; &nbsp;').prepare()\n",
    "        ['creme', 'brulee']\n",
    "        >>> CategorizeSingle('test hyphen-word 0.9 20% green/blue').prepare()\n",
    "        ['test', 'hyphen-word', '0.9']\n",
    "        >>> CategorizeSingle('grapes come in purple and green').prepare()\n",
    "        ['grapes', 'come']\n",
    "        >>> CategorizeSingle('what remains of a word ! if wordlen is 2').prepare()\n",
    "        ['remains', 'word', 'wordlen']\n",
    "        \"\"\"\n",
    "\n",
    "        self.title = encode_string(self.title, HTML_PARSER)\n",
    "        self.title = self.title.lower()\n",
    "        self.title = tokenize_title_string(self.title, excluded)\n",
    "        self.title = remove_words_list(self.title, STOP_WORDS)\n",
    "        self.title = remove_numeric_list(self.title)\n",
    "        self.title = remove_chars(self.title, 1)\n",
    "        logger.info(self.title)\n",
    "        return self\n",
    "\n",
    "    def categorize(self):\n",
    "        \"\"\" (CategorizeSingle(str)) -> dict\n",
    "\n",
    "        Categorizes prepared title and returns a dictionary of form {1: 'Cat1', 2: 'Cat2', 3: 'Cat3}\n",
    "\n",
    "        :return:\n",
    "        \"\"\"\n",
    "        \n",
    "        result_list = get_score(self.title, tfidf_dict, int_to_category_dict, 3)\n",
    "        result_dict = dict()\n",
    "        for i, category in enumerate(result_list):\n",
    "            result_dict[i+1] = category\n",
    "\n",
    "        return result_dict\n"
   ]
  },
  {
   "cell_type": "code",
   "execution_count": 14,
   "metadata": {
    "collapsed": false
   },
   "outputs": [
    {
     "name": "stderr",
     "output_type": "stream",
     "text": [
      "2016-12-21 16:40:01,781 - ['bookshelf', 'wood', 'clock']\n",
      "2016-12-21 16:40:01,782 - <__main__.CategorizeSingle instance at 0x11914bc20>\n"
     ]
    }
   ],
   "source": [
    "x = CategorizeSingle('This is a bookshelf with wood and a clock').prepare()\n",
    "logger.info(x)"
   ]
  },
  {
   "cell_type": "code",
   "execution_count": 15,
   "metadata": {
    "collapsed": false
   },
   "outputs": [],
   "source": [
    "# get_score(x, tfidf_dict, 3)"
   ]
  },
  {
   "cell_type": "code",
   "execution_count": 16,
   "metadata": {
    "collapsed": false
   },
   "outputs": [
    {
     "name": "stderr",
     "output_type": "stream",
     "text": [
      "2016-12-21 16:40:02,579 - ['bookshelf', 'made', 'wood', 'clock']\n"
     ]
    },
    {
     "data": {
      "text/plain": [
       "<__main__.CategorizeSingle instance at 0x11914be60>"
      ]
     },
     "execution_count": 16,
     "metadata": {},
     "output_type": "execute_result"
    }
   ],
   "source": [
    "CategorizeSingle('This is a bookshelf made with wood and a clock').prepare()"
   ]
  },
  {
   "cell_type": "code",
   "execution_count": 17,
   "metadata": {
    "collapsed": false
   },
   "outputs": [
    {
     "name": "stderr",
     "output_type": "stream",
     "text": [
      "2016-12-21 16:40:03,275 - ['bookshelf', 'wood', 'clock']\n"
     ]
    },
    {
     "data": {
      "text/plain": [
       "{1: 'Toys & Games -> Hobbies -> Trains & Accessories -> Train Cars -> Freight Cars',\n",
       " 2: 'Home & Kitchen -> Furniture -> Home Office Furniture -> Home Office Desks',\n",
       " 3: 'Electronics -> Computers & Accessories -> Laptop & Netbook Computer Accessories'}"
      ]
     },
     "execution_count": 17,
     "metadata": {},
     "output_type": "execute_result"
    }
   ],
   "source": [
    "CategorizeSingle('This is a bookshelf with wood and a clock').prepare().categorize()"
   ]
  },
  {
   "cell_type": "code",
   "execution_count": 18,
   "metadata": {
    "collapsed": true
   },
   "outputs": [],
   "source": [
    "def categorize_single(title):\n",
    "    \"\"\" (str) -> dict\n",
    "\n",
    "    Initializes given title as CategorizeSingle class and returns a dictionary of top 3 options\n",
    "\n",
    "    :param title:\n",
    "    :return:\n",
    "    \"\"\"\n",
    "    start_time = datetime.datetime.now()\n",
    "\n",
    "    result = Title(title).prepare().categorize()\n",
    "\n",
    "    end_time = datetime.datetime.now()\n",
    "    elapsed_time = end_time - start_time\n",
    "    elapsed_time = elapsed_time.total_seconds() * 1000\n",
    "    logger.debug('Time taken: {} ms'.format(elapsed_time))\n",
    "\n",
    "    return result, elapsed_time"
   ]
  },
  {
   "cell_type": "code",
   "execution_count": 71,
   "metadata": {
    "collapsed": true
   },
   "outputs": [],
   "source": [
    "@timer\n",
    "def categorize_single_raw(title):\n",
    "    \"\"\" (str) -> dict\n",
    "\n",
    "    Initializes given title as CategorizeSingle class and returns a dictionary of top 3 options\n",
    "\n",
    "    :param title:\n",
    "    :return:\n",
    "    \"\"\"\n",
    "    result = Title(title).prepare().categorize()\n",
    "\n",
    "    return result"
   ]
  },
  {
   "cell_type": "code",
   "execution_count": 75,
   "metadata": {
    "collapsed": false
   },
   "outputs": [
    {
     "name": "stderr",
     "output_type": "stream",
     "text": [
      "2016-12-21 17:06:45,034 - ['bookshelf', 'wood', 'clock']\n"
     ]
    },
    {
     "data": {
      "text/plain": [
       "({1: 'Toys & Games -> Hobbies -> Trains & Accessories -> Train Cars -> Freight Cars',\n",
       "  2: 'Home & Kitchen -> Furniture -> Home Office Furniture -> Home Office Desks',\n",
       "  3: 'Electronics -> Computers & Accessories -> Laptop & Netbook Computer Accessories'},\n",
       " 1.391)"
      ]
     },
     "execution_count": 75,
     "metadata": {},
     "output_type": "execute_result"
    }
   ],
   "source": [
    "categorize_single('This is a bookshelf with wood and a clock')"
   ]
  },
  {
   "cell_type": "code",
   "execution_count": 76,
   "metadata": {
    "collapsed": false
   },
   "outputs": [
    {
     "name": "stderr",
     "output_type": "stream",
     "text": [
      "2016-12-21 17:06:45,535 - ['bookshelf', 'wood', 'clock']\n"
     ]
    },
    {
     "data": {
      "text/plain": [
       "({1: 'Toys & Games -> Hobbies -> Trains & Accessories -> Train Cars -> Freight Cars',\n",
       "  2: 'Home & Kitchen -> Furniture -> Home Office Furniture -> Home Office Desks',\n",
       "  3: 'Electronics -> Computers & Accessories -> Laptop & Netbook Computer Accessories'},\n",
       " 1.125)"
      ]
     },
     "execution_count": 76,
     "metadata": {},
     "output_type": "execute_result"
    }
   ],
   "source": [
    "categorize_single_raw('This is a bookshelf with wood and a clock')"
   ]
  },
  {
   "cell_type": "code",
   "execution_count": 74,
   "metadata": {
    "collapsed": true
   },
   "outputs": [],
   "source": [
    "def timer(function_to_time):\n",
    "    \n",
    "    def wrapper(*args, **kwargs):\n",
    "        start_time = datetime.datetime.now()\n",
    "        \n",
    "        result = function_to_time(*args)\n",
    "        \n",
    "        end_time = datetime.datetime.now()\n",
    "        elapsed_time = end_time - start_time\n",
    "        elapsed_time = elapsed_time.total_seconds() * 1000\n",
    "        logger.debug('Time taken: {} ms'.format(elapsed_time))\n",
    "        \n",
    "        return result, elapsed_time\n",
    "        \n",
    "    return wrapper"
   ]
  },
  {
   "cell_type": "code",
   "execution_count": null,
   "metadata": {
    "collapsed": true
   },
   "outputs": [],
   "source": []
  }
 ],
 "metadata": {
  "kernelspec": {
   "display_name": "Python 2",
   "language": "python",
   "name": "python2"
  },
  "language_info": {
   "codemirror_mode": {
    "name": "ipython",
    "version": 2
   },
   "file_extension": ".py",
   "mimetype": "text/x-python",
   "name": "python",
   "nbconvert_exporter": "python",
   "pygments_lexer": "ipython2",
   "version": "2.7.9"
  }
 },
 "nbformat": 4,
 "nbformat_minor": 0
}

{
 "cells": [
  {
   "cell_type": "code",
   "execution_count": 1,
   "metadata": {
    "collapsed": true
   },
   "outputs": [],
   "source": [
    "import pandas as pd\n",
    "import numpy as np\n",
    "from eutils.utils.logger import logger"
   ]
  },
  {
   "cell_type": "code",
   "execution_count": 2,
   "metadata": {
    "collapsed": false
   },
   "outputs": [],
   "source": [
    "pd.set_option('display.width', 500)\n",
    "pd.set_option('display.max_colwidth', 500)"
   ]
  },
  {
   "cell_type": "code",
   "execution_count": 3,
   "metadata": {
    "collapsed": false
   },
   "outputs": [
    {
     "name": "stderr",
     "output_type": "stream",
     "text": [
      "2016-07-17 20:44:32,477 - No. of rows in data: 9430088\n",
      "INFO:__log__:No. of rows in data: 9430088\n"
     ]
    }
   ],
   "source": [
    "df = pd.read_csv('../data/metadata_categories_only.csv', )\n",
    "logger.info('No. of rows in data: {}'.format(df.shape[0]))"
   ]
  },
  {
   "cell_type": "code",
   "execution_count": 4,
   "metadata": {
    "collapsed": false
   },
   "outputs": [
    {
     "name": "stderr",
     "output_type": "stream",
     "text": [
      "2016-07-17 20:44:37,239 - No. of rows after dropping columns with missing values: 7975697\n",
      "INFO:__log__:No. of rows after dropping columns with missing values: 7975697\n"
     ]
    }
   ],
   "source": [
    "# Drop rows where title is missing\n",
    "df.dropna(how='any', inplace=True)\n",
    "logger.info('No. of rows after dropping columns with missing values: {}'.format(df.shape[0]))"
   ]
  },
  {
   "cell_type": "code",
   "execution_count": 5,
   "metadata": {
    "collapsed": false
   },
   "outputs": [],
   "source": [
    "def get_category_lvl1(category_path_list):\n",
    "    \"\"\"\n",
    "    (String of list of list(s)) -> str\n",
    "\n",
    "    Returns the top level category given a string of a list of lists of categories.\n",
    "    If there are more than one list of categories provided, returns the top level category from the first list.\n",
    "\n",
    "    >>> get_category_lvl1(\"[['A', 'B', 'C'], ['D', 'E', 'F', 'G']]\")\n",
    "    'A'\n",
    "    >>> get_category_lvl1(\"[['P1', 'P2', 'P3', 'P4']]\")\n",
    "    'P1'\n",
    "    >>> get_category_lvl1(\"[['']]\")\n",
    "    ''\n",
    "\n",
    "    :type category_path_list: str\n",
    "    :param category_path_list: A string containing a list of at least one list of categories\n",
    "    :return: A string showing the full category path of the FIRST category in the list (assumed to be primary category)\n",
    "    \"\"\"\n",
    "    try:\n",
    "        return eval(category_path_list)[0][0]\n",
    "    except IndexError:\n",
    "        return 'no_category'\n",
    "    except TypeError:\n",
    "        return 'no_category'\n",
    "    \n",
    "# Test cases for get_category_path\n",
    "assert get_category_lvl1(\"[['Clothing, Shoes & Jewelry', 'Girls'], ['Clothing, Shoes & Jewelry', 'Novelty, Costumes & More', 'Costumes & Accessories', 'More Accessories', 'Kids & Baby']]\") == 'Clothing, Shoes & Jewelry'\n",
    "assert get_category_lvl1(\"[['Patio, Lawn & Garden', 'Patio Furniture & Accessories', 'Patio Seating', 'Sofas']]\") == 'Patio, Lawn & Garden'\n",
    "assert get_category_lvl1(\"[['']]\") == ''"
   ]
  },
  {
   "cell_type": "code",
   "execution_count": 6,
   "metadata": {
    "collapsed": false
   },
   "outputs": [],
   "source": [
    "def get_category_path(category_path_list):\n",
    "    \"\"\"\n",
    "    (String of list of list(s)) -> str\n",
    "\n",
    "    Returns the category path given a string of list of lists of categories.\n",
    "    If there are more than one list of categories provided, returns the category path from the first list.\n",
    "\n",
    "    >>> get_category_path(\"[['A', 'B', 'C'], ['D', 'E', 'F', 'G']]\")\n",
    "    'A -> B -> C'\n",
    "    >>> get_category_path(\"[['P1', 'P2', 'P3', 'P4']]\")\n",
    "    'P1 -> P2 -> P3 -> P4'\n",
    "\n",
    "    :type category_path_list: str\n",
    "    :param category_path_list: A string containing a list of at least one list of categories\n",
    "    :return: A string showing the full category path of the FIRST category in the list (assumed to be primary category)\n",
    "    \"\"\"\n",
    "    try:\n",
    "        return ' -> '.join(eval(category_path_list)[0])\n",
    "    except IndexError:\n",
    "        return 'no_category'\n",
    "    except TypeError:\n",
    "        return 'no_category'\n",
    "\n",
    "# Test cases for get_category_path\n",
    "# assert get_category_path(\"[['Clothing, Shoes & Jewelry', 'Girls'], ['Clothing, Shoes & Jewelry', 'Novelty, Costumes & More', 'Costumes & Accessories', 'More Accessories', 'Kids & Baby']]\") == 'Clothing, Shoes & Jewelry > Girls'\n",
    "# assert get_category_path(\"[['Patio, Lawn & Garden', 'Patio Furniture & Accessories', 'Patio Seating', 'Sofas']]\") == 'Patio, Lawn & Garden > Patio Furniture & Accessories > Patio Seating > Sofas'\n",
    "# assert get_category_path(\"[[]]\") == ''"
   ]
  },
  {
   "cell_type": "code",
   "execution_count": 7,
   "metadata": {
    "collapsed": false
   },
   "outputs": [],
   "source": [
    "# Create column for category\n",
    "df['category_lvl1'] = df['categories'].apply(get_category_lvl1)"
   ]
  },
  {
   "cell_type": "code",
   "execution_count": 8,
   "metadata": {
    "collapsed": false
   },
   "outputs": [
    {
     "name": "stderr",
     "output_type": "stream",
     "text": [
      "2016-07-17 20:46:12,483 - No. of rows after dropping columns with no category data: 7974462\n",
      "INFO:__log__:No. of rows after dropping columns with no category data: 7974462\n"
     ]
    }
   ],
   "source": [
    "# Drop columns that have no category data\n",
    "df = df[df['category_lvl1'] != '']\n",
    "logger.info('No. of rows after dropping columns with no category data: {}'.format(df.shape[0]))"
   ]
  },
  {
   "cell_type": "code",
   "execution_count": 9,
   "metadata": {
    "collapsed": false,
    "scrolled": true
   },
   "outputs": [],
   "source": [
    "# Create df of category counts\n",
    "category_df = df.groupby('category_lvl1').agg({'title': 'count'}).sort_values(by='title', ascending=False).reset_index()"
   ]
  },
  {
   "cell_type": "code",
   "execution_count": 10,
   "metadata": {
    "collapsed": false
   },
   "outputs": [],
   "source": [
    "# Exclude categories where titles are not indicative of category\n",
    "category_df = category_df[category_df['category_lvl1'] != 'Books']\n",
    "category_df = category_df[category_df['category_lvl1'] != 'CDs & Vinyl']\n",
    "category_df = category_df[category_df['category_lvl1'] != 'Movies & TV']\n",
    "category_df = category_df[category_df['category_lvl1'] != 'Musical Instruments']"
   ]
  },
  {
   "cell_type": "code",
   "execution_count": 11,
   "metadata": {
    "collapsed": true
   },
   "outputs": [],
   "source": [
    "# Exclude some other categories\n",
    "category_df = category_df[category_df['category_lvl1'] != 'Musical Instruments']\n",
    "category_df = category_df[category_df['category_lvl1'] != 'Amazon Fashion']\n",
    "category_df = category_df[category_df['category_lvl1'] != 'All Electronics']\n",
    "category_df = category_df[category_df['category_lvl1'] != 'All Beauty']\n",
    "category_df = category_df[category_df['category_lvl1'] != 'Collectibles & Fine Art']\n",
    "category_df = category_df[category_df['category_lvl1'] != 'Grocery & Gourmet Food']\n",
    "category_df = category_df[category_df['category_lvl1'] != 'Pet Supplies']"
   ]
  },
  {
   "cell_type": "code",
   "execution_count": 12,
   "metadata": {
    "collapsed": false
   },
   "outputs": [],
   "source": [
    "# # Keep categories where the count of titles > 1500\n",
    "category_df = category_df[category_df['title'] > 1500]"
   ]
  },
  {
   "cell_type": "code",
   "execution_count": 13,
   "metadata": {
    "collapsed": false
   },
   "outputs": [
    {
     "data": {
      "text/html": [
       "<div>\n",
       "<table border=\"1\" class=\"dataframe\">\n",
       "  <thead>\n",
       "    <tr style=\"text-align: right;\">\n",
       "      <th></th>\n",
       "      <th>category_lvl1</th>\n",
       "      <th>title</th>\n",
       "    </tr>\n",
       "  </thead>\n",
       "  <tbody>\n",
       "    <tr>\n",
       "      <th>1</th>\n",
       "      <td>Clothing, Shoes &amp; Jewelry</td>\n",
       "      <td>1435416</td>\n",
       "    </tr>\n",
       "    <tr>\n",
       "      <th>2</th>\n",
       "      <td>Sports &amp; Outdoors</td>\n",
       "      <td>528615</td>\n",
       "    </tr>\n",
       "    <tr>\n",
       "      <th>3</th>\n",
       "      <td>Electronics</td>\n",
       "      <td>488592</td>\n",
       "    </tr>\n",
       "    <tr>\n",
       "      <th>4</th>\n",
       "      <td>Home &amp; Kitchen</td>\n",
       "      <td>435238</td>\n",
       "    </tr>\n",
       "    <tr>\n",
       "      <th>6</th>\n",
       "      <td>Cell Phones &amp; Accessories</td>\n",
       "      <td>344535</td>\n",
       "    </tr>\n",
       "    <tr>\n",
       "      <th>7</th>\n",
       "      <td>Toys &amp; Games</td>\n",
       "      <td>334659</td>\n",
       "    </tr>\n",
       "    <tr>\n",
       "      <th>8</th>\n",
       "      <td>Automotive</td>\n",
       "      <td>326615</td>\n",
       "    </tr>\n",
       "    <tr>\n",
       "      <th>9</th>\n",
       "      <td>Tools &amp; Home Improvement</td>\n",
       "      <td>268130</td>\n",
       "    </tr>\n",
       "    <tr>\n",
       "      <th>10</th>\n",
       "      <td>Health &amp; Personal Care</td>\n",
       "      <td>261943</td>\n",
       "    </tr>\n",
       "    <tr>\n",
       "      <th>11</th>\n",
       "      <td>Beauty</td>\n",
       "      <td>258726</td>\n",
       "    </tr>\n",
       "    <tr>\n",
       "      <th>12</th>\n",
       "      <td>Grocery &amp; Gourmet Food</td>\n",
       "      <td>171595</td>\n",
       "    </tr>\n",
       "    <tr>\n",
       "      <th>13</th>\n",
       "      <td>Office Products</td>\n",
       "      <td>134104</td>\n",
       "    </tr>\n",
       "    <tr>\n",
       "      <th>14</th>\n",
       "      <td>Arts, Crafts &amp; Sewing</td>\n",
       "      <td>116393</td>\n",
       "    </tr>\n",
       "    <tr>\n",
       "      <th>15</th>\n",
       "      <td>Pet Supplies</td>\n",
       "      <td>110360</td>\n",
       "    </tr>\n",
       "    <tr>\n",
       "      <th>16</th>\n",
       "      <td>Patio, Lawn &amp; Garden</td>\n",
       "      <td>108685</td>\n",
       "    </tr>\n",
       "    <tr>\n",
       "      <th>18</th>\n",
       "      <td>Baby</td>\n",
       "      <td>71241</td>\n",
       "    </tr>\n",
       "    <tr>\n",
       "      <th>20</th>\n",
       "      <td>Industrial &amp; Scientific</td>\n",
       "      <td>47111</td>\n",
       "    </tr>\n",
       "    <tr>\n",
       "      <th>22</th>\n",
       "      <td>Baby Products</td>\n",
       "      <td>9980</td>\n",
       "    </tr>\n",
       "    <tr>\n",
       "      <th>24</th>\n",
       "      <td>Appliances</td>\n",
       "      <td>6633</td>\n",
       "    </tr>\n",
       "    <tr>\n",
       "      <th>26</th>\n",
       "      <td>Computers</td>\n",
       "      <td>4342</td>\n",
       "    </tr>\n",
       "    <tr>\n",
       "      <th>27</th>\n",
       "      <td>Home Improvement</td>\n",
       "      <td>3761</td>\n",
       "    </tr>\n",
       "    <tr>\n",
       "      <th>28</th>\n",
       "      <td>Kitchen &amp; Dining</td>\n",
       "      <td>3600</td>\n",
       "    </tr>\n",
       "    <tr>\n",
       "      <th>29</th>\n",
       "      <td>Office &amp; School Supplies</td>\n",
       "      <td>3262</td>\n",
       "    </tr>\n",
       "    <tr>\n",
       "      <th>31</th>\n",
       "      <td>Video Games</td>\n",
       "      <td>2217</td>\n",
       "    </tr>\n",
       "    <tr>\n",
       "      <th>32</th>\n",
       "      <td>Luxury Beauty</td>\n",
       "      <td>1923</td>\n",
       "    </tr>\n",
       "    <tr>\n",
       "      <th>33</th>\n",
       "      <td>MP3 Players &amp; Accessories</td>\n",
       "      <td>1647</td>\n",
       "    </tr>\n",
       "  </tbody>\n",
       "</table>\n",
       "</div>"
      ],
      "text/plain": [
       "                category_lvl1    title\n",
       "1   Clothing, Shoes & Jewelry  1435416\n",
       "2           Sports & Outdoors   528615\n",
       "3                 Electronics   488592\n",
       "4              Home & Kitchen   435238\n",
       "6   Cell Phones & Accessories   344535\n",
       "7                Toys & Games   334659\n",
       "8                  Automotive   326615\n",
       "9    Tools & Home Improvement   268130\n",
       "10     Health & Personal Care   261943\n",
       "11                     Beauty   258726\n",
       "12     Grocery & Gourmet Food   171595\n",
       "13            Office Products   134104\n",
       "14      Arts, Crafts & Sewing   116393\n",
       "15               Pet Supplies   110360\n",
       "16       Patio, Lawn & Garden   108685\n",
       "18                       Baby    71241\n",
       "20    Industrial & Scientific    47111\n",
       "22              Baby Products     9980\n",
       "24                 Appliances     6633\n",
       "26                  Computers     4342\n",
       "27           Home Improvement     3761\n",
       "28           Kitchen & Dining     3600\n",
       "29   Office & School Supplies     3262\n",
       "31                Video Games     2217\n",
       "32              Luxury Beauty     1923\n",
       "33  MP3 Players & Accessories     1647"
      ]
     },
     "execution_count": 13,
     "metadata": {},
     "output_type": "execute_result"
    }
   ],
   "source": [
    "category_df"
   ]
  },
  {
   "cell_type": "code",
   "execution_count": null,
   "metadata": {
    "collapsed": true
   },
   "outputs": [],
   "source": []
  },
  {
   "cell_type": "code",
   "execution_count": null,
   "metadata": {
    "collapsed": false
   },
   "outputs": [],
   "source": [
    "# # Keep only rows where the category is in category_df\n",
    "df = df[df['category_lvl1'].isin(category_df['category_lvl1'])]\n",
    "logger.info('No. of rows after dropping categories where count < 1500: {}'.format(df.shape[0]))"
   ]
  },
  {
   "cell_type": "code",
   "execution_count": null,
   "metadata": {
    "collapsed": true
   },
   "outputs": [],
   "source": [
    "# Create column for category path\n",
    "df['category_path'] = df['categories'].apply(get_category_path)"
   ]
  },
  {
   "cell_type": "code",
   "execution_count": null,
   "metadata": {
    "collapsed": false
   },
   "outputs": [],
   "source": [
    "category_path_df = df.groupby('category_path').agg({'title': 'count'}).sort_values(by='title', ascending=False).reset_index()"
   ]
  },
  {
   "cell_type": "code",
   "execution_count": null,
   "metadata": {
    "collapsed": false
   },
   "outputs": [],
   "source": [
    "# Keep category_paths where the count of titles > 10\n",
    "category_path_df = category_path_df[category_path_df['title'] >= 20]\n",
    "logger.info('No. of category_paths after excluding those with < 10 products: {}'.format(category_path_df.shape[0]))"
   ]
  },
  {
   "cell_type": "code",
   "execution_count": null,
   "metadata": {
    "collapsed": false
   },
   "outputs": [],
   "source": [
    "# Exclude category paths where category_path is at top level\n",
    "category_path_df = category_path_df[category_path_df['category_path'].str.contains('->')]\n",
    "logger.info('No. of category_paths after excluding top level categories: {}'.format(category_path_df.shape[0]))"
   ]
  },
  {
   "cell_type": "code",
   "execution_count": null,
   "metadata": {
    "collapsed": false
   },
   "outputs": [],
   "source": [
    "# Exclude categories that are not deepest category\n",
    "category_path_df.sort_values(by='category_path', inplace=True)\n",
    "category_path_df['category_path_next'] = category_path_df['category_path'].shift(-1)\n",
    "category_path_df.fillna('no_comparison', inplace=True)"
   ]
  },
  {
   "cell_type": "code",
   "execution_count": null,
   "metadata": {
    "collapsed": false
   },
   "outputs": [],
   "source": [
    "# Create list of category_paths which are deepest category\n",
    "category_path_list = []\n",
    "for i, value in category_path_df.iterrows():\n",
    "    category_path = value['category_path']\n",
    "    category_path_next = value['category_path_next']\n",
    "    if category_path not in category_path_next:\n",
    "        category_path_list.append(category_path)"
   ]
  },
  {
   "cell_type": "code",
   "execution_count": null,
   "metadata": {
    "collapsed": false
   },
   "outputs": [],
   "source": [
    "# Create df of category_path\n",
    "category_path_df = pd.DataFrame(category_path_list, columns = ['category_path'])\n",
    "logger.info('No. of category_paths at deepest category: {}'.format(category_path_df.shape[0]))"
   ]
  },
  {
   "cell_type": "code",
   "execution_count": null,
   "metadata": {
    "collapsed": false,
    "scrolled": true
   },
   "outputs": [],
   "source": [
    "# Keep only rows where the category is in category_df\n",
    "df = df[df['category_path'].isin(category_path_df['category_path'])]\n",
    "logger.info('No. of rows in deepest category: {}'.format(df.shape[0]))"
   ]
  },
  {
   "cell_type": "code",
   "execution_count": null,
   "metadata": {
    "collapsed": true
   },
   "outputs": [],
   "source": []
  },
  {
   "cell_type": "code",
   "execution_count": null,
   "metadata": {
    "collapsed": true
   },
   "outputs": [],
   "source": []
  }
 ],
 "metadata": {
  "kernelspec": {
   "display_name": "Python 2",
   "language": "python",
   "name": "python2"
  },
  "language_info": {
   "codemirror_mode": {
    "name": "ipython",
    "version": 2
   },
   "file_extension": ".py",
   "mimetype": "text/x-python",
   "name": "python",
   "nbconvert_exporter": "python",
   "pygments_lexer": "ipython2",
   "version": "2.7.10"
  }
 },
 "nbformat": 4,
 "nbformat_minor": 0
}

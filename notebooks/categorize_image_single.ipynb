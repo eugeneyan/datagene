{
 "cells": [
  {
   "cell_type": "code",
   "execution_count": 11,
   "metadata": {
    "collapsed": false
   },
   "outputs": [],
   "source": [
    "from keras.models import Model\n",
    "from keras.layers import Dense, Flatten, Dropout\n",
    "from keras.preprocessing.image import ImageDataGenerator\n",
    "from keras.optimizers import SGD, RMSprop\n",
    "from resnet50 import ResNet50\n",
    "from logger import logger\n",
    "from keras.preprocessing import image\n",
    "import numpy as np\n",
    "from keras import backend as K\n",
    "import datetime\n",
    "import os\n",
    "import cPickle as pickle"
   ]
  },
  {
   "cell_type": "code",
   "execution_count": 3,
   "metadata": {
    "collapsed": true
   },
   "outputs": [],
   "source": [
    "def load_pretrained_model(model_name, output_classes, weights_path='original'):\n",
    "    # Load base model\n",
    "    if model_name == 'resnet50' and weights_path == 'original':\n",
    "        base_model = ResNet50(include_top=False, weights='imagenet', input_tensor=None)\n",
    "        logger.info('Base model loaded with original weights')\n",
    "    elif model_name == 'resnet50' and weights_path != 'original':\n",
    "        base_model = ResNet50(include_top=False, weights=None, input_tensor=None)\n",
    "        weights_path = weights_path\n",
    "        logger.info('Base model loaded with weights in {}'.format(weights_path))\n",
    "    else:\n",
    "        raise Exception('Base model not loaded correctly')\n",
    "\n",
    "    # Create top block\n",
    "    x = base_model.output\n",
    "    x = Flatten(name='flatten')(x)\n",
    "    x = Dense(512, activation='relu', init='glorot_uniform', name='relu_1')(x)\n",
    "    x = Dropout(0.5)(x)\n",
    "    x = Dense(512, activation='relu', init='glorot_uniform', name='relu_2')(x)\n",
    "    x = Dropout(0.5)(x)\n",
    "    pred_layer = Dense(output_dim=output_classes, activation='softmax', name='softmax_output')(x)\n",
    "\n",
    "    # Create overall model\n",
    "    model = Model(input=base_model.input, output=pred_layer)\n",
    "\n",
    "    # Load weights if not original weights\n",
    "    if weights_path != 'original':\n",
    "        model.load_weights(weights_path)\n",
    "\n",
    "    return model\n"
   ]
  },
  {
   "cell_type": "code",
   "execution_count": 4,
   "metadata": {
    "collapsed": false
   },
   "outputs": [
    {
     "name": "stderr",
     "output_type": "stream",
     "text": [
      "/Users/eugeneyan/.virtualenvs/datagene/lib/python2.7/site-packages/keras/backend/theano_backend.py:1500: UserWarning: DEPRECATION: the 'ds' parameter is not going to exist anymore as it is going to be replaced by the parameter 'ws'.\n",
      "  mode='max')\n",
      "/Users/eugeneyan/.virtualenvs/datagene/lib/python2.7/site-packages/keras/backend/theano_backend.py:1500: UserWarning: DEPRECATION: the 'st' parameter is not going to exist anymore as it is going to be replaced by the parameter 'stride'.\n",
      "  mode='max')\n",
      "/Users/eugeneyan/.virtualenvs/datagene/lib/python2.7/site-packages/keras/backend/theano_backend.py:1500: UserWarning: DEPRECATION: the 'padding' parameter is not going to exist anymore as it is going to be replaced by the parameter 'pad'.\n",
      "  mode='max')\n",
      "/Users/eugeneyan/.virtualenvs/datagene/lib/python2.7/site-packages/keras/backend/theano_backend.py:1505: UserWarning: DEPRECATION: the 'ds' parameter is not going to exist anymore as it is going to be replaced by the parameter 'ws'.\n",
      "  mode='average_exc_pad')\n",
      "/Users/eugeneyan/.virtualenvs/datagene/lib/python2.7/site-packages/keras/backend/theano_backend.py:1505: UserWarning: DEPRECATION: the 'st' parameter is not going to exist anymore as it is going to be replaced by the parameter 'stride'.\n",
      "  mode='average_exc_pad')\n",
      "/Users/eugeneyan/.virtualenvs/datagene/lib/python2.7/site-packages/keras/backend/theano_backend.py:1505: UserWarning: DEPRECATION: the 'padding' parameter is not going to exist anymore as it is going to be replaced by the parameter 'pad'.\n",
      "  mode='average_exc_pad')\n",
      "2016-11-27 08:26:20,926 - Base model loaded with weights in ../data/images_clothes/model/resnet50_finetuned_4block.h5\n",
      "INFO:__log__:Base model loaded with weights in ../data/images_clothes/model/resnet50_finetuned_4block.h5\n"
     ]
    }
   ],
   "source": [
    "model = load_pretrained_model(model_name='resnet50', output_classes=65, weights_path='../data/images_clothes/model/resnet50_finetuned_4block.h5')"
   ]
  },
  {
   "cell_type": "code",
   "execution_count": 2,
   "metadata": {
    "collapsed": true
   },
   "outputs": [],
   "source": [
    "def create_category_dict(train_dir):\n",
    "    categories = os.listdir(train_dir)\n",
    "    \n",
    "    # Initialize category dict\n",
    "    category_dict = dict()\n",
    "    idx = 0\n",
    "    for category in categories:\n",
    "        if category != '.DS_Store':\n",
    "            category_dict[idx] = category\n",
    "            idx += 1\n",
    "    \n",
    "    return category_dict"
   ]
  },
  {
   "cell_type": "code",
   "execution_count": 3,
   "metadata": {
    "collapsed": true
   },
   "outputs": [],
   "source": [
    "train_dir = '../data/images_clothes/train/'\n",
    "category_dict = create_category_dict(train_dir)"
   ]
  },
  {
   "cell_type": "code",
   "execution_count": 12,
   "metadata": {
    "collapsed": true
   },
   "outputs": [],
   "source": [
    "def save_dict(tfidf_dict, int_to_category_dict, output_dir, output_name):\n",
    "    \"\"\" (defaultdict, dict, str, str) -> NoneType\n",
    "\n",
    "    Saves the dictionaries (tfidf_dict, int_to_category_dict) into pickle format\n",
    "\n",
    "    :param tfidf_dict:\n",
    "    :param int_to_category_dict:\n",
    "    :param output_dir:\n",
    "    :param output_name:\n",
    "    :return:\n",
    "    \"\"\"\n",
    "    output_dir_path = os.path.join(output_dir, output_name + '.pickle')\n",
    "\n",
    "    with open(output_dir_path, 'wb') as handle:\n",
    "        pickle.dump((tfidf_dict, int_to_category_dict), handle, protocol=2)\n",
    "        logger.info('Dict saved in {}'.format(output_dir_path))\n"
   ]
  },
  {
   "cell_type": "code",
   "execution_count": 13,
   "metadata": {
    "collapsed": false
   },
   "outputs": [],
   "source": [
    "output_dir_path = os.path.join('../data/images_clothes/model/', 'image_category_dict' + '.pickle')"
   ]
  },
  {
   "cell_type": "code",
   "execution_count": 14,
   "metadata": {
    "collapsed": false
   },
   "outputs": [
    {
     "name": "stderr",
     "output_type": "stream",
     "text": [
      "2016-11-27 13:15:40,226 - Dict saved in ../data/images_clothes/model/image_category_dict.pickle\n",
      "INFO:__log__:Dict saved in ../data/images_clothes/model/image_category_dict.pickle\n"
     ]
    }
   ],
   "source": [
    "with open(output_dir_path, 'wb') as handle:\n",
    "    pickle.dump(category_dict, handle, protocol=2)\n",
    "    logger.info('Dict saved in {}'.format(output_dir_path))"
   ]
  },
  {
   "cell_type": "code",
   "execution_count": 15,
   "metadata": {
    "collapsed": true
   },
   "outputs": [],
   "source": [
    "def load_dict(dict_dir='categorize', dict_name='tfidf_dict'):\n",
    "    \"\"\" (str, str) -> defaultdict\n",
    "\n",
    "    Loads a dictionary for categorization into memory\n",
    "\n",
    "    :param tfidf_dict:\n",
    "    :param dict_dir:\n",
    "    :param dict_name:\n",
    "    :return:\n",
    "    \"\"\"\n",
    "    output_dir_path = os.path.join(dict_dir, dict_name + '.pickle')\n",
    "\n",
    "    with open(output_dir_path, 'rb') as handle:\n",
    "        logger.info('Dictionary loading from: {}/{}.pickle'.format(dict_dir, dict_name))\n",
    "        return pickle.load(handle)"
   ]
  },
  {
   "cell_type": "code",
   "execution_count": 17,
   "metadata": {
    "collapsed": false
   },
   "outputs": [
    {
     "name": "stderr",
     "output_type": "stream",
     "text": [
      "2016-11-27 13:17:14,655 - Dictionary loading from: ../data/images_clothes/model//image_category_dict.pickle\n",
      "INFO:__log__:Dictionary loading from: ../data/images_clothes/model//image_category_dict.pickle\n"
     ]
    }
   ],
   "source": [
    "x = load_dict('../data/images_clothes/model/', dict_name='image_category_dict')"
   ]
  },
  {
   "cell_type": "code",
   "execution_count": 18,
   "metadata": {
    "collapsed": false
   },
   "outputs": [
    {
     "data": {
      "text/plain": [
       "{0: 'Clothing, Shoes & Jewelry -> Men -> Clothing -> Active -> Active Shirts & Tees',\n",
       " 1: 'Clothing, Shoes & Jewelry -> Men -> Clothing -> Active -> Active Shorts',\n",
       " 2: 'Clothing, Shoes & Jewelry -> Men -> Clothing -> Active -> Athletic Socks',\n",
       " 3: 'Clothing, Shoes & Jewelry -> Men -> Clothing -> Fashion Hoodies & Sweatshirts',\n",
       " 4: 'Clothing, Shoes & Jewelry -> Men -> Clothing -> Jackets & Coats -> Leather & Faux Leather',\n",
       " 5: 'Clothing, Shoes & Jewelry -> Men -> Clothing -> Jeans',\n",
       " 6: 'Clothing, Shoes & Jewelry -> Men -> Clothing -> Pants -> Casual',\n",
       " 7: 'Clothing, Shoes & Jewelry -> Men -> Clothing -> Pants -> Dress',\n",
       " 8: 'Clothing, Shoes & Jewelry -> Men -> Clothing -> Shirts -> Casual Button-Down Shirts',\n",
       " 9: 'Clothing, Shoes & Jewelry -> Men -> Clothing -> Shirts -> Dress Shirts',\n",
       " 10: 'Clothing, Shoes & Jewelry -> Men -> Clothing -> Shirts -> Polos',\n",
       " 11: 'Clothing, Shoes & Jewelry -> Men -> Clothing -> Shirts -> T-Shirts',\n",
       " 12: 'Clothing, Shoes & Jewelry -> Men -> Clothing -> Shorts -> Cargo',\n",
       " 13: 'Clothing, Shoes & Jewelry -> Men -> Clothing -> Sleep & Lounge -> Sleep Bottoms',\n",
       " 14: 'Clothing, Shoes & Jewelry -> Men -> Clothing -> Socks -> Casual Socks',\n",
       " 15: 'Clothing, Shoes & Jewelry -> Men -> Clothing -> Sweaters -> Pullovers',\n",
       " 16: 'Clothing, Shoes & Jewelry -> Men -> Clothing -> Swim -> Board Shorts',\n",
       " 17: 'Clothing, Shoes & Jewelry -> Men -> Clothing -> Underwear -> Boxer Briefs',\n",
       " 18: 'Clothing, Shoes & Jewelry -> Men -> Clothing -> Underwear -> Briefs',\n",
       " 19: 'Clothing, Shoes & Jewelry -> Men -> Shoes -> Boots',\n",
       " 20: 'Clothing, Shoes & Jewelry -> Men -> Shoes -> Fashion Sneakers',\n",
       " 21: 'Clothing, Shoes & Jewelry -> Women -> Clothing -> Active -> Active Shirts & Tees',\n",
       " 22: 'Clothing, Shoes & Jewelry -> Women -> Clothing -> Coats & Jackets -> Down & Down Alternative',\n",
       " 23: 'Clothing, Shoes & Jewelry -> Women -> Clothing -> Coats & Jackets -> Leather & Faux Leather',\n",
       " 24: 'Clothing, Shoes & Jewelry -> Women -> Clothing -> Coats & Jackets -> Wool & Blends',\n",
       " 25: 'Clothing, Shoes & Jewelry -> Women -> Clothing -> Dresses -> Casual',\n",
       " 26: 'Clothing, Shoes & Jewelry -> Women -> Clothing -> Dresses -> Night Out & Cocktail',\n",
       " 27: 'Clothing, Shoes & Jewelry -> Women -> Clothing -> Dresses -> Special Occasion',\n",
       " 28: 'Clothing, Shoes & Jewelry -> Women -> Clothing -> Dresses -> Wear to Work',\n",
       " 29: 'Clothing, Shoes & Jewelry -> Women -> Clothing -> Fashion Hoodies & Sweatshirts',\n",
       " 30: 'Clothing, Shoes & Jewelry -> Women -> Clothing -> Jeans',\n",
       " 31: 'Clothing, Shoes & Jewelry -> Women -> Clothing -> Jumpsuits, Rompers & Overalls',\n",
       " 32: 'Clothing, Shoes & Jewelry -> Women -> Clothing -> Leggings',\n",
       " 33: 'Clothing, Shoes & Jewelry -> Women -> Clothing -> Lingerie, Sleep & Lounge -> Intimates -> Bras -> Everyday Bras',\n",
       " 34: 'Clothing, Shoes & Jewelry -> Women -> Clothing -> Lingerie, Sleep & Lounge -> Intimates -> Bras -> Sports Bras',\n",
       " 35: 'Clothing, Shoes & Jewelry -> Women -> Clothing -> Lingerie, Sleep & Lounge -> Intimates -> Lingerie -> Bustiers & Corsets',\n",
       " 36: 'Clothing, Shoes & Jewelry -> Women -> Clothing -> Lingerie, Sleep & Lounge -> Intimates -> Panties -> Briefs',\n",
       " 37: 'Clothing, Shoes & Jewelry -> Women -> Clothing -> Lingerie, Sleep & Lounge -> Intimates -> Shapewear -> Bodysuits',\n",
       " 38: 'Clothing, Shoes & Jewelry -> Women -> Clothing -> Lingerie, Sleep & Lounge -> Sleep & Lounge -> Bottoms',\n",
       " 39: 'Clothing, Shoes & Jewelry -> Women -> Clothing -> Lingerie, Sleep & Lounge -> Sleep & Lounge -> Nightgowns & Sleepshirts',\n",
       " 40: 'Clothing, Shoes & Jewelry -> Women -> Clothing -> Lingerie, Sleep & Lounge -> Sleep & Lounge -> Robes',\n",
       " 41: 'Clothing, Shoes & Jewelry -> Women -> Clothing -> Lingerie, Sleep & Lounge -> Sleep & Lounge -> Sets',\n",
       " 42: 'Clothing, Shoes & Jewelry -> Women -> Clothing -> Pants -> Casual',\n",
       " 43: 'Clothing, Shoes & Jewelry -> Women -> Clothing -> Shorts -> Casual',\n",
       " 44: 'Clothing, Shoes & Jewelry -> Women -> Clothing -> Shorts -> Denim',\n",
       " 45: 'Clothing, Shoes & Jewelry -> Women -> Clothing -> Skirts -> Casual',\n",
       " 46: 'Clothing, Shoes & Jewelry -> Women -> Clothing -> Socks & Hosiery -> Casual Socks',\n",
       " 47: 'Clothing, Shoes & Jewelry -> Women -> Clothing -> Socks & Hosiery -> Hosiery',\n",
       " 48: 'Clothing, Shoes & Jewelry -> Women -> Clothing -> Socks & Hosiery -> Tights',\n",
       " 49: 'Clothing, Shoes & Jewelry -> Women -> Clothing -> Suits & Blazers -> Blazers -> Casual',\n",
       " 50: 'Clothing, Shoes & Jewelry -> Women -> Clothing -> Sweaters -> Cardigans',\n",
       " 51: 'Clothing, Shoes & Jewelry -> Women -> Clothing -> Sweaters -> Pullovers',\n",
       " 52: 'Clothing, Shoes & Jewelry -> Women -> Clothing -> Swimsuits & Cover Ups -> Bikinis',\n",
       " 53: 'Clothing, Shoes & Jewelry -> Women -> Clothing -> Swimsuits & Cover Ups -> Cover-Ups',\n",
       " 54: 'Clothing, Shoes & Jewelry -> Women -> Clothing -> Swimsuits & Cover Ups -> One-Pieces',\n",
       " 55: 'Clothing, Shoes & Jewelry -> Women -> Clothing -> Swimsuits & Cover Ups -> Tankinis',\n",
       " 56: 'Clothing, Shoes & Jewelry -> Women -> Clothing -> Tops & Tees -> Blouses & Button-Down Shirts',\n",
       " 57: 'Clothing, Shoes & Jewelry -> Women -> Clothing -> Tops & Tees -> Knits & Tees',\n",
       " 58: 'Clothing, Shoes & Jewelry -> Women -> Clothing -> Tops & Tees -> Tanks & Camis',\n",
       " 59: 'Clothing, Shoes & Jewelry -> Women -> Clothing -> Tops & Tees -> Tunics',\n",
       " 60: 'Clothing, Shoes & Jewelry -> Women -> Shoes -> Boots',\n",
       " 61: 'Clothing, Shoes & Jewelry -> Women -> Shoes -> Fashion Sneakers',\n",
       " 62: 'Clothing, Shoes & Jewelry -> Women -> Shoes -> Flats',\n",
       " 63: 'Clothing, Shoes & Jewelry -> Women -> Shoes -> Heels',\n",
       " 64: 'Clothing, Shoes & Jewelry -> Women -> Shoes -> Sandals'}"
      ]
     },
     "execution_count": 18,
     "metadata": {},
     "output_type": "execute_result"
    }
   ],
   "source": [
    "x"
   ]
  },
  {
   "cell_type": "markdown",
   "metadata": {},
   "source": [
    "### Image Class"
   ]
  },
  {
   "cell_type": "code",
   "execution_count": 84,
   "metadata": {
    "collapsed": true
   },
   "outputs": [],
   "source": [
    "pred_image_path = '../data/images_clothes/pred_image/B000KPX728.jpg'"
   ]
  },
  {
   "cell_type": "code",
   "execution_count": 85,
   "metadata": {
    "collapsed": false
   },
   "outputs": [],
   "source": [
    "pred_image=image.load_img(pred_image_path, target_size=(224, 224))\n",
    "pred_image=image.img_to_array(pred_image)\n",
    "pred_image=np.multiply(pred_image, 1./255)\n",
    "pred_image=np.expand_dims(pred_image, axis=0)"
   ]
  },
  {
   "cell_type": "code",
   "execution_count": 87,
   "metadata": {
    "collapsed": false
   },
   "outputs": [
    {
     "name": "stdout",
     "output_type": "stream",
     "text": [
      "Time taken: 121.990858 secs\n"
     ]
    }
   ],
   "source": [
    "start_time = datetime.datetime.now()\n",
    "preds = model.predict(pred_image)\n",
    "end_time = datetime.datetime.now()\n",
    "elapsed_time = end_time - start_time\n",
    "print('Time taken: {} secs'.format(elapsed_time.total_seconds()))"
   ]
  },
  {
   "cell_type": "code",
   "execution_count": 113,
   "metadata": {
    "collapsed": false
   },
   "outputs": [
    {
     "data": {
      "text/plain": [
       "array([[  1.53738940e-02,   8.50417564e-06,   1.10553874e-05,\n",
       "          2.88268493e-04,   1.10323060e-06,   3.42248910e-07,\n",
       "          2.05393621e-06,   3.88642235e-07,   8.75924539e-04,\n",
       "          1.34680067e-05,   4.12318295e-05,   6.29196286e-01,\n",
       "          3.85864816e-08,   1.20124241e-06,   1.79214567e-05,\n",
       "          3.51466656e-06,   4.67137443e-06,   3.16086744e-06,\n",
       "          2.29888497e-06,   1.10631754e-06,   2.71122275e-07,\n",
       "          1.96324047e-02,   1.32565810e-06,   1.22797047e-07,\n",
       "          3.68912509e-08,   4.43729135e-04,   2.11100341e-05,\n",
       "          4.33262312e-06,   5.07978484e-06,   3.26003821e-04,\n",
       "          1.99041196e-07,   1.74347642e-05,   1.29935438e-06,\n",
       "          2.72796569e-06,   1.15653745e-06,   2.51497090e-06,\n",
       "          8.77074672e-06,   1.79756921e-06,   3.62733573e-07,\n",
       "          3.53415799e-03,   1.45768034e-04,   5.25666052e-04,\n",
       "          1.23343580e-06,   7.94365320e-08,   1.87987350e-08,\n",
       "          5.40643100e-07,   2.50541439e-06,   3.02270314e-06,\n",
       "          3.18379477e-07,   3.38612750e-07,   6.56528482e-06,\n",
       "          2.76490282e-05,   1.89500804e-06,   2.69360142e-04,\n",
       "          4.12301815e-05,   5.42981979e-06,   1.47110398e-03,\n",
       "          3.26681226e-01,   5.62863366e-04,   3.95579758e-04,\n",
       "          3.26368695e-06,   7.16027444e-07,   4.23327720e-07,\n",
       "          1.64520060e-07,   1.74846411e-06]], dtype=float32)"
      ]
     },
     "execution_count": 113,
     "metadata": {},
     "output_type": "execute_result"
    }
   ],
   "source": [
    "preds"
   ]
  },
  {
   "cell_type": "code",
   "execution_count": 91,
   "metadata": {
    "collapsed": true
   },
   "outputs": [
    {
     "data": {
      "text/plain": [
       "{0: 'Clothing, Shoes & Jewelry -> Men -> Clothing -> Active -> Active Shirts & Tees',\n",
       " 1: 'Clothing, Shoes & Jewelry -> Men -> Clothing -> Active -> Active Shorts',\n",
       " 2: 'Clothing, Shoes & Jewelry -> Men -> Clothing -> Active -> Athletic Socks',\n",
       " 3: 'Clothing, Shoes & Jewelry -> Men -> Clothing -> Fashion Hoodies & Sweatshirts',\n",
       " 4: 'Clothing, Shoes & Jewelry -> Men -> Clothing -> Jackets & Coats -> Leather & Faux Leather',\n",
       " 5: 'Clothing, Shoes & Jewelry -> Men -> Clothing -> Jeans',\n",
       " 6: 'Clothing, Shoes & Jewelry -> Men -> Clothing -> Pants -> Casual',\n",
       " 7: 'Clothing, Shoes & Jewelry -> Men -> Clothing -> Pants -> Dress',\n",
       " 8: 'Clothing, Shoes & Jewelry -> Men -> Clothing -> Shirts -> Casual Button-Down Shirts',\n",
       " 9: 'Clothing, Shoes & Jewelry -> Men -> Clothing -> Shirts -> Dress Shirts',\n",
       " 10: 'Clothing, Shoes & Jewelry -> Men -> Clothing -> Shirts -> Polos',\n",
       " 11: 'Clothing, Shoes & Jewelry -> Men -> Clothing -> Shirts -> T-Shirts',\n",
       " 12: 'Clothing, Shoes & Jewelry -> Men -> Clothing -> Shorts -> Cargo',\n",
       " 13: 'Clothing, Shoes & Jewelry -> Men -> Clothing -> Sleep & Lounge -> Sleep Bottoms',\n",
       " 14: 'Clothing, Shoes & Jewelry -> Men -> Clothing -> Socks -> Casual Socks',\n",
       " 15: 'Clothing, Shoes & Jewelry -> Men -> Clothing -> Sweaters -> Pullovers',\n",
       " 16: 'Clothing, Shoes & Jewelry -> Men -> Clothing -> Swim -> Board Shorts',\n",
       " 17: 'Clothing, Shoes & Jewelry -> Men -> Clothing -> Underwear -> Boxer Briefs',\n",
       " 18: 'Clothing, Shoes & Jewelry -> Men -> Clothing -> Underwear -> Briefs',\n",
       " 19: 'Clothing, Shoes & Jewelry -> Men -> Shoes -> Boots',\n",
       " 20: 'Clothing, Shoes & Jewelry -> Men -> Shoes -> Fashion Sneakers',\n",
       " 21: 'Clothing, Shoes & Jewelry -> Women -> Clothing -> Active -> Active Shirts & Tees',\n",
       " 22: 'Clothing, Shoes & Jewelry -> Women -> Clothing -> Coats & Jackets -> Down & Down Alternative',\n",
       " 23: 'Clothing, Shoes & Jewelry -> Women -> Clothing -> Coats & Jackets -> Leather & Faux Leather',\n",
       " 24: 'Clothing, Shoes & Jewelry -> Women -> Clothing -> Coats & Jackets -> Wool & Blends',\n",
       " 25: 'Clothing, Shoes & Jewelry -> Women -> Clothing -> Dresses -> Casual',\n",
       " 26: 'Clothing, Shoes & Jewelry -> Women -> Clothing -> Dresses -> Night Out & Cocktail',\n",
       " 27: 'Clothing, Shoes & Jewelry -> Women -> Clothing -> Dresses -> Special Occasion',\n",
       " 28: 'Clothing, Shoes & Jewelry -> Women -> Clothing -> Dresses -> Wear to Work',\n",
       " 29: 'Clothing, Shoes & Jewelry -> Women -> Clothing -> Fashion Hoodies & Sweatshirts',\n",
       " 30: 'Clothing, Shoes & Jewelry -> Women -> Clothing -> Jeans',\n",
       " 31: 'Clothing, Shoes & Jewelry -> Women -> Clothing -> Jumpsuits, Rompers & Overalls',\n",
       " 32: 'Clothing, Shoes & Jewelry -> Women -> Clothing -> Leggings',\n",
       " 33: 'Clothing, Shoes & Jewelry -> Women -> Clothing -> Lingerie, Sleep & Lounge -> Intimates -> Bras -> Everyday Bras',\n",
       " 34: 'Clothing, Shoes & Jewelry -> Women -> Clothing -> Lingerie, Sleep & Lounge -> Intimates -> Bras -> Sports Bras',\n",
       " 35: 'Clothing, Shoes & Jewelry -> Women -> Clothing -> Lingerie, Sleep & Lounge -> Intimates -> Lingerie -> Bustiers & Corsets',\n",
       " 36: 'Clothing, Shoes & Jewelry -> Women -> Clothing -> Lingerie, Sleep & Lounge -> Intimates -> Panties -> Briefs',\n",
       " 37: 'Clothing, Shoes & Jewelry -> Women -> Clothing -> Lingerie, Sleep & Lounge -> Intimates -> Shapewear -> Bodysuits',\n",
       " 38: 'Clothing, Shoes & Jewelry -> Women -> Clothing -> Lingerie, Sleep & Lounge -> Sleep & Lounge -> Bottoms',\n",
       " 39: 'Clothing, Shoes & Jewelry -> Women -> Clothing -> Lingerie, Sleep & Lounge -> Sleep & Lounge -> Nightgowns & Sleepshirts',\n",
       " 40: 'Clothing, Shoes & Jewelry -> Women -> Clothing -> Lingerie, Sleep & Lounge -> Sleep & Lounge -> Robes',\n",
       " 41: 'Clothing, Shoes & Jewelry -> Women -> Clothing -> Lingerie, Sleep & Lounge -> Sleep & Lounge -> Sets',\n",
       " 42: 'Clothing, Shoes & Jewelry -> Women -> Clothing -> Pants -> Casual',\n",
       " 43: 'Clothing, Shoes & Jewelry -> Women -> Clothing -> Shorts -> Casual',\n",
       " 44: 'Clothing, Shoes & Jewelry -> Women -> Clothing -> Shorts -> Denim',\n",
       " 45: 'Clothing, Shoes & Jewelry -> Women -> Clothing -> Skirts -> Casual',\n",
       " 46: 'Clothing, Shoes & Jewelry -> Women -> Clothing -> Socks & Hosiery -> Casual Socks',\n",
       " 47: 'Clothing, Shoes & Jewelry -> Women -> Clothing -> Socks & Hosiery -> Hosiery',\n",
       " 48: 'Clothing, Shoes & Jewelry -> Women -> Clothing -> Socks & Hosiery -> Tights',\n",
       " 49: 'Clothing, Shoes & Jewelry -> Women -> Clothing -> Suits & Blazers -> Blazers -> Casual',\n",
       " 50: 'Clothing, Shoes & Jewelry -> Women -> Clothing -> Sweaters -> Cardigans',\n",
       " 51: 'Clothing, Shoes & Jewelry -> Women -> Clothing -> Sweaters -> Pullovers',\n",
       " 52: 'Clothing, Shoes & Jewelry -> Women -> Clothing -> Swimsuits & Cover Ups -> Bikinis',\n",
       " 53: 'Clothing, Shoes & Jewelry -> Women -> Clothing -> Swimsuits & Cover Ups -> Cover-Ups',\n",
       " 54: 'Clothing, Shoes & Jewelry -> Women -> Clothing -> Swimsuits & Cover Ups -> One-Pieces',\n",
       " 55: 'Clothing, Shoes & Jewelry -> Women -> Clothing -> Swimsuits & Cover Ups -> Tankinis',\n",
       " 56: 'Clothing, Shoes & Jewelry -> Women -> Clothing -> Tops & Tees -> Blouses & Button-Down Shirts',\n",
       " 57: 'Clothing, Shoes & Jewelry -> Women -> Clothing -> Tops & Tees -> Knits & Tees',\n",
       " 58: 'Clothing, Shoes & Jewelry -> Women -> Clothing -> Tops & Tees -> Tanks & Camis',\n",
       " 59: 'Clothing, Shoes & Jewelry -> Women -> Clothing -> Tops & Tees -> Tunics',\n",
       " 60: 'Clothing, Shoes & Jewelry -> Women -> Shoes -> Boots',\n",
       " 61: 'Clothing, Shoes & Jewelry -> Women -> Shoes -> Fashion Sneakers',\n",
       " 62: 'Clothing, Shoes & Jewelry -> Women -> Shoes -> Flats',\n",
       " 63: 'Clothing, Shoes & Jewelry -> Women -> Shoes -> Heels',\n",
       " 64: 'Clothing, Shoes & Jewelry -> Women -> Shoes -> Sandals'}"
      ]
     },
     "execution_count": 91,
     "metadata": {},
     "output_type": "execute_result"
    }
   ],
   "source": [
    "category_dict"
   ]
  },
  {
   "cell_type": "code",
   "execution_count": 60,
   "metadata": {
    "collapsed": true
   },
   "outputs": [],
   "source": [
    "top=5"
   ]
  },
  {
   "cell_type": "code",
   "execution_count": 123,
   "metadata": {
    "collapsed": false
   },
   "outputs": [],
   "source": [
    "top_indices = (-preds).argsort()[:, :top][0]"
   ]
  },
  {
   "cell_type": "code",
   "execution_count": 124,
   "metadata": {
    "collapsed": false
   },
   "outputs": [
    {
     "data": {
      "text/plain": [
       "array([11, 57, 21,  0, 39])"
      ]
     },
     "execution_count": 124,
     "metadata": {},
     "output_type": "execute_result"
    }
   ],
   "source": [
    "top_indices"
   ]
  },
  {
   "cell_type": "code",
   "execution_count": 125,
   "metadata": {
    "collapsed": false
   },
   "outputs": [
    {
     "data": {
      "text/plain": [
       "0.62919629"
      ]
     },
     "execution_count": 125,
     "metadata": {},
     "output_type": "execute_result"
    }
   ],
   "source": [
    "preds[0][11]"
   ]
  },
  {
   "cell_type": "code",
   "execution_count": 126,
   "metadata": {
    "collapsed": false
   },
   "outputs": [
    {
     "data": {
      "text/plain": [
       "'Clothing, Shoes & Jewelry -> Men -> Clothing -> Shirts -> T-Shirts'"
      ]
     },
     "execution_count": 126,
     "metadata": {},
     "output_type": "execute_result"
    }
   ],
   "source": [
    "category_dict[11]"
   ]
  },
  {
   "cell_type": "code",
   "execution_count": 145,
   "metadata": {
    "collapsed": false
   },
   "outputs": [],
   "source": [
    "results = dict()"
   ]
  },
  {
   "cell_type": "code",
   "execution_count": 146,
   "metadata": {
    "collapsed": false
   },
   "outputs": [],
   "source": [
    "for i, idx in enumerate(top_indices):\n",
    "    category = category_dict[idx]\n",
    "    prob = preds[0][idx]\n",
    "    results[i] = (category, prob)"
   ]
  },
  {
   "cell_type": "code",
   "execution_count": 147,
   "metadata": {
    "collapsed": false
   },
   "outputs": [
    {
     "data": {
      "text/plain": [
       "{0: ('Clothing, Shoes & Jewelry -> Men -> Clothing -> Shirts -> T-Shirts',\n",
       "  0.62919629),\n",
       " 1: ('Clothing, Shoes & Jewelry -> Women -> Clothing -> Tops & Tees -> Knits & Tees',\n",
       "  0.32668123),\n",
       " 2: ('Clothing, Shoes & Jewelry -> Women -> Clothing -> Active -> Active Shirts & Tees',\n",
       "  0.019632405),\n",
       " 3: ('Clothing, Shoes & Jewelry -> Men -> Clothing -> Active -> Active Shirts & Tees',\n",
       "  0.015373894),\n",
       " 4: ('Clothing, Shoes & Jewelry -> Women -> Clothing -> Lingerie, Sleep & Lounge -> Sleep & Lounge -> Nightgowns & Sleepshirts',\n",
       "  0.003534158)}"
      ]
     },
     "execution_count": 147,
     "metadata": {},
     "output_type": "execute_result"
    }
   ],
   "source": [
    "results"
   ]
  },
  {
   "cell_type": "code",
   "execution_count": null,
   "metadata": {
    "collapsed": true
   },
   "outputs": [],
   "source": [
    "start_time = datetime.datetime.now()\n",
    "preds = model.predict(pred_image)\n",
    "end_time = datetime.datetime.now()\n",
    "elapsed_time = end_time - start_time\n",
    "print('Time taken: {} secs'.format(elapsed_time.total_seconds()))"
   ]
  },
  {
   "cell_type": "code",
   "execution_count": 172,
   "metadata": {
    "collapsed": true
   },
   "outputs": [],
   "source": [
    "class Image:\n",
    "    \n",
    "    def __init__(self, image_path):\n",
    "        self.image_path = image_path\n",
    "        self.image = None\n",
    "        logger.debug('Image received')\n",
    "        \n",
    "    def prepare(self):\n",
    "        self.image = image.load_img(self.image_path, target_size=(224, 224))\n",
    "        self.image = image.img_to_array(self.image)\n",
    "        self.image = np.multiply(self.image, 1./255)\n",
    "        self.image = np.expand_dims(self.image, axis=0)\n",
    "        logger.debug('Image prepared')\n",
    "        \n",
    "        return self\n",
    "    \n",
    "    def categorize(self):\n",
    "        start_time = datetime.datetime.now()\n",
    "        \n",
    "        preds = model.predict(self.image)\n",
    "        \n",
    "        end_time = datetime.datetime.now()\n",
    "        elapsed_time = end_time - start_time\n",
    "        elapsed_time = elapsed_time.total_seconds()\n",
    "        logger.info('Time taken: {} secs'.format(elapsed_time))\n",
    "        \n",
    "        top = 5\n",
    "        results = dict()\n",
    "        \n",
    "        top_indices = (-preds).argsort()[:, :top][0]\n",
    "        for i, idx in enumerate(top_indices):\n",
    "            category = category_dict[idx]\n",
    "            prob = preds[0][idx]\n",
    "            results[i] = (category, prob)\n",
    "            \n",
    "        return results, elapsed_time"
   ]
  },
  {
   "cell_type": "code",
   "execution_count": 168,
   "metadata": {
    "collapsed": true
   },
   "outputs": [],
   "source": [
    "def image_categorize_single(image_path):\n",
    "    return Image(image_path).prepare().categorize()"
   ]
  },
  {
   "cell_type": "code",
   "execution_count": null,
   "metadata": {
    "collapsed": true
   },
   "outputs": [],
   "source": []
  },
  {
   "cell_type": "code",
   "execution_count": null,
   "metadata": {
    "collapsed": true
   },
   "outputs": [],
   "source": []
  },
  {
   "cell_type": "code",
   "execution_count": 170,
   "metadata": {
    "collapsed": true
   },
   "outputs": [],
   "source": [
    "pred_image_path = '../data/images_clothes/pred_image/B0000C2QZX.jpg'"
   ]
  },
  {
   "cell_type": "code",
   "execution_count": 166,
   "metadata": {
    "collapsed": false
   },
   "outputs": [
    {
     "name": "stderr",
     "output_type": "stream",
     "text": [
      "DEBUG:__log__:Image received\n",
      "DEBUG:__log__:Image prepared\n",
      "2016-11-27 09:50:06,023 - Time taken: 118.217844 secs\n",
      "INFO:__log__:Time taken: 118.217844 secs\n"
     ]
    },
    {
     "data": {
      "text/plain": [
       "({0: ('Clothing, Shoes & Jewelry -> Women -> Clothing -> Shorts -> Denim',\n",
       "   0.58311218),\n",
       "  1: ('Clothing, Shoes & Jewelry -> Women -> Clothing -> Shorts -> Casual',\n",
       "   0.36631334),\n",
       "  2: ('Clothing, Shoes & Jewelry -> Men -> Clothing -> Underwear -> Boxer Briefs',\n",
       "   0.03935191),\n",
       "  3: ('Clothing, Shoes & Jewelry -> Men -> Clothing -> Swim -> Board Shorts',\n",
       "   0.0065661236),\n",
       "  4: ('Clothing, Shoes & Jewelry -> Women -> Clothing -> Skirts -> Casual',\n",
       "   0.0010080608)},\n",
       " datetime.timedelta(0, 118, 217844))"
      ]
     },
     "execution_count": 166,
     "metadata": {},
     "output_type": "execute_result"
    }
   ],
   "source": [
    "Image(pred_image_path).prepare().categorize()"
   ]
  },
  {
   "cell_type": "code",
   "execution_count": 173,
   "metadata": {
    "collapsed": false
   },
   "outputs": [
    {
     "name": "stderr",
     "output_type": "stream",
     "text": [
      "DEBUG:__log__:Image received\n",
      "DEBUG:__log__:Image prepared\n",
      "2016-11-27 09:53:18,726 - Time taken: 119.335935 secs\n",
      "INFO:__log__:Time taken: 119.335935 secs\n"
     ]
    },
    {
     "data": {
      "text/plain": [
       "({0: ('Clothing, Shoes & Jewelry -> Men -> Clothing -> Underwear -> Briefs',\n",
       "   0.98395598),\n",
       "  1: ('Clothing, Shoes & Jewelry -> Men -> Clothing -> Underwear -> Boxer Briefs',\n",
       "   0.016025206),\n",
       "  2: ('Clothing, Shoes & Jewelry -> Women -> Clothing -> Lingerie, Sleep & Lounge -> Intimates -> Panties -> Briefs',\n",
       "   1.8811246e-05),\n",
       "  3: ('Clothing, Shoes & Jewelry -> Men -> Clothing -> Active -> Active Shorts',\n",
       "   3.079011e-09),\n",
       "  4: ('Clothing, Shoes & Jewelry -> Women -> Clothing -> Shorts -> Casual',\n",
       "   9.0954827e-10)},\n",
       " 119.335935)"
      ]
     },
     "execution_count": 173,
     "metadata": {},
     "output_type": "execute_result"
    }
   ],
   "source": [
    "image_categorize_single(pred_image_path)"
   ]
  },
  {
   "cell_type": "code",
   "execution_count": null,
   "metadata": {
    "collapsed": true
   },
   "outputs": [],
   "source": []
  }
 ],
 "metadata": {
  "kernelspec": {
   "display_name": "Python 2",
   "language": "python",
   "name": "python2"
  },
  "language_info": {
   "codemirror_mode": {
    "name": "ipython",
    "version": 2
   },
   "file_extension": ".py",
   "mimetype": "text/x-python",
   "name": "python",
   "nbconvert_exporter": "python",
   "pygments_lexer": "ipython2",
   "version": "2.7.10"
  }
 },
 "nbformat": 4,
 "nbformat_minor": 0
}

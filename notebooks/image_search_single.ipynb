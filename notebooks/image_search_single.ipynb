{
 "cells": [
  {
   "cell_type": "code",
   "execution_count": 9,
   "metadata": {
    "collapsed": false
   },
   "outputs": [],
   "source": [
    "import os\n",
    "import cPickle as pickle\n",
    "from logger import logger"
   ]
  },
  {
   "cell_type": "code",
   "execution_count": 10,
   "metadata": {
    "collapsed": true
   },
   "outputs": [],
   "source": [
    "def load_dict(dict_dir='categorize', dict_name='tfidf_dict'):\n",
    "    \"\"\" (str, str) -> defaultdict\n",
    "\n",
    "    Loads a dictionary for categorization into memory\n",
    "\n",
    "    :param tfidf_dict:\n",
    "    :param dict_dir:\n",
    "    :param dict_name:\n",
    "    :return:\n",
    "    \"\"\"\n",
    "    output_dir_path = os.path.join(dict_dir, dict_name + '.pickle')\n",
    "\n",
    "    with open(output_dir_path, 'rb') as handle:\n",
    "        logger.info('Dictionary loading from: {}/{}.pickle'.format(dict_dir, dict_name))\n",
    "        return pickle.load(handle)"
   ]
  },
  {
   "cell_type": "code",
   "execution_count": 11,
   "metadata": {
    "collapsed": false
   },
   "outputs": [
    {
     "name": "stderr",
     "output_type": "stream",
     "text": [
      "2016-12-27 11:18:31,791 - Dictionary loading from: ../data/images_sample/search_dicts/search_dicts.pickle\n"
     ]
    }
   ],
   "source": [
    "index_path_dict, category_index_dict, index_path_filter_dict = load_dict('../data/images_sample/search_dicts', 'search_dicts')"
   ]
  },
  {
   "cell_type": "code",
   "execution_count": 12,
   "metadata": {
    "collapsed": true
   },
   "outputs": [
    {
     "data": {
      "text/plain": [
       "defaultdict(None,\n",
       "            {0: 'data/images_sample/train_top_level/Cell Phones & Accessories/B00KBZEOBU.jpg',\n",
       "             1: 'data/images_sample/train_top_level/Cell Phones & Accessories/B00KCFPKY4.jpg',\n",
       "             2: 'data/images_sample/train_top_level/Cell Phones & Accessories/B00KCLOFQ2.jpg',\n",
       "             3: 'data/images_sample/train_top_level/Cell Phones & Accessories/B00KCLSY64.jpg',\n",
       "             4: 'data/images_sample/train_top_level/Cell Phones & Accessories/B00KD15484.jpg',\n",
       "             5: 'data/images_sample/train_top_level/Cell Phones & Accessories/B00KD7KPZK.jpg',\n",
       "             6: 'data/images_sample/train_top_level/Cell Phones & Accessories/B00KERDISU.jpg',\n",
       "             7: 'data/images_sample/train_top_level/Cell Phones & Accessories/B00KFW3NUW.jpg',\n",
       "             8: 'data/images_sample/train_top_level/Cell Phones & Accessories/B00KFZ5WUS.jpg',\n",
       "             9: 'data/images_sample/train_top_level/Cell Phones & Accessories/B00KG0X1DW.jpg',\n",
       "             10: 'data/images_sample/train_top_level/Cell Phones & Accessories/B00KH7ZZ9C.jpg',\n",
       "             11: 'data/images_sample/train_top_level/Cell Phones & Accessories/B00KHA2YDO.jpg',\n",
       "             12: 'data/images_sample/train_top_level/Cell Phones & Accessories/B00KIWCZ4Y.jpg',\n",
       "             13: 'data/images_sample/train_top_level/Cell Phones & Accessories/B00KIWMR5Q.jpg',\n",
       "             14: 'data/images_sample/train_top_level/Cell Phones & Accessories/B00KIY40CW.jpg',\n",
       "             15: 'data/images_sample/train_top_level/Cell Phones & Accessories/B00KJ4WTG0.jpg',\n",
       "             16: 'data/images_sample/train_top_level/Cell Phones & Accessories/B00KJLMBQQ.jpg',\n",
       "             17: 'data/images_sample/train_top_level/Cell Phones & Accessories/B00KJLMBSO.jpg',\n",
       "             18: 'data/images_sample/train_top_level/Cell Phones & Accessories/B00KQ15030.jpg',\n",
       "             19: 'data/images_sample/train_top_level/Cell Phones & Accessories/B00KQHW6F4.jpg',\n",
       "             20: 'data/images_sample/train_top_level/Cell Phones & Accessories/B00KREXJ52.jpg',\n",
       "             21: 'data/images_sample/train_top_level/Cell Phones & Accessories/B00KS3EP28.jpg',\n",
       "             22: 'data/images_sample/train_top_level/Cell Phones & Accessories/B00KT3ZNSM.jpg',\n",
       "             23: 'data/images_sample/train_top_level/Cell Phones & Accessories/B00KVJ73LE.jpg',\n",
       "             24: 'data/images_sample/train_top_level/Cell Phones & Accessories/B00KW022JA.jpg',\n",
       "             25: 'data/images_sample/train_top_level/Cell Phones & Accessories/B00KWNTTOI.jpg',\n",
       "             26: 'data/images_sample/train_top_level/Cell Phones & Accessories/B00KWW3VVQ.jpg',\n",
       "             27: 'data/images_sample/train_top_level/Cell Phones & Accessories/B00KWWCFDQ.jpg',\n",
       "             28: 'data/images_sample/train_top_level/Cell Phones & Accessories/B00KWWMT0U.jpg',\n",
       "             29: 'data/images_sample/train_top_level/Cell Phones & Accessories/B00KX9ANEG.jpg',\n",
       "             30: 'data/images_sample/train_top_level/Cell Phones & Accessories/B00KYGP50K.jpg',\n",
       "             31: 'data/images_sample/train_top_level/Cell Phones & Accessories/B00L38XJ2Y.jpg',\n",
       "             32: 'data/images_sample/train_top_level/Cell Phones & Accessories/B00L3DW1GE.jpg',\n",
       "             33: 'data/images_sample/train_top_level/Cell Phones & Accessories/B00L4GHO2G.jpg',\n",
       "             34: 'data/images_sample/train_top_level/Cell Phones & Accessories/B00LAFDEYS.jpg',\n",
       "             35: 'data/images_sample/train_top_level/Cell Phones & Accessories/B00LBO0PWM.jpg',\n",
       "             36: 'data/images_sample/train_top_level/Clothing, Shoes & Jewelry/B00IQAAE6Q.jpg',\n",
       "             37: 'data/images_sample/train_top_level/Clothing, Shoes & Jewelry/B00IS5H7SC.jpg',\n",
       "             38: 'data/images_sample/train_top_level/Clothing, Shoes & Jewelry/B00IT2IOG8.jpg',\n",
       "             39: 'data/images_sample/train_top_level/Clothing, Shoes & Jewelry/B00IUOMT7K.jpg',\n",
       "             40: 'data/images_sample/train_top_level/Clothing, Shoes & Jewelry/B00IUPGERK.jpg',\n",
       "             41: 'data/images_sample/train_top_level/Clothing, Shoes & Jewelry/B00IXXX0R6.jpg',\n",
       "             42: 'data/images_sample/train_top_level/Clothing, Shoes & Jewelry/B00IY40554.jpg',\n",
       "             43: 'data/images_sample/train_top_level/Clothing, Shoes & Jewelry/B00IY5M03I.jpg',\n",
       "             44: 'data/images_sample/train_top_level/Clothing, Shoes & Jewelry/B00J2H9JAO.jpg',\n",
       "             45: 'data/images_sample/train_top_level/Clothing, Shoes & Jewelry/B00J2Z2TMQ.jpg',\n",
       "             46: 'data/images_sample/train_top_level/Clothing, Shoes & Jewelry/B00J48SKXS.jpg',\n",
       "             47: 'data/images_sample/train_top_level/Clothing, Shoes & Jewelry/B00J5PCOI2.jpg',\n",
       "             48: 'data/images_sample/train_top_level/Clothing, Shoes & Jewelry/B00JEHJ5ME.jpg',\n",
       "             49: 'data/images_sample/train_top_level/Clothing, Shoes & Jewelry/B00JFFAJ0C.jpg',\n",
       "             50: 'data/images_sample/train_top_level/Clothing, Shoes & Jewelry/B00JG1MZLQ.jpg',\n",
       "             51: 'data/images_sample/train_top_level/Clothing, Shoes & Jewelry/B00JG1NIQC.jpg',\n",
       "             52: 'data/images_sample/train_top_level/Clothing, Shoes & Jewelry/B00JGSRECO.jpg',\n",
       "             53: 'data/images_sample/train_top_level/Clothing, Shoes & Jewelry/B00JGST7UG.jpg',\n",
       "             54: 'data/images_sample/train_top_level/Clothing, Shoes & Jewelry/B00JHCCA2I.jpg',\n",
       "             55: 'data/images_sample/train_top_level/Clothing, Shoes & Jewelry/B00JLZZJPQ.jpg',\n",
       "             56: 'data/images_sample/train_top_level/Clothing, Shoes & Jewelry/B00JM01ZOE.jpg',\n",
       "             57: 'data/images_sample/train_top_level/Clothing, Shoes & Jewelry/B00JP42P1O.jpg',\n",
       "             58: 'data/images_sample/train_top_level/Clothing, Shoes & Jewelry/B00JX81YDC.jpg',\n",
       "             59: 'data/images_sample/train_top_level/Clothing, Shoes & Jewelry/B00K0ONUYY.jpg',\n",
       "             60: 'data/images_sample/train_top_level/Clothing, Shoes & Jewelry/B00K0TGPH8.jpg',\n",
       "             61: 'data/images_sample/train_top_level/Clothing, Shoes & Jewelry/B00K2ZHTYS.jpg',\n",
       "             62: 'data/images_sample/train_top_level/Clothing, Shoes & Jewelry/B00K7K9VLW.jpg',\n",
       "             63: 'data/images_sample/train_top_level/Clothing, Shoes & Jewelry/B00KB4BE5K.jpg',\n",
       "             64: 'data/images_sample/train_top_level/Clothing, Shoes & Jewelry/B00KFOR7TI.jpg',\n",
       "             65: 'data/images_sample/train_top_level/Clothing, Shoes & Jewelry/B00KFOREAU.jpg',\n",
       "             66: 'data/images_sample/train_top_level/Clothing, Shoes & Jewelry/B00KGJFA7S.jpg',\n",
       "             67: 'data/images_sample/train_top_level/Clothing, Shoes & Jewelry/B00KLJF2V2.jpg',\n",
       "             68: 'data/images_sample/train_top_level/Clothing, Shoes & Jewelry/B00KLJFXQ6.jpg',\n",
       "             69: 'data/images_sample/train_top_level/Clothing, Shoes & Jewelry/B00KXFHZQ4.jpg',\n",
       "             70: 'data/images_sample/train_top_level/Clothing, Shoes & Jewelry/B00KY944XG.jpg',\n",
       "             71: 'data/images_sample/train_top_level/Clothing, Shoes & Jewelry/B00KZGOG22.jpg',\n",
       "             72: 'data/images_sample/train_top_level/Home & Kitchen/B00HL8STCK.jpg',\n",
       "             73: 'data/images_sample/train_top_level/Home & Kitchen/B00HL8VOC2.jpg',\n",
       "             74: 'data/images_sample/train_top_level/Home & Kitchen/B00HQ54TYK.jpg',\n",
       "             75: 'data/images_sample/train_top_level/Home & Kitchen/B00HQP55J8.jpg',\n",
       "             76: 'data/images_sample/train_top_level/Home & Kitchen/B00HQP8L80.jpg',\n",
       "             77: 'data/images_sample/train_top_level/Home & Kitchen/B00HVFVCVI.jpg',\n",
       "             78: 'data/images_sample/train_top_level/Home & Kitchen/B00HVJCB3C.jpg',\n",
       "             79: 'data/images_sample/train_top_level/Home & Kitchen/B00HVJCBVE.jpg',\n",
       "             80: 'data/images_sample/train_top_level/Home & Kitchen/B00HVM1H3E.jpg',\n",
       "             81: 'data/images_sample/train_top_level/Home & Kitchen/B00HVVQDJ8.jpg',\n",
       "             82: 'data/images_sample/train_top_level/Home & Kitchen/B00HVVUTQG.jpg',\n",
       "             83: 'data/images_sample/train_top_level/Home & Kitchen/B00HWCGM4C.jpg',\n",
       "             84: 'data/images_sample/train_top_level/Home & Kitchen/B00HWH5KAO.jpg',\n",
       "             85: 'data/images_sample/train_top_level/Home & Kitchen/B00HYL1NW2.jpg',\n",
       "             86: 'data/images_sample/train_top_level/Home & Kitchen/B00HZ0H664.jpg',\n",
       "             87: 'data/images_sample/train_top_level/Home & Kitchen/B00I1H4IZ2.jpg',\n",
       "             88: 'data/images_sample/train_top_level/Home & Kitchen/B00I1H4X0W.jpg',\n",
       "             89: 'data/images_sample/train_top_level/Home & Kitchen/B00I2X49FE.jpg',\n",
       "             90: 'data/images_sample/train_top_level/Home & Kitchen/B00IGK5A5Q.jpg',\n",
       "             91: 'data/images_sample/train_top_level/Home & Kitchen/B00IGNT1R6.jpg',\n",
       "             92: 'data/images_sample/train_top_level/Home & Kitchen/B00IGNT1TO.jpg',\n",
       "             93: 'data/images_sample/train_top_level/Home & Kitchen/B00ILSUY1I.jpg',\n",
       "             94: 'data/images_sample/train_top_level/Home & Kitchen/B00INRTI82.jpg',\n",
       "             95: 'data/images_sample/train_top_level/Home & Kitchen/B00IT4KC5W.jpg',\n",
       "             96: 'data/images_sample/train_top_level/Home & Kitchen/B00IVRL1GG.jpg',\n",
       "             97: 'data/images_sample/train_top_level/Home & Kitchen/B00IZ9KHMY.jpg',\n",
       "             98: 'data/images_sample/train_top_level/Home & Kitchen/B00IZ9KLTS.jpg',\n",
       "             99: 'data/images_sample/train_top_level/Home & Kitchen/B00IZ9KNUU.jpg',\n",
       "             100: 'data/images_sample/train_top_level/Home & Kitchen/B00IZ9KPW6.jpg',\n",
       "             101: 'data/images_sample/train_top_level/Home & Kitchen/B00IZ9KQ6G.jpg',\n",
       "             102: 'data/images_sample/train_top_level/Home & Kitchen/B00IZR0G9A.jpg',\n",
       "             103: 'data/images_sample/train_top_level/Home & Kitchen/B00J2BMG8M.jpg',\n",
       "             104: 'data/images_sample/train_top_level/Home & Kitchen/B00JASS2SA.jpg',\n",
       "             105: 'data/images_sample/train_top_level/Home & Kitchen/B00JBIHD4I.jpg',\n",
       "             106: 'data/images_sample/train_top_level/Home & Kitchen/B00JDR459S.jpg',\n",
       "             107: 'data/images_sample/train_top_level/Home & Kitchen/B00JP4O0TY.jpg',\n",
       "             108: 'data/images_sample/train_top_level/Home & Kitchen/B00JP4O0U8.jpg',\n",
       "             109: 'data/images_sample/train_top_level/Home & Kitchen/B00JP4O2MO.jpg',\n",
       "             110: 'data/images_sample/train_top_level/Home & Kitchen/B00JQ2WOWU.jpg',\n",
       "             111: 'data/images_sample/train_top_level/Home & Kitchen/B00JZVFFQY.jpg',\n",
       "             112: 'data/images_sample/train_top_level/Home & Kitchen/B00JZYV45W.jpg',\n",
       "             113: 'data/images_sample/train_top_level/Home & Kitchen/B00K4HJJ3S.jpg',\n",
       "             114: 'data/images_sample/train_top_level/Home & Kitchen/B00K4HMM9G.jpg',\n",
       "             115: 'data/images_sample/train_top_level/Home & Kitchen/B00KCWAIKS.jpg',\n",
       "             116: 'data/images_sample/train_top_level/Home & Kitchen/B00KLQ9Z2W.jpg',\n",
       "             117: 'data/images_sample/train_top_level/Home & Kitchen/B00KMXNJPI.jpg',\n",
       "             118: 'data/images_sample/train_top_level/Home & Kitchen/B00KN1KIXK.jpg',\n",
       "             119: 'data/images_sample/train_top_level/Home & Kitchen/B00KYHICTK.jpg',\n",
       "             120: 'data/images_sample/train_top_level/Toys & Games/B00GDGM61G.jpg',\n",
       "             121: 'data/images_sample/train_top_level/Toys & Games/B00GDIOWFW.jpg',\n",
       "             122: 'data/images_sample/train_top_level/Toys & Games/B00GF7MVS6.jpg',\n",
       "             123: 'data/images_sample/train_top_level/Toys & Games/B00GH0T1KM.jpg',\n",
       "             124: 'data/images_sample/train_top_level/Toys & Games/B00GHUH93S.jpg',\n",
       "             125: 'data/images_sample/train_top_level/Toys & Games/B00GKT27S8.jpg',\n",
       "             126: 'data/images_sample/train_top_level/Toys & Games/B00GLYWI0E.jpg',\n",
       "             127: 'data/images_sample/train_top_level/Toys & Games/B00GLZR92A.jpg',\n",
       "             128: 'data/images_sample/train_top_level/Toys & Games/B00GM01YNE.jpg',\n",
       "             129: 'data/images_sample/train_top_level/Toys & Games/B00GM1ECLE.jpg',\n",
       "             130: 'data/images_sample/train_top_level/Toys & Games/B00GM1KJLG.jpg',\n",
       "             131: 'data/images_sample/train_top_level/Toys & Games/B00GM4JGHG.jpg',\n",
       "             132: 'data/images_sample/train_top_level/Toys & Games/B00GODKQ2O.jpg',\n",
       "             133: 'data/images_sample/train_top_level/Toys & Games/B00GOHYWKW.jpg',\n",
       "             134: 'data/images_sample/train_top_level/Toys & Games/B00GSQ2BX4.jpg',\n",
       "             135: 'data/images_sample/train_top_level/Toys & Games/B00GSQXNIG.jpg',\n",
       "             136: 'data/images_sample/train_top_level/Toys & Games/B00GSWFQBM.jpg',\n",
       "             137: 'data/images_sample/train_top_level/Toys & Games/B00GSXHADS.jpg',\n",
       "             138: 'data/images_sample/train_top_level/Toys & Games/B00GSZJ5WK.jpg',\n",
       "             139: 'data/images_sample/train_top_level/Toys & Games/B00GT2VMAU.jpg',\n",
       "             140: 'data/images_sample/train_top_level/Toys & Games/B00GTDYEDQ.jpg',\n",
       "             141: 'data/images_sample/train_top_level/Toys & Games/B00GVGIICE.jpg',\n",
       "             142: 'data/images_sample/train_top_level/Toys & Games/B00H14UHSS.jpg',\n",
       "             143: 'data/images_sample/train_top_level/Toys & Games/B00H2BZHF8.jpg',\n",
       "             144: 'data/images_sample/train_top_level/Toys & Games/B00H3FJKMY.jpg',\n",
       "             145: 'data/images_sample/train_top_level/Toys & Games/B00HCO4ILY.jpg',\n",
       "             146: 'data/images_sample/train_top_level/Toys & Games/B00HCP0VTQ.jpg',\n",
       "             147: 'data/images_sample/train_top_level/Toys & Games/B00HCP29GO.jpg',\n",
       "             148: 'data/images_sample/train_top_level/Toys & Games/B00HCP4ZHU.jpg',\n",
       "             149: 'data/images_sample/train_top_level/Toys & Games/B00HEPDC0Y.jpg',\n",
       "             150: 'data/images_sample/train_top_level/Toys & Games/B00HH1KMPI.jpg',\n",
       "             151: 'data/images_sample/train_top_level/Toys & Games/B00HQHBRQG.jpg',\n",
       "             152: 'data/images_sample/train_top_level/Toys & Games/B00HRJCH4Y.jpg',\n",
       "             153: 'data/images_sample/train_top_level/Toys & Games/B00HRJPT1M.jpg',\n",
       "             154: 'data/images_sample/train_top_level/Toys & Games/B00I0LT89U.jpg',\n",
       "             155: 'data/images_sample/train_top_level/Toys & Games/B00I3VWMP4.jpg',\n",
       "             156: 'data/images_sample/train_top_level/Toys & Games/B00ICAKJJW.jpg',\n",
       "             157: 'data/images_sample/train_top_level/Toys & Games/B00IHZZOCO.jpg',\n",
       "             158: 'data/images_sample/train_top_level/Toys & Games/B00II5G67K.jpg',\n",
       "             159: 'data/images_sample/train_top_level/Toys & Games/B00IK54FNA.jpg',\n",
       "             160: 'data/images_sample/train_top_level/Toys & Games/B00IOBIA9K.jpg',\n",
       "             161: 'data/images_sample/train_top_level/Toys & Games/B00IUPZ5Y8.jpg',\n",
       "             162: 'data/images_sample/train_top_level/Toys & Games/B00IVDVWSM.jpg',\n",
       "             163: 'data/images_sample/train_top_level/Toys & Games/B00IVDVWVO.jpg',\n",
       "             164: 'data/images_sample/train_top_level/Toys & Games/B00IVDVX68.jpg',\n",
       "             165: 'data/images_sample/train_top_level/Toys & Games/B00IVDVXOA.jpg',\n",
       "             166: 'data/images_sample/train_top_level/Toys & Games/B00IYX1VXK.jpg',\n",
       "             167: 'data/images_sample/train_top_level/Toys & Games/B00J5P1ALE.jpg',\n",
       "             168: 'data/images_sample/train_top_level/Toys & Games/B00J6BIYRU.jpg',\n",
       "             169: 'data/images_sample/train_top_level/Toys & Games/B00JFG7ZN0.jpg',\n",
       "             170: 'data/images_sample/train_top_level/Toys & Games/B00JHHO4YK.jpg',\n",
       "             171: 'data/images_sample/train_top_level/Toys & Games/B00KJH9384.jpg'})"
      ]
     },
     "execution_count": 12,
     "metadata": {},
     "output_type": "execute_result"
    }
   ],
   "source": [
    "index_path_dict"
   ]
  },
  {
   "cell_type": "code",
   "execution_count": 13,
   "metadata": {
    "collapsed": false
   },
   "outputs": [
    {
     "data": {
      "text/plain": [
       "defaultdict(None,\n",
       "            {'Cell Phones & Accessories': (0, 36),\n",
       "             'Clothing, Shoes & Jewelry': (1, 36),\n",
       "             'Home & Kitchen': (2, 48),\n",
       "             'Toys & Games': (3, 52)})"
      ]
     },
     "execution_count": 13,
     "metadata": {},
     "output_type": "execute_result"
    }
   ],
   "source": [
    "category_index_dict"
   ]
  },
  {
   "cell_type": "code",
   "execution_count": null,
   "metadata": {
    "collapsed": true
   },
   "outputs": [],
   "source": []
  }
 ],
 "metadata": {
  "kernelspec": {
   "display_name": "Python 2",
   "language": "python",
   "name": "python2"
  },
  "language_info": {
   "codemirror_mode": {
    "name": "ipython",
    "version": 2
   },
   "file_extension": ".py",
   "mimetype": "text/x-python",
   "name": "python",
   "nbconvert_exporter": "python",
   "pygments_lexer": "ipython2",
   "version": "2.7.9"
  }
 },
 "nbformat": 4,
 "nbformat_minor": 0
}

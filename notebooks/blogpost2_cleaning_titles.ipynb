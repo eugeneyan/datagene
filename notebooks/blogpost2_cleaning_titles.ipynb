{
 "cells": [
  {
   "cell_type": "code",
   "execution_count": 21,
   "metadata": {
    "collapsed": false
   },
   "outputs": [],
   "source": [
    "import pandas as pd\n",
    "import numpy as np\n",
    "import regex as re\n",
    "from nltk.corpus import stopwords\n",
    "import unicodedata\n",
    "import string\n",
    "import sys\n",
    "import os\n",
    "import matplotlib\n",
    "# from HTMLParser import HTMLParser\n",
    "from html.parser import HTMLParser"
   ]
  },
  {
   "cell_type": "code",
   "execution_count": 22,
   "metadata": {
    "collapsed": true
   },
   "outputs": [],
   "source": [
    "# Initialize html parser\n",
    "HTML_PARSER = HTMLParser()"
   ]
  },
  {
   "cell_type": "code",
   "execution_count": 2,
   "metadata": {
    "collapsed": false
   },
   "outputs": [
    {
     "ename": "NameError",
     "evalue": "name 'HTML_PARSER' is not defined",
     "output_type": "error",
     "traceback": [
      "\u001b[0;31m---------------------------------------------------------------------------\u001b[0m",
      "\u001b[0;31mNameError\u001b[0m                                 Traceback (most recent call last)",
      "\u001b[0;32m<ipython-input-2-7fd7fc287db5>\u001b[0m in \u001b[0;36m<module>\u001b[0;34m()\u001b[0m\n\u001b[1;32m      1\u001b[0m \u001b[0;31m# Function to encode string\u001b[0m\u001b[0;34m\u001b[0m\u001b[0;34m\u001b[0m\u001b[0m\n\u001b[0;32m----> 2\u001b[0;31m \u001b[0;32mdef\u001b[0m \u001b[0mencode_string\u001b[0m\u001b[0;34m(\u001b[0m\u001b[0mtitle\u001b[0m\u001b[0;34m,\u001b[0m \u001b[0mparser\u001b[0m\u001b[0;34m=\u001b[0m\u001b[0mHTML_PARSER\u001b[0m\u001b[0;34m)\u001b[0m\u001b[0;34m:\u001b[0m\u001b[0;34m\u001b[0m\u001b[0m\n\u001b[0m\u001b[1;32m      3\u001b[0m     \"\"\" (str) -> str\n\u001b[1;32m      4\u001b[0m \u001b[0;34m\u001b[0m\u001b[0m\n\u001b[1;32m      5\u001b[0m     \u001b[0mReturns\u001b[0m \u001b[0ma\u001b[0m \u001b[0mstring\u001b[0m \u001b[0mthat\u001b[0m \u001b[0;32mis\u001b[0m \u001b[0mencoded\u001b[0m \u001b[0;32mas\u001b[0m \u001b[0mascii\u001b[0m\u001b[0;34m\u001b[0m\u001b[0m\n",
      "\u001b[0;31mNameError\u001b[0m: name 'HTML_PARSER' is not defined"
     ]
    }
   ],
   "source": [
    "# Function to encode string\n",
    "def encode_string(title, parser=HTML_PARSER):\n",
    "    \"\"\" (str) -> str\n",
    "\n",
    "    Returns a string that is encoded as ascii\n",
    "    Note: While unicode(title, 'utf-8', 'ignore') seems to work correctly in doctest, it has led to errors in the past.\n",
    "    If so, use iso-8859-1.\n",
    "\n",
    "    :param title:\n",
    "    :return:\n",
    "\n",
    "    >>> encode_string('Crème brûlée')\n",
    "    'Creme brulee'\n",
    "    >>> encode_string('åöûëî')\n",
    "    'aouei'\n",
    "    >>> encode_string('Crème brûlée &quot; &amp; &nbsp;')\n",
    "    'Creme brulee \" & '\n",
    "    \"\"\"\n",
    "\n",
    "    try:\n",
    "        encoded_title = unicodedata.normalize('NFKD', unicode(title, 'utf-8', 'ignore')).encode('ascii', 'ignore')\n",
    "        encoded_title = parser.unescape(encoded_title).encode('ascii', 'ignore')\n",
    "    except TypeError:  # if title is missing and a float\n",
    "        encoded_title = 'NA'\n",
    "\n",
    "    return encoded_title"
   ]
  },
  {
   "cell_type": "code",
   "execution_count": 3,
   "metadata": {
    "collapsed": true
   },
   "outputs": [],
   "source": [
    "x = 'Crème brûlée'"
   ]
  },
  {
   "cell_type": "code",
   "execution_count": 4,
   "metadata": {
    "collapsed": false
   },
   "outputs": [
    {
     "name": "stdout",
     "output_type": "stream",
     "text": [
      "Crème brûlée\n"
     ]
    }
   ],
   "source": [
    "print(x)"
   ]
  },
  {
   "cell_type": "code",
   "execution_count": 5,
   "metadata": {
    "collapsed": false
   },
   "outputs": [
    {
     "ename": "SyntaxError",
     "evalue": "invalid syntax (<ipython-input-5-c7dff3afde44>, line 1)",
     "output_type": "error",
     "traceback": [
      "\u001b[0;36m  File \u001b[0;32m\"<ipython-input-5-c7dff3afde44>\"\u001b[0;36m, line \u001b[0;32m1\u001b[0m\n\u001b[0;31m    print unicode(x,'utf-8', 'ignore')\u001b[0m\n\u001b[0m                ^\u001b[0m\n\u001b[0;31mSyntaxError\u001b[0m\u001b[0;31m:\u001b[0m invalid syntax\n"
     ]
    }
   ],
   "source": [
    "print unicode(x,'utf-8', 'ignore')"
   ]
  },
  {
   "cell_type": "code",
   "execution_count": 15,
   "metadata": {
    "collapsed": false
   },
   "outputs": [
    {
     "name": "stdout",
     "output_type": "stream",
     "text": [
      "b'Creme brulee'\n"
     ]
    }
   ],
   "source": [
    "print(str(unicodedata.normalize('NFKD', x).encode('ascii', 'ignore')))"
   ]
  },
  {
   "cell_type": "code",
   "execution_count": 9,
   "metadata": {
    "collapsed": false
   },
   "outputs": [
    {
     "name": "stdout",
     "output_type": "stream",
     "text": [
      "Crème brûlée\n"
     ]
    }
   ],
   "source": [
    "print unicodedata.normalize('NFKD', unicode(x, 'utf-8', 'ignore'))"
   ]
  },
  {
   "cell_type": "code",
   "execution_count": 10,
   "metadata": {
    "collapsed": false
   },
   "outputs": [
    {
     "name": "stdout",
     "output_type": "stream",
     "text": [
      "Creme brulee\n"
     ]
    }
   ],
   "source": [
    "print unicodedata.normalize('NFKD', unicode(x, 'utf-8', 'ignore')).encode('ascii', 'ignore')"
   ]
  },
  {
   "cell_type": "code",
   "execution_count": 43,
   "metadata": {
    "collapsed": false
   },
   "outputs": [],
   "source": [
    "y = '&quot; &amp; &nbsp;'"
   ]
  },
  {
   "cell_type": "code",
   "execution_count": 44,
   "metadata": {
    "collapsed": false
   },
   "outputs": [
    {
     "name": "stdout",
     "output_type": "stream",
     "text": [
      "&quot; &amp; &nbsp;\n"
     ]
    }
   ],
   "source": [
    "print y"
   ]
  },
  {
   "cell_type": "code",
   "execution_count": 45,
   "metadata": {
    "collapsed": false
   },
   "outputs": [
    {
     "name": "stdout",
     "output_type": "stream",
     "text": [
      "&quot; &amp; &nbsp;\n"
     ]
    }
   ],
   "source": [
    "print unicode(y, 'utf-8', 'ignore')"
   ]
  },
  {
   "cell_type": "code",
   "execution_count": 46,
   "metadata": {
    "collapsed": false
   },
   "outputs": [
    {
     "name": "stdout",
     "output_type": "stream",
     "text": [
      "&quot; &amp; &nbsp;\n"
     ]
    }
   ],
   "source": [
    "print unicodedata.normalize('NFKD', unicode(y, 'utf-8', 'ignore'))"
   ]
  },
  {
   "cell_type": "code",
   "execution_count": 51,
   "metadata": {
    "collapsed": false
   },
   "outputs": [
    {
     "name": "stdout",
     "output_type": "stream",
     "text": [
      "&quot; &amp; &nbsp;\n"
     ]
    }
   ],
   "source": [
    "print unicodedata.normalize('NFKD', unicode(y, 'utf-8', 'ignore')).encode('ascii', 'ignore')"
   ]
  },
  {
   "cell_type": "code",
   "execution_count": 54,
   "metadata": {
    "collapsed": false
   },
   "outputs": [
    {
     "name": "stdout",
     "output_type": "stream",
     "text": [
      "\" & \n"
     ]
    }
   ],
   "source": [
    "print HTML_PARSER.unescape(unicodedata.normalize('NFKD', unicode(y, 'utf-8', 'ignore')).encode('ascii', 'ignore')).encode('ascii', 'ignore')"
   ]
  },
  {
   "cell_type": "code",
   "execution_count": 102,
   "metadata": {
    "collapsed": false
   },
   "outputs": [],
   "source": [
    "x = 'Cr\\xc3\\xa8me &amp; br\\xc3\\xbbl\\xc3\\xa9e'"
   ]
  },
  {
   "cell_type": "code",
   "execution_count": 29,
   "metadata": {
    "collapsed": false
   },
   "outputs": [
    {
     "name": "stdout",
     "output_type": "stream",
     "text": [
      "CrÃ ̈me &amp; brÃ»lÃ©e\n",
      "<class 'str'>\n",
      "CrA me &amp; brAlAe\n",
      "<class 'str'>\n",
      "CrA me & brAlAe\n"
     ]
    },
    {
     "name": "stderr",
     "output_type": "stream",
     "text": [
      "//anaconda/envs/datagene/lib/python3.5/site-packages/ipykernel/__main__.py:16: DeprecationWarning: The unescape method is deprecated and will be removed in 3.5, use html.unescape() instead.\n"
     ]
    }
   ],
   "source": [
    "x = 'Cr\\xc3\\xa8me &amp; br\\xc3\\xbbl\\xc3\\xa9e'\n",
    "\n",
    "# Convert titles into unicode\n",
    "# x = unicode(x, 'utf-8', 'ignore'); print (x)\n",
    "\n",
    "# Normalize unicode (errors may crop up if this is not done)\n",
    "x = unicodedata.normalize('NFKD', x)\n",
    "print (x)\n",
    "print (type(x))\n",
    "\n",
    "# Encode unicode into ascii\n",
    "x = str((x.encode('ascii', 'ignore')), 'utf-8'); print (x)\n",
    "print(type(x))\n",
    "\n",
    "# Parse html\n",
    "x = str(HTML_PARSER.unescape(x).encode('ascii', 'ignore'), 'utf-8'); print (x)"
   ]
  },
  {
   "cell_type": "code",
   "execution_count": 105,
   "metadata": {
    "collapsed": true
   },
   "outputs": [],
   "source": [
    "import nltk"
   ]
  },
  {
   "cell_type": "code",
   "execution_count": null,
   "metadata": {
    "collapsed": true
   },
   "outputs": [],
   "source": [
    "nltk.tokenize."
   ]
  }
 ],
 "metadata": {
  "anaconda-cloud": {},
  "kernelspec": {
   "display_name": "Python 3",
   "language": "python",
   "name": "python3"
  },
  "language_info": {
   "codemirror_mode": {
    "name": "ipython",
    "version": 3
   },
   "file_extension": ".py",
   "mimetype": "text/x-python",
   "name": "python",
   "nbconvert_exporter": "python",
   "pygments_lexer": "ipython3",
   "version": "3.5.2"
  }
 },
 "nbformat": 4,
 "nbformat_minor": 0
}

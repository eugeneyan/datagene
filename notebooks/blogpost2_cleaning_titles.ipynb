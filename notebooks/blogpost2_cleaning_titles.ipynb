{
 "cells": [
  {
   "cell_type": "code",
   "execution_count": 1,
   "metadata": {
    "collapsed": true
   },
   "outputs": [],
   "source": [
    "import pandas as pd\n",
    "import numpy as np\n",
    "import regex as re\n",
    "from nltk.corpus import stopwords\n",
    "import unicodedata\n",
    "import string\n",
    "import sys\n",
    "import os\n",
    "import matplotlib\n",
    "from HTMLParser import HTMLParser"
   ]
  },
  {
   "cell_type": "code",
   "execution_count": 3,
   "metadata": {
    "collapsed": true
   },
   "outputs": [],
   "source": [
    "# Initialize html parser\n",
    "HTML_PARSER = HTMLParser()"
   ]
  },
  {
   "cell_type": "code",
   "execution_count": 4,
   "metadata": {
    "collapsed": false
   },
   "outputs": [],
   "source": [
    "# Function to encode string\n",
    "def encode_string(title, parser=HTML_PARSER):\n",
    "    \"\"\" (str) -> str\n",
    "\n",
    "    Returns a string that is encoded as ascii\n",
    "    Note: While unicode(title, 'utf-8', 'ignore') seems to work correctly in doctest, it has led to errors in the past.\n",
    "    If so, use iso-8859-1.\n",
    "\n",
    "    :param title:\n",
    "    :return:\n",
    "\n",
    "    >>> encode_string('Crème brûlée')\n",
    "    'Creme brulee'\n",
    "    >>> encode_string('åöûëî')\n",
    "    'aouei'\n",
    "    >>> encode_string('Crème brûlée &quot; &amp; &nbsp;')\n",
    "    'Creme brulee \" & '\n",
    "    \"\"\"\n",
    "\n",
    "    try:\n",
    "        encoded_title = unicodedata.normalize('NFKD', unicode(title, 'utf-8', 'ignore')).encode('ascii', 'ignore')\n",
    "        encoded_title = parser.unescape(encoded_title).encode('ascii', 'ignore')\n",
    "    except TypeError:  # if title is missing and a float\n",
    "        encoded_title = 'NA'\n",
    "\n",
    "    return encoded_title"
   ]
  },
  {
   "cell_type": "code",
   "execution_count": 5,
   "metadata": {
    "collapsed": true
   },
   "outputs": [],
   "source": [
    "x = 'Crème brûlée'"
   ]
  },
  {
   "cell_type": "code",
   "execution_count": 19,
   "metadata": {
    "collapsed": false
   },
   "outputs": [
    {
     "name": "stdout",
     "output_type": "stream",
     "text": [
      "Crème brûlée\n"
     ]
    }
   ],
   "source": [
    "print x"
   ]
  },
  {
   "cell_type": "code",
   "execution_count": 9,
   "metadata": {
    "collapsed": false
   },
   "outputs": [
    {
     "name": "stdout",
     "output_type": "stream",
     "text": [
      "Crème brûlée\n"
     ]
    }
   ],
   "source": [
    "print unicode(x, 'utf-8', 'ignore')"
   ]
  },
  {
   "cell_type": "code",
   "execution_count": 21,
   "metadata": {
    "collapsed": false
   },
   "outputs": [
    {
     "name": "stdout",
     "output_type": "stream",
     "text": [
      "Crème brûlée\n"
     ]
    }
   ],
   "source": [
    "print unicodedata.normalize('NFKD', unicode(x, 'utf-8', 'ignore'))"
   ]
  },
  {
   "cell_type": "code",
   "execution_count": 50,
   "metadata": {
    "collapsed": false
   },
   "outputs": [
    {
     "name": "stdout",
     "output_type": "stream",
     "text": [
      "Creme brulee\n"
     ]
    }
   ],
   "source": [
    "print unicodedata.normalize('NFKD', unicode(x, 'utf-8', 'ignore')).encode('ascii', 'ignore')"
   ]
  },
  {
   "cell_type": "code",
   "execution_count": 43,
   "metadata": {
    "collapsed": false
   },
   "outputs": [],
   "source": [
    "y = '&quot; &amp; &nbsp;'"
   ]
  },
  {
   "cell_type": "code",
   "execution_count": 44,
   "metadata": {
    "collapsed": false
   },
   "outputs": [
    {
     "name": "stdout",
     "output_type": "stream",
     "text": [
      "&quot; &amp; &nbsp;\n"
     ]
    }
   ],
   "source": [
    "print y"
   ]
  },
  {
   "cell_type": "code",
   "execution_count": 45,
   "metadata": {
    "collapsed": false
   },
   "outputs": [
    {
     "name": "stdout",
     "output_type": "stream",
     "text": [
      "&quot; &amp; &nbsp;\n"
     ]
    }
   ],
   "source": [
    "print unicode(y, 'utf-8', 'ignore')"
   ]
  },
  {
   "cell_type": "code",
   "execution_count": 46,
   "metadata": {
    "collapsed": false
   },
   "outputs": [
    {
     "name": "stdout",
     "output_type": "stream",
     "text": [
      "&quot; &amp; &nbsp;\n"
     ]
    }
   ],
   "source": [
    "print unicodedata.normalize('NFKD', unicode(y, 'utf-8', 'ignore'))"
   ]
  },
  {
   "cell_type": "code",
   "execution_count": 51,
   "metadata": {
    "collapsed": false
   },
   "outputs": [
    {
     "name": "stdout",
     "output_type": "stream",
     "text": [
      "&quot; &amp; &nbsp;\n"
     ]
    }
   ],
   "source": [
    "print unicodedata.normalize('NFKD', unicode(y, 'utf-8', 'ignore')).encode('ascii', 'ignore')"
   ]
  },
  {
   "cell_type": "code",
   "execution_count": 54,
   "metadata": {
    "collapsed": false
   },
   "outputs": [
    {
     "name": "stdout",
     "output_type": "stream",
     "text": [
      "\" & \n"
     ]
    }
   ],
   "source": [
    "print HTML_PARSER.unescape(unicodedata.normalize('NFKD', unicode(y, 'utf-8', 'ignore')).encode('ascii', 'ignore')).encode('ascii', 'ignore')"
   ]
  },
  {
   "cell_type": "code",
   "execution_count": 102,
   "metadata": {
    "collapsed": false
   },
   "outputs": [],
   "source": [
    "x = 'Cr\\xc3\\xa8me &amp; br\\xc3\\xbbl\\xc3\\xa9e'"
   ]
  },
  {
   "cell_type": "code",
   "execution_count": 100,
   "metadata": {
    "collapsed": false
   },
   "outputs": [
    {
     "name": "stdout",
     "output_type": "stream",
     "text": [
      "Crème &amp; brûlée\n",
      "Crème &amp; brûlée\n",
      "Crème &amp; brûlée\n",
      "Creme &amp; brulee\n",
      "Creme & brulee\n"
     ]
    }
   ],
   "source": [
    "x = 'Cr\\xc3\\xa8me &amp; br\\xc3\\xbbl\\xc3\\xa9e'\n",
    "\n",
    "# Convert titles into unicode\n",
    "x = unicode(x, 'utf-8', 'ignore'); print x\n",
    "\n",
    "# Normalize unicode (errors may crop up if this is not done)\n",
    "x = unicodedata.normalize('NFKD', x); print x\n",
    "\n",
    "# Encode unicode into ascii\n",
    "x = x.encode('ascii', 'ignore'); print x\n",
    "\n",
    "# Parse html\n",
    "x = HTML_PARSER.unescape(z).encode('ascii', 'ignore'); print x"
   ]
  },
  {
   "cell_type": "code",
   "execution_count": 105,
   "metadata": {
    "collapsed": true
   },
   "outputs": [],
   "source": [
    "import nltk"
   ]
  },
  {
   "cell_type": "code",
   "execution_count": null,
   "metadata": {
    "collapsed": true
   },
   "outputs": [],
   "source": [
    "nltk.tokenize."
   ]
  }
 ],
 "metadata": {
  "kernelspec": {
   "display_name": "Python 2",
   "language": "python",
   "name": "python2"
  },
  "language_info": {
   "codemirror_mode": {
    "name": "ipython",
    "version": 2
   },
   "file_extension": ".py",
   "mimetype": "text/x-python",
   "name": "python",
   "nbconvert_exporter": "python",
   "pygments_lexer": "ipython2",
   "version": "2.7.10"
  }
 },
 "nbformat": 4,
 "nbformat_minor": 0
}

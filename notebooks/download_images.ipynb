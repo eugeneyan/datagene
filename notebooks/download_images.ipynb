{
 "cells": [
  {
   "cell_type": "code",
   "execution_count": 1,
   "metadata": {
    "collapsed": true
   },
   "outputs": [],
   "source": [
    "import pandas as pd\n",
    "import urllib\n",
    "import os\n",
    "import math\n",
    "import simplejson as json\n",
    "from logger import logger"
   ]
  },
  {
   "cell_type": "code",
   "execution_count": 5,
   "metadata": {
    "collapsed": false
   },
   "outputs": [],
   "source": [
    "pd.set_option('display.max_colwidth', 500)"
   ]
  },
  {
   "cell_type": "markdown",
   "metadata": {},
   "source": [
    "### Import metadata"
   ]
  },
  {
   "cell_type": "code",
   "execution_count": 61,
   "metadata": {
    "collapsed": true
   },
   "outputs": [],
   "source": [
    "df = pd.read_csv('../data/metadata.csv')"
   ]
  },
  {
   "cell_type": "code",
   "execution_count": 65,
   "metadata": {
    "collapsed": true
   },
   "outputs": [],
   "source": [
    "# Save image and category data\n",
    "# df = df[['asin', 'imUrl', 'categories']]\n",
    "# df.to_csv('../data/image_category.csv', index=False)"
   ]
  },
  {
   "cell_type": "markdown",
   "metadata": {},
   "source": [
    "### Prepare data"
   ]
  },
  {
   "cell_type": "code",
   "execution_count": 5,
   "metadata": {
    "collapsed": false
   },
   "outputs": [],
   "source": [
    "df = df[['asin', 'imUrl', 'categories']]"
   ]
  },
  {
   "cell_type": "code",
   "execution_count": 7,
   "metadata": {
    "collapsed": true
   },
   "outputs": [
    {
     "name": "stderr",
     "output_type": "stream",
     "text": [
      "/anaconda/lib/python2.7/site-packages/ipykernel/__main__.py:28: SettingWithCopyWarning: \n",
      "A value is trying to be set on a copy of a slice from a DataFrame.\n",
      "Try using .loc[row_indexer,col_indexer] = value instead\n",
      "\n",
      "See the caveats in the documentation: http://pandas.pydata.org/pandas-docs/stable/indexing.html#indexing-view-versus-copy\n"
     ]
    }
   ],
   "source": [
    "def get_category_path(category_path_list):\n",
    "    \"\"\"\n",
    "    (Str of list of list(s)) -> str\n",
    "\n",
    "    Returns the category path given a string of list of lists of \n",
    "    categories. If there are more than one list of categories provided, \n",
    "    returns the category path from the first list.\n",
    "\n",
    "    >>> get_category_path(\"[['A', 'B', 'C'], ['D', 'E', 'F', 'G']]\")\n",
    "    'A -> B -> C'\n",
    "    >>> get_category_path(\"[['P1', 'P2', 'P3', 'P4']]\")\n",
    "    'P1 -> P2 -> P3 -> P4'\n",
    "\n",
    "    :type category_path_list: str\n",
    "    :param category_path_list: A string containing a list of at least \n",
    "    one list of categories\n",
    "    :return: A string showing the full category path of the FIRST \n",
    "    category in the list (assumed to be primary category)\n",
    "    \"\"\"\n",
    "    try:\n",
    "        return ' -> '.join(eval(category_path_list)[0])\n",
    "    except IndexError: # Error if the outer list is empty\n",
    "        return 'no_category'\n",
    "    except TypeError: # Error if the outer list is missing\n",
    "        return 'no_category'"
   ]
  },
  {
   "cell_type": "code",
   "execution_count": 9,
   "metadata": {
    "collapsed": true
   },
   "outputs": [
    {
     "name": "stderr",
     "output_type": "stream",
     "text": [
      "/anaconda/lib/python2.7/site-packages/ipykernel/__main__.py:2: SettingWithCopyWarning: \n",
      "A value is trying to be set on a copy of a slice from a DataFrame.\n",
      "Try using .loc[row_indexer,col_indexer] = value instead\n",
      "\n",
      "See the caveats in the documentation: http://pandas.pydata.org/pandas-docs/stable/indexing.html#indexing-view-versus-copy\n",
      "  from ipykernel import kernelapp as app\n"
     ]
    }
   ],
   "source": [
    "# Create column for category path\n",
    "df['category_path'] = df['categories'].apply(get_category_path)"
   ]
  },
  {
   "cell_type": "code",
   "execution_count": 11,
   "metadata": {
    "collapsed": true
   },
   "outputs": [
    {
     "name": "stderr",
     "output_type": "stream",
     "text": [
      "/anaconda/lib/python2.7/site-packages/ipykernel/__main__.py:1: SettingWithCopyWarning: \n",
      "A value is trying to be set on a copy of a slice from a DataFrame\n",
      "\n",
      "See the caveats in the documentation: http://pandas.pydata.org/pandas-docs/stable/indexing.html#indexing-view-versus-copy\n",
      "  if __name__ == '__main__':\n"
     ]
    }
   ],
   "source": [
    "df.drop(labels='categories', axis=1, inplace=True)"
   ]
  },
  {
   "cell_type": "markdown",
   "metadata": {},
   "source": [
    "### Download images"
   ]
  },
  {
   "cell_type": "code",
   "execution_count": 59,
   "metadata": {
    "collapsed": true
   },
   "outputs": [],
   "source": [
    "def download_images(df, output_dir):\n",
    "    \"\"\"\n",
    "    (DataFrame) -> Images separated by categories into directories\n",
    "    \n",
    "    Downloads images from imUrl provided and saves them into directories \n",
    "    based on the product category.\n",
    "    \n",
    "    >>> download_images(df, output_dir):\n",
    "    INFO: 1,000 images downloaded\n",
    "    INFO: 2,000 images downloaded\n",
    "    ...\n",
    "    ...\n",
    "    ...\n",
    "    INFO: 20,000 images downloaded\n",
    "    INFO: Image downloads complete!\n",
    "    \n",
    "    :param df: Dataframe containing product ID (asin), image url (imUrl), and category (category_path)\n",
    "    :param output_dir: Directory path to where to store images (../data/images)\n",
    "    \"\"\"\n",
    "    for i, row in df.iterrows():\n",
    "        product_id = row['asin']\n",
    "        url = row['imUrl']\n",
    "        category_path = row['category_path']\n",
    "        logger.info('Category: {}, URL: {}'.format(category_path, url))\n",
    "        \n",
    "        dir_path = '{}/{}'.format(output_dir, category_path)\n",
    " \n",
    "        try: \n",
    "            urllib.urlretrieve(url, '{}/{}.jpg'.format(dir_path, product_id))\n",
    "        except IOError:  # If category_path directory has not been created yet\n",
    "            if not os.path.exists(dir_path):\n",
    "                os.makedirs(dir_path)\n",
    "            urllib.urlretrieve(url, '{}/{}.jpg'.format(dir_path, product_id))\n",
    "        except AttributeError:  # If url cannot be processed\n",
    "            continue\n",
    "            \n",
    "        if i % 10 == 0:\n",
    "            logger.info('{:,} images downloaded'.format(i))\n",
    "    \n",
    "    logger.info('Image downloads complete!')"
   ]
  },
  {
   "cell_type": "code",
   "execution_count": 60,
   "metadata": {
    "collapsed": false,
    "scrolled": true
   },
   "outputs": [
    {
     "name": "stderr",
     "output_type": "stream",
     "text": [
      "2016-10-14 15:21:27,176 - Category: Books, URL: http://ecx.images-amazon.com/images/I/51MKP0T4DBL.jpg\n",
      "INFO:__log__:Category: Books, URL: http://ecx.images-amazon.com/images/I/51MKP0T4DBL.jpg\n",
      "2016-10-14 15:21:27,447 - 0 images downloaded\n",
      "INFO:__log__:0 images downloaded\n",
      "2016-10-14 15:21:27,448 - Category: Movies & TV -> Movies, URL: http://g-ecx.images-amazon.com/images/G/01/x-site/icons/no-img-sm._CB192198896_.gif\n",
      "INFO:__log__:Category: Movies & TV -> Movies, URL: http://g-ecx.images-amazon.com/images/G/01/x-site/icons/no-img-sm._CB192198896_.gif\n",
      "2016-10-14 15:21:27,879 - Category: Clothing, Shoes & Jewelry -> Girls, URL: http://ecx.images-amazon.com/images/I/31mCncNuAZL.jpg\n",
      "INFO:__log__:Category: Clothing, Shoes & Jewelry -> Girls, URL: http://ecx.images-amazon.com/images/I/31mCncNuAZL.jpg\n",
      "2016-10-14 15:21:27,895 - Category: Sports & Outdoors -> Other Sports -> Dance -> Clothing -> Girls -> Skirts, URL: http://ecx.images-amazon.com/images/I/51EzU6quNML._SX342_.jpg\n",
      "INFO:__log__:Category: Sports & Outdoors -> Other Sports -> Dance -> Clothing -> Girls -> Skirts, URL: http://ecx.images-amazon.com/images/I/51EzU6quNML._SX342_.jpg\n",
      "2016-10-14 15:21:27,920 - Category: Sports & Outdoors -> Other Sports -> Dance, URL: http://ecx.images-amazon.com/images/I/41xBoP0FVzL._SY300_.jpg\n",
      "INFO:__log__:Category: Sports & Outdoors -> Other Sports -> Dance, URL: http://ecx.images-amazon.com/images/I/41xBoP0FVzL._SY300_.jpg\n",
      "2016-10-14 15:21:27,938 - Category: Sports & Outdoors -> Other Sports -> Dance -> Clothing -> Girls -> Skirts, URL: http://ecx.images-amazon.com/images/I/21GNUNIa1CL.jpg\n",
      "INFO:__log__:Category: Sports & Outdoors -> Other Sports -> Dance -> Clothing -> Girls -> Skirts, URL: http://ecx.images-amazon.com/images/I/21GNUNIa1CL.jpg\n",
      "2016-10-14 15:21:27,955 - Category: Movies & TV -> Movies, URL: http://ecx.images-amazon.com/images/I/519%2B1kseM3L._SY300_.jpg\n",
      "INFO:__log__:Category: Movies & TV -> Movies, URL: http://ecx.images-amazon.com/images/I/519%2B1kseM3L._SY300_.jpg\n",
      "2016-10-14 15:21:27,974 - Category: Books, URL: http://ecx.images-amazon.com/images/I/5166EBHDQYL.jpg\n",
      "INFO:__log__:Category: Books, URL: http://ecx.images-amazon.com/images/I/5166EBHDQYL.jpg\n",
      "2016-10-14 15:21:28,014 - Category: Sports & Outdoors -> Other Sports -> Dance, URL: http://ecx.images-amazon.com/images/I/51fAmVkTbyL._SY300_.jpg\n",
      "INFO:__log__:Category: Sports & Outdoors -> Other Sports -> Dance, URL: http://ecx.images-amazon.com/images/I/51fAmVkTbyL._SY300_.jpg\n",
      "2016-10-14 15:21:28,038 - Category: Books, URL: http://ecx.images-amazon.com/images/I/51DH145C5JL.jpg\n",
      "INFO:__log__:Category: Books, URL: http://ecx.images-amazon.com/images/I/51DH145C5JL.jpg\n",
      "2016-10-14 15:21:28,080 - Category: Books, URL: http://ecx.images-amazon.com/images/I/41bchvIfgaL.jpg\n",
      "INFO:__log__:Category: Books, URL: http://ecx.images-amazon.com/images/I/41bchvIfgaL.jpg\n",
      "2016-10-14 15:21:28,112 - 10 images downloaded\n",
      "INFO:__log__:10 images downloaded\n",
      "2016-10-14 15:21:28,114 - Category: Books, URL: http://ecx.images-amazon.com/images/I/61LcHUdvS1L.jpg\n",
      "INFO:__log__:Category: Books, URL: http://ecx.images-amazon.com/images/I/61LcHUdvS1L.jpg\n",
      "2016-10-14 15:21:28,181 - Category: Books, URL: http://ecx.images-amazon.com/images/I/41k5u0lr6NL.jpg\n",
      "INFO:__log__:Category: Books, URL: http://ecx.images-amazon.com/images/I/41k5u0lr6NL.jpg\n",
      "2016-10-14 15:21:28,219 - Category: Books, URL: http://ecx.images-amazon.com/images/I/41tN4KuOXkL.jpg\n",
      "INFO:__log__:Category: Books, URL: http://ecx.images-amazon.com/images/I/41tN4KuOXkL.jpg\n",
      "2016-10-14 15:21:28,240 - Category: Books, URL: http://ecx.images-amazon.com/images/I/51M65KR89XL.jpg\n",
      "INFO:__log__:Category: Books, URL: http://ecx.images-amazon.com/images/I/51M65KR89XL.jpg\n",
      "2016-10-14 15:21:28,270 - Category: Books, URL: http://ecx.images-amazon.com/images/I/51FWARNTHCL.jpg\n",
      "INFO:__log__:Category: Books, URL: http://ecx.images-amazon.com/images/I/51FWARNTHCL.jpg\n",
      "2016-10-14 15:21:28,299 - Category: Books, URL: http://ecx.images-amazon.com/images/I/51WTKK4V2DL.jpg\n",
      "INFO:__log__:Category: Books, URL: http://ecx.images-amazon.com/images/I/51WTKK4V2DL.jpg\n",
      "2016-10-14 15:21:28,368 - Category: Books, URL: http://ecx.images-amazon.com/images/I/7113akhDnTL.jpg\n",
      "INFO:__log__:Category: Books, URL: http://ecx.images-amazon.com/images/I/7113akhDnTL.jpg\n",
      "2016-10-14 15:21:28,453 - Category: Sports & Outdoors -> Other Sports -> Dance -> Clothing -> Girls -> Skirts, URL: http://ecx.images-amazon.com/images/I/41TxNYG8cwL._SX342_.jpg\n",
      "INFO:__log__:Category: Sports & Outdoors -> Other Sports -> Dance -> Clothing -> Girls -> Skirts, URL: http://ecx.images-amazon.com/images/I/41TxNYG8cwL._SX342_.jpg\n",
      "2016-10-14 15:21:28,472 - Category: Books, URL: http://ecx.images-amazon.com/images/I/51X8Z6CJ10L.jpg\n",
      "INFO:__log__:Category: Books, URL: http://ecx.images-amazon.com/images/I/51X8Z6CJ10L.jpg\n",
      "2016-10-14 15:21:28,509 - Category: Books, URL: http://ecx.images-amazon.com/images/I/712C-G3XiTL.jpg\n",
      "INFO:__log__:Category: Books, URL: http://ecx.images-amazon.com/images/I/712C-G3XiTL.jpg\n",
      "2016-10-14 15:21:28,598 - 20 images downloaded\n",
      "INFO:__log__:20 images downloaded\n",
      "2016-10-14 15:21:28,599 - Category: Books, URL: http://ecx.images-amazon.com/images/I/51ZSC6TKS3L.jpg\n",
      "INFO:__log__:Category: Books, URL: http://ecx.images-amazon.com/images/I/51ZSC6TKS3L.jpg\n",
      "2016-10-14 15:21:28,660 - Category: Books, URL: http://ecx.images-amazon.com/images/I/41bI6DhG7SL.jpg\n",
      "INFO:__log__:Category: Books, URL: http://ecx.images-amazon.com/images/I/41bI6DhG7SL.jpg\n",
      "2016-10-14 15:21:28,681 - Category: Books, URL: http://ecx.images-amazon.com/images/I/51ZSAPAXN4L.jpg\n",
      "INFO:__log__:Category: Books, URL: http://ecx.images-amazon.com/images/I/51ZSAPAXN4L.jpg\n",
      "2016-10-14 15:21:28,709 - Category: Books, URL: http://ecx.images-amazon.com/images/I/516Xv4rbRoL.jpg\n",
      "INFO:__log__:Category: Books, URL: http://ecx.images-amazon.com/images/I/516Xv4rbRoL.jpg\n",
      "2016-10-14 15:21:28,745 - Category: Books, URL: http://ecx.images-amazon.com/images/I/41K9BHNH7CL.jpg\n",
      "INFO:__log__:Category: Books, URL: http://ecx.images-amazon.com/images/I/41K9BHNH7CL.jpg\n",
      "2016-10-14 15:21:28,763 - Category: Books, URL: http://ecx.images-amazon.com/images/I/51HK6S3HJNL.jpg\n",
      "INFO:__log__:Category: Books, URL: http://ecx.images-amazon.com/images/I/51HK6S3HJNL.jpg\n",
      "2016-10-14 15:21:28,808 - Category: Books, URL: http://ecx.images-amazon.com/images/I/41K1RtF0J0L.jpg\n",
      "INFO:__log__:Category: Books, URL: http://ecx.images-amazon.com/images/I/41K1RtF0J0L.jpg\n",
      "2016-10-14 15:21:28,860 - Category: Movies & TV -> Movies, URL: http://g-ecx.images-amazon.com/images/G/01/x-site/icons/no-img-sm._CB192198896_.gif\n",
      "INFO:__log__:Category: Movies & TV -> Movies, URL: http://g-ecx.images-amazon.com/images/G/01/x-site/icons/no-img-sm._CB192198896_.gif\n",
      "2016-10-14 15:21:28,877 - Category: Books, URL: http://ecx.images-amazon.com/images/I/41C0C3DKRWL.jpg\n",
      "INFO:__log__:Category: Books, URL: http://ecx.images-amazon.com/images/I/41C0C3DKRWL.jpg\n",
      "2016-10-14 15:21:28,900 - Category: Books, URL: http://ecx.images-amazon.com/images/I/514Y3NCWBTL.jpg\n",
      "INFO:__log__:Category: Books, URL: http://ecx.images-amazon.com/images/I/514Y3NCWBTL.jpg\n",
      "2016-10-14 15:21:28,958 - 30 images downloaded\n",
      "INFO:__log__:30 images downloaded\n",
      "2016-10-14 15:21:28,961 - Category: Books, URL: http://ecx.images-amazon.com/images/I/51x9TcnJXiL._SL500_.jpg\n",
      "INFO:__log__:Category: Books, URL: http://ecx.images-amazon.com/images/I/51x9TcnJXiL._SL500_.jpg\n",
      "2016-10-14 15:21:28,993 - Category: Books, URL: http://ecx.images-amazon.com/images/I/41oE0tqP3zL.jpg\n",
      "INFO:__log__:Category: Books, URL: http://ecx.images-amazon.com/images/I/41oE0tqP3zL.jpg\n",
      "2016-10-14 15:21:29,014 - Category: Books, URL: http://ecx.images-amazon.com/images/I/61Y8fD-3reL.jpg\n",
      "INFO:__log__:Category: Books, URL: http://ecx.images-amazon.com/images/I/61Y8fD-3reL.jpg\n",
      "2016-10-14 15:21:29,128 - Category: Movies & TV -> Movies, URL: http://ecx.images-amazon.com/images/I/41WY47gLVtL.jpg\n",
      "INFO:__log__:Category: Movies & TV -> Movies, URL: http://ecx.images-amazon.com/images/I/41WY47gLVtL.jpg\n",
      "2016-10-14 15:21:29,161 - Category: Books, URL: nan\n",
      "INFO:__log__:Category: Books, URL: nan\n",
      "2016-10-14 15:21:29,163 - Category: Movies & TV -> Movies, URL: http://ecx.images-amazon.com/images/I/51QY79CDfjL._SY300_.jpg\n",
      "INFO:__log__:Category: Movies & TV -> Movies, URL: http://ecx.images-amazon.com/images/I/51QY79CDfjL._SY300_.jpg\n",
      "2016-10-14 15:21:29,524 - Category: Books, URL: http://ecx.images-amazon.com/images/I/51ky-L29jTL.jpg\n",
      "INFO:__log__:Category: Books, URL: http://ecx.images-amazon.com/images/I/51ky-L29jTL.jpg\n",
      "2016-10-14 15:21:30,185 - Category: Books, URL: http://ecx.images-amazon.com/images/I/51PA8hajWWL._SL500_.jpg\n",
      "INFO:__log__:Category: Books, URL: http://ecx.images-amazon.com/images/I/51PA8hajWWL._SL500_.jpg\n",
      "2016-10-14 15:21:30,789 - Category: Books, URL: http://ecx.images-amazon.com/images/I/51P6XDFRVKL.jpg\n",
      "INFO:__log__:Category: Books, URL: http://ecx.images-amazon.com/images/I/51P6XDFRVKL.jpg\n",
      "2016-10-14 15:21:31,424 - Category: Books, URL: http://ecx.images-amazon.com/images/I/A1%2B%2BKHnzuVL.jpg\n",
      "INFO:__log__:Category: Books, URL: http://ecx.images-amazon.com/images/I/A1%2B%2BKHnzuVL.jpg\n",
      "2016-10-14 15:21:32,844 - 40 images downloaded\n",
      "INFO:__log__:40 images downloaded\n",
      "2016-10-14 15:21:32,845 - Category: Books, URL: http://ecx.images-amazon.com/images/I/516TRJBF9XL.jpg\n",
      "INFO:__log__:Category: Books, URL: http://ecx.images-amazon.com/images/I/516TRJBF9XL.jpg\n",
      "2016-10-14 15:21:33,459 - Category: Books, URL: http://ecx.images-amazon.com/images/I/81VxVmFrJaL.jpg\n",
      "INFO:__log__:Category: Books, URL: http://ecx.images-amazon.com/images/I/81VxVmFrJaL.jpg\n",
      "2016-10-14 15:21:34,409 - Category: Books, URL: http://ecx.images-amazon.com/images/I/71eeMmDZhTL.jpg\n",
      "INFO:__log__:Category: Books, URL: http://ecx.images-amazon.com/images/I/71eeMmDZhTL.jpg\n",
      "2016-10-14 15:21:35,041 - Category: Clothing, Shoes & Jewelry -> Girls -> Clothing -> Active -> Active Skirts, URL: http://ecx.images-amazon.com/images/I/314qZjYevsL.jpg\n",
      "INFO:__log__:Category: Clothing, Shoes & Jewelry -> Girls -> Clothing -> Active -> Active Skirts, URL: http://ecx.images-amazon.com/images/I/314qZjYevsL.jpg\n",
      "2016-10-14 15:21:35,362 - Category: Movies & TV -> Movies, URL: http://ecx.images-amazon.com/images/I/51NQ%2B7AMXpL._SY300_.jpg\n",
      "INFO:__log__:Category: Movies & TV -> Movies, URL: http://ecx.images-amazon.com/images/I/51NQ%2B7AMXpL._SY300_.jpg\n",
      "2016-10-14 15:21:35,662 - Category: Books, URL: http://ecx.images-amazon.com/images/I/71Yc3Bep7VL.jpg\n",
      "INFO:__log__:Category: Books, URL: http://ecx.images-amazon.com/images/I/71Yc3Bep7VL.jpg\n",
      "2016-10-14 15:21:36,351 - Category: Books, URL: http://ecx.images-amazon.com/images/I/512M299KGAL.jpg\n",
      "INFO:__log__:Category: Books, URL: http://ecx.images-amazon.com/images/I/512M299KGAL.jpg\n",
      "2016-10-14 15:21:36,660 - Category: Books, URL: http://ecx.images-amazon.com/images/I/71zWyybZsqL.jpg\n",
      "INFO:__log__:Category: Books, URL: http://ecx.images-amazon.com/images/I/71zWyybZsqL.jpg\n",
      "2016-10-14 15:21:37,452 - Category: Books, URL: http://ecx.images-amazon.com/images/I/81SL54R-Q0L.jpg\n",
      "INFO:__log__:Category: Books, URL: http://ecx.images-amazon.com/images/I/81SL54R-Q0L.jpg\n",
      "2016-10-14 15:21:39,182 - Category: Toys & Games -> Puzzles -> Jigsaw Puzzles, URL: http://ecx.images-amazon.com/images/I/414PLROXy-L._SY300_.jpg\n",
      "INFO:__log__:Category: Toys & Games -> Puzzles -> Jigsaw Puzzles, URL: http://ecx.images-amazon.com/images/I/414PLROXy-L._SY300_.jpg\n",
      "2016-10-14 15:21:39,618 - 50 images downloaded\n",
      "INFO:__log__:50 images downloaded\n",
      "2016-10-14 15:21:39,620 - Category: Books, URL: http://ecx.images-amazon.com/images/I/218uMkP0QhL.jpg\n",
      "INFO:__log__:Category: Books, URL: http://ecx.images-amazon.com/images/I/218uMkP0QhL.jpg\n",
      "2016-10-14 15:21:39,971 - Category: Books, URL: http://ecx.images-amazon.com/images/I/51t2n4sLtPL.jpg\n",
      "INFO:__log__:Category: Books, URL: http://ecx.images-amazon.com/images/I/51t2n4sLtPL.jpg\n",
      "2016-10-14 15:21:42,151 - Category: Sports & Outdoors -> Other Sports -> Dance, URL: http://ecx.images-amazon.com/images/I/41Csjlr%2BxpL._SY300_.jpg\n",
      "INFO:__log__:Category: Sports & Outdoors -> Other Sports -> Dance, URL: http://ecx.images-amazon.com/images/I/41Csjlr%2BxpL._SY300_.jpg\n",
      "2016-10-14 15:21:42,516 - Category: Books, URL: http://ecx.images-amazon.com/images/I/51mBWBUNljL.jpg\n",
      "INFO:__log__:Category: Books, URL: http://ecx.images-amazon.com/images/I/51mBWBUNljL.jpg\n",
      "2016-10-14 15:21:42,886 - Category: Books, URL: http://ecx.images-amazon.com/images/I/A1wv9mXUbcL.jpg\n",
      "INFO:__log__:Category: Books, URL: http://ecx.images-amazon.com/images/I/A1wv9mXUbcL.jpg\n",
      "2016-10-14 15:21:47,606 - Category: Books, URL: http://ecx.images-amazon.com/images/I/31%2BHg%2Bum5uL.jpg\n",
      "INFO:__log__:Category: Books, URL: http://ecx.images-amazon.com/images/I/31%2BHg%2Bum5uL.jpg\n",
      "2016-10-14 15:21:48,322 - Category: Books, URL: http://ecx.images-amazon.com/images/I/51SC9FWR8RL.jpg\n",
      "INFO:__log__:Category: Books, URL: http://ecx.images-amazon.com/images/I/51SC9FWR8RL.jpg\n",
      "2016-10-14 15:21:48,901 - Category: Books, URL: http://ecx.images-amazon.com/images/I/51Rbg%2BCYkIL.jpg\n",
      "INFO:__log__:Category: Books, URL: http://ecx.images-amazon.com/images/I/51Rbg%2BCYkIL.jpg\n",
      "2016-10-14 15:21:49,271 - Category: Books, URL: http://ecx.images-amazon.com/images/I/51M1p2doKXL.jpg\n",
      "INFO:__log__:Category: Books, URL: http://ecx.images-amazon.com/images/I/51M1p2doKXL.jpg\n",
      "2016-10-14 15:21:49,687 - Category: Books, URL: nan\n",
      "INFO:__log__:Category: Books, URL: nan\n",
      "2016-10-14 15:21:49,689 - Category: Books, URL: http://ecx.images-amazon.com/images/I/61aFyTenvgL._SL500_.jpg\n",
      "INFO:__log__:Category: Books, URL: http://ecx.images-amazon.com/images/I/61aFyTenvgL._SL500_.jpg\n",
      "2016-10-14 15:21:50,354 - Category: Books, URL: http://ecx.images-amazon.com/images/I/51SNaJTxgvL.jpg\n",
      "INFO:__log__:Category: Books, URL: http://ecx.images-amazon.com/images/I/51SNaJTxgvL.jpg\n",
      "2016-10-14 15:21:50,708 - Category: Books, URL: http://ecx.images-amazon.com/images/I/41SGKNED4QL.jpg\n",
      "INFO:__log__:Category: Books, URL: http://ecx.images-amazon.com/images/I/41SGKNED4QL.jpg\n",
      "2016-10-14 15:21:51,060 - Category: Books, URL: http://ecx.images-amazon.com/images/I/51J29R9ZAJL.jpg\n",
      "INFO:__log__:Category: Books, URL: http://ecx.images-amazon.com/images/I/51J29R9ZAJL.jpg\n",
      "2016-10-14 15:21:51,996 - Category: Movies & TV -> Movies, URL: http://ecx.images-amazon.com/images/I/51-qpMfgseL._SY300_.jpg\n",
      "INFO:__log__:Category: Movies & TV -> Movies, URL: http://ecx.images-amazon.com/images/I/51-qpMfgseL._SY300_.jpg\n",
      "2016-10-14 15:21:52,369 - Category: Movies & TV -> Movies, URL: http://ecx.images-amazon.com/images/I/51T8Q9BG42L._SY300_.jpg\n",
      "INFO:__log__:Category: Movies & TV -> Movies, URL: http://ecx.images-amazon.com/images/I/51T8Q9BG42L._SY300_.jpg\n",
      "2016-10-14 15:21:52,711 - Category: Books, URL: http://ecx.images-amazon.com/images/I/51A4zWHY4QL.jpg\n",
      "INFO:__log__:Category: Books, URL: http://ecx.images-amazon.com/images/I/51A4zWHY4QL.jpg\n",
      "2016-10-14 15:21:53,060 - Category: Books, URL: http://ecx.images-amazon.com/images/I/A1JR4vuuVuL.jpg\n",
      "INFO:__log__:Category: Books, URL: http://ecx.images-amazon.com/images/I/A1JR4vuuVuL.jpg\n",
      "2016-10-14 15:21:55,122 - Category: Books, URL: http://ecx.images-amazon.com/images/I/51ZGRV5J5QL.jpg\n",
      "INFO:__log__:Category: Books, URL: http://ecx.images-amazon.com/images/I/51ZGRV5J5QL.jpg\n",
      "2016-10-14 15:21:55,493 - Category: Books, URL: http://ecx.images-amazon.com/images/I/41I51DIkA5L.jpg\n",
      "INFO:__log__:Category: Books, URL: http://ecx.images-amazon.com/images/I/41I51DIkA5L.jpg\n",
      "2016-10-14 15:21:55,821 - 70 images downloaded\n",
      "INFO:__log__:70 images downloaded\n",
      "2016-10-14 15:21:55,823 - Category: Books, URL: http://ecx.images-amazon.com/images/I/21WbLCEAWwL.jpg\n",
      "INFO:__log__:Category: Books, URL: http://ecx.images-amazon.com/images/I/21WbLCEAWwL.jpg\n",
      "2016-10-14 15:21:56,273 - Category: Books, URL: http://ecx.images-amazon.com/images/I/510AQCZVBGL.jpg\n",
      "INFO:__log__:Category: Books, URL: http://ecx.images-amazon.com/images/I/510AQCZVBGL.jpg\n",
      "2016-10-14 15:21:57,657 - Category: Movies & TV -> Movies, URL: http://ecx.images-amazon.com/images/I/51RTA77RZXL._SY300_.jpg\n",
      "INFO:__log__:Category: Movies & TV -> Movies, URL: http://ecx.images-amazon.com/images/I/51RTA77RZXL._SY300_.jpg\n",
      "2016-10-14 15:21:57,996 - Category: Books, URL: http://ecx.images-amazon.com/images/I/51FM1XYWQVL.jpg\n",
      "INFO:__log__:Category: Books, URL: http://ecx.images-amazon.com/images/I/51FM1XYWQVL.jpg\n",
      "2016-10-14 15:21:58,341 - Category: Books, URL: http://ecx.images-amazon.com/images/I/51ZTHY6ENTL.jpg\n",
      "INFO:__log__:Category: Books, URL: http://ecx.images-amazon.com/images/I/51ZTHY6ENTL.jpg\n",
      "2016-10-14 15:21:59,003 - Category: Books, URL: http://ecx.images-amazon.com/images/I/31hjUxZugDL.jpg\n",
      "INFO:__log__:Category: Books, URL: http://ecx.images-amazon.com/images/I/31hjUxZugDL.jpg\n",
      "2016-10-14 15:21:59,309 - Category: Books, URL: http://ecx.images-amazon.com/images/I/414KH1FPH9L.jpg\n",
      "INFO:__log__:Category: Books, URL: http://ecx.images-amazon.com/images/I/414KH1FPH9L.jpg\n",
      "2016-10-14 15:21:59,764 - Category: Books, URL: http://ecx.images-amazon.com/images/I/51Q7XxU5OBL.jpg\n",
      "INFO:__log__:Category: Books, URL: http://ecx.images-amazon.com/images/I/51Q7XxU5OBL.jpg\n",
      "2016-10-14 15:22:00,148 - Category: Books, URL: http://ecx.images-amazon.com/images/I/913JcEhB6wL.jpg\n",
      "INFO:__log__:Category: Books, URL: http://ecx.images-amazon.com/images/I/913JcEhB6wL.jpg\n",
      "2016-10-14 15:22:02,347 - Category: Books, URL: http://ecx.images-amazon.com/images/I/517N5AQ9E7L.jpg\n",
      "INFO:__log__:Category: Books, URL: http://ecx.images-amazon.com/images/I/517N5AQ9E7L.jpg\n",
      "2016-10-14 15:22:02,728 - 80 images downloaded\n",
      "INFO:__log__:80 images downloaded\n",
      "2016-10-14 15:22:02,729 - Category: Books, URL: http://ecx.images-amazon.com/images/I/81ZKLPivYUL.jpg\n",
      "INFO:__log__:Category: Books, URL: http://ecx.images-amazon.com/images/I/81ZKLPivYUL.jpg\n",
      "2016-10-14 15:22:03,479 - Category: Books, URL: http://ecx.images-amazon.com/images/I/6103qtYQ5FL._SL500_.jpg\n",
      "INFO:__log__:Category: Books, URL: http://ecx.images-amazon.com/images/I/6103qtYQ5FL._SL500_.jpg\n",
      "2016-10-14 15:22:03,894 - Category: Books, URL: http://ecx.images-amazon.com/images/I/61KPC59B81L.jpg\n",
      "INFO:__log__:Category: Books, URL: http://ecx.images-amazon.com/images/I/61KPC59B81L.jpg\n",
      "2016-10-14 15:22:04,818 - Category: Books, URL: http://ecx.images-amazon.com/images/I/41P1Pouu-9L.jpg\n",
      "INFO:__log__:Category: Books, URL: http://ecx.images-amazon.com/images/I/41P1Pouu-9L.jpg\n",
      "2016-10-14 15:22:05,132 - Category: Books, URL: http://ecx.images-amazon.com/images/I/81ayhE3K30L.jpg\n",
      "INFO:__log__:Category: Books, URL: http://ecx.images-amazon.com/images/I/81ayhE3K30L.jpg\n",
      "2016-10-14 15:22:06,578 - Category: Books, URL: http://ecx.images-amazon.com/images/I/51lITheXdiL.jpg\n",
      "INFO:__log__:Category: Books, URL: http://ecx.images-amazon.com/images/I/51lITheXdiL.jpg\n",
      "2016-10-14 15:22:07,213 - Category: Books, URL: http://ecx.images-amazon.com/images/I/51TZQYZDJ9L.jpg\n",
      "INFO:__log__:Category: Books, URL: http://ecx.images-amazon.com/images/I/51TZQYZDJ9L.jpg\n",
      "2016-10-14 15:22:08,102 - Category: Books, URL: http://ecx.images-amazon.com/images/I/51RA5485J4L.jpg\n",
      "INFO:__log__:Category: Books, URL: http://ecx.images-amazon.com/images/I/51RA5485J4L.jpg\n",
      "2016-10-14 15:22:08,473 - Category: Books, URL: http://ecx.images-amazon.com/images/I/51FKWNPBRPL.jpg\n",
      "INFO:__log__:Category: Books, URL: http://ecx.images-amazon.com/images/I/51FKWNPBRPL.jpg\n",
      "2016-10-14 15:22:08,823 - Category: Books, URL: http://ecx.images-amazon.com/images/I/41KAlz21cRL.jpg\n",
      "INFO:__log__:Category: Books, URL: http://ecx.images-amazon.com/images/I/41KAlz21cRL.jpg\n",
      "2016-10-14 15:22:09,194 - 90 images downloaded\n",
      "INFO:__log__:90 images downloaded\n",
      "2016-10-14 15:22:09,195 - Category: Movies & TV -> Movies, URL: http://g-ecx.images-amazon.com/images/G/01/x-site/icons/no-img-sm._CB192198896_.gif\n",
      "INFO:__log__:Category: Movies & TV -> Movies, URL: http://g-ecx.images-amazon.com/images/G/01/x-site/icons/no-img-sm._CB192198896_.gif\n",
      "2016-10-14 15:22:09,212 - Category: Books, URL: http://ecx.images-amazon.com/images/I/91LasvmncIL.jpg\n",
      "INFO:__log__:Category: Books, URL: http://ecx.images-amazon.com/images/I/91LasvmncIL.jpg\n",
      "2016-10-14 15:22:11,642 - Category: Books, URL: http://ecx.images-amazon.com/images/I/61qIWAs9HxL.jpg\n",
      "INFO:__log__:Category: Books, URL: http://ecx.images-amazon.com/images/I/61qIWAs9HxL.jpg\n"
     ]
    },
    {
     "ename": "KeyboardInterrupt",
     "evalue": "",
     "output_type": "error",
     "traceback": [
      "\u001b[0;31m---------------------------------------------------------------------------\u001b[0m",
      "\u001b[0;31mKeyboardInterrupt\u001b[0m                         Traceback (most recent call last)",
      "\u001b[0;32m<ipython-input-60-d319f146ab17>\u001b[0m in \u001b[0;36m<module>\u001b[0;34m()\u001b[0m\n\u001b[0;32m----> 1\u001b[0;31m \u001b[0mdownload_images\u001b[0m\u001b[0;34m(\u001b[0m\u001b[0mdf\u001b[0m\u001b[0;34m,\u001b[0m \u001b[0;34m'../data/images'\u001b[0m\u001b[0;34m)\u001b[0m\u001b[0;34m\u001b[0m\u001b[0m\n\u001b[0m",
      "\u001b[0;32m<ipython-input-59-c4e81b2e70a7>\u001b[0m in \u001b[0;36mdownload_images\u001b[0;34m(df, output_dir)\u001b[0m\n\u001b[1;32m     27\u001b[0m \u001b[0;34m\u001b[0m\u001b[0m\n\u001b[1;32m     28\u001b[0m         \u001b[0;32mtry\u001b[0m\u001b[0;34m:\u001b[0m\u001b[0;34m\u001b[0m\u001b[0m\n\u001b[0;32m---> 29\u001b[0;31m             \u001b[0murllib\u001b[0m\u001b[0;34m.\u001b[0m\u001b[0murlretrieve\u001b[0m\u001b[0;34m(\u001b[0m\u001b[0murl\u001b[0m\u001b[0;34m,\u001b[0m \u001b[0;34m'{}/{}.jpg'\u001b[0m\u001b[0;34m.\u001b[0m\u001b[0mformat\u001b[0m\u001b[0;34m(\u001b[0m\u001b[0mdir_path\u001b[0m\u001b[0;34m,\u001b[0m \u001b[0mproduct_id\u001b[0m\u001b[0;34m)\u001b[0m\u001b[0;34m)\u001b[0m\u001b[0;34m\u001b[0m\u001b[0m\n\u001b[0m\u001b[1;32m     30\u001b[0m         \u001b[0;32mexcept\u001b[0m \u001b[0mIOError\u001b[0m\u001b[0;34m:\u001b[0m  \u001b[0;31m# If category_path directory has not been created yet\u001b[0m\u001b[0;34m\u001b[0m\u001b[0m\n\u001b[1;32m     31\u001b[0m             \u001b[0;32mif\u001b[0m \u001b[0;32mnot\u001b[0m \u001b[0mos\u001b[0m\u001b[0;34m.\u001b[0m\u001b[0mpath\u001b[0m\u001b[0;34m.\u001b[0m\u001b[0mexists\u001b[0m\u001b[0;34m(\u001b[0m\u001b[0mdir_path\u001b[0m\u001b[0;34m)\u001b[0m\u001b[0;34m:\u001b[0m\u001b[0;34m\u001b[0m\u001b[0m\n",
      "\u001b[0;32m//anaconda/lib/python2.7/urllib.pyc\u001b[0m in \u001b[0;36murlretrieve\u001b[0;34m(url, filename, reporthook, data, context)\u001b[0m\n\u001b[1;32m     96\u001b[0m     \u001b[0;32melse\u001b[0m\u001b[0;34m:\u001b[0m\u001b[0;34m\u001b[0m\u001b[0m\n\u001b[1;32m     97\u001b[0m         \u001b[0mopener\u001b[0m \u001b[0;34m=\u001b[0m \u001b[0m_urlopener\u001b[0m\u001b[0;34m\u001b[0m\u001b[0m\n\u001b[0;32m---> 98\u001b[0;31m     \u001b[0;32mreturn\u001b[0m \u001b[0mopener\u001b[0m\u001b[0;34m.\u001b[0m\u001b[0mretrieve\u001b[0m\u001b[0;34m(\u001b[0m\u001b[0murl\u001b[0m\u001b[0;34m,\u001b[0m \u001b[0mfilename\u001b[0m\u001b[0;34m,\u001b[0m \u001b[0mreporthook\u001b[0m\u001b[0;34m,\u001b[0m \u001b[0mdata\u001b[0m\u001b[0;34m)\u001b[0m\u001b[0;34m\u001b[0m\u001b[0m\n\u001b[0m\u001b[1;32m     99\u001b[0m \u001b[0;32mdef\u001b[0m \u001b[0murlcleanup\u001b[0m\u001b[0;34m(\u001b[0m\u001b[0;34m)\u001b[0m\u001b[0;34m:\u001b[0m\u001b[0;34m\u001b[0m\u001b[0m\n\u001b[1;32m    100\u001b[0m     \u001b[0;32mif\u001b[0m \u001b[0m_urlopener\u001b[0m\u001b[0;34m:\u001b[0m\u001b[0;34m\u001b[0m\u001b[0m\n",
      "\u001b[0;32m//anaconda/lib/python2.7/urllib.pyc\u001b[0m in \u001b[0;36mretrieve\u001b[0;34m(self, url, filename, reporthook, data)\u001b[0m\n\u001b[1;32m    243\u001b[0m             \u001b[0;32mexcept\u001b[0m \u001b[0mIOError\u001b[0m\u001b[0;34m:\u001b[0m\u001b[0;34m\u001b[0m\u001b[0m\n\u001b[1;32m    244\u001b[0m                 \u001b[0;32mpass\u001b[0m\u001b[0;34m\u001b[0m\u001b[0m\n\u001b[0;32m--> 245\u001b[0;31m         \u001b[0mfp\u001b[0m \u001b[0;34m=\u001b[0m \u001b[0mself\u001b[0m\u001b[0;34m.\u001b[0m\u001b[0mopen\u001b[0m\u001b[0;34m(\u001b[0m\u001b[0murl\u001b[0m\u001b[0;34m,\u001b[0m \u001b[0mdata\u001b[0m\u001b[0;34m)\u001b[0m\u001b[0;34m\u001b[0m\u001b[0m\n\u001b[0m\u001b[1;32m    246\u001b[0m         \u001b[0;32mtry\u001b[0m\u001b[0;34m:\u001b[0m\u001b[0;34m\u001b[0m\u001b[0m\n\u001b[1;32m    247\u001b[0m             \u001b[0mheaders\u001b[0m \u001b[0;34m=\u001b[0m \u001b[0mfp\u001b[0m\u001b[0;34m.\u001b[0m\u001b[0minfo\u001b[0m\u001b[0;34m(\u001b[0m\u001b[0;34m)\u001b[0m\u001b[0;34m\u001b[0m\u001b[0m\n",
      "\u001b[0;32m//anaconda/lib/python2.7/urllib.pyc\u001b[0m in \u001b[0;36mopen\u001b[0;34m(self, fullurl, data)\u001b[0m\n\u001b[1;32m    211\u001b[0m         \u001b[0;32mtry\u001b[0m\u001b[0;34m:\u001b[0m\u001b[0;34m\u001b[0m\u001b[0m\n\u001b[1;32m    212\u001b[0m             \u001b[0;32mif\u001b[0m \u001b[0mdata\u001b[0m \u001b[0;32mis\u001b[0m \u001b[0mNone\u001b[0m\u001b[0;34m:\u001b[0m\u001b[0;34m\u001b[0m\u001b[0m\n\u001b[0;32m--> 213\u001b[0;31m                 \u001b[0;32mreturn\u001b[0m \u001b[0mgetattr\u001b[0m\u001b[0;34m(\u001b[0m\u001b[0mself\u001b[0m\u001b[0;34m,\u001b[0m \u001b[0mname\u001b[0m\u001b[0;34m)\u001b[0m\u001b[0;34m(\u001b[0m\u001b[0murl\u001b[0m\u001b[0;34m)\u001b[0m\u001b[0;34m\u001b[0m\u001b[0m\n\u001b[0m\u001b[1;32m    214\u001b[0m             \u001b[0;32melse\u001b[0m\u001b[0;34m:\u001b[0m\u001b[0;34m\u001b[0m\u001b[0m\n\u001b[1;32m    215\u001b[0m                 \u001b[0;32mreturn\u001b[0m \u001b[0mgetattr\u001b[0m\u001b[0;34m(\u001b[0m\u001b[0mself\u001b[0m\u001b[0;34m,\u001b[0m \u001b[0mname\u001b[0m\u001b[0;34m)\u001b[0m\u001b[0;34m(\u001b[0m\u001b[0murl\u001b[0m\u001b[0;34m,\u001b[0m \u001b[0mdata\u001b[0m\u001b[0;34m)\u001b[0m\u001b[0;34m\u001b[0m\u001b[0m\n",
      "\u001b[0;32m//anaconda/lib/python2.7/urllib.pyc\u001b[0m in \u001b[0;36mopen_http\u001b[0;34m(self, url, data)\u001b[0m\n\u001b[1;32m    349\u001b[0m         \u001b[0;32mfor\u001b[0m \u001b[0margs\u001b[0m \u001b[0;32min\u001b[0m \u001b[0mself\u001b[0m\u001b[0;34m.\u001b[0m\u001b[0maddheaders\u001b[0m\u001b[0;34m:\u001b[0m \u001b[0mh\u001b[0m\u001b[0;34m.\u001b[0m\u001b[0mputheader\u001b[0m\u001b[0;34m(\u001b[0m\u001b[0;34m*\u001b[0m\u001b[0margs\u001b[0m\u001b[0;34m)\u001b[0m\u001b[0;34m\u001b[0m\u001b[0m\n\u001b[1;32m    350\u001b[0m         \u001b[0mh\u001b[0m\u001b[0;34m.\u001b[0m\u001b[0mendheaders\u001b[0m\u001b[0;34m(\u001b[0m\u001b[0mdata\u001b[0m\u001b[0;34m)\u001b[0m\u001b[0;34m\u001b[0m\u001b[0m\n\u001b[0;32m--> 351\u001b[0;31m         \u001b[0merrcode\u001b[0m\u001b[0;34m,\u001b[0m \u001b[0merrmsg\u001b[0m\u001b[0;34m,\u001b[0m \u001b[0mheaders\u001b[0m \u001b[0;34m=\u001b[0m \u001b[0mh\u001b[0m\u001b[0;34m.\u001b[0m\u001b[0mgetreply\u001b[0m\u001b[0;34m(\u001b[0m\u001b[0;34m)\u001b[0m\u001b[0;34m\u001b[0m\u001b[0m\n\u001b[0m\u001b[1;32m    352\u001b[0m         \u001b[0mfp\u001b[0m \u001b[0;34m=\u001b[0m \u001b[0mh\u001b[0m\u001b[0;34m.\u001b[0m\u001b[0mgetfile\u001b[0m\u001b[0;34m(\u001b[0m\u001b[0;34m)\u001b[0m\u001b[0;34m\u001b[0m\u001b[0m\n\u001b[1;32m    353\u001b[0m         \u001b[0;32mif\u001b[0m \u001b[0merrcode\u001b[0m \u001b[0;34m==\u001b[0m \u001b[0;34m-\u001b[0m\u001b[0;36m1\u001b[0m\u001b[0;34m:\u001b[0m\u001b[0;34m\u001b[0m\u001b[0m\n",
      "\u001b[0;32m//anaconda/lib/python2.7/httplib.pyc\u001b[0m in \u001b[0;36mgetreply\u001b[0;34m(self, buffering)\u001b[0m\n\u001b[1;32m   1205\u001b[0m         \u001b[0;32mtry\u001b[0m\u001b[0;34m:\u001b[0m\u001b[0;34m\u001b[0m\u001b[0m\n\u001b[1;32m   1206\u001b[0m             \u001b[0;32mif\u001b[0m \u001b[0;32mnot\u001b[0m \u001b[0mbuffering\u001b[0m\u001b[0;34m:\u001b[0m\u001b[0;34m\u001b[0m\u001b[0m\n\u001b[0;32m-> 1207\u001b[0;31m                 \u001b[0mresponse\u001b[0m \u001b[0;34m=\u001b[0m \u001b[0mself\u001b[0m\u001b[0;34m.\u001b[0m\u001b[0m_conn\u001b[0m\u001b[0;34m.\u001b[0m\u001b[0mgetresponse\u001b[0m\u001b[0;34m(\u001b[0m\u001b[0;34m)\u001b[0m\u001b[0;34m\u001b[0m\u001b[0m\n\u001b[0m\u001b[1;32m   1208\u001b[0m             \u001b[0;32melse\u001b[0m\u001b[0;34m:\u001b[0m\u001b[0;34m\u001b[0m\u001b[0m\n\u001b[1;32m   1209\u001b[0m                 \u001b[0;31m#only add this keyword if non-default for compatibility\u001b[0m\u001b[0;34m\u001b[0m\u001b[0;34m\u001b[0m\u001b[0m\n",
      "\u001b[0;32m//anaconda/lib/python2.7/httplib.pyc\u001b[0m in \u001b[0;36mgetresponse\u001b[0;34m(self, buffering)\u001b[0m\n\u001b[1;32m   1130\u001b[0m \u001b[0;34m\u001b[0m\u001b[0m\n\u001b[1;32m   1131\u001b[0m         \u001b[0;32mtry\u001b[0m\u001b[0;34m:\u001b[0m\u001b[0;34m\u001b[0m\u001b[0m\n\u001b[0;32m-> 1132\u001b[0;31m             \u001b[0mresponse\u001b[0m\u001b[0;34m.\u001b[0m\u001b[0mbegin\u001b[0m\u001b[0;34m(\u001b[0m\u001b[0;34m)\u001b[0m\u001b[0;34m\u001b[0m\u001b[0m\n\u001b[0m\u001b[1;32m   1133\u001b[0m             \u001b[0;32massert\u001b[0m \u001b[0mresponse\u001b[0m\u001b[0;34m.\u001b[0m\u001b[0mwill_close\u001b[0m \u001b[0;34m!=\u001b[0m \u001b[0m_UNKNOWN\u001b[0m\u001b[0;34m\u001b[0m\u001b[0m\n\u001b[1;32m   1134\u001b[0m             \u001b[0mself\u001b[0m\u001b[0;34m.\u001b[0m\u001b[0m__state\u001b[0m \u001b[0;34m=\u001b[0m \u001b[0m_CS_IDLE\u001b[0m\u001b[0;34m\u001b[0m\u001b[0m\n",
      "\u001b[0;32m//anaconda/lib/python2.7/httplib.pyc\u001b[0m in \u001b[0;36mbegin\u001b[0;34m(self)\u001b[0m\n\u001b[1;32m    451\u001b[0m         \u001b[0;31m# read until we get a non-100 response\u001b[0m\u001b[0;34m\u001b[0m\u001b[0;34m\u001b[0m\u001b[0m\n\u001b[1;32m    452\u001b[0m         \u001b[0;32mwhile\u001b[0m \u001b[0mTrue\u001b[0m\u001b[0;34m:\u001b[0m\u001b[0;34m\u001b[0m\u001b[0m\n\u001b[0;32m--> 453\u001b[0;31m             \u001b[0mversion\u001b[0m\u001b[0;34m,\u001b[0m \u001b[0mstatus\u001b[0m\u001b[0;34m,\u001b[0m \u001b[0mreason\u001b[0m \u001b[0;34m=\u001b[0m \u001b[0mself\u001b[0m\u001b[0;34m.\u001b[0m\u001b[0m_read_status\u001b[0m\u001b[0;34m(\u001b[0m\u001b[0;34m)\u001b[0m\u001b[0;34m\u001b[0m\u001b[0m\n\u001b[0m\u001b[1;32m    454\u001b[0m             \u001b[0;32mif\u001b[0m \u001b[0mstatus\u001b[0m \u001b[0;34m!=\u001b[0m \u001b[0mCONTINUE\u001b[0m\u001b[0;34m:\u001b[0m\u001b[0;34m\u001b[0m\u001b[0m\n\u001b[1;32m    455\u001b[0m                 \u001b[0;32mbreak\u001b[0m\u001b[0;34m\u001b[0m\u001b[0m\n",
      "\u001b[0;32m//anaconda/lib/python2.7/httplib.pyc\u001b[0m in \u001b[0;36m_read_status\u001b[0;34m(self)\u001b[0m\n\u001b[1;32m    407\u001b[0m     \u001b[0;32mdef\u001b[0m \u001b[0m_read_status\u001b[0m\u001b[0;34m(\u001b[0m\u001b[0mself\u001b[0m\u001b[0;34m)\u001b[0m\u001b[0;34m:\u001b[0m\u001b[0;34m\u001b[0m\u001b[0m\n\u001b[1;32m    408\u001b[0m         \u001b[0;31m# Initialize with Simple-Response defaults\u001b[0m\u001b[0;34m\u001b[0m\u001b[0;34m\u001b[0m\u001b[0m\n\u001b[0;32m--> 409\u001b[0;31m         \u001b[0mline\u001b[0m \u001b[0;34m=\u001b[0m \u001b[0mself\u001b[0m\u001b[0;34m.\u001b[0m\u001b[0mfp\u001b[0m\u001b[0;34m.\u001b[0m\u001b[0mreadline\u001b[0m\u001b[0;34m(\u001b[0m\u001b[0m_MAXLINE\u001b[0m \u001b[0;34m+\u001b[0m \u001b[0;36m1\u001b[0m\u001b[0;34m)\u001b[0m\u001b[0;34m\u001b[0m\u001b[0m\n\u001b[0m\u001b[1;32m    410\u001b[0m         \u001b[0;32mif\u001b[0m \u001b[0mlen\u001b[0m\u001b[0;34m(\u001b[0m\u001b[0mline\u001b[0m\u001b[0;34m)\u001b[0m \u001b[0;34m>\u001b[0m \u001b[0m_MAXLINE\u001b[0m\u001b[0;34m:\u001b[0m\u001b[0;34m\u001b[0m\u001b[0m\n\u001b[1;32m    411\u001b[0m             \u001b[0;32mraise\u001b[0m \u001b[0mLineTooLong\u001b[0m\u001b[0;34m(\u001b[0m\u001b[0;34m\"header line\"\u001b[0m\u001b[0;34m)\u001b[0m\u001b[0;34m\u001b[0m\u001b[0m\n",
      "\u001b[0;32m//anaconda/lib/python2.7/socket.pyc\u001b[0m in \u001b[0;36mreadline\u001b[0;34m(self, size)\u001b[0m\n\u001b[1;32m    478\u001b[0m             \u001b[0;32mwhile\u001b[0m \u001b[0mTrue\u001b[0m\u001b[0;34m:\u001b[0m\u001b[0;34m\u001b[0m\u001b[0m\n\u001b[1;32m    479\u001b[0m                 \u001b[0;32mtry\u001b[0m\u001b[0;34m:\u001b[0m\u001b[0;34m\u001b[0m\u001b[0m\n\u001b[0;32m--> 480\u001b[0;31m                     \u001b[0mdata\u001b[0m \u001b[0;34m=\u001b[0m \u001b[0mself\u001b[0m\u001b[0;34m.\u001b[0m\u001b[0m_sock\u001b[0m\u001b[0;34m.\u001b[0m\u001b[0mrecv\u001b[0m\u001b[0;34m(\u001b[0m\u001b[0mself\u001b[0m\u001b[0;34m.\u001b[0m\u001b[0m_rbufsize\u001b[0m\u001b[0;34m)\u001b[0m\u001b[0;34m\u001b[0m\u001b[0m\n\u001b[0m\u001b[1;32m    481\u001b[0m                 \u001b[0;32mexcept\u001b[0m \u001b[0merror\u001b[0m\u001b[0;34m,\u001b[0m \u001b[0me\u001b[0m\u001b[0;34m:\u001b[0m\u001b[0;34m\u001b[0m\u001b[0m\n\u001b[1;32m    482\u001b[0m                     \u001b[0;32mif\u001b[0m \u001b[0me\u001b[0m\u001b[0;34m.\u001b[0m\u001b[0margs\u001b[0m\u001b[0;34m[\u001b[0m\u001b[0;36m0\u001b[0m\u001b[0;34m]\u001b[0m \u001b[0;34m==\u001b[0m \u001b[0mEINTR\u001b[0m\u001b[0;34m:\u001b[0m\u001b[0;34m\u001b[0m\u001b[0m\n",
      "\u001b[0;31mKeyboardInterrupt\u001b[0m: "
     ]
    }
   ],
   "source": [
    "download_images(df, '../data/images')"
   ]
  },
  {
   "cell_type": "code",
   "execution_count": null,
   "metadata": {
    "collapsed": true
   },
   "outputs": [],
   "source": []
  },
  {
   "cell_type": "code",
   "execution_count": 16,
   "metadata": {
    "collapsed": true
   },
   "outputs": [],
   "source": [
    "def download_image(url, product_id, save_path):\n",
    "    \"\"\"\n",
    "\n",
    "    Downloads image from url and saves to save path, naming the image product ID\n",
    "\n",
    "    :param url:\n",
    "    :param product_id:\n",
    "    :param save_path:\n",
    "    :return:\n",
    "    \"\"\"\n",
    "    try:\n",
    "        urllib.urlretrieve(url, '{}/{}.jpg'.format(save_path, product_id))\n",
    "        return True\n",
    "    except IOError as io:\n",
    "        logger.error('Download error: {} | Reason: {}'.format(url, io))\n",
    "        return False"
   ]
  },
  {
   "cell_type": "code",
   "execution_count": 17,
   "metadata": {
    "collapsed": false
   },
   "outputs": [
    {
     "name": "stderr",
     "output_type": "stream",
     "text": [
      "2016-10-15 09:28:37,273 - Download error: http://ecx.images-amazon.om/images/I/31iqJpBWiFL._SY300_.jpg | Reason: [Errno socket error] [Errno 8] nodename nor servname provided, or not known\n",
      "ERROR:__log__:Download error: http://ecx.images-amazon.om/images/I/31iqJpBWiFL._SY300_.jpg | Reason: [Errno socket error] [Errno 8] nodename nor servname provided, or not known\n"
     ]
    },
    {
     "data": {
      "text/plain": [
       "False"
      ]
     },
     "execution_count": 17,
     "metadata": {},
     "output_type": "execute_result"
    }
   ],
   "source": [
    "download_image('http://ecx.images-amazon.om/images/I/31iqJpBWiFL._SY300_.jpg', \n",
    "               'test_id', '../data')"
   ]
  },
  {
   "cell_type": "code",
   "execution_count": 2,
   "metadata": {
    "collapsed": false
   },
   "outputs": [],
   "source": [
    "with open('../data/image_download_logs/base_log.json') as json_log:\n",
    "    i = 0\n",
    "    for line in json_log:\n",
    "        try:\n",
    "            entry = json.loads(line.strip())\n",
    "        except ValueError as e:\n",
    "            logger.error('Json error: {} on line {}'.format(e, i))\n",
    "        i += 1"
   ]
  },
  {
   "cell_type": "code",
   "execution_count": null,
   "metadata": {
    "collapsed": true
   },
   "outputs": [],
   "source": []
  }
 ],
 "metadata": {
  "kernelspec": {
   "display_name": "Python 2",
   "language": "python",
   "name": "python2"
  },
  "language_info": {
   "codemirror_mode": {
    "name": "ipython",
    "version": 2
   },
   "file_extension": ".py",
   "mimetype": "text/x-python",
   "name": "python",
   "nbconvert_exporter": "python",
   "pygments_lexer": "ipython2",
   "version": "2.7.10"
  }
 },
 "nbformat": 4,
 "nbformat_minor": 0
}

{
 "cells": [
  {
   "cell_type": "code",
   "execution_count": null,
   "metadata": {
    "collapsed": true
   },
   "outputs": [],
   "source": [
    "import pandas as pd\n",
    "import gzip"
   ]
  },
  {
   "cell_type": "code",
   "execution_count": null,
   "metadata": {
    "collapsed": true
   },
   "outputs": [],
   "source": [
    "pd.set_option('max_colwidth', 1000)"
   ]
  },
  {
   "cell_type": "markdown",
   "metadata": {},
   "source": [
    "### Read full file and convert to pandas DF"
   ]
  },
  {
   "cell_type": "code",
   "execution_count": null,
   "metadata": {
    "collapsed": true
   },
   "outputs": [],
   "source": [
    "# Functions to parse zipped json as dataframe\n",
    "def parse(path):\n",
    "    g = gzip.open(path, 'rb')\n",
    "    for l in g:\n",
    "        yield eval(l)\n",
    "\n",
    "def getDF(path):\n",
    "    i = 0\n",
    "    df = {}\n",
    "    for d in parse(path):\n",
    "        df[i] = d\n",
    "        i += 1\n",
    "    return pd.DataFrame.from_dict(df, orient='index')"
   ]
  },
  {
   "cell_type": "code",
   "execution_count": null,
   "metadata": {
    "collapsed": false
   },
   "outputs": [],
   "source": [
    "# Get pandas dataframe from metadata json zip file\n",
    "df = getDF('../data/meta_Electronics.json.gz')"
   ]
  },
  {
   "cell_type": "code",
   "execution_count": null,
   "metadata": {
    "collapsed": true
   },
   "outputs": [],
   "source": [
    "df"
   ]
  },
  {
   "cell_type": "markdown",
   "metadata": {},
   "source": [
    "### Read and save to csv row by row"
   ]
  },
  {
   "cell_type": "code",
   "execution_count": null,
   "metadata": {
    "collapsed": true
   },
   "outputs": [],
   "source": [
    "import json\n",
    "import gzip\n",
    "import csv\n",
    "\n",
    "# Functions to read json and write to csv row by row\n",
    "def parse(path):\n",
    "    g = gzip.open(path, 'rb')\n",
    "    for l in g:\n",
    "        yield eval(l)\n",
    "\n",
    "def json_to_csv(read_path, write_path): \n",
    "    csv_writer = csv.writer(open(write_path, 'w')) \n",
    "    i = 0\n",
    "    for d in parse(read_path):\n",
    "        if i == 0:\n",
    "            header = d.keys()\n",
    "            csv_writer.writerow(header)\n",
    "            i += 1    \n",
    "        csv_writer.writerow(d.values())"
   ]
  },
  {
   "cell_type": "code",
   "execution_count": null,
   "metadata": {
    "collapsed": false
   },
   "outputs": [],
   "source": [
    "json_to_csv('../data/meta_Electronics.json.gz', '../data/meta_Electronics.csv')"
   ]
  },
  {
   "cell_type": "markdown",
   "metadata": {},
   "source": [
    "### Formatting and cleaning titles"
   ]
  },
  {
   "cell_type": "code",
   "execution_count": 1,
   "metadata": {
    "collapsed": true
   },
   "outputs": [],
   "source": [
    "import pandas as pd"
   ]
  },
  {
   "cell_type": "code",
   "execution_count": 2,
   "metadata": {
    "collapsed": true
   },
   "outputs": [],
   "source": [
    "df = pd.read_csv('../data/metadata_categories_only.csv')"
   ]
  },
  {
   "cell_type": "code",
   "execution_count": 3,
   "metadata": {
    "collapsed": false
   },
   "outputs": [
    {
     "data": {
      "text/plain": [
       "(9430088, 3)"
      ]
     },
     "execution_count": 3,
     "metadata": {},
     "output_type": "execute_result"
    }
   ],
   "source": [
    "df.shape"
   ]
  },
  {
   "cell_type": "code",
   "execution_count": 4,
   "metadata": {
    "collapsed": true
   },
   "outputs": [],
   "source": [
    "def get_category_lvl1(category_path_list):\n",
    "    \"\"\"\n",
    "    (Str of list of list(s)) -> str\n",
    "\n",
    "    Returns the top level category given a string of a list of lists of categories.\n",
    "    If there are more than one list of categories provided, returns the top level category from the first list.\n",
    "\n",
    "    >>> get_category_lvl1(\"[['A', 'B', 'C'], ['D', 'E', 'F', 'G']]\")\n",
    "    'A'\n",
    "    >>> get_category_lvl1(\"[['P1', 'P2', 'P3', 'P4']]\")\n",
    "    'P1'\n",
    "    >>> get_category_lvl1(\"[['']]\")\n",
    "    ''\n",
    "\n",
    "    :type category_path_list: str\n",
    "    :param category_path_list: A string containing a list of at least one list of categories\n",
    "    :return: A string showing the full category path of the FIRST category in the list (assumed to be primary category)\n",
    "    \"\"\"\n",
    "    try:\n",
    "        return eval(category_path_list)[0][0]\n",
    "    except IndexError:\n",
    "        return 'no_category'\n",
    "    except TypeError:\n",
    "        return 'no_category'\n",
    "\n",
    "\n",
    "def get_category_path(category_path_list):\n",
    "    \"\"\"\n",
    "    (Str of list of list(s)) -> str\n",
    "\n",
    "    Returns the category path given a string of list of lists of categories.\n",
    "    If there are more than one list of categories provided, returns the category path from the first list.\n",
    "\n",
    "    >>> get_category_path(\"[['A', 'B', 'C'], ['D', 'E', 'F', 'G']]\")\n",
    "    'A -> B -> C'\n",
    "    >>> get_category_path(\"[['P1', 'P2', 'P3', 'P4']]\")\n",
    "    'P1 -> P2 -> P3 -> P4'\n",
    "\n",
    "    :type category_path_list: str\n",
    "    :param category_path_list: A string containing a list of at least one list of categories\n",
    "    :return: A string showing the full category path of the FIRST category in the list (assumed to be primary category)\n",
    "    \"\"\"\n",
    "    try:\n",
    "        return ' -> '.join(eval(category_path_list)[0])\n",
    "    except IndexError:  # Error if the outer list is empty\n",
    "        return 'no_category'\n",
    "    except TypeError:  # Error if the outer list is missing\n",
    "        return 'no_category'"
   ]
  },
  {
   "cell_type": "code",
   "execution_count": 5,
   "metadata": {
    "collapsed": true
   },
   "outputs": [],
   "source": [
    "# Create column for category\n",
    "df['category_lvl1'] = df['categories'].apply(get_category_lvl1)"
   ]
  },
  {
   "cell_type": "code",
   "execution_count": 9,
   "metadata": {
    "collapsed": false
   },
   "outputs": [],
   "source": [
    "df.dropna(subset=['title'], inplace=True)"
   ]
  },
  {
   "cell_type": "code",
   "execution_count": 10,
   "metadata": {
    "collapsed": false
   },
   "outputs": [
    {
     "data": {
      "text/plain": [
       "(7997355, 4)"
      ]
     },
     "execution_count": 10,
     "metadata": {},
     "output_type": "execute_result"
    }
   ],
   "source": [
    "df.shape"
   ]
  },
  {
   "cell_type": "code",
   "execution_count": 13,
   "metadata": {
    "collapsed": false
   },
   "outputs": [],
   "source": [
    "df = df[df['category_lvl1'] != 'no_category']"
   ]
  },
  {
   "cell_type": "code",
   "execution_count": 15,
   "metadata": {
    "collapsed": false
   },
   "outputs": [],
   "source": [
    "df = df[df['category_lvl1'] != 'Books']\n",
    "df = df[df['category_lvl1'] != 'CDs & Vinyl']\n",
    "df = df[df['category_lvl1'] != 'Movies & TV']"
   ]
  },
  {
   "cell_type": "code",
   "execution_count": 16,
   "metadata": {
    "collapsed": false
   },
   "outputs": [
    {
     "data": {
      "text/plain": [
       "(5589903, 4)"
      ]
     },
     "execution_count": 16,
     "metadata": {},
     "output_type": "execute_result"
    }
   ],
   "source": [
    "df.shape"
   ]
  },
  {
   "cell_type": "code",
   "execution_count": 18,
   "metadata": {
    "collapsed": true
   },
   "outputs": [],
   "source": [
    "df['category_path'] = df['categories'].apply(get_category_path)"
   ]
  },
  {
   "cell_type": "code",
   "execution_count": 19,
   "metadata": {
    "collapsed": false
   },
   "outputs": [],
   "source": [
    "# Create df of category path counts\n",
    "category_path_df = df.groupby('category_path').agg({'title': 'count'})\\\n",
    "    .sort_values(by='title', ascending=False).reset_index()"
   ]
  },
  {
   "cell_type": "code",
   "execution_count": 21,
   "metadata": {
    "collapsed": false
   },
   "outputs": [
    {
     "data": {
      "text/plain": [
       "(17608, 2)"
      ]
     },
     "execution_count": 21,
     "metadata": {},
     "output_type": "execute_result"
    }
   ],
   "source": [
    "category_path_df.shape"
   ]
  },
  {
   "cell_type": "code",
   "execution_count": 37,
   "metadata": {
    "collapsed": true
   },
   "outputs": [],
   "source": [
    "# Exclude categories that are not deepest category\n",
    "category_path_df.sort_values(by='category_path', inplace=True)\n",
    "category_path_df['category_path_next'] = category_path_df['category_path'].shift(-1)\n",
    "category_path_df.fillna('no_comparison', inplace=True)"
   ]
  },
  {
   "cell_type": "code",
   "execution_count": 38,
   "metadata": {
    "collapsed": true
   },
   "outputs": [],
   "source": [
    "# Create list of category_paths which are deepest category\n",
    "category_path_list = []\n",
    "for i, value in category_path_df.iterrows():\n",
    "    category_path = value['category_path']\n",
    "    category_path_next = value['category_path_next']\n",
    "    if category_path not in category_path_next:\n",
    "        category_path_list.append(category_path)"
   ]
  },
  {
   "cell_type": "code",
   "execution_count": 39,
   "metadata": {
    "collapsed": false
   },
   "outputs": [
    {
     "data": {
      "text/plain": [
       "11271"
      ]
     },
     "execution_count": 39,
     "metadata": {},
     "output_type": "execute_result"
    }
   ],
   "source": [
    "len(category_path_list)"
   ]
  },
  {
   "cell_type": "code",
   "execution_count": 27,
   "metadata": {
    "collapsed": false
   },
   "outputs": [],
   "source": [
    "# Create df of category_path\n",
    "category_path_df = pd.DataFrame(category_path_list, columns=['category_path'])\n",
    "\n",
    "# Keep only rows where the category is in category_df\n",
    "df = df[df['category_path'].isin(category_path_df['category_path'])]"
   ]
  },
  {
   "cell_type": "code",
   "execution_count": 28,
   "metadata": {
    "collapsed": false
   },
   "outputs": [
    {
     "data": {
      "text/plain": [
       "(4612884, 5)"
      ]
     },
     "execution_count": 28,
     "metadata": {},
     "output_type": "execute_result"
    }
   ],
   "source": [
    "df.shape"
   ]
  },
  {
   "cell_type": "code",
   "execution_count": 30,
   "metadata": {
    "collapsed": false
   },
   "outputs": [],
   "source": [
    "category_path_df = df.groupby('category_path').agg({'title': 'count'}) \\\n",
    "    .sort_values(by='title', ascending=False).reset_index()\n",
    "\n",
    "# Drop category_paths where the count of titles < 10\n",
    "category_path_df = category_path_df[category_path_df['title'] >= 10]"
   ]
  },
  {
   "cell_type": "code",
   "execution_count": 31,
   "metadata": {
    "collapsed": true
   },
   "outputs": [],
   "source": [
    "# Keep only rows where the category is in category_df\n",
    "df = df[df['category_path'].isin(category_path_df['category_path'])]"
   ]
  },
  {
   "cell_type": "code",
   "execution_count": 32,
   "metadata": {
    "collapsed": false
   },
   "outputs": [
    {
     "data": {
      "text/plain": [
       "(4598807, 5)"
      ]
     },
     "execution_count": 32,
     "metadata": {},
     "output_type": "execute_result"
    }
   ],
   "source": [
    "df.shape"
   ]
  },
  {
   "cell_type": "code",
   "execution_count": null,
   "metadata": {
    "collapsed": true
   },
   "outputs": [],
   "source": []
  }
 ],
 "metadata": {
  "kernelspec": {
   "display_name": "Python 2",
   "language": "python",
   "name": "python2"
  },
  "language_info": {
   "codemirror_mode": {
    "name": "ipython",
    "version": 2
   },
   "file_extension": ".py",
   "mimetype": "text/x-python",
   "name": "python",
   "nbconvert_exporter": "python",
   "pygments_lexer": "ipython2",
   "version": "2.7.10"
  }
 },
 "nbformat": 4,
 "nbformat_minor": 0
}
